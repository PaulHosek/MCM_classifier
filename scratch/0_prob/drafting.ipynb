{
 "cells": [
  {
   "cell_type": "code",
   "execution_count": 5,
   "metadata": {},
   "outputs": [],
   "source": [
    "import numpy as np"
   ]
  },
  {
   "cell_type": "code",
   "execution_count": 43,
   "metadata": {},
   "outputs": [],
   "source": [
    "a = np.array([[1, 2, 3], [4, 5, 6], [0, 0, 0]])\n",
    "b = np.array([[1, 2, 3], [4, 5, 6], [0, 0, 0]])/2\n",
    "m = np.array([a,b])"
   ]
  },
  {
   "cell_type": "code",
   "execution_count": 44,
   "metadata": {},
   "outputs": [
    {
     "name": "stdout",
     "output_type": "stream",
     "text": [
      "[[[1.  2.  3. ]\n",
      "  [4.  5.  6. ]\n",
      "  [0.  0.  0. ]]\n",
      "\n",
      " [[0.5 1.  1.5]\n",
      "  [2.  2.5 3. ]\n",
      "  [0.  0.  0. ]]]\n"
     ]
    }
   ],
   "source": [
    "print(m)"
   ]
  },
  {
   "cell_type": "code",
   "execution_count": 60,
   "metadata": {},
   "outputs": [
    {
     "data": {
      "text/plain": [
       "array([[1. , 0.5],\n",
       "       [2. , 1. ],\n",
       "       [3. , 1.5],\n",
       "       [4. , 2. ],\n",
       "       [5. , 2.5],\n",
       "       [6. , 3. ],\n",
       "       [0. , 0. ],\n",
       "       [0. , 0. ],\n",
       "       [0. , 0. ]])"
      ]
     },
     "execution_count": 60,
     "metadata": {},
     "output_type": "execute_result"
    }
   ],
   "source": [
    "stacked_array = np.dstack(m)\n",
    "\n",
    "# Reshape the result to get a 2D array with lists at each position\n",
    "entry_wise = stacked_array.reshape(-1, stacked_array.shape[-1])\n",
    "entry_wise"
   ]
  },
  {
   "cell_type": "code",
   "execution_count": 84,
   "metadata": {},
   "outputs": [],
   "source": [
    "original_shape = (3, 3, 2)\n",
    "stacked_array_back = entry_wise.reshape(original_shape)\n",
    "\n",
    "# The resulting matrix 'm'\n",
    "m_back = np.dstack(stacked_array_back)"
   ]
  },
  {
   "cell_type": "code",
   "execution_count": 85,
   "metadata": {},
   "outputs": [
    {
     "data": {
      "text/plain": [
       "array([[[1. , 4. , 0. ],\n",
       "        [0.5, 2. , 0. ]],\n",
       "\n",
       "       [[2. , 5. , 0. ],\n",
       "        [1. , 2.5, 0. ]],\n",
       "\n",
       "       [[3. , 6. , 0. ],\n",
       "        [1.5, 3. , 0. ]]])"
      ]
     },
     "execution_count": 85,
     "metadata": {},
     "output_type": "execute_result"
    }
   ],
   "source": [
    "m_back"
   ]
  },
  {
   "cell_type": "code",
   "execution_count": null,
   "metadata": {},
   "outputs": [],
   "source": []
  }
 ],
 "metadata": {
  "kernelspec": {
   "display_name": "mcm_classifying",
   "language": "python",
   "name": "python3"
  },
  "language_info": {
   "codemirror_mode": {
    "name": "ipython",
    "version": 3
   },
   "file_extension": ".py",
   "mimetype": "text/x-python",
   "name": "python",
   "nbconvert_exporter": "python",
   "pygments_lexer": "ipython3",
   "version": "3.11.5"
  }
 },
 "nbformat": 4,
 "nbformat_minor": 2
}
