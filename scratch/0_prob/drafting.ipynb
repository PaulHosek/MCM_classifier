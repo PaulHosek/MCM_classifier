{
 "cells": [
  {
   "cell_type": "code",
   "execution_count": 12,
   "metadata": {},
   "outputs": [],
   "source": [
    "import numpy as np\n",
    "import matplotlib.pyplot as plt\n",
    "import array\n",
    "from itertools import product\n",
    "import numpy as np\n",
    "import sys\n",
    "from src.loaders import load_data, load_labels\n",
    "from src.classify import MCM_Classifier\n",
    "from src.plot import plot_confusion_matrix, plot_label_prob_diff\n",
    "\n",
    "\n",
    "import small_mcm_tools as tools\n",
    "import ebo_best_basis\n",
    "import numpy as np\n"
   ]
  },
  {
   "cell_type": "code",
   "execution_count": 13,
   "metadata": {},
   "outputs": [],
   "source": [
    "c_binary_data = tools.generate_class_dataset(\"c\")"
   ]
  },
  {
   "cell_type": "code",
   "execution_count": 18,
   "metadata": {},
   "outputs": [
    {
     "data": {
      "text/plain": [
       "array([[0., 0., 0., 0., 0., 0., 0., 0., 0.],\n",
       "       [0., 0., 0., 0., 0., 0., 0., 1., 0.],\n",
       "       [0., 0., 0., 0., 0., 0., 1., 0., 0.],\n",
       "       [0., 0., 0., 0., 0., 0., 1., 1., 0.],\n",
       "       [0., 0., 0., 0., 0., 1., 0., 0., 0.],\n",
       "       [0., 0., 0., 0., 0., 1., 0., 1., 0.],\n",
       "       [0., 0., 0., 0., 0., 1., 1., 0., 0.],\n",
       "       [0., 0., 0., 0., 0., 1., 1., 1., 0.],\n",
       "       [0., 0., 0., 1., 0., 0., 0., 0., 0.],\n",
       "       [0., 0., 0., 1., 0., 0., 0., 1., 0.],\n",
       "       [0., 0., 0., 1., 0., 0., 1., 0., 0.],\n",
       "       [0., 0., 0., 1., 0., 0., 1., 1., 0.],\n",
       "       [0., 0., 0., 1., 0., 1., 0., 0., 0.],\n",
       "       [0., 0., 0., 1., 0., 1., 0., 1., 0.],\n",
       "       [0., 0., 0., 1., 0., 1., 1., 0., 0.],\n",
       "       [0., 0., 0., 1., 0., 1., 1., 1., 0.],\n",
       "       [0., 0., 1., 0., 0., 0., 0., 0., 0.],\n",
       "       [0., 0., 1., 0., 0., 0., 0., 1., 0.],\n",
       "       [0., 0., 1., 0., 0., 0., 1., 0., 0.],\n",
       "       [0., 0., 1., 0., 0., 0., 1., 1., 0.],\n",
       "       [0., 0., 1., 0., 0., 1., 0., 0., 0.],\n",
       "       [0., 0., 1., 0., 0., 1., 0., 1., 0.],\n",
       "       [0., 0., 1., 0., 0., 1., 1., 0., 0.],\n",
       "       [0., 0., 1., 0., 0., 1., 1., 1., 0.],\n",
       "       [0., 0., 1., 1., 0., 0., 0., 0., 0.],\n",
       "       [0., 0., 1., 1., 0., 0., 0., 1., 0.],\n",
       "       [0., 0., 1., 1., 0., 0., 1., 0., 0.],\n",
       "       [0., 0., 1., 1., 0., 0., 1., 1., 0.],\n",
       "       [0., 0., 1., 1., 0., 1., 0., 0., 0.],\n",
       "       [0., 0., 1., 1., 0., 1., 0., 1., 0.],\n",
       "       [0., 0., 1., 1., 0., 1., 1., 0., 0.],\n",
       "       [0., 0., 1., 1., 0., 1., 1., 1., 0.],\n",
       "       [0., 1., 0., 0., 0., 0., 0., 0., 0.],\n",
       "       [0., 1., 0., 0., 0., 0., 0., 1., 0.],\n",
       "       [0., 1., 0., 0., 0., 0., 1., 0., 0.],\n",
       "       [0., 1., 0., 0., 0., 0., 1., 1., 0.],\n",
       "       [0., 1., 0., 0., 0., 1., 0., 0., 0.],\n",
       "       [0., 1., 0., 0., 0., 1., 0., 1., 0.],\n",
       "       [0., 1., 0., 0., 0., 1., 1., 0., 0.],\n",
       "       [0., 1., 0., 0., 0., 1., 1., 1., 0.],\n",
       "       [0., 1., 0., 1., 0., 0., 0., 0., 0.],\n",
       "       [0., 1., 0., 1., 0., 0., 0., 1., 0.],\n",
       "       [0., 1., 0., 1., 0., 0., 1., 0., 0.],\n",
       "       [0., 1., 0., 1., 0., 0., 1., 1., 0.],\n",
       "       [0., 1., 0., 1., 0., 1., 0., 0., 0.],\n",
       "       [0., 1., 0., 1., 0., 1., 0., 1., 0.],\n",
       "       [0., 1., 0., 1., 0., 1., 1., 0., 0.],\n",
       "       [0., 1., 0., 1., 0., 1., 1., 1., 0.],\n",
       "       [0., 1., 1., 0., 0., 0., 0., 0., 0.],\n",
       "       [0., 1., 1., 0., 0., 0., 0., 1., 0.],\n",
       "       [0., 1., 1., 0., 0., 0., 1., 0., 0.],\n",
       "       [0., 1., 1., 0., 0., 0., 1., 1., 0.],\n",
       "       [0., 1., 1., 0., 0., 1., 0., 0., 0.],\n",
       "       [0., 1., 1., 0., 0., 1., 0., 1., 0.],\n",
       "       [0., 1., 1., 0., 0., 1., 1., 0., 0.],\n",
       "       [0., 1., 1., 0., 0., 1., 1., 1., 0.],\n",
       "       [0., 1., 1., 1., 0., 0., 0., 0., 0.],\n",
       "       [0., 1., 1., 1., 0., 0., 0., 1., 0.],\n",
       "       [0., 1., 1., 1., 0., 0., 1., 0., 0.],\n",
       "       [0., 1., 1., 1., 0., 0., 1., 1., 0.],\n",
       "       [0., 1., 1., 1., 0., 1., 0., 0., 0.],\n",
       "       [0., 1., 1., 1., 0., 1., 0., 1., 0.],\n",
       "       [0., 1., 1., 1., 0., 1., 1., 0., 0.],\n",
       "       [0., 1., 1., 1., 0., 1., 1., 1., 0.]])"
      ]
     },
     "execution_count": 18,
     "metadata": {},
     "output_type": "execute_result"
    }
   ],
   "source": [
    "np.array([i.flatten() for i in c_binary_data])"
   ]
  },
  {
   "cell_type": "code",
   "execution_count": 7,
   "metadata": {},
   "outputs": [],
   "source": [
    "a = np.array([[1, 2, 3], [4, 5, 6], [0, 0, 0]])\n",
    "b = np.array([[1, 2, 3], [4, 5, 6], [0, 0, 0]])/2\n",
    "m = np.array([a,b])"
   ]
  },
  {
   "cell_type": "code",
   "execution_count": 8,
   "metadata": {},
   "outputs": [
    {
     "name": "stdout",
     "output_type": "stream",
     "text": [
      "[[[1.  2.  3. ]\n",
      "  [4.  5.  6. ]\n",
      "  [0.  0.  0. ]]\n",
      "\n",
      " [[0.5 1.  1.5]\n",
      "  [2.  2.5 3. ]\n",
      "  [0.  0.  0. ]]]\n"
     ]
    }
   ],
   "source": [
    "print(m)"
   ]
  },
  {
   "cell_type": "code",
   "execution_count": null,
   "metadata": {},
   "outputs": [],
   "source": []
  },
  {
   "cell_type": "code",
   "execution_count": 11,
   "metadata": {},
   "outputs": [
    {
     "name": "stdout",
     "output_type": "stream",
     "text": [
      "[[1.  2.  3. ]\n",
      " [4.  5.  6. ]\n",
      " [0.  0.  0. ]\n",
      " [0.5 1.  1.5]\n",
      " [2.  2.5 3. ]\n",
      " [0.  0.  0. ]]\n"
     ]
    }
   ],
   "source": [
    "stacked_array = np.concatenate(m)\n",
    "\n",
    "# Reshape the result to get a 2D array with lists at each position\n",
    "# entry_wise = stacked_array.reshape(-1, stacked_array.shape[-1])\n",
    "# entry_wise\n",
    "print(stacked_array)"
   ]
  },
  {
   "cell_type": "code",
   "execution_count": 5,
   "metadata": {},
   "outputs": [
    {
     "ename": "NameError",
     "evalue": "name 'entry_wise' is not defined",
     "output_type": "error",
     "traceback": [
      "\u001b[0;31m---------------------------------------------------------------------------\u001b[0m",
      "\u001b[0;31mNameError\u001b[0m                                 Traceback (most recent call last)",
      "Cell \u001b[0;32mIn[5], line 2\u001b[0m\n\u001b[1;32m      1\u001b[0m original_shape \u001b[38;5;241m=\u001b[39m (\u001b[38;5;241m3\u001b[39m, \u001b[38;5;241m3\u001b[39m, \u001b[38;5;241m2\u001b[39m)\n\u001b[0;32m----> 2\u001b[0m stacked_array_back \u001b[38;5;241m=\u001b[39m \u001b[43mentry_wise\u001b[49m\u001b[38;5;241m.\u001b[39mreshape(original_shape)\n\u001b[1;32m      4\u001b[0m \u001b[38;5;66;03m# The resulting matrix 'm'\u001b[39;00m\n\u001b[1;32m      5\u001b[0m m_back \u001b[38;5;241m=\u001b[39m np\u001b[38;5;241m.\u001b[39mdstack(stacked_array_back)\n",
      "\u001b[0;31mNameError\u001b[0m: name 'entry_wise' is not defined"
     ]
    }
   ],
   "source": [
    "original_shape = (3, 3, 2)\n",
    "stacked_array_back = entry_wise.reshape(original_shape)\n",
    "\n",
    "# The resulting matrix 'm'\n",
    "m_back = np.dstack(stacked_array_back)"
   ]
  },
  {
   "cell_type": "code",
   "execution_count": null,
   "metadata": {},
   "outputs": [
    {
     "data": {
      "text/plain": [
       "array([[[1. , 4. , 0. ],\n",
       "        [0.5, 2. , 0. ]],\n",
       "\n",
       "       [[2. , 5. , 0. ],\n",
       "        [1. , 2.5, 0. ]],\n",
       "\n",
       "       [[3. , 6. , 0. ],\n",
       "        [1.5, 3. , 0. ]]])"
      ]
     },
     "execution_count": 85,
     "metadata": {},
     "output_type": "execute_result"
    }
   ],
   "source": [
    "m_back"
   ]
  },
  {
   "cell_type": "code",
   "execution_count": null,
   "metadata": {},
   "outputs": [],
   "source": []
  }
 ],
 "metadata": {
  "kernelspec": {
   "display_name": "mcm_classifying",
   "language": "python",
   "name": "python3"
  },
  "language_info": {
   "codemirror_mode": {
    "name": "ipython",
    "version": 3
   },
   "file_extension": ".py",
   "mimetype": "text/x-python",
   "name": "python",
   "nbconvert_exporter": "python",
   "pygments_lexer": "ipython3",
   "version": "3.11.5"
  }
 },
 "nbformat": 4,
 "nbformat_minor": 2
}
