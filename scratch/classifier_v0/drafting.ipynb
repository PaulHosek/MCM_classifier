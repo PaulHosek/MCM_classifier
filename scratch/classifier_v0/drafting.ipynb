{
 "cells": [
  {
   "cell_type": "code",
   "execution_count": 1,
   "id": "initial_id",
   "metadata": {
    "collapsed": true,
    "ExecuteTime": {
     "end_time": "2023-12-04T08:57:47.652654Z",
     "start_time": "2023-12-04T08:57:47.099186Z"
    }
   },
   "outputs": [],
   "source": [
    "import numpy as np"
   ]
  },
  {
   "cell_type": "code",
   "execution_count": 14,
   "outputs": [],
   "source": [
    "# rank 1\n",
    "idx = [120,121,122]\n",
    "icc_data = np.zeros(shape=(130,3),dtype=int)\n",
    "icc_data[120] = [1,0,1]\n",
    "icc_data[121] = [1,1,1]\n",
    "icc_data[122] = [1,1,0]"
   ],
   "metadata": {
    "collapsed": false,
    "ExecuteTime": {
     "end_time": "2023-12-04T09:07:41.213466Z",
     "start_time": "2023-12-04T09:07:41.195423Z"
    }
   },
   "id": "85e3cf5b2a56166"
  },
  {
   "cell_type": "code",
   "execution_count": 15,
   "outputs": [
    {
     "name": "stdout",
     "output_type": "stream",
     "text": [
      "[0 0 0][0 0 0]\n"
     ]
    }
   ],
   "source": [
    "state = icc_data[[12,13]]\n",
    "binary_string = \"\".join([str(s) for s in state])\n",
    "print(binary_string)"
   ],
   "metadata": {
    "collapsed": false,
    "ExecuteTime": {
     "end_time": "2023-12-04T09:07:41.799154Z",
     "start_time": "2023-12-04T09:07:41.707045Z"
    }
   },
   "id": "aa1e97a01a256e8a"
  },
  {
   "cell_type": "code",
   "execution_count": 16,
   "outputs": [],
   "source": [
    "icc_strings = [\n",
    "        int(\"\".join([str(s) for s in state]), 2) for state in icc_data\n",
    "    ]"
   ],
   "metadata": {
    "collapsed": false,
    "ExecuteTime": {
     "end_time": "2023-12-04T09:07:43.618892Z",
     "start_time": "2023-12-04T09:07:43.607893Z"
    }
   },
   "id": "4d0dd11f645524ae"
  },
  {
   "cell_type": "code",
   "execution_count": 17,
   "outputs": [
    {
     "data": {
      "text/plain": "[0,\n 0,\n 0,\n 0,\n 0,\n 0,\n 0,\n 0,\n 0,\n 0,\n 0,\n 0,\n 0,\n 0,\n 0,\n 0,\n 0,\n 0,\n 0,\n 0,\n 0,\n 0,\n 0,\n 0,\n 0,\n 0,\n 0,\n 0,\n 0,\n 0,\n 0,\n 0,\n 0,\n 0,\n 0,\n 0,\n 0,\n 0,\n 0,\n 0,\n 0,\n 0,\n 0,\n 0,\n 0,\n 0,\n 0,\n 0,\n 0,\n 0,\n 0,\n 0,\n 0,\n 0,\n 0,\n 0,\n 0,\n 0,\n 0,\n 0,\n 0,\n 0,\n 0,\n 0,\n 0,\n 0,\n 0,\n 0,\n 0,\n 0,\n 0,\n 0,\n 0,\n 0,\n 0,\n 0,\n 0,\n 0,\n 0,\n 0,\n 0,\n 0,\n 0,\n 0,\n 0,\n 0,\n 0,\n 0,\n 0,\n 0,\n 0,\n 0,\n 0,\n 0,\n 0,\n 0,\n 0,\n 0,\n 0,\n 0,\n 0,\n 0,\n 0,\n 0,\n 0,\n 0,\n 0,\n 0,\n 0,\n 0,\n 0,\n 0,\n 0,\n 0,\n 0,\n 0,\n 0,\n 0,\n 0,\n 0,\n 5,\n 7,\n 6,\n 0,\n 0,\n 0,\n 0,\n 0,\n 0,\n 0]"
     },
     "execution_count": 17,
     "metadata": {},
     "output_type": "execute_result"
    }
   ],
   "source": [
    "icc_strings"
   ],
   "metadata": {
    "collapsed": false,
    "ExecuteTime": {
     "end_time": "2023-12-04T09:07:44.317236Z",
     "start_time": "2023-12-04T09:07:44.269142Z"
    }
   },
   "id": "a32b6830dbaf61de"
  },
  {
   "cell_type": "code",
   "execution_count": 18,
   "outputs": [
    {
     "data": {
      "text/plain": "7"
     },
     "execution_count": 18,
     "metadata": {},
     "output_type": "execute_result"
    }
   ],
   "source": [
    "decimal_number = int(\"000111\", 2)\n",
    "decimal_number"
   ],
   "metadata": {
    "collapsed": false,
    "ExecuteTime": {
     "end_time": "2023-12-04T09:07:45.970568Z",
     "start_time": "2023-12-04T09:07:45.939825Z"
    }
   },
   "id": "be2501d2c799e7a4"
  },
  {
   "cell_type": "code",
   "execution_count": 67,
   "outputs": [
    {
     "name": "stdout",
     "output_type": "stream",
     "text": [
      "(121,)\n"
     ]
    }
   ],
   "source": [
    "n_variables = 121\n",
    "icc = \"0\"*120+\"1\"*8\n",
    "state = np.random.randint(low=0,high=2,size=(121))# in the code there are 1 and 0 that are not next to each other, so this should be legal\n",
    "idx = [i for i in range(n_variables) if icc[i] == \"1\"]\n",
    "ss = state[idx]\n",
    "sm = int(\"\".join([str(s) for s in ss]), base=2)\n"
   ],
   "metadata": {
    "collapsed": false,
    "ExecuteTime": {
     "end_time": "2023-12-04T10:14:35.908858Z",
     "start_time": "2023-12-04T10:14:35.866243Z"
    }
   },
   "id": "5216b2e15e0287d5"
  },
  {
   "cell_type": "code",
   "execution_count": 69,
   "outputs": [
    {
     "name": "stdout",
     "output_type": "stream",
     "text": [
      "[1]\n",
      "1\n",
      "[120]\n",
      "\n",
      "00000000000000000000000000000000000000000000000000000000000000000000000000000000000000000000000000000000000000000000000011111111\n"
     ]
    }
   ],
   "source": [
    "print(ss)\n",
    "print(sm)\n",
    "print(idx)\n",
    "print()\n",
    "print(icc)"
   ],
   "metadata": {
    "collapsed": false,
    "ExecuteTime": {
     "end_time": "2023-12-04T10:14:49.988984Z",
     "start_time": "2023-12-04T10:14:49.960121Z"
    }
   },
   "id": "49585a7d7ca3746c"
  },
  {
   "cell_type": "code",
   "execution_count": 19,
   "outputs": [
    {
     "name": "stdout",
     "output_type": "stream",
     "text": [
      "000\n",
      "000\n",
      "000\n",
      "000\n",
      "000\n",
      "000\n",
      "000\n",
      "000\n",
      "000\n",
      "000\n",
      "000\n",
      "000\n",
      "000\n",
      "000\n",
      "000\n",
      "000\n",
      "000\n",
      "000\n",
      "000\n",
      "000\n",
      "000\n",
      "000\n",
      "000\n",
      "000\n",
      "000\n",
      "000\n",
      "000\n",
      "000\n",
      "000\n",
      "000\n",
      "000\n",
      "000\n",
      "000\n",
      "000\n",
      "000\n",
      "000\n",
      "000\n",
      "000\n",
      "000\n",
      "000\n",
      "000\n",
      "000\n",
      "000\n",
      "000\n",
      "000\n",
      "000\n",
      "000\n",
      "000\n",
      "000\n",
      "000\n",
      "000\n",
      "000\n",
      "000\n",
      "000\n",
      "000\n",
      "000\n",
      "000\n",
      "000\n",
      "000\n",
      "000\n",
      "000\n",
      "000\n",
      "000\n",
      "000\n",
      "000\n",
      "000\n",
      "000\n",
      "000\n",
      "000\n",
      "000\n",
      "000\n",
      "000\n",
      "000\n",
      "000\n",
      "000\n",
      "000\n",
      "000\n",
      "000\n",
      "000\n",
      "000\n",
      "000\n",
      "000\n",
      "000\n",
      "000\n",
      "000\n",
      "000\n",
      "000\n",
      "000\n",
      "000\n",
      "000\n",
      "000\n",
      "000\n",
      "000\n",
      "000\n",
      "000\n",
      "000\n",
      "000\n",
      "000\n",
      "000\n",
      "000\n",
      "000\n",
      "000\n",
      "000\n",
      "000\n",
      "000\n",
      "000\n",
      "000\n",
      "000\n",
      "000\n",
      "000\n",
      "000\n",
      "000\n",
      "000\n",
      "000\n",
      "000\n",
      "000\n",
      "000\n",
      "000\n",
      "000\n",
      "000\n",
      "101\n",
      "111\n",
      "110\n",
      "000\n",
      "000\n",
      "000\n",
      "000\n",
      "000\n",
      "000\n",
      "000\n",
      "[0, 0, 0, 0, 0, 0, 0, 0, 0, 0, 0, 0, 0, 0, 0, 0, 0, 0, 0, 0, 0, 0, 0, 0, 0, 0, 0, 0, 0, 0, 0, 0, 0, 0, 0, 0, 0, 0, 0, 0, 0, 0, 0, 0, 0, 0, 0, 0, 0, 0, 0, 0, 0, 0, 0, 0, 0, 0, 0, 0, 0, 0, 0, 0, 0, 0, 0, 0, 0, 0, 0, 0, 0, 0, 0, 0, 0, 0, 0, 0, 0, 0, 0, 0, 0, 0, 0, 0, 0, 0, 0, 0, 0, 0, 0, 0, 0, 0, 0, 0, 0, 0, 0, 0, 0, 0, 0, 0, 0, 0, 0, 0, 0, 0, 0, 0, 0, 0, 0, 0, 5, 7, 6, 0, 0, 0, 0, 0, 0, 0]\n"
     ]
    }
   ],
   "source": [
    "icc_strings = []\n",
    "\n",
    "for state in icc_data:\n",
    "    binary_string = \"\".join(str(bit) for bit in state)\n",
    "    print(binary_string)\n",
    "    decimal_number = int(binary_string, 2)\n",
    "    icc_strings.append(decimal_number)\n",
    "print(icc_strings)"
   ],
   "metadata": {
    "collapsed": false,
    "ExecuteTime": {
     "end_time": "2023-12-04T09:07:46.666167Z",
     "start_time": "2023-12-04T09:07:46.627907Z"
    }
   },
   "id": "9a8b58c396975b40"
  },
  {
   "cell_type": "code",
   "execution_count": 20,
   "outputs": [
    {
     "name": "stdout",
     "output_type": "stream",
     "text": [
      "[0 5 6 7] [127   1   1   1]\n"
     ]
    }
   ],
   "source": [
    "u,c = np.unique(icc_strings, return_counts=True)\n",
    "print(u,c) "
   ],
   "metadata": {
    "collapsed": false,
    "ExecuteTime": {
     "end_time": "2023-12-04T09:07:49.600952Z",
     "start_time": "2023-12-04T09:07:49.568197Z"
    }
   },
   "id": "f93597f32d9f9666"
  },
  {
   "cell_type": "code",
   "execution_count": 36,
   "outputs": [],
   "source": [
    "for i in range(0):\n",
    "    pritn('haoo')"
   ],
   "metadata": {
    "collapsed": false,
    "ExecuteTime": {
     "end_time": "2023-12-01T12:00:21.944406Z",
     "start_time": "2023-12-01T12:00:21.907161Z"
    }
   },
   "id": "a58a065653a79c47"
  },
  {
   "cell_type": "code",
   "execution_count": null,
   "outputs": [],
   "source": [],
   "metadata": {
    "collapsed": false
   },
   "id": "da1ef47e851566da"
  }
 ],
 "metadata": {
  "kernelspec": {
   "display_name": "Python 3",
   "language": "python",
   "name": "python3"
  },
  "language_info": {
   "codemirror_mode": {
    "name": "ipython",
    "version": 2
   },
   "file_extension": ".py",
   "mimetype": "text/x-python",
   "name": "python",
   "nbconvert_exporter": "python",
   "pygments_lexer": "ipython2",
   "version": "2.7.6"
  }
 },
 "nbformat": 4,
 "nbformat_minor": 5
}
