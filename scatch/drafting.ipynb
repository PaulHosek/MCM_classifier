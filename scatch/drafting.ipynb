{
 "cells": [
  {
   "cell_type": "code",
   "execution_count": 5,
   "id": "initial_id",
   "metadata": {
    "collapsed": true,
    "ExecuteTime": {
     "end_time": "2023-12-01T10:14:17.305199Z",
     "start_time": "2023-12-01T10:14:17.282614Z"
    }
   },
   "outputs": [],
   "source": [
    "import numpy as np"
   ]
  },
  {
   "cell_type": "code",
   "execution_count": 9,
   "outputs": [
    {
     "data": {
      "text/plain": "101.53166411742038"
     },
     "execution_count": 9,
     "metadata": {},
     "output_type": "execute_result"
    }
   ],
   "source": [
    "data = np.random.normal((100,100))\n",
    "\n",
    "np.random.choice(data)"
   ],
   "metadata": {
    "collapsed": false,
    "ExecuteTime": {
     "end_time": "2023-12-01T10:14:59.058204Z",
     "start_time": "2023-12-01T10:14:59.024294Z"
    }
   },
   "id": "369c7b099fe97784"
  },
  {
   "cell_type": "code",
   "execution_count": 19,
   "outputs": [],
   "source": [
    "# rank 1\n",
    "idx = 120\n",
    "icc_data = np.zeros(shape=(425,1),dtype=int)\n",
    "icc_data[idx] = 1"
   ],
   "metadata": {
    "collapsed": false,
    "ExecuteTime": {
     "end_time": "2023-12-01T11:23:05.993283Z",
     "start_time": "2023-12-01T11:23:05.973710Z"
    }
   },
   "id": "85e3cf5b2a56166"
  },
  {
   "cell_type": "code",
   "execution_count": 24,
   "outputs": [
    {
     "name": "stdout",
     "output_type": "stream",
     "text": [
      "[0][0]\n"
     ]
    }
   ],
   "source": [
    "state = icc_data[[12,13]]\n",
    "binary_string = \"\".join([str(s) for s in state])\n",
    "print(binary_string)"
   ],
   "metadata": {
    "collapsed": false,
    "ExecuteTime": {
     "end_time": "2023-12-01T11:24:43.868921Z",
     "start_time": "2023-12-01T11:24:43.848713Z"
    }
   },
   "id": "aa1e97a01a256e8a"
  },
  {
   "cell_type": "code",
   "execution_count": 25,
   "outputs": [],
   "source": [
    "icc_strings = [\n",
    "        int(\"\".join([str(s) for s in state]), 2) for state in icc_data\n",
    "    ]"
   ],
   "metadata": {
    "collapsed": false,
    "ExecuteTime": {
     "end_time": "2023-12-01T11:25:24.737919Z",
     "start_time": "2023-12-01T11:25:24.732136Z"
    }
   },
   "id": "4d0dd11f645524ae"
  },
  {
   "cell_type": "code",
   "execution_count": 33,
   "outputs": [
    {
     "name": "stdout",
     "output_type": "stream",
     "text": [
      "0\n"
     ]
    }
   ],
   "source": [
    "icc_strings = []\n",
    "\n",
    "for state in icc_data:\n",
    "    binary_string = \"\".join(str(bit) for bit in state)\n",
    "    decimal_number = int(binary_string, 2)\n",
    "    icc_strings.append(decimal_number)\n",
    "print(binary_string)"
   ],
   "metadata": {
    "collapsed": false,
    "ExecuteTime": {
     "end_time": "2023-12-01T11:28:39.186992Z",
     "start_time": "2023-12-01T11:28:39.167512Z"
    }
   },
   "id": "9a8b58c396975b40"
  },
  {
   "cell_type": "code",
   "execution_count": 35,
   "outputs": [
    {
     "name": "stdout",
     "output_type": "stream",
     "text": [
      "[0 1] [424   1]\n"
     ]
    }
   ],
   "source": [
    "u,c = np.unique(icc_strings, return_counts=True)\n",
    "print(u,c) "
   ],
   "metadata": {
    "collapsed": false,
    "ExecuteTime": {
     "end_time": "2023-12-01T11:32:48.012059Z",
     "start_time": "2023-12-01T11:32:47.992381Z"
    }
   },
   "id": "f93597f32d9f9666"
  },
  {
   "cell_type": "code",
   "execution_count": 36,
   "outputs": [],
   "source": [
    "for i in range(0):\n",
    "    pritn('haoo')"
   ],
   "metadata": {
    "collapsed": false,
    "ExecuteTime": {
     "end_time": "2023-12-01T12:00:21.944406Z",
     "start_time": "2023-12-01T12:00:21.907161Z"
    }
   },
   "id": "a58a065653a79c47"
  },
  {
   "cell_type": "code",
   "execution_count": null,
   "outputs": [],
   "source": [],
   "metadata": {
    "collapsed": false
   },
   "id": "da1ef47e851566da"
  }
 ],
 "metadata": {
  "kernelspec": {
   "display_name": "Python 3",
   "language": "python",
   "name": "python3"
  },
  "language_info": {
   "codemirror_mode": {
    "name": "ipython",
    "version": 2
   },
   "file_extension": ".py",
   "mimetype": "text/x-python",
   "name": "python",
   "nbconvert_exporter": "python",
   "pygments_lexer": "ipython2",
   "version": "2.7.6"
  }
 },
 "nbformat": 4,
 "nbformat_minor": 5
}
