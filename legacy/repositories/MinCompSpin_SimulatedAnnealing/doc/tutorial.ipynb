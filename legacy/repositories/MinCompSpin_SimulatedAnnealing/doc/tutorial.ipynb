{
 "cells": [
  {
   "cell_type": "code",
   "execution_count": 1,
   "id": "bb6be995",
   "metadata": {},
   "outputs": [],
   "source": [
    "import subprocess\n",
    "import os"
   ]
  },
  {
   "cell_type": "markdown",
   "id": "a7f5c601",
   "metadata": {},
   "source": [
    "Last updated: 13-05-2023\n",
    "\n",
    "## Simulated annealing algorithm for minimally complex models\n",
    "\n",
    "Before starting, make sure to compile the source code by running the `compile.bat` file in the root folder or by running the command \n",
    "\n",
    "`g++ -std=c++11 -O3 -Wall ./src/*.cpp -o ./bin/saa.exe`\n",
    "\n",
    "If the files have been downloaded from github, the latest binary file should be in the `./bin` folder.\n",
    "\n"
   ]
  },
  {
   "cell_type": "markdown",
   "id": "c332d47c",
   "metadata": {},
   "source": [
    "### Running the algorithm\n",
    "\n",
    "Some example data has been provided in the `./input/data/` folder. To run the algorithm with all default settings on the dataset `./input/data/my_data_n20_N1000.dat` we run the following command: \n",
    "\n",
    "`[RELATIVE_PATH]/saa.exe n -i DATAFILE`\n",
    "\n",
    "where we specify the location of the executable, the number of variables `n` and the name of the datafile proceeded by the `-i` flag. \n",
    "#### Note:\n",
    "- The datafile is assumed to be located in the `./input/data/` directory.\n",
    "- The filename should be provided without the `.dat` extension. "
   ]
  },
  {
   "cell_type": "code",
   "execution_count": 31,
   "id": "8415d4d1",
   "metadata": {},
   "outputs": [],
   "source": [
    "n = 20\n",
    "# datafile = f'my_data_n{n}_N1000'\n",
    "# lets assume we are in the ./input/data/ directory because ebo navigates us to it\n",
    "datafile = \"/../../../bsc/INPUT/data/train-images-unlabeled-0\"\n",
    "# datafile = os.getcwd() + \"../../bsc/INPUT/data/my_data_n20_N1000\""
   ]
  },
  {
   "cell_type": "code",
   "execution_count": 32,
   "id": "aed8af32",
   "metadata": {},
   "outputs": [],
   "source": [
    "saa_args = ('../bin/saa.exe', str(n), '-i', datafile) # the run command as an argument tuple"
   ]
  },
  {
   "cell_type": "code",
   "execution_count": 33,
   "id": "ca6c4f58",
   "metadata": {},
   "outputs": [
    {
     "ename": "NotADirectoryError",
     "evalue": "[Errno 20] Not a directory: '/Users/paulhosek/PycharmProjects/mcm/MCM_classifier/repositories/MinCompSpin_SimulatedAnnealing/doc/../input/data/../../../bsc/INPUT/data/train-images-unlabeled-0.dat'",
     "output_type": "error",
     "traceback": [
      "\u001b[0;31m---------------------------------------------------------------------------\u001b[0m",
      "\u001b[0;31mNotADirectoryError\u001b[0m                        Traceback (most recent call last)",
      "Cell \u001b[0;32mIn[33], line 2\u001b[0m\n\u001b[1;32m      1\u001b[0m \u001b[38;5;66;03m# ../input/data/../../../INPUT/data/train-images-unlabeled-0.dat (0 samples)\u001b[39;00m\n\u001b[0;32m----> 2\u001b[0m \u001b[43mos\u001b[49m\u001b[38;5;241;43m.\u001b[39;49m\u001b[43mlistdir\u001b[49m\u001b[43m(\u001b[49m\u001b[43mos\u001b[49m\u001b[38;5;241;43m.\u001b[39;49m\u001b[43mgetcwd\u001b[49m\u001b[43m(\u001b[49m\u001b[43m)\u001b[49m\u001b[38;5;241;43m+\u001b[39;49m\u001b[38;5;124;43m\"\u001b[39;49m\u001b[38;5;124;43m/../input/data/../../../bsc/INPUT/data/train-images-unlabeled-0.dat\u001b[39;49m\u001b[38;5;124;43m\"\u001b[39;49m\u001b[43m)\u001b[49m\n",
      "\u001b[0;31mNotADirectoryError\u001b[0m: [Errno 20] Not a directory: '/Users/paulhosek/PycharmProjects/mcm/MCM_classifier/repositories/MinCompSpin_SimulatedAnnealing/doc/../input/data/../../../bsc/INPUT/data/train-images-unlabeled-0.dat'"
     ]
    }
   ],
   "source": [
    "# ../input/data/../../../INPUT/data/train-images-unlabeled-0.dat (0 samples)\n",
    "os.listdir(os.getcwd()+\"/../input/data/../../../bsc/INPUT/data/train-images-unlabeled-0.dat\")\n"
   ]
  },
  {
   "cell_type": "code",
   "execution_count": 34,
   "id": "fa528f6d",
   "metadata": {
    "scrolled": false
   },
   "outputs": [
    {
     "name": "stdout",
     "output_type": "stream",
     "text": [
      "- input file: /../../../bsc/INPUT/data/train-images-unlabeled-0\n",
      "- max iterations (stop): 50000 (10000)\n",
      "\n",
      "- loaded: ../input/data//../../../bsc/INPUT/data/train-images-unlabeled-0.dat (5423 samples)\n",
      "\n",
      "- starting from independent partition\n",
      "- initial log-evidence: -28735\n",
      "\n",
      "\n",
      "- running simulated annealing algorithm\n",
      "\n",
      "best log-evidence: -28677.4\t@T = 100\ti = 2\n",
      "best log-evidence: -28659.4\t@T = 100\ti = 4\n",
      "best log-evidence: -28612.2\t@T = 100\ti = 9\n",
      "best log-evidence: -28484.4\t@T = 100\ti = 10\n",
      "best log-evidence: -28098.2\t@T = 100\ti = 21\n",
      "best log-evidence: -28083.8\t@T = 100\ti = 39\n",
      "best log-evidence: -28041.4\t@T = 100\ti = 40\n",
      "best log-evidence: -28021.3\t@T = 100\ti = 69\n",
      "best log-evidence: -28001.4\t@T = 100\ti = 74\n",
      "best log-evidence: -27963.1\t@T = 100\ti = 79\n",
      "best log-evidence: -27962.7\t@T = 100\ti = 80\n",
      "best log-evidence: -27860\t@T = 100\ti = 81\n",
      "best log-evidence: -27586\t@T = 100\ti = 84\n",
      "best log-evidence: -27539.8\t@T = 100\ti = 85\n",
      "best log-evidence: -27537.6\t@T = 100\ti = 86\n",
      "best log-evidence: -27416.4\t@T = 100\ti = 87\n",
      "best log-evidence: -26824.9\t@T = 17.8091\ti = 110\n",
      "best log-evidence: -26814\t@T = 17.8091\ti = 118\n",
      "best log-evidence: -26387.4\t@T = 17.8091\ti = 119\n",
      "best log-evidence: -26379.9\t@T = 17.8091\ti = 120\n",
      "best log-evidence: -26328.7\t@T = 17.8091\ti = 155\n",
      "best log-evidence: -26291.9\t@T = 17.8091\ti = 156\n",
      "best log-evidence: -26123.1\t@T = 17.8091\ti = 166\n",
      "best log-evidence: -26111.5\t@T = 17.8091\ti = 167\n",
      "best log-evidence: -25928.4\t@T = 17.8091\ti = 181\n",
      "best log-evidence: -25926.4\t@T = 17.8091\ti = 187\n",
      "best log-evidence: -25739.3\t@T = 15.8647\ti = 210\n",
      "best log-evidence: -25724.5\t@T = 15.8647\ti = 214\n",
      "best log-evidence: -25724.4\t@T = 15.8647\ti = 224\n",
      "best log-evidence: -25022.8\t@T = 15.8647\ti = 226\n",
      "best log-evidence: -25022.5\t@T = 15.8647\ti = 227\n",
      "best log-evidence: -25022.1\t@T = 15.8647\ti = 240\n",
      "best log-evidence: -25016.9\t@T = 15.8647\ti = 250\n",
      "best log-evidence: -24991.1\t@T = 15.8647\ti = 255\n",
      "best log-evidence: -24989.5\t@T = 15.8647\ti = 257\n",
      "best log-evidence: -24948\t@T = 15.8647\ti = 264\n",
      "best log-evidence: -24942.7\t@T = 15.8647\ti = 268\n",
      "best log-evidence: -24906.1\t@T = 15.8647\ti = 273\n",
      "best log-evidence: -24872.4\t@T = 15.8647\ti = 286\n",
      "best log-evidence: -24818.7\t@T = 14.9096\ti = 318\n",
      "best log-evidence: -24814.8\t@T = 14.9096\ti = 357\n",
      "best log-evidence: -24813.6\t@T = 14.9096\ti = 359\n",
      "best log-evidence: -24802.8\t@T = 14.9096\ti = 361\n",
      "best log-evidence: -24800.1\t@T = 14.9096\ti = 396\n",
      "best log-evidence: -24794\t@T = 13.5161\ti = 630\n",
      "best log-evidence: -24788.3\t@T = 13.5161\ti = 631\n",
      "best log-evidence: -24777.9\t@T = 13.5161\ti = 639\n",
      "best log-evidence: -24775.1\t@T = 13.5161\ti = 644\n",
      "best log-evidence: -24761.4\t@T = 13.5161\ti = 669\n",
      "best log-evidence: -24760.1\t@T = 13.2406\ti = 778\n",
      "best log-evidence: -24603.7\t@T = 13.0109\ti = 828\n",
      "best log-evidence: -24590.8\t@T = 13.0109\ti = 831\n",
      "best log-evidence: -24581.6\t@T = 13.0109\ti = 834\n",
      "best log-evidence: -24580.2\t@T = 13.0109\ti = 837\n",
      "best log-evidence: -24574\t@T = 13.0109\ti = 877\n",
      "best log-evidence: -24569.5\t@T = 13.0109\ti = 888\n",
      "best log-evidence: -24513.9\t@T = 13.0109\ti = 890\n",
      "best log-evidence: -24438.9\t@T = 12.6442\ti = 1022\n",
      "best log-evidence: -24436\t@T = 12.6442\ti = 1028\n",
      "best log-evidence: -24435.3\t@T = 12.6442\ti = 1057\n",
      "best log-evidence: -24427.8\t@T = 12.6442\ti = 1059\n",
      "best log-evidence: -24416.2\t@T = 12.6442\ti = 1065\n",
      "best log-evidence: -24416.2\t@T = 12.6442\ti = 1073\n",
      "best log-evidence: -24414.8\t@T = 12.4938\ti = 1103\n",
      "best log-evidence: -24412.8\t@T = 12.4938\ti = 1105\n",
      "best log-evidence: -24410.3\t@T = 12.0281\ti = 1594\n",
      "best log-evidence: -24400.4\t@T = 10.4029\ti = 5543\n",
      "best log-evidence: -24400.1\t@T = 10.4029\ti = 5556\n",
      "best log-evidence: -24388.7\t@T = 10.3835\ti = 5625\n",
      "best log-evidence: -24383.8\t@T = 10.3835\ti = 5688\n",
      "best log-evidence: -24381\t@T = 10.3835\ti = 5692\n",
      "best log-evidence: -24380.7\t@T = 10.3458\ti = 5860\n",
      "best log-evidence: -24378.8\t@T = 10.3096\ti = 6065\n",
      "best log-evidence: -24374.3\t@T = 10.3096\ti = 6068\n",
      "\n",
      "- maximum iterations without improvement reached\n",
      "- iterations per second: 328040\n",
      "\n",
      "- running greedy merging algorithm on 8 communities\n",
      "\n",
      "- current log-evidence (after SAA): -24374.3\n",
      "- best log-evidence (after SAA):    -24374.3\n",
      "final log-evidence: -24374.3\n",
      "final community: \n",
      "0\t10000000000100000000 | size: 2\n",
      "10\t01000000001000000000 | size: 2\n",
      "13\t00000000110000000000 | size: 2\n",
      "17\t00011000000001100000 | size: 4\n",
      "18\t00100000000010000000 | size: 2\n",
      "19\t00000111000000011111 | size: 8\n"
     ]
    }
   ],
   "source": [
    "# calling the algorithm\n",
    "saa = subprocess.Popen(saa_args, stdout = subprocess.PIPE)\n",
    "\n",
    "# parsing the output from the algorithm\n",
    "for line in saa.stdout:\n",
    "    print(line[:-1].decode('utf-8'))"
   ]
  },
  {
   "cell_type": "markdown",
   "id": "57e3ae0c",
   "metadata": {},
   "source": [
    "### Loading an initial partition\n",
    "\n",
    "By default, the algorithm starts from an independent partition (each node in a separate community). The algorithm can also be started from a custom partition by loading a partition using the `-p` flag. An example community has been provided in the `./input/comms/` directory. \n",
    "\n",
    "#### Note:\n",
    "- The partition file is assumed to be located in the `./input/comms/` directory.\n",
    "- The filename should be provided without the `.dat` extension. \n",
    "- The file contains the assignment of each node as a binary string. For example, for `n=5`, the partition `[[0,1,3],[2,4]]` would be given by a file containing the strings: \n",
    "\n",
    "```\n",
    "01011\n",
    "10100\n",
    "```"
   ]
  },
  {
   "cell_type": "code",
   "execution_count": 85,
   "id": "ef49727f",
   "metadata": {},
   "outputs": [],
   "source": [
    "comm_file = 'my_comms_n20'"
   ]
  },
  {
   "cell_type": "code",
   "execution_count": 86,
   "id": "f1f4c75f",
   "metadata": {},
   "outputs": [],
   "source": [
    "saa_args = ('../bin/saa.exe', str(n), '-i', datafile, '-p', comm_file) # adding the -p flag and partition filename"
   ]
  },
  {
   "cell_type": "code",
   "execution_count": 87,
   "id": "9e41bab4",
   "metadata": {},
   "outputs": [
    {
     "name": "stdout",
     "output_type": "stream",
     "text": [
      "SIMULATED ANNEALING [STAND-ALONE VERSION - v20230513]\n",
      "\n",
      "- input file: my_data_n20_N1000\n",
      "- input partition: my_comms_n20\n",
      "- max iterations (stop): 50000 (10000)\n",
      "\n",
      "- loaded: ../input/data/my_data_n20_N1000.dat (1000 samples)\n",
      "\n",
      "- loaded 6 communities\n",
      "- initial log-evidence: -5602.21\n",
      "\n",
      "\n",
      "- running simulated annealing algorithm\n",
      "\n",
      "best log-evidence: -5301.07\t@T = 100\n",
      "best log-evidence: -5124.55\t@T = 15.8647\n",
      "best log-evidence: -5085.2\t@T = 14.9096\n",
      "best log-evidence: -4874.06\t@T = 14.9096\n",
      "best log-evidence: -4835.67\t@T = 14.9096\n",
      "best log-evidence: -4661.07\t@T = 14.298\n",
      "\n",
      "- maximum iterations without improvement reached\n",
      "- iterations per second: 14309.9\n",
      "\n",
      "00000111110000000000 5\n",
      "00000000000000011111 5\n",
      "00000000001111100000 5\n",
      "11111000000000000000 5\n"
     ]
    }
   ],
   "source": [
    "# calling the algorithm\n",
    "saa = subprocess.Popen(saa_args, stdout = subprocess.PIPE)\n",
    "\n",
    "# parsing the output from the algorithm\n",
    "for line in saa.stdout:\n",
    "    print(line[:-1].decode('utf-8'))"
   ]
  },
  {
   "cell_type": "markdown",
   "id": "7136d0ec",
   "metadata": {},
   "source": [
    "### Starting from a random partition\n",
    "\n",
    "Besides loading a partition or starting from the independent partition, the algorithm can also be initialized with a random partition using the `-r` flag. Note that if a custom partition has been provided using the `-p` flag, the `-r` flag will be ignored."
   ]
  },
  {
   "cell_type": "code",
   "execution_count": 88,
   "id": "329d04fd",
   "metadata": {},
   "outputs": [],
   "source": [
    "saa_args = ('../bin/saa.exe', str(n), '-i', datafile, '-r') # adding the -r flag"
   ]
  },
  {
   "cell_type": "code",
   "execution_count": 89,
   "id": "9aec45d5",
   "metadata": {},
   "outputs": [
    {
     "name": "stdout",
     "output_type": "stream",
     "text": [
      "SIMULATED ANNEALING [STAND-ALONE VERSION - v20230513]\n",
      "\n",
      "- input file: my_data_n20_N1000\n",
      "- max iterations (stop): 50000 (10000)\n",
      "\n",
      "- loaded: ../input/data/my_data_n20_N1000.dat (1000 samples)\n",
      "\n",
      "- starting from random partition\n",
      "- generated community: 01110101110000100000\n",
      "- log-evidence: -2434.59\n",
      "\n",
      "- generated community: 10001010000011010001\n",
      "- log-evidence: -2405.66\n",
      "\n",
      "- generated community: 00000000001000001110\n",
      "- log-evidence: -1265.27\n",
      "\n",
      "- generated community: 00000000000100000000\n",
      "- log-evidence: -380.45\n",
      "\n",
      "- generated 4 communities\n",
      "- initial log-evidence: -6485.97\n",
      "\n",
      "\n",
      "- running simulated annealing algorithm\n",
      "\n",
      "best log-evidence: -6425.78\t@T = 100\n",
      "best log-evidence: -6425.49\t@T = 100\n",
      "best log-evidence: -6406.94\t@T = 100\n",
      "best log-evidence: -6248.01\t@T = 100\n",
      "best log-evidence: -6199.53\t@T = 100\n",
      "best log-evidence: -6095.68\t@T = 100\n",
      "best log-evidence: -6072.5\t@T = 100\n",
      "best log-evidence: -5915.22\t@T = 100\n",
      "best log-evidence: -5811.83\t@T = 17.8091\n",
      "best log-evidence: -5793.89\t@T = 17.8091\n",
      "best log-evidence: -5738.59\t@T = 17.8091\n",
      "best log-evidence: -5649.96\t@T = 17.8091\n",
      "best log-evidence: -5526.32\t@T = 17.8091\n",
      "best log-evidence: -5498.22\t@T = 17.8091\n",
      "best log-evidence: -5473.93\t@T = 17.8091\n",
      "best log-evidence: -5259.08\t@T = 17.8091\n",
      "best log-evidence: -5135.89\t@T = 17.8091\n",
      "best log-evidence: -5117.21\t@T = 15.8647\n",
      "best log-evidence: -4950.47\t@T = 15.8647\n",
      "best log-evidence: -4916.67\t@T = 15.8647\n",
      "best log-evidence: -4661.07\t@T = 15.8647\n",
      "\n",
      "- maximum iterations without improvement reached\n",
      "- iterations per second: 14224.6\n",
      "\n",
      "00000000001111100000 5\n",
      "00000000000000011111 5\n",
      "00000111110000000000 5\n",
      "11111000000000000000 5\n"
     ]
    }
   ],
   "source": [
    "# calling the algorithm\n",
    "saa = subprocess.Popen(saa_args, stdout = subprocess.PIPE)\n",
    "\n",
    "# parsing the output from the algorithm\n",
    "for line in saa.stdout:\n",
    "    print(line[:-1].decode('utf-8'))"
   ]
  },
  {
   "cell_type": "markdown",
   "id": "b523603c",
   "metadata": {},
   "source": [
    "### Running greedy merging algorithm\n",
    "\n",
    "In some cases, the best partition can be found by greedily merging communities. In this case, the difference in log-evidence by merging a pair of communities is calculated for all pairs. The merger resulting in the largest increase is performed and the process repeats until no improvement is possible. \n",
    "\n",
    "This procedure can provide a good starting point for the simulated annealing algorithm and results in the optimal partition in some cases. To run the greedy merging algorithm before starting the simulated annealing algorithm, use the `-g` flag. \n",
    "\n",
    "- The greedy merging algorithm will be performed on the initial partition. \n",
    "- To use the algorithm as intended, start from an independent partition."
   ]
  },
  {
   "cell_type": "code",
   "execution_count": 90,
   "id": "9acfe0fa",
   "metadata": {},
   "outputs": [],
   "source": [
    "saa_args = ('../bin/saa.exe', str(n), '-i', datafile, '-g') # adding the -g flag"
   ]
  },
  {
   "cell_type": "code",
   "execution_count": 91,
   "id": "817c20de",
   "metadata": {},
   "outputs": [
    {
     "name": "stdout",
     "output_type": "stream",
     "text": [
      "SIMULATED ANNEALING [STAND-ALONE VERSION - v20230513]\n",
      "\n",
      "- input file: my_data_n20_N1000\n",
      "- max iterations (stop): 50000 (10000)\n",
      "\n",
      "- loaded: ../input/data/my_data_n20_N1000.dat (1000 samples)\n",
      "\n",
      "- starting from independent partition\n",
      "- initial log-evidence: -7221.5\n",
      "\n",
      "- running greedy merging algorithm on 20 communities\n",
      "\n",
      "merging nodes: 5 and 7 | delta log-e: 120.736\n",
      "merging nodes: 5 and 9 | delta log-e: 173.209\n",
      "merging nodes: 5 and 6 | delta log-e: 188.219\n",
      "merging nodes: 5 and 8 | delta log-e: 198.06\n",
      "merging nodes: 10 and 13 | delta log-e: 108.766\n",
      "merging nodes: 10 and 11 | delta log-e: 165.238\n",
      "merging nodes: 10 and 14 | delta log-e: 191.872\n",
      "merging nodes: 10 and 12 | delta log-e: 205.933\n",
      "merging nodes: 1 and 2 | delta log-e: 99.1811\n",
      "merging nodes: 0 and 1 | delta log-e: 141.534\n",
      "merging nodes: 0 and 4 | delta log-e: 164.65\n",
      "merging nodes: 0 and 3 | delta log-e: 181.461\n",
      "merging nodes: 17 and 19 | delta log-e: 99.0759\n",
      "merging nodes: 15 and 17 | delta log-e: 132.652\n",
      "merging nodes: 15 and 16 | delta log-e: 188.142\n",
      "merging nodes: 15 and 18 | delta log-e: 201.707\n",
      "\n",
      "- running simulated annealing algorithm\n",
      "\n",
      "best log-evidence: -4661.07\t@T = 100\n",
      "\n",
      "- maximum iterations without improvement reached\n",
      "- iterations per second: 14776.3\n",
      "\n",
      "00000000000000011111 5\n",
      "00000000001111100000 5\n",
      "00000111110000000000 5\n",
      "11111000000000000000 5\n"
     ]
    }
   ],
   "source": [
    "# calling the algorithm\n",
    "saa = subprocess.Popen(saa_args, stdout = subprocess.PIPE)\n",
    "\n",
    "# parsing the output from the algorithm\n",
    "for line in saa.stdout:\n",
    "    print(line[:-1].decode('utf-8'))"
   ]
  }
 ],
 "metadata": {
  "kernelspec": {
   "display_name": "Python 3 (ipykernel)",
   "language": "python",
   "name": "python3"
  },
  "language_info": {
   "codemirror_mode": {
    "name": "ipython",
    "version": 3
   },
   "file_extension": ".py",
   "mimetype": "text/x-python",
   "name": "python",
   "nbconvert_exporter": "python",
   "pygments_lexer": "ipython3",
   "version": "3.11.5"
  }
 },
 "nbformat": 4,
 "nbformat_minor": 5
}
