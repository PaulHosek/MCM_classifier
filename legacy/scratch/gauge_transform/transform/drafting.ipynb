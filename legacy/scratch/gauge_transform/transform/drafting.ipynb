{
 "cells": [
  {
   "cell_type": "code",
   "execution_count": 4,
   "metadata": {
    "ExecuteTime": {
     "end_time": "2023-12-01T09:04:15.683851Z",
     "start_time": "2023-12-01T09:04:15.636283Z"
    }
   },
   "outputs": [],
   "source": [
    "import numpy as np \n",
    "import matplotlib.pyplot as plt\n",
    "import unittest\n",
    "from gauge_transform import gauge_transform_algs, test_gauge_transform_algs"
   ]
  },
  {
   "cell_type": "code",
   "execution_count": 3,
   "outputs": [],
   "source": [
    "M = np.array([[1, 0], [0, 1]], dtype=int)\n",
    "G = np.zeros((2, 2), dtype=int)\n",
    "np.max(M),np.min(M), np.max(G),np.min(G)\n",
    "result = gauge_transform_algs.xor_matrix_product(M, G)\n",
    "expected_result = gauge_transform_algs.gauge_transform_product(M, G)"
   ],
   "metadata": {
    "collapsed": false,
    "ExecuteTime": {
     "end_time": "2023-12-01T08:58:27.389070Z",
     "start_time": "2023-12-01T08:58:27.385045Z"
    }
   }
  },
  {
   "cell_type": "code",
   "execution_count": 62,
   "metadata": {
    "ExecuteTime": {
     "end_time": "2023-11-30T15:39:23.860957Z",
     "start_time": "2023-11-30T15:39:23.845665Z"
    }
   },
   "outputs": [],
   "source": [
    "\n",
    "def xor_matrix_product_draft(M, G):\n",
    "    \"\"\"\n",
    "    Compute the XOR matrix product of two binary matrices.\n",
    "\n",
    "    Parameters:\n",
    "    - M: Binary matrix\n",
    "    - G: Binary matrix\n",
    "\n",
    "    Returns:\n",
    "    - XOR matrix product of M and G\n",
    "    \"\"\"\n",
    "    result = np.zeros((M.shape[0], G.shape[1]), dtype=int)\n",
    "\n",
    "    for i in range(M.shape[0]):\n",
    "        for j in range(G.shape[1]):\n",
    "            # xor over operator and then NAND is the same as dot product + modulo 2\n",
    "            result[i, j] = np.logical_not(np.bitwise_and.reduce(np.bitwise_xor(M[i, :], G[:, j])))\n",
    "\n",
    "    return result"
   ]
  },
  {
   "cell_type": "code",
   "execution_count": 63,
   "outputs": [],
   "source": [
    "\n",
    "M = np.array([[0,1], [0, 1]]).astype(bool).astype(int)\n",
    "G = np.identity(2,dtype=int)"
   ],
   "metadata": {
    "collapsed": false,
    "ExecuteTime": {
     "end_time": "2023-11-30T15:39:27.248159Z",
     "start_time": "2023-11-30T15:39:27.232487Z"
    }
   }
  },
  {
   "cell_type": "code",
   "execution_count": 64,
   "outputs": [],
   "source": [
    "res1 = gauge_transform_algs.gauge_transform_product(M,G)\n",
    "res2 = xor_matrix_product_draft(M,G)"
   ],
   "metadata": {
    "collapsed": false,
    "ExecuteTime": {
     "end_time": "2023-11-30T15:39:27.771132Z",
     "start_time": "2023-11-30T15:39:27.741025Z"
    }
   }
  },
  {
   "cell_type": "code",
   "execution_count": 66,
   "outputs": [
    {
     "ename": "NameError",
     "evalue": "name 'test_gauge_transform_algs' is not defined",
     "output_type": "error",
     "traceback": [
      "\u001B[0;31m---------------------------------------------------------------------------\u001B[0m",
      "\u001B[0;31mNameError\u001B[0m                                 Traceback (most recent call last)",
      "Cell \u001B[0;32mIn[66], line 1\u001B[0m\n\u001B[0;32m----> 1\u001B[0m \u001B[43mtest_gauge_transform_algs\u001B[49m\u001B[38;5;241m.\u001B[39mTestXORMatrixProduct()\n",
      "\u001B[0;31mNameError\u001B[0m: name 'test_gauge_transform_algs' is not defined"
     ]
    }
   ],
   "source": [
    "test_gauge_transform_algs.TestXORMatrixProduct()"
   ],
   "metadata": {
    "collapsed": false,
    "ExecuteTime": {
     "end_time": "2023-11-30T15:40:24.327203Z",
     "start_time": "2023-11-30T15:40:24.281641Z"
    }
   }
  },
  {
   "cell_type": "code",
   "execution_count": 65,
   "outputs": [
    {
     "data": {
      "text/plain": "(array([[0, 1],\n        [0, 1]]),\n array([[0, 1],\n        [0, 1]]))"
     },
     "execution_count": 65,
     "metadata": {},
     "output_type": "execute_result"
    }
   ],
   "source": [
    "res1, res2"
   ],
   "metadata": {
    "collapsed": false,
    "ExecuteTime": {
     "end_time": "2023-11-30T15:39:28.253377Z",
     "start_time": "2023-11-30T15:39:28.227289Z"
    }
   }
  },
  {
   "cell_type": "code",
   "execution_count": null,
   "outputs": [],
   "source": [],
   "metadata": {
    "collapsed": false
   }
  }
 ],
 "metadata": {
  "kernelspec": {
   "display_name": "mcm_classifying",
   "language": "python",
   "name": "python3"
  },
  "language_info": {
   "codemirror_mode": {
    "name": "ipython",
    "version": 3
   },
   "file_extension": ".py",
   "mimetype": "text/x-python",
   "name": "python",
   "nbconvert_exporter": "python",
   "pygments_lexer": "ipython3",
   "version": "3.11.5"
  }
 },
 "nbformat": 4,
 "nbformat_minor": 2
}
