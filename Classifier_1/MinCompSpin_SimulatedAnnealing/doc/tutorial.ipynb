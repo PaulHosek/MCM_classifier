{
 "cells": [
  {
   "cell_type": "code",
   "execution_count": 81,
   "id": "bb6be995",
   "metadata": {},
   "outputs": [],
   "source": [
    "import subprocess\n",
    "import os"
   ]
  },
  {
   "cell_type": "markdown",
   "id": "a7f5c601",
   "metadata": {},
   "source": [
    "Last updated: 13-05-2023\n",
    "\n",
    "## Simulated annealing algorithm for minimally complex models\n",
    "\n",
    "Before starting, make sure to compile the source code by running the `compile.bat` file in the root folder or by running the command \n",
    "\n",
    "`g++ -std=c++11 -O3 -Wall ./src/*.cpp -o ./bin/saa.exe`\n",
    "\n",
    "If the files have been downloaded from github, the latest binary file should be in the `./bin` folder.\n",
    "\n"
   ]
  },
  {
   "cell_type": "markdown",
   "id": "c332d47c",
   "metadata": {},
   "source": [
    "### Running the algorithm\n",
    "\n",
    "Some example data has been provided in the `./input/data/` folder. To run the algorithm with all default settings on the dataset `./input/data/my_data_n20_N1000.dat` we run the following command: \n",
    "\n",
    "`[RELATIVE_PATH]/saa.exe n -i DATAFILE`\n",
    "\n",
    "where we specify the location of the executable, the number of variables `n` and the name of the datafile proceeded by the `-i` flag. \n",
    "#### Note:\n",
    "- The datafile is assumed to be located in the `./input/data/` directory.\n",
    "- The filename should be provided without the `.dat` extension. "
   ]
  },
  {
   "cell_type": "code",
   "execution_count": 82,
   "id": "8415d4d1",
   "metadata": {},
   "outputs": [],
   "source": [
    "n = 20\n",
    "datafile = f'my_data_n{n}_N1000'"
   ]
  },
  {
   "cell_type": "code",
   "execution_count": 83,
   "id": "aed8af32",
   "metadata": {},
   "outputs": [],
   "source": [
    "saa_args = ('../bin/saa.exe', str(n), '-i', datafile) # the run command as an argument tuple"
   ]
  },
  {
   "cell_type": "code",
   "execution_count": 84,
   "id": "fa528f6d",
   "metadata": {
    "scrolled": false
   },
   "outputs": [
    {
     "name": "stdout",
     "output_type": "stream",
     "text": [
      "SIMULATED ANNEALING [STAND-ALONE VERSION - v20230513]\n",
      "\n",
      "- input file: my_data_n20_N1000\n",
      "- max iterations (stop): 50000 (10000)\n",
      "\n",
      "- loaded: ../input/data/my_data_n20_N1000.dat (1000 samples)\n",
      "\n",
      "- starting from independent partition\n",
      "- initial log-evidence: -7221.5\n",
      "\n",
      "\n",
      "- running simulated annealing algorithm\n",
      "\n",
      "best log-evidence: -7144.2\t@T = 100\n",
      "best log-evidence: -7111.9\t@T = 100\n",
      "best log-evidence: -7069.66\t@T = 100\n",
      "best log-evidence: -7069.38\t@T = 100\n",
      "best log-evidence: -7037.26\t@T = 100\n",
      "best log-evidence: -7032.03\t@T = 100\n",
      "best log-evidence: -6990.37\t@T = 100\n",
      "best log-evidence: -6988.57\t@T = 17.8091\n",
      "best log-evidence: -6921.76\t@T = 17.8091\n",
      "best log-evidence: -6890.28\t@T = 17.8091\n",
      "best log-evidence: -6825.69\t@T = 17.8091\n",
      "best log-evidence: -6717.97\t@T = 17.8091\n",
      "best log-evidence: -6716.99\t@T = 17.8091\n",
      "best log-evidence: -6554.53\t@T = 17.8091\n",
      "best log-evidence: -6367.05\t@T = 17.8091\n",
      "best log-evidence: -6347.21\t@T = 17.8091\n",
      "best log-evidence: -6289.87\t@T = 17.8091\n",
      "best log-evidence: -6287.34\t@T = 17.8091\n",
      "best log-evidence: -6210.03\t@T = 17.8091\n",
      "best log-evidence: -6089.3\t@T = 17.8091\n",
      "best log-evidence: -6058.44\t@T = 17.8091\n",
      "best log-evidence: -5933.6\t@T = 15.8647\n",
      "best log-evidence: -5815.67\t@T = 15.8647\n",
      "best log-evidence: -5756.1\t@T = 15.8647\n",
      "best log-evidence: -5733.18\t@T = 15.8647\n",
      "best log-evidence: -5687.39\t@T = 15.8647\n",
      "best log-evidence: -5644.47\t@T = 15.8647\n",
      "best log-evidence: -5595.34\t@T = 15.8647\n",
      "best log-evidence: -5547.88\t@T = 15.8647\n",
      "best log-evidence: -5451.69\t@T = 14.9096\n",
      "best log-evidence: -5352.56\t@T = 14.9096\n",
      "best log-evidence: -5287.35\t@T = 14.298\n",
      "best log-evidence: -5186.14\t@T = 14.298\n",
      "best log-evidence: -5047.7\t@T = 13.8569\n",
      "best log-evidence: -4952.89\t@T = 13.8569\n",
      "best log-evidence: -4661.07\t@T = 13.5161\n",
      "\n",
      "- maximum iterations without improvement reached\n",
      "- iterations per second: 14724.1\n",
      "\n",
      "00000111110000000000 5\n",
      "00000000000000011111 5\n",
      "11111000000000000000 5\n",
      "00000000001111100000 5\n"
     ]
    }
   ],
   "source": [
    "# calling the algorithm\n",
    "saa = subprocess.Popen(saa_args, stdout = subprocess.PIPE)\n",
    "\n",
    "# parsing the output from the algorithm\n",
    "for line in saa.stdout:\n",
    "    print(line[:-1].decode('utf-8'))"
   ]
  },
  {
   "cell_type": "markdown",
   "id": "57e3ae0c",
   "metadata": {},
   "source": [
    "### Loading an initial partition\n",
    "\n",
    "By default, the algorithm starts from an independent partition (each node in a separate community). The algorithm can also be started from a custom partition by loading a partition using the `-p` flag. An example community has been provided in the `./input/comms/` directory. \n",
    "\n",
    "#### Note:\n",
    "- The partition file is assumed to be located in the `./input/comms/` directory.\n",
    "- The filename should be provided without the `.dat` extension. \n",
    "- The file contains the assignment of each node as a binary string. For example, for `n=5`, the partition `[[0,1,3],[2,4]]` would be given by a file containing the strings: \n",
    "\n",
    "```\n",
    "01011\n",
    "10100\n",
    "```"
   ]
  },
  {
   "cell_type": "code",
   "execution_count": 85,
   "id": "ef49727f",
   "metadata": {},
   "outputs": [],
   "source": [
    "comm_file = 'my_comms_n20'"
   ]
  },
  {
   "cell_type": "code",
   "execution_count": 86,
   "id": "f1f4c75f",
   "metadata": {},
   "outputs": [],
   "source": [
    "saa_args = ('../bin/saa.exe', str(n), '-i', datafile, '-p', comm_file) # adding the -p flag and partition filename"
   ]
  },
  {
   "cell_type": "code",
   "execution_count": 87,
   "id": "9e41bab4",
   "metadata": {},
   "outputs": [
    {
     "name": "stdout",
     "output_type": "stream",
     "text": [
      "SIMULATED ANNEALING [STAND-ALONE VERSION - v20230513]\n",
      "\n",
      "- input file: my_data_n20_N1000\n",
      "- input partition: my_comms_n20\n",
      "- max iterations (stop): 50000 (10000)\n",
      "\n",
      "- loaded: ../input/data/my_data_n20_N1000.dat (1000 samples)\n",
      "\n",
      "- loaded 6 communities\n",
      "- initial log-evidence: -5602.21\n",
      "\n",
      "\n",
      "- running simulated annealing algorithm\n",
      "\n",
      "best log-evidence: -5301.07\t@T = 100\n",
      "best log-evidence: -5124.55\t@T = 15.8647\n",
      "best log-evidence: -5085.2\t@T = 14.9096\n",
      "best log-evidence: -4874.06\t@T = 14.9096\n",
      "best log-evidence: -4835.67\t@T = 14.9096\n",
      "best log-evidence: -4661.07\t@T = 14.298\n",
      "\n",
      "- maximum iterations without improvement reached\n",
      "- iterations per second: 14309.9\n",
      "\n",
      "00000111110000000000 5\n",
      "00000000000000011111 5\n",
      "00000000001111100000 5\n",
      "11111000000000000000 5\n"
     ]
    }
   ],
   "source": [
    "# calling the algorithm\n",
    "saa = subprocess.Popen(saa_args, stdout = subprocess.PIPE)\n",
    "\n",
    "# parsing the output from the algorithm\n",
    "for line in saa.stdout:\n",
    "    print(line[:-1].decode('utf-8'))"
   ]
  },
  {
   "cell_type": "markdown",
   "id": "7136d0ec",
   "metadata": {},
   "source": [
    "### Starting from a random partition\n",
    "\n",
    "Besides loading a partition or starting from the independent partition, the algorithm can also be initialized with a random partition using the `-r` flag. Note that if a custom partition has been provided using the `-p` flag, the `-r` flag will be ignored."
   ]
  },
  {
   "cell_type": "code",
   "execution_count": 88,
   "id": "329d04fd",
   "metadata": {},
   "outputs": [],
   "source": [
    "saa_args = ('../bin/saa.exe', str(n), '-i', datafile, '-r') # adding the -r flag"
   ]
  },
  {
   "cell_type": "code",
   "execution_count": 89,
   "id": "9aec45d5",
   "metadata": {},
   "outputs": [
    {
     "name": "stdout",
     "output_type": "stream",
     "text": [
      "SIMULATED ANNEALING [STAND-ALONE VERSION - v20230513]\n",
      "\n",
      "- input file: my_data_n20_N1000\n",
      "- max iterations (stop): 50000 (10000)\n",
      "\n",
      "- loaded: ../input/data/my_data_n20_N1000.dat (1000 samples)\n",
      "\n",
      "- starting from random partition\n",
      "- generated community: 01110101110000100000\n",
      "- log-evidence: -2434.59\n",
      "\n",
      "- generated community: 10001010000011010001\n",
      "- log-evidence: -2405.66\n",
      "\n",
      "- generated community: 00000000001000001110\n",
      "- log-evidence: -1265.27\n",
      "\n",
      "- generated community: 00000000000100000000\n",
      "- log-evidence: -380.45\n",
      "\n",
      "- generated 4 communities\n",
      "- initial log-evidence: -6485.97\n",
      "\n",
      "\n",
      "- running simulated annealing algorithm\n",
      "\n",
      "best log-evidence: -6425.78\t@T = 100\n",
      "best log-evidence: -6425.49\t@T = 100\n",
      "best log-evidence: -6406.94\t@T = 100\n",
      "best log-evidence: -6248.01\t@T = 100\n",
      "best log-evidence: -6199.53\t@T = 100\n",
      "best log-evidence: -6095.68\t@T = 100\n",
      "best log-evidence: -6072.5\t@T = 100\n",
      "best log-evidence: -5915.22\t@T = 100\n",
      "best log-evidence: -5811.83\t@T = 17.8091\n",
      "best log-evidence: -5793.89\t@T = 17.8091\n",
      "best log-evidence: -5738.59\t@T = 17.8091\n",
      "best log-evidence: -5649.96\t@T = 17.8091\n",
      "best log-evidence: -5526.32\t@T = 17.8091\n",
      "best log-evidence: -5498.22\t@T = 17.8091\n",
      "best log-evidence: -5473.93\t@T = 17.8091\n",
      "best log-evidence: -5259.08\t@T = 17.8091\n",
      "best log-evidence: -5135.89\t@T = 17.8091\n",
      "best log-evidence: -5117.21\t@T = 15.8647\n",
      "best log-evidence: -4950.47\t@T = 15.8647\n",
      "best log-evidence: -4916.67\t@T = 15.8647\n",
      "best log-evidence: -4661.07\t@T = 15.8647\n",
      "\n",
      "- maximum iterations without improvement reached\n",
      "- iterations per second: 14224.6\n",
      "\n",
      "00000000001111100000 5\n",
      "00000000000000011111 5\n",
      "00000111110000000000 5\n",
      "11111000000000000000 5\n"
     ]
    }
   ],
   "source": [
    "# calling the algorithm\n",
    "saa = subprocess.Popen(saa_args, stdout = subprocess.PIPE)\n",
    "\n",
    "# parsing the output from the algorithm\n",
    "for line in saa.stdout:\n",
    "    print(line[:-1].decode('utf-8'))"
   ]
  },
  {
   "cell_type": "markdown",
   "id": "b523603c",
   "metadata": {},
   "source": [
    "### Running greedy merging algorithm\n",
    "\n",
    "In some cases, the best partition can be found by greedily merging communities. In this case, the difference in log-evidence by merging a pair of communities is calculated for all pairs. The merger resulting in the largest increase is performed and the process repeats until no improvement is possible. \n",
    "\n",
    "This procedure can provide a good starting point for the simulated annealing algorithm and results in the optimal partition in some cases. To run the greedy merging algorithm before starting the simulated annealing algorithm, use the `-g` flag. \n",
    "\n",
    "- The greedy merging algorithm will be performed on the initial partition. \n",
    "- To use the algorithm as intended, start from an independent partition."
   ]
  },
  {
   "cell_type": "code",
   "execution_count": 90,
   "id": "9acfe0fa",
   "metadata": {},
   "outputs": [],
   "source": [
    "saa_args = ('../bin/saa.exe', str(n), '-i', datafile, '-g') # adding the -g flag"
   ]
  },
  {
   "cell_type": "code",
   "execution_count": 91,
   "id": "817c20de",
   "metadata": {},
   "outputs": [
    {
     "name": "stdout",
     "output_type": "stream",
     "text": [
      "SIMULATED ANNEALING [STAND-ALONE VERSION - v20230513]\n",
      "\n",
      "- input file: my_data_n20_N1000\n",
      "- max iterations (stop): 50000 (10000)\n",
      "\n",
      "- loaded: ../input/data/my_data_n20_N1000.dat (1000 samples)\n",
      "\n",
      "- starting from independent partition\n",
      "- initial log-evidence: -7221.5\n",
      "\n",
      "- running greedy merging algorithm on 20 communities\n",
      "\n",
      "merging nodes: 5 and 7 | delta log-e: 120.736\n",
      "merging nodes: 5 and 9 | delta log-e: 173.209\n",
      "merging nodes: 5 and 6 | delta log-e: 188.219\n",
      "merging nodes: 5 and 8 | delta log-e: 198.06\n",
      "merging nodes: 10 and 13 | delta log-e: 108.766\n",
      "merging nodes: 10 and 11 | delta log-e: 165.238\n",
      "merging nodes: 10 and 14 | delta log-e: 191.872\n",
      "merging nodes: 10 and 12 | delta log-e: 205.933\n",
      "merging nodes: 1 and 2 | delta log-e: 99.1811\n",
      "merging nodes: 0 and 1 | delta log-e: 141.534\n",
      "merging nodes: 0 and 4 | delta log-e: 164.65\n",
      "merging nodes: 0 and 3 | delta log-e: 181.461\n",
      "merging nodes: 17 and 19 | delta log-e: 99.0759\n",
      "merging nodes: 15 and 17 | delta log-e: 132.652\n",
      "merging nodes: 15 and 16 | delta log-e: 188.142\n",
      "merging nodes: 15 and 18 | delta log-e: 201.707\n",
      "\n",
      "- running simulated annealing algorithm\n",
      "\n",
      "best log-evidence: -4661.07\t@T = 100\n",
      "\n",
      "- maximum iterations without improvement reached\n",
      "- iterations per second: 14776.3\n",
      "\n",
      "00000000000000011111 5\n",
      "00000000001111100000 5\n",
      "00000111110000000000 5\n",
      "11111000000000000000 5\n"
     ]
    }
   ],
   "source": [
    "# calling the algorithm\n",
    "saa = subprocess.Popen(saa_args, stdout = subprocess.PIPE)\n",
    "\n",
    "# parsing the output from the algorithm\n",
    "for line in saa.stdout:\n",
    "    print(line[:-1].decode('utf-8'))"
   ]
  }
 ],
 "metadata": {
  "kernelspec": {
   "display_name": "Python 3 (ipykernel)",
   "language": "python",
   "name": "python3"
  },
  "language_info": {
   "codemirror_mode": {
    "name": "ipython",
    "version": 3
   },
   "file_extension": ".py",
   "mimetype": "text/x-python",
   "name": "python",
   "nbconvert_exporter": "python",
   "pygments_lexer": "ipython3",
   "version": "3.10.11"
  }
 },
 "nbformat": 4,
 "nbformat_minor": 5
}
