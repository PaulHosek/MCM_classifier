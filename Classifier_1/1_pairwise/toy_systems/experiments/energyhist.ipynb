{
 "cells": [
  {
   "cell_type": "markdown",
   "metadata": {},
   "source": [
    "- fit a model to the train images of a 0 and the train images of a 1\n",
    "- compute and plot the energy distribution for all test images for both models\n",
    "\n",
    "- in the end, i would like to have a histogram with two distributions. One for ISING model of 1 one for ISING model of 0."
   ]
  },
  {
   "cell_type": "code",
   "execution_count": 24,
   "metadata": {},
   "outputs": [],
   "source": [
    "import numpy as np\n",
    "import matplotlib.pyplot as plt\n",
    "import sys\n",
    "sys.path.append(\"../../\")\n",
    "from src.pairwise_fitter import Pairwise_fitter\n",
    "from pairwise_evaluator import Pairwise_evaluator\n",
    "import os"
   ]
  },
  {
   "cell_type": "code",
   "execution_count": 18,
   "metadata": {},
   "outputs": [],
   "source": [
    "# fit the ising model to each digit\n",
    "def fit_digit(digit,nspin, seed,nsamples,fname = \"train-images-unlabeled-{}\",\\\n",
    "                inalldir_rel=\"../../INPUT_all/data/traindata\",outdir_rel=\"../../OUTPUT_mod/data\",exe_rel=\"../../ace_utils/ace\"):\n",
    "    mod = Pairwise_fitter(nsamples,inalldir_rel,fname.format(digit), outdir_rel)\n",
    "    mod.setup(seed,input_spaced=False)\n",
    "    mod.fit(\"ace\",exe_rel)\n",
    "\n",
    "\n"
   ]
  },
  {
   "cell_type": "markdown",
   "metadata": {},
   "source": [
    "Fitting the models"
   ]
  },
  {
   "cell_type": "code",
   "execution_count": 22,
   "metadata": {},
   "outputs": [],
   "source": [
    "# digit = 0\n",
    "# nspin = 121\n",
    "# seed = 42\n",
    "# nsamples = 4000\n",
    "# fit_digit(digit,nspin, seed,nsamples)\n"
   ]
  },
  {
   "cell_type": "code",
   "execution_count": 23,
   "metadata": {},
   "outputs": [],
   "source": [
    "# digit = 1\n",
    "# nspin = 121\n",
    "# seed = 42\n",
    "# nsamples = 4000\n",
    "# fit_digit(digit,nspin, seed,nsamples)"
   ]
  },
  {
   "cell_type": "markdown",
   "metadata": {},
   "source": [
    "Evaluate both models for test data."
   ]
  },
  {
   "cell_type": "code",
   "execution_count": 36,
   "metadata": {},
   "outputs": [],
   "source": [
    "\n",
    "def get_mod_digit(digit,nspin,fname=\"train-images-unlabeled-{}\",outdir=\"../../OUTPUT_mod/data\"):\n",
    "    fname = fname.format(digit)\n",
    "    jpath = os.path.join(outdir,fname,fname+\"_sep-output-out.j\")\n",
    "    mod = Pairwise_evaluator(jpath, nspin)\n",
    "    mod.load_ising_paramters()\n",
    "    return mod"
   ]
  },
  {
   "cell_type": "code",
   "execution_count": 38,
   "metadata": {},
   "outputs": [
    {
     "name": "stdout",
     "output_type": "stream",
     "text": [
      "(7381,)\n",
      "(7381,)\n"
     ]
    }
   ],
   "source": [
    "nspin = 121\n",
    "digits = [0,1]\n",
    "mods = [get_mod_digit(0,nspin) for i in digits] # both models were stopped after 100 iterations of the ACE algorithm"
   ]
  },
  {
   "cell_type": "code",
   "execution_count": 39,
   "metadata": {},
   "outputs": [
    {
     "data": {
      "text/plain": [
       "<pairwise_evaluator.Pairwise_evaluator at 0x121907c90>"
      ]
     },
     "execution_count": 39,
     "metadata": {},
     "output_type": "execute_result"
    }
   ],
   "source": [
    "mods[0]"
   ]
  },
  {
   "cell_type": "code",
   "execution_count": null,
   "metadata": {},
   "outputs": [],
   "source": [
    "# load test data"
   ]
  }
 ],
 "metadata": {
  "kernelspec": {
   "display_name": "mcm_classifying",
   "language": "python",
   "name": "python3"
  },
  "language_info": {
   "codemirror_mode": {
    "name": "ipython",
    "version": 3
   },
   "file_extension": ".py",
   "mimetype": "text/x-python",
   "name": "python",
   "nbconvert_exporter": "python",
   "pygments_lexer": "ipython3",
   "version": "3.11.5"
  }
 },
 "nbformat": 4,
 "nbformat_minor": 2
}
