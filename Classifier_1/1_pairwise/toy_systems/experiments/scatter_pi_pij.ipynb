{
 "cells": [
  {
   "cell_type": "code",
   "execution_count": null,
   "metadata": {},
   "outputs": [],
   "source": [
    "import numpy as np\n",
    "import matplotlib.pyplot as plt"
   ]
  },
  {
   "cell_type": "code",
   "execution_count": null,
   "metadata": {},
   "outputs": [],
   "source": [
    "fname = \"8spin_1m1\"\n",
    "n = 7\n",
    "# data_all = np.loadtxt(f\"../output_small/{fname}/{fname}_sep-output.p\",dtype=np.double)\n",
    "data_all = np.loadtxt(f\"../output_small/control_data/p7.p\",dtype=np.double)\n",
    "\n",
    "data_pi = data_all[:4]\n",
    "data_pij = data_all[4:]"
   ]
  },
  {
   "cell_type": "code",
   "execution_count": null,
   "metadata": {},
   "outputs": [],
   "source": [
    "model_all = np.loadtxt(f\"../output_small/{fname}/{fname}_sep-output-out.j\",dtype=np.double)\n",
    "model_pi = model_all[:4]\n",
    "model_pij = model_all[4:]"
   ]
  },
  {
   "cell_type": "code",
   "execution_count": null,
   "metadata": {},
   "outputs": [],
   "source": [
    "\n",
    "\n",
    "fig, axs = plt.subplots(1, 2, figsize=(10, 5))\n",
    "\n",
    "# for ax in axs:\n",
    "#     ax.set_aspect('equal', 'box')\n",
    "\n",
    "ax = axs[0]\n",
    "ax.scatter(data_pi, model_pi)\n",
    "ax.set_xlabel('Data Pi')\n",
    "ax.set_ylabel('Model Pi')\n",
    "\n",
    "ax = axs[1]\n",
    "ax.scatter(data_pij, model_pij)\n",
    "ax.set_xlabel('Data Pij')\n",
    "ax.set_ylabel('Model Pij')\n",
    "\n",
    "# for ax in axs:\n",
    "#     ax.set_xlim(0, 1)\n",
    "#     ax.set_ylim(-1, 1)\n",
    "\n",
    "\n",
    "plt.show()\n"
   ]
  },
  {
   "cell_type": "code",
   "execution_count": null,
   "metadata": {},
   "outputs": [],
   "source": []
  }
 ],
 "metadata": {
  "kernelspec": {
   "display_name": "mcm_classifying",
   "language": "python",
   "name": "python3"
  },
  "language_info": {
   "codemirror_mode": {
    "name": "ipython",
    "version": 3
   },
   "file_extension": ".py",
   "mimetype": "text/x-python",
   "name": "python",
   "nbconvert_exporter": "python",
   "pygments_lexer": "ipython3",
   "version": "3.11.5"
  }
 },
 "nbformat": 4,
 "nbformat_minor": 2
}
