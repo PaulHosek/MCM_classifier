{
 "cells": [
  {
   "cell_type": "code",
   "execution_count": 1,
   "metadata": {},
   "outputs": [],
   "source": [
    "import numpy as np\n",
    "import matplotlib.pyplot as plt\n",
    "import sys\n",
    "sys.path.append(\"../../\")\n",
    "from pairwise.src.pairwise_fitter import Pairwise_fitter\n",
    "from pairwise.src.pairwise_evaluator import Pairwise_evaluator\n",
    "import importlib\n",
    "import src.paper_utils as utils\n",
    "import src.plot as myplot\n",
    "import pairwise.src.pairwise_utils as pwutils\n"
   ]
  },
  {
   "cell_type": "code",
   "execution_count": 36,
   "metadata": {},
   "outputs": [
    {
     "data": {
      "text/plain": [
       "<module 'pairwise.src.pairwise_utils' from '/Users/paulhosek/PycharmProjects/mcm/MCM_classifier/Classifier_1/mcm/paper_plots_pw/../../pairwise/src/pairwise_utils.py'>"
      ]
     },
     "execution_count": 36,
     "metadata": {},
     "output_type": "execute_result"
    }
   ],
   "source": [
    "importlib.reload(myplot)\n",
    "importlib.reload(utils)\n",
    "importlib.reload(pwutils)"
   ]
  },
  {
   "cell_type": "code",
   "execution_count": 15,
   "metadata": {},
   "outputs": [
    {
     "name": "stdout",
     "output_type": "stream",
     "text": [
      "892 5423\n"
     ]
    }
   ],
   "source": [
    "nspin = 121\n",
    "model_digits = list(range(10))\n",
    "\n",
    "testdatas = [np.genfromtxt(utils.load_test_data(digit), dtype=int, delimiter=1) for digit in model_digits]\n",
    "# ACE\n",
    "\n",
    "pw_modname = \"ACE\"\n",
    "outdir = \"../data/OUTPUT/pairwise/OUTPUT_mod/4h_train5423/L0/\"\n",
    "\n",
    "pw_mods = [pwutils.get_pw_mod(i,nspin,outdir,fname=\"train-images-unlabeled-{}\") for i in model_digits] # both models were stopped after 100 iterations of the ACE algorithm, 4k samples\n",
    "\n",
    "pairwise_distrs = np.empty((len(model_digits),len(model_digits),len(testdatas[0])))\n",
    "for i_dig, testdig in enumerate(testdatas):\n",
    "    for i_md, mod in enumerate(pw_mods):\n",
    "        pairwise_distrs[i_md,i_dig,:] = np.array([mod.calc_energy(state) for state in testdig])\n",
    "\n",
    "# calculate parition function\n",
    "traindatas = [np.genfromtxt(utils.load_test_data(digit, all_data_path=\"../data/INPUT_all/data/\",fname=\"train-images-unlabeled-{}.dat\"), dtype=int, delimiter=1) for digit in model_digits]\n",
    "Zs = pwutils.partition_functions(traindatas,pw_mods)\n",
    "pairwise_distrs = (np.exp(-1*pairwise_distrs)/ Zs[None,:,None]) # partition function"
   ]
  },
  {
   "cell_type": "code",
   "execution_count": 28,
   "metadata": {},
   "outputs": [
    {
     "data": {
      "text/plain": [
       "(array([[0.        , 0.83295964],\n",
       "        [1.        , 0.96748879],\n",
       "        [2.        , 0.95067265],\n",
       "        [3.        , 0.88004484],\n",
       "        [4.        , 0.89573991],\n",
       "        [5.        , 0.88565022],\n",
       "        [6.        , 0.92488789],\n",
       "        [7.        , 0.84753363],\n",
       "        [8.        , 0.882287  ],\n",
       "        [9.        , 0.94170404]]),\n",
       " 'Grand mean=0.9008968609865471')"
      ]
     },
     "execution_count": 28,
     "metadata": {},
     "output_type": "execute_result"
    }
   ],
   "source": [
    "pairwise_distrs.shape\n",
    "max_decision_unit = np.argmax(pairwise_distrs,axis=0)\n",
    "digit_accu = [1-np.count_nonzero(max_decision_unit[k,:] - k)/892 for k in range(10)]\n",
    "np.vstack((np.arange(10), digit_accu)).T,  f\"Grand mean={np.mean(digit_accu)}\""
   ]
  },
  {
   "cell_type": "code",
   "execution_count": 29,
   "metadata": {},
   "outputs": [
    {
     "data": {
      "text/plain": [
       "0.9506109979633401"
      ]
     },
     "execution_count": 29,
     "metadata": {},
     "output_type": "execute_result"
    }
   ],
   "source": [
    "# for every set of testimages, compute \n",
    "\n",
    "# the most likely label the NB classifier gave to each image (10, 892)\n",
    "predicted_labels_per_image = max_decision_unit\n",
    "\n",
    "# np.unique(arr, return_counts=True)\n",
    "v, c = np.unique(predicted_labels_per_image, return_counts=True,axis=1)\n",
    "# list of tuples: each tuple is each wrong label:count how often each label\n",
    "unqs = [np.unique(arr, return_counts=True) for arr in predicted_labels_per_image]\n",
    "\n",
    "idx_arr = np.zeros((10,10))\n",
    "for i in range(10):\n",
    "    idx_arr[i][unqs[i][0]] = unqs[i][1]\n",
    "\n",
    "idx_arr /= 982\n",
    "\n",
    "#\n",
    "np.fill_diagonal(idx_arr, 0)\n",
    "# np.fill_diagonal(idx_arr,idx_arr.max())\n",
    "np.mean((1-idx_arr[3][5], 1-idx_arr[5][3]))\n",
    "# 1-idx_arr\n",
    "\n",
    "# unqs[i][0]"
   ]
  },
  {
   "cell_type": "code",
   "execution_count": 50,
   "metadata": {},
   "outputs": [
    {
     "data": {
      "image/png": "[encoded data removed]",
      "text/plain": [
       "<Figure size 480x480 with 2 Axes>"
      ]
     },
     "metadata": {},
     "output_type": "display_data"
    }
   ],
   "source": [
    "im = myplot.plot_confusion_matrix(idx_arr,10,logScale=False,cmap=myplot.cmap_to_gray(\"black\",reverse=True), title=\"\")#,title=\"Confusion matrix:\\n MCM(n=5423) on test set\")\n",
    "plt.colorbar(im,shrink=.8).set_label(\"Fraction labelled as\")\n",
    "plt.title(\"ACE\")\n",
    "# plt.savefig(\"./img/confusion_testacc_ace.png\",dpi=300, bbox_inches=\"tight\")\n",
    "plt.savefig(\"../paper_plots/img/ace_confmx.png\", bbox_inches=\"tight\", dpi=300)"
   ]
  }
 ],
 "metadata": {
  "kernelspec": {
   "display_name": "mcm_classifying",
   "language": "python",
   "name": "python3"
  },
  "language_info": {
   "codemirror_mode": {
    "name": "ipython",
    "version": 3
   },
   "file_extension": ".py",
   "mimetype": "text/x-python",
   "name": "python",
   "nbconvert_exporter": "python",
   "pygments_lexer": "ipython3",
   "version": "3.11.5"
  }
 },
 "nbformat": 4,
 "nbformat_minor": 2
}
