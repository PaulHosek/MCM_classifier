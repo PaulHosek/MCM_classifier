{
 "cells": [
  {
   "cell_type": "markdown",
   "metadata": {},
   "source": [
    "# Get communities over k to match the indicative scatter and indicative inv plots"
   ]
  },
  {
   "cell_type": "code",
   "execution_count": 2,
   "metadata": {},
   "outputs": [],
   "source": [
    "import numpy as np\n",
    "import os\n",
    "import json\n",
    "import sys\n",
    "import matplotlib.pyplot as plt\n",
    "import skimage\n",
    "\n",
    "sys.path.append(\"../\")\n",
    "import src.plot as myplot\n",
    "import seaborn as sns\n",
    "\n",
    "import sklearn"
   ]
  },
  {
   "cell_type": "code",
   "execution_count": 3,
   "metadata": {},
   "outputs": [
    {
     "data": {
      "text/plain": [
       "<module 'src.plot' from '/Users/paulhosek/PycharmProjects/mcm/MCM_classifier/Classifier_1/mcm/paper_plots/../src/plot.py'>"
      ]
     },
     "execution_count": 3,
     "metadata": {},
     "output_type": "execute_result"
    }
   ],
   "source": [
    "import importlib\n",
    "import src.plot as myplot\n",
    "importlib.reload(myplot)"
   ]
  },
  {
   "cell_type": "code",
   "execution_count": 13,
   "metadata": {},
   "outputs": [
    {
     "data": {
      "text/plain": [
       "<module 'src.paper_utils' from '/Users/paulhosek/PycharmProjects/mcm/MCM_classifier/Classifier_1/mcm/paper_plots/../src/paper_utils.py'>"
      ]
     },
     "execution_count": 13,
     "metadata": {},
     "output_type": "execute_result"
    }
   ],
   "source": [
    "\n",
    "import importlib\n",
    "import src.paper_utils as utils\n",
    "importlib.reload(utils)"
   ]
  },
  {
   "cell_type": "code",
   "execution_count": 5,
   "metadata": {},
   "outputs": [],
   "source": [
    "sample_sizes = [10, 100, 500,1000, 2000, 3000,4000,5000]\n",
    "sample_sizes = [1000]\n",
    "counts_samplesizes, mcms_samplesizes = utils.load_counts_mcm(sample_sizes, letter=\"\", path_format=\"../data/OUTPUT/mcm/sample_sizes\")\n",
    "test_mcms, test_probs = utils.get_complete_testprobs(mcms_samplesizes,counts_samplesizes,sample_sizes,n_runs=2,smooth=True)"
   ]
  },
  {
   "cell_type": "code",
   "execution_count": 95,
   "metadata": {},
   "outputs": [],
   "source": [
    "sample_idx = 0\n",
    "run_idx = 0\n",
    "digit_pair = [3,5]\n",
    "all_byk_pair, all_byk_modspin, all_comms, all_dists = utils.get_all_byk_pair(test_probs, test_mcms, digit_pair, sample_idx, run_idx, return_comms=True,return_dists=True)\n",
    "all_byk_pair = utils.adjust_smaller_icc(all_byk_pair,all_byk_modspin)"
   ]
  },
  {
   "cell_type": "code",
   "execution_count": 156,
   "metadata": {},
   "outputs": [
    {
     "data": {
      "text/plain": [
       "<matplotlib.image.AxesImage at 0x1318c2090>"
      ]
     },
     "execution_count": 156,
     "metadata": {},
     "output_type": "execute_result"
    },
    {
     "data": {
      "image/png": "[encoded data removed]",
      "text/plain": [
       "<Figure size 640x480 with 1 Axes>"
      ]
     },
     "metadata": {},
     "output_type": "display_data"
    }
   ],
   "source": [
    "def kmask(dist_map, k):\n",
    "    \"\"\"\n",
    "    Return 2d binary mask of the k icc furthest from the decision boundary.\n",
    "\n",
    "    :param dist_map: The 2d distance map. \n",
    "    :type dist_map: 2d numpy.ndarray\n",
    "    :param k: The number of icc to select.\n",
    "    :type k: int\n",
    "    :return: The masked array.\n",
    "    :rtype: numpy.ndarray\n",
    "    \"\"\"\n",
    "    thresh = np.sort(np.unique(dist_map.flat))[-k]\n",
    "    msk = np.where(dist_map >= thresh, 1, 0)\n",
    "    return msk \n",
    "\n",
    "\n",
    "colors = myplot.get_default_colorcycle()\n",
    "colors = ['white', colors[0], colors[3], \"dimgrey\"] #7B4F6E\n",
    "cmap = ListedColormap(colors)\n",
    "dist_maps = [all_dists[i][all_comms[i]] for i in range(2)]\n",
    "out = kmask(dist_maps[0], 10) + kmask(dist_maps[1], 10)*2\n",
    "\n",
    "myplot.partition_map(plt.gca(), out, None,borders=myplot.find_borders(np.arange(121).reshape((11,11))),cmap=cmap, normalise=False,cbar=None)"
   ]
  },
  {
   "cell_type": "code",
   "execution_count": 139,
   "metadata": {},
   "outputs": [
    {
     "data": {
      "text/plain": [
       "'#ff7f0e'"
      ]
     },
     "execution_count": 139,
     "metadata": {},
     "output_type": "execute_result"
    }
   ],
   "source": [
    "myplot.get_default_colorcycle()[1]"
   ]
  },
  {
   "cell_type": "code",
   "execution_count": null,
   "metadata": {},
   "outputs": [],
   "source": [
    "fig, axs = plt.subplots(2,5,figsize=(20,7.5))\n",
    "axs = axs.ravel()\n",
    "# len_shortest_mcm = np.min([len(i) for i in all_byk_pair])-1\n",
    "\n",
    "top_ks = [3,4,5,6,7,\n",
    "          10,12,15,20,0]\n",
    "colors = myplot.get_list_fromcmap(\"tab10\", N=10)\n",
    "\n",
    "for j, k in enumerate(top_ks):\n",
    "    ax = axs[j]\n",
    "\n",
    "\n",
    "\n",
    "    ax.set_title(f\"k={k if k!=0 else 'all'}: spins{all_byk_modspin[0][k-1], all_byk_modspin[1][k-1]}\")\n",
    "    \n",
    "fig.supxlabel(f\"Probablity g* MCM {digit_pair[0]}\")\n",
    "fig.supylabel(f\"Probability g* MCM {digit_pair[1]}\")\n",
    "\n",
    "\n",
    "plt.legend(title=\"Digit\", bbox_to_anchor=(1.2,1,0,0))\n",
    "fig.suptitle(f\"K most informative icc for each MCM {digit_pair}. ICC counts: {[len(i) for i in  all_byk_modspin]}\")\n",
    "fig.tight_layout()\n",
    "\n"
   ]
  }
 ],
 "metadata": {
  "kernelspec": {
   "display_name": "mcm_classifying",
   "language": "python",
   "name": "python3"
  },
  "language_info": {
   "codemirror_mode": {
    "name": "ipython",
    "version": 3
   },
   "file_extension": ".py",
   "mimetype": "text/x-python",
   "name": "python",
   "nbconvert_exporter": "python",
   "pygments_lexer": "ipython3",
   "version": "3.11.5"
  }
 },
 "nbformat": 4,
 "nbformat_minor": 2
}
