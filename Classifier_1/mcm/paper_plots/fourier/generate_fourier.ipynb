{
 "cells": [
  {
   "cell_type": "markdown",
   "metadata": {},
   "source": [
    "- [ ] Fourier transform thing\n",
    "    - [ ] 1. Do Fourier transform of image, select the top k moments\n",
    "    - [ ] 2. See how many we need to classify properly"
   ]
  },
  {
   "cell_type": "code",
   "execution_count": 1,
   "metadata": {},
   "outputs": [],
   "source": [
    "import numpy as np\n",
    "import matplotlib.pyplot as plt\n",
    "import os\n",
    "import sys\n",
    "sys.path.append(\"../../\")\n",
    "import src.paper_utils as utils"
   ]
  },
  {
   "cell_type": "code",
   "execution_count": 257,
   "metadata": {},
   "outputs": [],
   "source": [
    "def lowpass_zigzag1d(img, k):\n",
    "    \"\"\"\n",
    "    Applies a low pass filter to the Fourier transform of an image,\n",
    "      keeping only the lowest k frequencies in a zig-zag pattern.\n",
    "\n",
    "    Parameters:\n",
    "    img (ndarray): The input image.\n",
    "    k (int): The number of frequencies to keep.\n",
    "\n",
    "    Returns:\n",
    "    ndarray: The masked fourier frequencies.\n",
    "    \"\"\"\n",
    "    img = img.reshape((11,11))\n",
    "    f = np.fft.fft2(img)\n",
    "    mask = np.zeros_like(f, dtype=bool).reshape((121))\n",
    "    zz_indices = np.concatenate([np.diagonal(a[::-1,:], i)[::(2*(i % 2)-1)] for i in range(1-a.shape[0], a.shape[0])])\n",
    "    mx = np.min((k, len(zz_indices)-1))\n",
    "\n",
    "    mask[zz_indices[:mx]] = True\n",
    "    f_masked = f * mask.reshape((11,11))\n",
    "    return f_masked.real.ravel()\n",
    "\n",
    "\n",
    "def items_above_diagonal(n):\n",
    "    \"\"\"\n",
    "    Compute the number of items above each diagonal in a square matrix.\n",
    "\n",
    "    Parameters:\n",
    "    n (int): The size of the square matrix.\n",
    "\n",
    "    Returns:\n",
    "    list: The number of items above each diagonal.\n",
    "    \"\"\"\n",
    "    return [i**2 for i in range(1, n+1)]\n"
   ]
  },
  {
   "cell_type": "code",
   "execution_count": 269,
   "metadata": {},
   "outputs": [],
   "source": [
    "n = 11\n",
    "dirname = \"../../data/OUTPUT/mcm/fourier/\"\n",
    "\n",
    "for k in items_above_diagonal(n): # take fair samples\n",
    "    k_path = os.path.join(dirname, f\"{k}\")\n",
    "    os.makedirs(k_path, exist_ok=True)\n",
    "    for digit in range(10):\n",
    "        # train data\n",
    "        img = np.genfromtxt(f\"../../data/INPUT_all/data/train-images-unlabeled-{digit}.dat\",delimiter=1, dtype=int)\n",
    "        freq = np.apply_along_axis(lambda x: binarize_image(lowpass_zigzag1d(x, k)).astype(int), axis=1, arr=img)\n",
    "        np.savetxt(os.path.join(k_path,f\"fourier-images-unlabeled-{digit}.dat\"),freq,fmt=\"%d\", delimiter=\"\")\n",
    "\n",
    "        # test data\n",
    "        img = np.genfromtxt(utils.load_test_data(digit,all_data_path=\"../../data/INPUT_all/data/testdata_separated\"),delimiter=1,dtype=int)\n",
    "        freq = np.apply_along_axis(lambda x: binarize_image(lowpass_zigzag1d(x, k)).astype(int), axis=1, arr=img)\n",
    "        np.savetxt(os.path.join(k_path,f\"testfourier-images-unlabeled-{digit}.dat\"),freq,fmt=\"%d\", delimiter=\"\")"
   ]
  },
  {
   "cell_type": "markdown",
   "metadata": {},
   "source": [
    "1. convert test images as well for different k\n",
    "2. For a k. Fit each MCM and get test accuracy\n",
    "3. Build a plot over i guess average test accuracy for all digits over k"
   ]
  },
  {
   "cell_type": "code",
   "execution_count": 233,
   "metadata": {},
   "outputs": [
    {
     "data": {
      "image/png": "[encoded data removed]",
      "text/plain": [
       "<Figure size 640x480 with 2 Axes>"
      ]
     },
     "metadata": {},
     "output_type": "display_data"
    }
   ],
   "source": [
    "plt.subplot(121),plt.imshow(img, cmap = 'gray')\n",
    "plt.title('Original Image'), plt.xticks([]), plt.yticks([])\n",
    "plt.subplot(122),plt.imshow(frequ, cmap = 'gray')\n",
    "plt.title(f'Image after keeping top {k} frequencies'), plt.xticks([]), plt.yticks([])\n",
    "plt.show()"
   ]
  },
  {
   "cell_type": "markdown",
   "metadata": {},
   "source": [
    "# -------------------------"
   ]
  },
  {
   "cell_type": "code",
   "execution_count": null,
   "metadata": {},
   "outputs": [],
   "source": [
    "# def gen_testimage():\n",
    "#     x = np.arange(-500, 501, 1)\n",
    "#     X, Y = np.meshgrid(x, x)\n",
    "#     wavelength = 100\n",
    "#     angle = np.pi/9\n",
    "#     grating = np.sin(\n",
    "#         2*np.pi*(X*np.cos(angle) + Y*np.sin(angle)) / wavelength\n",
    "#     )\n",
    "#     return grating\n",
    "# def fft2d(img):\n",
    "#     \"\"\"\n",
    "#     Perform a 2D Fast Fourier Transform (FFT) on the input image.\n",
    "\n",
    "#     :param img: The input image to be transformed.\n",
    "#     :type img: numpy.ndarray\n",
    "\n",
    "#     :return: The transformed image.\n",
    "#     :rtype: numpy.ndarray\n",
    "#     \"\"\"\n",
    "#     ft = np.fft.ifftshift(img)\n",
    "#     ft = np.fft.fft2(img)\n",
    "#     return np.fft.fftshift(ft)\n",
    "\n",
    "\n",
    "# def ifft2d(ft):\n",
    "#     \"\"\"\n",
    "#     Perform 2D real inverse fast Fourier transform (IFFT) on the input array.\n",
    "\n",
    "#     Parameters:\n",
    "#     ft (ndarray): The input array containing the Fourier transform.\n",
    "\n",
    "#     Returns:\n",
    "#     ndarray: The inverse Fourier transform of the input array.\n",
    "\n",
    "#     \"\"\"\n",
    "#     ift = np.fft.ifftshift(ft)\n",
    "#     ift = np.fft.ifft2(ift)\n",
    "#     ift = np.fft.fftshift(ift)\n",
    "#     return ift.real "
   ]
  },
  {
   "cell_type": "code",
   "execution_count": null,
   "metadata": {},
   "outputs": [],
   "source": [
    "# def keep_lowest_k_frequencies(img, k):\n",
    "#     \"\"\"\n",
    "#     Applies a low pass filter to the Fourier transform of an image,\n",
    "#       keeping only the lowest k frequencies.\n",
    "\n",
    "#     Parameters:\n",
    "#     img (ndarray): The input image.\n",
    "#     k (int): The number of frequencies to keep.\n",
    "\n",
    "#     Returns:\n",
    "#     ndarray: The reconstructed image after applying the mask to the Fourier transform.\n",
    "#     \"\"\"\n",
    "\n",
    "# def keep_lowest_k_frequencies(img, k,all_direction=False):\n",
    "#     \"\"\"\n",
    "#     Applies a low pass filter to the Fourier transform of an image,\n",
    "#       keeping only the lowest k frequencies.\n",
    "\n",
    "#     Note: Here, we shift so we select frequencies in all directions.\n",
    "#       If we were not to shift, only horizontal and vertical would be preseved.\n",
    "\n",
    "#     Parameters:\n",
    "#     img (ndarray): The input image.\n",
    "#     k (int): The number of frequencies to keep.\n",
    "\n",
    "#     Returns:\n",
    "#     ndarray: The reconstructed image after applying the mask to the Fourier transform.\n",
    "#     \"\"\"\n",
    "#     f = np.fft.fft2(img)\n",
    "#     if all_direction:\n",
    "#       # Select a square region at the center after shift\n",
    "#       fshift = np.fft.fftshift(f)\n",
    "#       mask = np.zeros_like(fshift, dtype=bool)\n",
    "#       center = tuple(map(lambda x: x // 2, mask.shape))\n",
    "#       indices = np.ogrid[:mask.shape[0], :mask.shape[1]]\n",
    "#       mask[(indices[0] - center[0])**2 + (indices[1] - center[1])**2 <= k**2] = True\n",
    "#       fshift_masked = fshift * mask\n",
    "#       f_ishift = np.fft.ifftshift(fshift_masked)\n",
    "#       img_back = np.fft.ifft2(f_ishift)\n",
    "#     else:\n",
    "#       # Select top left corner\n",
    "#       mask = np.zeros_like(f, dtype=bool) \n",
    "#       mask[:k, :k] = True\n",
    "#       f_masked = f * mask\n",
    "#       img_back = np.fft.ifft2(f_masked)\n",
    "\n",
    "#     return np.real(img_back)\n",
    "\n",
    "\n",
    "\n",
    "# # Test the function\n",
    "# k = 10\n",
    "# img = np.genfromtxt(\"../data/INPUT_all/data/train-images-unlabeled-5.dat\",delimiter=1, dtype=int)[0].reshape((11,11))\n",
    "# img_back = keep_lowest_k_frequencies(img, k)\n",
    "# img_back = binarize_image(img_back)\n",
    "\n",
    "# # Visualize the results\n",
    "# plt.subplot(121),plt.imshow(img, cmap = 'gray')\n",
    "# plt.title('Original Image'), plt.xticks([]), plt.yticks([])\n",
    "# plt.subplot(122),plt.imshow(img_back, cmap = 'gray')\n",
    "# plt.title(f'Image after keeping top {k} frequencies'), plt.xticks([]), plt.yticks([])\n",
    "# plt.show()"
   ]
  }
 ],
 "metadata": {
  "kernelspec": {
   "display_name": "mcm_classifying",
   "language": "python",
   "name": "python3"
  },
  "language_info": {
   "codemirror_mode": {
    "name": "ipython",
    "version": 3
   },
   "file_extension": ".py",
   "mimetype": "text/x-python",
   "name": "python",
   "nbconvert_exporter": "python",
   "pygments_lexer": "ipython3",
   "version": "3.11.5"
  }
 },
 "nbformat": 4,
 "nbformat_minor": 2
}
