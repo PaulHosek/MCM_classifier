{
 "cells": [
  {
   "cell_type": "markdown",
   "metadata": {},
   "source": [
    "Want to show that the compression of the digit (log evidence) is already enough for classification and to find out which digits may be similar.\n",
    "\n",
    "\n",
    "\n",
    "- [ ] Calculate log evidence of whole digit \n",
    "    - [ ] Absolute value per digit => how compressible is that digit\n",
    "    - [ ] Q: even without testing looking for the best model will already classify the digit, simply because some digits are more compressible than others\n",
    "    - [ ] Log evidence distribution\n",
    "    - [ ] Y = log evidence for actual model on whole dataset fitted\n",
    "        - [ ] Each line is a digit \n",
    "    - [ ] X = 20x 20 digits for each fit MCM and compute distribution of log evidence\n",
    "    - [ ] Dont divide by 121 so its bitwise \n",
    "    - [ ] Without testing, simple choice of model \n",
    "    - [ ] Measure of compressibility is enough to classify\n"
   ]
  },
  {
   "cell_type": "code",
   "execution_count": 1,
   "metadata": {},
   "outputs": [],
   "source": [
    "# 1. need for each digit the image/bitwise evidence of the full MCM (6313 samples) -> 10 numbers\n",
    "# 2. For N = 20 (make this variable maybe wanna try our 100 too) compute the log evidence for multiple runs for all digits -> runs*10 numbers"
   ]
  },
  {
   "cell_type": "code",
   "execution_count": 2,
   "metadata": {},
   "outputs": [],
   "source": [
    "# 1. \n"
   ]
  },
  {
   "cell_type": "code",
   "execution_count": 40,
   "metadata": {},
   "outputs": [],
   "source": [
    "import sys\n",
    "sys.path.append(\"../\")\n",
    "\n",
    "import matplotlib.pyplot as plt\n",
    "import numpy as np\n",
    "from src.loaders import load_data, load_labels\n",
    "from src.classify import MCM_Classifier\n",
    "import os\n",
    "import src.plot as myplot\n",
    "import scipy.ndimage as ndi"
   ]
  },
  {
   "cell_type": "code",
   "execution_count": 41,
   "metadata": {},
   "outputs": [
    {
     "data": {
      "text/plain": [
       "<module 'src.plot' from '/Users/paulhosek/PycharmProjects/mcm/MCM_classifier/Classifier_1/mcm/paper_plots/../src/plot.py'>"
      ]
     },
     "execution_count": 41,
     "metadata": {},
     "output_type": "execute_result"
    }
   ],
   "source": [
    "import importlib\n",
    "import src.plot as myplot\n",
    "importlib.reload(myplot)"
   ]
  },
  {
   "cell_type": "code",
   "execution_count": 42,
   "metadata": {},
   "outputs": [
    {
     "data": {
      "text/plain": [
       "<module 'src.paper_utils' from '/Users/paulhosek/PycharmProjects/mcm/MCM_classifier/Classifier_1/mcm/paper_plots/../src/paper_utils.py'>"
      ]
     },
     "execution_count": 42,
     "metadata": {},
     "output_type": "execute_result"
    }
   ],
   "source": [
    "\n",
    "import importlib\n",
    "import src.paper_utils as utils\n",
    "importlib.reload(utils)"
   ]
  },
  {
   "cell_type": "code",
   "execution_count": 43,
   "metadata": {},
   "outputs": [],
   "source": [
    "# Ps = classifier.get_P() # category, icc in MCM, 2**rank_icc probability distribution\n",
    "# MCMs = classifier.get_MCMs()\n",
    "# Counts = classifier.get_Counts()\n",
    "# N = Counts[0][0].sum().astype(int) \n"
   ]
  },
  {
   "cell_type": "code",
   "execution_count": 28,
   "metadata": {},
   "outputs": [],
   "source": [
    "digit = 0\n",
    "\n",
    "sample_sizes_full = [6315]\n",
    "samplesiz_i = 0\n",
    "run_i = 0\n",
    "\n",
    "path_format = \"../data/OUTPUT/mcm/sample_sizes_fromfull\"\n",
    "\n",
    "counts_samplesizes, mcms_samplesizes = utils.load_counts_mcm(sample_sizes_full, \"\",path_format)\n",
    "Counts_full, MCMs_full = counts_samplesizes[samplesiz_i][run_i], mcms_samplesizes[samplesiz_i][run_i] # load first sample size and first run\n"
   ]
  },
  {
   "cell_type": "code",
   "execution_count": 47,
   "metadata": {},
   "outputs": [],
   "source": [
    "evds = []\n",
    "comms = []\n",
    "for mcm_idx in np.arange(10):\n",
    "    comms.append(myplot.generate_icc_comms_map(MCMs_full[mcm_idx]))\n",
    "    evd = utils.evidence_iccs(Counts_full,MCMs_full,mcm_idx)\n",
    "    evd = utils.pixelwise_evidence(evd,sample_sizes_full[0],MCMs_full[mcm_idx], image_wise=True) \n",
    "    evd = np.sum(evd) # image wise overall evidence of the model\n",
    "    evds.append(evd)"
   ]
  },
  {
   "cell_type": "code",
   "execution_count": 50,
   "metadata": {},
   "outputs": [
    {
     "data": {
      "text/plain": [
       "<matplotlib.collections.PathCollection at 0x1074659d0>"
      ]
     },
     "execution_count": 50,
     "metadata": {},
     "output_type": "execute_result"
    },
    {
     "data": {
      "image/png": "[encoded data removed]",
      "text/plain": [
       "<Figure size 640x480 with 1 Axes>"
      ]
     },
     "metadata": {},
     "output_type": "display_data"
    }
   ],
   "source": [
    "\n",
    "# plt.scatter(evds,evds)\n"
   ]
  },
  {
   "cell_type": "code",
   "execution_count": null,
   "metadata": {},
   "outputs": [],
   "source": []
  }
 ],
 "metadata": {
  "kernelspec": {
   "display_name": "mcm_classifying",
   "language": "python",
   "name": "python3"
  },
  "language_info": {
   "codemirror_mode": {
    "name": "ipython",
    "version": 3
   },
   "file_extension": ".py",
   "mimetype": "text/x-python",
   "name": "python",
   "nbconvert_exporter": "python",
   "pygments_lexer": "ipython3",
   "version": "3.11.5"
  }
 },
 "nbformat": 4,
 "nbformat_minor": 2
}
