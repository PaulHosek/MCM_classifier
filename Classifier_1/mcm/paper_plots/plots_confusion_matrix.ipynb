{
 "cells": [
  {
   "cell_type": "code",
   "execution_count": 1,
   "metadata": {},
   "outputs": [],
   "source": [
    "import numpy as np\n",
    "import os\n",
    "import json\n",
    "import sys\n",
    "import matplotlib.pyplot as plt\n",
    "import skimage\n",
    "\n",
    "sys.path.append(\"../\")\n",
    "import src.plot as myplot\n",
    "import seaborn as sns\n",
    "\n",
    "import sklearn"
   ]
  },
  {
   "cell_type": "code",
   "execution_count": 2,
   "metadata": {},
   "outputs": [
    {
     "data": {
      "text/plain": [
       "<module 'src.plot' from '/Users/paulhosek/PycharmProjects/mcm/MCM_classifier/Classifier_1/mcm/paper_plots/../src/plot.py'>"
      ]
     },
     "execution_count": 2,
     "metadata": {},
     "output_type": "execute_result"
    }
   ],
   "source": [
    "import importlib\n",
    "import src.plot as myplot\n",
    "importlib.reload(myplot)"
   ]
  },
  {
   "cell_type": "code",
   "execution_count": 3,
   "metadata": {},
   "outputs": [
    {
     "data": {
      "text/plain": [
       "<module 'src.paper_utils' from '/Users/paulhosek/PycharmProjects/mcm/MCM_classifier/Classifier_1/mcm/paper_plots/../src/paper_utils.py'>"
      ]
     },
     "execution_count": 3,
     "metadata": {},
     "output_type": "execute_result"
    }
   ],
   "source": [
    "\n",
    "import importlib\n",
    "import src.paper_utils as utils\n",
    "importlib.reload(utils)"
   ]
  },
  {
   "cell_type": "code",
   "execution_count": 4,
   "metadata": {},
   "outputs": [],
   "source": [
    "sample_sizes = [5423]\n",
    "counts_samplesizes, mcms_samplesizes = utils.load_counts_mcm(sample_sizes, letter=\"\", path_format=\"../data/Output/mcm/sample_sizes\")\n",
    "atest_mcms, atest_probs = utils.get_complete_testprobs(mcms_samplesizes,counts_samplesizes,sample_sizes,n_runs=2,smooth=True)"
   ]
  },
  {
   "cell_type": "code",
   "execution_count": 5,
   "metadata": {},
   "outputs": [],
   "source": [
    "test_mcms = atest_mcms[:,0,0]\n",
    "test_probs = atest_probs[:,0,0]\n"
   ]
  },
  {
   "cell_type": "code",
   "execution_count": 6,
   "metadata": {},
   "outputs": [],
   "source": [
    "# test_probs[0,0,:,0]\n",
    "# full_mcm_idx = [np.where(test_probs[mcm_i,0,:,0] == -1,)[0][0]-1 for mcm_i in range(10)]\n",
    "# test_probs.shape"
   ]
  },
  {
   "cell_type": "code",
   "execution_count": 7,
   "metadata": {},
   "outputs": [],
   "source": [
    "per_image_prob = np.product(test_probs,axis=2,where=test_probs!=-1) # this correct be cause get_complete_testprobs gives the probability for each icc"
   ]
  },
  {
   "cell_type": "code",
   "execution_count": 8,
   "metadata": {},
   "outputs": [
    {
     "data": {
      "text/plain": [
       "[0.9730941704035875,\n",
       " 0.9775784753363229,\n",
       " 0.9495515695067265,\n",
       " 0.929372197309417,\n",
       " 0.9226457399103138,\n",
       " 0.9204035874439462,\n",
       " 0.945067264573991,\n",
       " 0.9047085201793722,\n",
       " 0.8878923766816144,\n",
       " 0.8957399103139013]"
      ]
     },
     "execution_count": 8,
     "metadata": {},
     "output_type": "execute_result"
    }
   ],
   "source": [
    "# digitwise accuracy\n",
    "max_decision_unit = np.argmax(per_image_prob,axis=0) # out of the 10 mcm seeing the same digit, which one was the most probable\n",
    "digit_accu = [1-np.count_nonzero(max_decision_unit[k,:] - k)/892 for k in range(10)]\n",
    "digit_accu\n",
    "# np.mean(digit_accu)"
   ]
  },
  {
   "cell_type": "code",
   "execution_count": 10,
   "metadata": {},
   "outputs": [],
   "source": [
    "# predicted_labels_per_image\n",
    "# unqs"
   ]
  },
  {
   "cell_type": "code",
   "execution_count": 19,
   "metadata": {},
   "outputs": [
    {
     "data": {
      "text/plain": [
       "array([[0.        , 0.        , 0.00305499, 0.00101833, 0.        ,\n",
       "        0.00509165, 0.00305499, 0.00203666, 0.00916497, 0.00101833],\n",
       "       [0.        , 0.        , 0.00610998, 0.00101833, 0.00101833,\n",
       "        0.        , 0.00305499, 0.00101833, 0.00814664, 0.        ],\n",
       "       [0.00407332, 0.00203666, 0.        , 0.0101833 , 0.00610998,\n",
       "        0.00101833, 0.00305499, 0.00814664, 0.0101833 , 0.00101833],\n",
       "       [0.00101833, 0.        , 0.01527495, 0.        , 0.00101833,\n",
       "        0.0305499 , 0.        , 0.00610998, 0.00916497, 0.00101833],\n",
       "       [0.        , 0.00101833, 0.00407332, 0.00101833, 0.        ,\n",
       "        0.00101833, 0.00814664, 0.00407332, 0.00916497, 0.04175153],\n",
       "       [0.00814664, 0.00203666, 0.        , 0.02647658, 0.        ,\n",
       "        0.        , 0.00814664, 0.        , 0.02240326, 0.00509165],\n",
       "       [0.01120163, 0.00407332, 0.00407332, 0.00203666, 0.00407332,\n",
       "        0.01221996, 0.        , 0.00101833, 0.01120163, 0.        ],\n",
       "       [0.00101833, 0.00712831, 0.01934827, 0.00203666, 0.00509165,\n",
       "        0.00305499, 0.        , 0.        , 0.0101833 , 0.03869654],\n",
       "       [0.00509165, 0.00407332, 0.01629328, 0.02851324, 0.00509165,\n",
       "        0.01527495, 0.00814664, 0.00712831, 0.        , 0.01221996],\n",
       "       [0.00610998, 0.00305499, 0.00610998, 0.01527495, 0.02240326,\n",
       "        0.00916497, 0.        , 0.01934827, 0.01323829, 0.        ]])"
      ]
     },
     "execution_count": 19,
     "metadata": {},
     "output_type": "execute_result"
    }
   ],
   "source": [
    "# for every set of testimages, compute \n",
    "\n",
    "# the most likely label the NB classifier gave to each image (10, 892)\n",
    "predicted_labels_per_image = np.argmax(per_image_prob,axis=0)\n",
    "\n",
    "# np.unique(arr, return_counts=True)\n",
    "v, c = np.unique(predicted_labels_per_image, return_counts=True,axis=1)\n",
    "# list of tuples: each tuple is each wrong label:count how often each label\n",
    "unqs = [np.unique(arr, return_counts=True) for arr in predicted_labels_per_image]\n",
    "\n",
    "idx_arr = np.zeros((10,10))\n",
    "for i in range(10):\n",
    "    idx_arr[i][unqs[i][0]] = unqs[i][1]\n",
    "\n",
    "idx_arr /= 982\n",
    "\n",
    "#\n",
    "np.fill_diagonal(idx_arr, 0)\n",
    "# np.fill_diagonal(idx_arr,idx_arr.max())\n",
    "idx_arr\n",
    "\n",
    "\n",
    "# unqs[i][0]"
   ]
  },
  {
   "cell_type": "code",
   "execution_count": 26,
   "metadata": {},
   "outputs": [
    {
     "data": {
      "image/png": "[encoded data removed]",
      "text/plain": [
       "<Figure size 480x480 with 2 Axes>"
      ]
     },
     "metadata": {},
     "output_type": "display_data"
    }
   ],
   "source": [
    "\n",
    "im = myplot.plot_confusion_matrix(1-idx_arr,10,logScale=False,cmap=myplot.cmap_to_gray(\"black\",reverse=False), title=\"\")#,title=\"Confusion matrix:\\n MCM(n=5423) on test set\")\n",
    "plt.colorbar(im,shrink=.8).set_label(\"Accuracy on test set\")\n",
    "plt.savefig(\"./img/confusion_testacc.png\",dpi=300, bbox_inches=\"tight\")"
   ]
  },
  {
   "cell_type": "code",
   "execution_count": null,
   "metadata": {},
   "outputs": [],
   "source": []
  },
  {
   "cell_type": "code",
   "execution_count": null,
   "metadata": {},
   "outputs": [],
   "source": []
  }
 ],
 "metadata": {
  "kernelspec": {
   "display_name": "mcm_classifying",
   "language": "python",
   "name": "python3"
  },
  "language_info": {
   "codemirror_mode": {
    "name": "ipython",
    "version": 3
   },
   "file_extension": ".py",
   "mimetype": "text/x-python",
   "name": "python",
   "nbconvert_exporter": "python",
   "pygments_lexer": "ipython3",
   "version": "3.11.5"
  }
 },
 "nbformat": 4,
 "nbformat_minor": 2
}
