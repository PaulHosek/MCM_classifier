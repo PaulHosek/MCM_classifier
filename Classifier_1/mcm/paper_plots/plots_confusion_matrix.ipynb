{
 "cells": [
  {
   "cell_type": "code",
   "execution_count": 3,
   "metadata": {},
   "outputs": [],
   "source": [
    "import numpy as np\n",
    "import os\n",
    "import json\n",
    "import sys\n",
    "import matplotlib.pyplot as plt\n",
    "import skimage\n",
    "\n",
    "sys.path.append(\"../\")\n",
    "import src.plot as myplot\n",
    "import seaborn as sns\n",
    "\n",
    "import sklearn"
   ]
  },
  {
   "cell_type": "code",
   "execution_count": 4,
   "metadata": {},
   "outputs": [
    {
     "data": {
      "text/plain": [
       "<module 'src.plot' from '/Users/paulhosek/PycharmProjects/mcm/MCM_classifier/Classifier_1/mcm/paper_plots/../src/plot.py'>"
      ]
     },
     "execution_count": 4,
     "metadata": {},
     "output_type": "execute_result"
    }
   ],
   "source": [
    "import importlib\n",
    "import src.plot as myplot\n",
    "importlib.reload(myplot)"
   ]
  },
  {
   "cell_type": "code",
   "execution_count": 5,
   "metadata": {},
   "outputs": [
    {
     "data": {
      "text/plain": [
       "<module 'src.paper_utils' from '/Users/paulhosek/PycharmProjects/mcm/MCM_classifier/Classifier_1/mcm/paper_plots/../src/paper_utils.py'>"
      ]
     },
     "execution_count": 5,
     "metadata": {},
     "output_type": "execute_result"
    }
   ],
   "source": [
    "\n",
    "import importlib\n",
    "import src.paper_utils as utils\n",
    "importlib.reload(utils)"
   ]
  },
  {
   "cell_type": "code",
   "execution_count": 6,
   "metadata": {},
   "outputs": [],
   "source": [
    "sample_sizes = [5423]\n",
    "counts_samplesizes, mcms_samplesizes = utils.load_counts_mcm(sample_sizes, letter=\"\", path_format=\"../data/Output/mcm/sample_sizes\")\n",
    "atest_mcms, atest_probs = utils.get_complete_testprobs(mcms_samplesizes,counts_samplesizes,sample_sizes,n_runs=2,smooth=True)"
   ]
  },
  {
   "cell_type": "code",
   "execution_count": 7,
   "metadata": {},
   "outputs": [],
   "source": [
    "# atest_mcms.shape, np.mean(atest_probs, axis=2)[:,0].shape, atest_probs[:,0,0].shape\n",
    "# test_probs = np.mean(atest_probs, axis=2)[:,0]\n"
   ]
  },
  {
   "cell_type": "code",
   "execution_count": 8,
   "metadata": {},
   "outputs": [
    {
     "data": {
      "text/plain": [
       "((10, 10, 121), (10, 10, 121, 892))"
      ]
     },
     "execution_count": 8,
     "metadata": {},
     "output_type": "execute_result"
    }
   ],
   "source": [
    "test_mcms = atest_mcms[:,0,0]\n",
    "test_probs = atest_probs[:,0,0]\n",
    "test_mcms.shape,test_probs.shape"
   ]
  },
  {
   "cell_type": "code",
   "execution_count": 9,
   "metadata": {},
   "outputs": [],
   "source": [
    "# test_probs[0,0,:,0]\n",
    "# full_mcm_idx = [np.where(test_probs[mcm_i,0,:,0] == -1,)[0][0]-1 for mcm_i in range(10)]\n",
    "# test_probs.shape"
   ]
  },
  {
   "cell_type": "code",
   "execution_count": null,
   "metadata": {},
   "outputs": [],
   "source": []
  },
  {
   "cell_type": "code",
   "execution_count": 10,
   "metadata": {},
   "outputs": [],
   "source": [
    "\n",
    "per_image_prob = np.product(test_probs,axis=2,where=test_probs!=-1) # this correct be cause get_complete_testprobs gives the probability for each icc"
   ]
  },
  {
   "cell_type": "code",
   "execution_count": 11,
   "metadata": {},
   "outputs": [
    {
     "data": {
      "text/plain": [
       "(array([[0.        , 0.97309417],\n",
       "        [1.        , 0.97757848],\n",
       "        [2.        , 0.94955157],\n",
       "        [3.        , 0.9293722 ],\n",
       "        [4.        , 0.92264574],\n",
       "        [5.        , 0.92040359],\n",
       "        [6.        , 0.94506726],\n",
       "        [7.        , 0.90470852],\n",
       "        [8.        , 0.88789238],\n",
       "        [9.        , 0.89573991]]),\n",
       " 0.9306053811659194)"
      ]
     },
     "execution_count": 11,
     "metadata": {},
     "output_type": "execute_result"
    }
   ],
   "source": [
    "# digitwise accuracy\n",
    "max_decision_unit = np.argmax(per_image_prob,axis=0) # out of the 10 mcm seeing the same digit, which one was the most probable\n",
    "digit_accu = [1-np.count_nonzero(max_decision_unit[k,:] - k)/892 for k in range(10)]\n",
    "np.vstack((np.arange(10), digit_accu)).T, np.mean(digit_accu)\n",
    "# np.mean(digit_accu)  \n",
    "# digit_accu"
   ]
  },
  {
   "cell_type": "code",
   "execution_count": 12,
   "metadata": {},
   "outputs": [
    {
     "data": {
      "text/plain": [
       "0.9306053811659194"
      ]
     },
     "execution_count": 12,
     "metadata": {},
     "output_type": "execute_result"
    }
   ],
   "source": [
    "# predicted_labels_per_image\n",
    "# unqs\n",
    "def mean_test_acc(test_probs):\n",
    "    per_image_prob = np.product(test_probs,axis=2,where=test_probs!=-1) # this correct be cause get_complete_testprobs gives the probability for each icc\n",
    "    max_decision_unit = np.argmax(per_image_prob,axis=0) # out of the 10 mcm seeing the same digit, which one was the most probable\n",
    "    digit_accu = [1-np.count_nonzero(max_decision_unit[k,:] - k)/892 for k in range(10)]\n",
    "    return np.mean(digit_accu)\n",
    "mean_test_acc(test_probs)"
   ]
  },
  {
   "cell_type": "code",
   "execution_count": 13,
   "metadata": {},
   "outputs": [
    {
     "data": {
      "text/plain": [
       "0.9714867617107943"
      ]
     },
     "execution_count": 13,
     "metadata": {},
     "output_type": "execute_result"
    }
   ],
   "source": [
    "# for every set of testimages, compute \n",
    "\n",
    "# the most likely label the NB classifier gave to each image (10, 892)\n",
    "predicted_labels_per_image = np.argmax(per_image_prob,axis=0)\n",
    "\n",
    "# np.unique(arr, return_counts=True)\n",
    "v, c = np.unique(predicted_labels_per_image, return_counts=True,axis=1)\n",
    "# list of tuples: each tuple is each wrong label:count how often each label\n",
    "unqs = [np.unique(arr, return_counts=True) for arr in predicted_labels_per_image]\n",
    "\n",
    "idx_arr = np.zeros((10,10))\n",
    "for i in range(10):\n",
    "    idx_arr[i][unqs[i][0]] = unqs[i][1]\n",
    "\n",
    "idx_arr /= 982\n",
    "\n",
    "#\n",
    "np.fill_diagonal(idx_arr, 0)\n",
    "# np.fill_diagonal(idx_arr,idx_arr.max())\n",
    "np.mean((1-idx_arr[3][5], 1-idx_arr[5][3]))\n",
    "# 1-idx_arr\n",
    "\n",
    "# unqs[i][0]"
   ]
  },
  {
   "cell_type": "code",
   "execution_count": 14,
   "metadata": {},
   "outputs": [
    {
     "data": {
      "image/png": "[encoded data removed]",
      "text/plain": [
       "<Figure size 480x480 with 2 Axes>"
      ]
     },
     "metadata": {},
     "output_type": "display_data"
    }
   ],
   "source": [
    "\n",
    "im = myplot.plot_confusion_matrix(1-idx_arr,10,logScale=False,cmap=myplot.cmap_to_gray(\"black\",reverse=False), title=\"\")#,title=\"Confusion matrix:\\n MCM(n=5423) on test set\")\n",
    "plt.colorbar(im,shrink=.8).set_label(\"Accuracy on test set\")\n",
    "plt.savefig(\"./img/confusion_testacc.png\",dpi=300, bbox_inches=\"tight\")"
   ]
  },
  {
   "cell_type": "markdown",
   "metadata": {},
   "source": [
    "### Mean test accuracy over N"
   ]
  },
  {
   "cell_type": "code",
   "execution_count": 15,
   "metadata": {},
   "outputs": [],
   "source": [
    "\n",
    "sample_sizes_all = list(np.arange(100,5400,100)) + [5423]"
   ]
  },
  {
   "cell_type": "code",
   "execution_count": 16,
   "metadata": {},
   "outputs": [
    {
     "name": "stdout",
     "output_type": "stream",
     "text": [
      "100\n",
      "100\n",
      "200\n",
      "200\n",
      "300\n",
      "300\n",
      "400\n",
      "400\n",
      "500\n",
      "500\n",
      "600\n",
      "600\n",
      "700\n",
      "700\n",
      "800\n",
      "800\n",
      "900\n",
      "900\n",
      "1000\n",
      "1000\n",
      "1100\n",
      "1100\n",
      "1200\n",
      "1200\n",
      "1300\n",
      "1300\n",
      "1400\n",
      "1400\n",
      "1500\n",
      "1500\n",
      "1600\n",
      "1600\n",
      "1700\n",
      "1700\n",
      "1800\n",
      "1800\n",
      "1900\n",
      "1900\n",
      "2000\n",
      "2000\n",
      "2100\n",
      "2100\n",
      "2200\n",
      "2200\n",
      "2300\n",
      "2300\n",
      "2400\n",
      "2400\n",
      "2500\n",
      "2500\n",
      "2600\n",
      "2600\n",
      "2700\n",
      "2700\n",
      "2800\n",
      "2800\n",
      "2900\n",
      "2900\n",
      "3000\n",
      "3000\n",
      "3100\n",
      "3100\n",
      "3200\n",
      "3200\n",
      "3300\n",
      "3300\n",
      "3400\n",
      "3400\n",
      "3500\n",
      "3500\n",
      "3600\n",
      "3600\n",
      "3700\n",
      "3700\n",
      "3800\n",
      "3800\n",
      "3900\n",
      "3900\n",
      "4000\n",
      "4000\n",
      "4100\n",
      "4100\n",
      "4200\n",
      "4200\n",
      "4300\n",
      "4300\n",
      "4400\n",
      "4400\n",
      "4500\n",
      "4500\n",
      "4600\n",
      "4600\n",
      "4700\n",
      "4700\n",
      "4800\n",
      "4800\n",
      "4900\n",
      "4900\n",
      "5000\n",
      "5000\n",
      "5100\n",
      "5100\n",
      "5200\n",
      "5200\n",
      "5300\n",
      "5300\n",
      "5423\n",
      "5423\n"
     ]
    }
   ],
   "source": [
    "# # call multiple times to not run out of memory\n",
    "\n",
    "# out = list()\n",
    "# for i, ss in enumerate(sample_sizes_all):\n",
    "#     print(ss)\n",
    "\n",
    "#     counts_samplesizes, mcms_samplesizes = utils.load_counts_mcm([ss], letter=\"\", path_format=\"../data/Output/mcm/sample_sizes\")\n",
    "#     atest_mcms, atest_probs = utils.get_complete_testprobs(mcms_samplesizes,counts_samplesizes,sample_sizes,n_runs=2,smooth=True)\n",
    "#     out.append(mean_test_acc(atest_probs[:,0,0]))\n",
    "#     print(ss)"
   ]
  },
  {
   "cell_type": "code",
   "execution_count": 17,
   "metadata": {},
   "outputs": [],
   "source": [
    "import os\n",
    "\n",
    "# Get the current directory\n",
    "current_dir = os.getcwd()\n",
    "\n",
    "# Create the file path\n",
    "file_path = os.path.join(current_dir, \"test_accuracies_over_sample_sizes.txt\")\n",
    "\n",
    "# Open the file in write mode\n",
    "with open(file_path, \"w\") as file:\n",
    "    # Write the list \"out\" to the file\n",
    "    for item in out:\n",
    "        file.write(str(item) + \"\\n\")"
   ]
  },
  {
   "cell_type": "code",
   "execution_count": 18,
   "metadata": {},
   "outputs": [
    {
     "name": "stdout",
     "output_type": "stream",
     "text": [
      "[0.66423767 0.64461883 0.73284753 0.73251121 0.73508969 0.71121076\n",
      " 0.69237668 0.74596413 0.72197309 0.78150224 0.78789238 0.84887892\n",
      " 0.78856502 0.78419283 0.87275785 0.87769058 0.87847534 0.84450673\n",
      " 0.8970852  0.89091928 0.91625561 0.88508969 0.89383408 0.90852018\n",
      " 0.88991031 0.90919283 0.89966368 0.91289238 0.91076233 0.91199552\n",
      " 0.91704036 0.91535874 0.91210762 0.91894619 0.92017937 0.91883408\n",
      " 0.91793722 0.92365471 0.92443946 0.92331839 0.92298206 0.92869955\n",
      " 0.92174888 0.92443946 0.92488789 0.92881166 0.92735426 0.92567265\n",
      " 0.92589686 0.92982063 0.92612108 0.93038117 0.9264574  0.93060538]\n"
     ]
    }
   ],
   "source": [
    "import numpy as np\n",
    "\n",
    "file_path = '/Users/paulhosek/PycharmProjects/mcm/MCM_classifier/Classifier_1/mcm/paper_plots/test_accuracies_over_sample_sizes.txt'\n",
    "data = np.loadtxt(file_path)\n",
    "\n",
    "print(data)"
   ]
  },
  {
   "cell_type": "code",
   "execution_count": 34,
   "metadata": {},
   "outputs": [
    {
     "data": {
      "image/png": "[encoded data removed]",
      "text/plain": [
       "<Figure size 640x480 with 1 Axes>"
      ]
     },
     "metadata": {},
     "output_type": "display_data"
    }
   ],
   "source": [
    "import matplotlib.pyplot as plt\n",
    "\n",
    "# Create the plot\n",
    "plt.plot(sample_sizes_all, data, marker='o')\n",
    "\n",
    "# Set the x-axis labels\n",
    "plt.xticks(sample_sizes_all, rotation=90)\n",
    "\n",
    "# Set the axis labels and title\n",
    "plt.xlabel('Training sample size')\n",
    "plt.ylabel('Test accuracy')\n",
    "plt.xticks([0]+sample_sizes_all[1::2] + [5423], rotation=90)\n",
    "\n",
    "# Show the plot\n",
    "plt.savefig(\"./img/test_accuracies_overN.png\", dpi=300, bbox_inches=\"tight\")"
   ]
  },
  {
   "cell_type": "code",
   "execution_count": null,
   "metadata": {},
   "outputs": [],
   "source": []
  }
 ],
 "metadata": {
  "kernelspec": {
   "display_name": "mcm_classifying",
   "language": "python",
   "name": "python3"
  },
  "language_info": {
   "codemirror_mode": {
    "name": "ipython",
    "version": 3
   },
   "file_extension": ".py",
   "mimetype": "text/x-python",
   "name": "python",
   "nbconvert_exporter": "python",
   "pygments_lexer": "ipython3",
   "version": "3.11.5"
  }
 },
 "nbformat": 4,
 "nbformat_minor": 2
}
