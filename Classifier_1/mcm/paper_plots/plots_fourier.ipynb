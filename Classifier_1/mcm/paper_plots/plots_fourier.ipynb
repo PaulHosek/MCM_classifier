{
 "cells": [
  {
   "cell_type": "markdown",
   "metadata": {},
   "source": [
    "- [ ] Fourier transform thing\n",
    "    - [ ] 1. Do Fourier transform of image, select the top k moments\n",
    "    - [ ] 2. See how many we need to classify properly"
   ]
  },
  {
   "cell_type": "code",
   "execution_count": 4,
   "metadata": {},
   "outputs": [],
   "source": [
    "import numpy as np\n",
    "import matplotlib.pyplot as plt"
   ]
  },
  {
   "cell_type": "code",
   "execution_count": 26,
   "metadata": {},
   "outputs": [],
   "source": [
    "def gen_testimage():\n",
    "    x = np.arange(-500, 501, 1)\n",
    "    X, Y = np.meshgrid(x, x)\n",
    "    wavelength = 100\n",
    "    angle = np.pi/9\n",
    "    grating = np.sin(\n",
    "        2*np.pi*(X*np.cos(angle) + Y*np.sin(angle)) / wavelength\n",
    "    )\n",
    "    return grating"
   ]
  },
  {
   "cell_type": "code",
   "execution_count": 52,
   "metadata": {},
   "outputs": [],
   "source": [
    "def fft2d(img):\n",
    "    \"\"\"\n",
    "    Perform a 2D Fast Fourier Transform (FFT) on the input image.\n",
    "\n",
    "    :param img: The input image to be transformed.\n",
    "    :type img: numpy.ndarray\n",
    "\n",
    "    :return: The transformed image.\n",
    "    :rtype: numpy.ndarray\n",
    "    \"\"\"\n",
    "    ft = np.fft.ifftshift(img)\n",
    "    ft = np.fft.fft2(ft)\n",
    "    return np.fft.fftshift(ft)\n",
    "\n",
    "\n",
    "def ifft2d(ft):\n",
    "    \"\"\"\n",
    "    Perform 2D real inverse fast Fourier transform (IFFT) on the input array.\n",
    "\n",
    "    Parameters:\n",
    "    ft (ndarray): The input array containing the Fourier transform.\n",
    "\n",
    "    Returns:\n",
    "    ndarray: The inverse Fourier transform of the input array.\n",
    "\n",
    "    \"\"\"\n",
    "    ift = np.fft.ifftshift(ft)\n",
    "    ift = np.fft.ifft2(ift)\n",
    "    ift = np.fft.fftshift(ift)\n",
    "    return ift.real "
   ]
  },
  {
   "cell_type": "code",
   "execution_count": 53,
   "metadata": {},
   "outputs": [
    {
     "data": {
      "image/png": "[encoded data removed]",
      "text/plain": [
       "<Figure size 640x480 with 3 Axes>"
      ]
     },
     "metadata": {},
     "output_type": "display_data"
    }
   ],
   "source": [
    "def plot_im_ft_ift(img):\n",
    "    ft = fft2d(img)\n",
    "    ift = ifft2d(ft)\n",
    "\n",
    "    plt.set_cmap(\"gray\")\n",
    "    plt.subplot(131)\n",
    "    plt.imshow(img)\n",
    "    plt.axis(\"off\")\n",
    "\n",
    "    plt.subplot(132)\n",
    "    plt.imshow(abs(ft))\n",
    "    plt.axis(\"off\")\n",
    "    plt.xlim([480, 520])\n",
    "    plt.ylim([520, 480])\n",
    "\n",
    "    plt.subplot(133)\n",
    "    plt.imshow(ift)\n",
    "    plt.axis(\"off\")\n",
    "    plt.show()\n",
    "\n",
    "plot_im_ft_ift(grating)"
   ]
  },
  {
   "cell_type": "code",
   "execution_count": 41,
   "metadata": {},
   "outputs": [],
   "source": [
    "testim = gen_testimage()\n",
    "ft = fft2d(testim)\n",
    "# ift = ifft2d(ft)"
   ]
  },
  {
   "cell_type": "code",
   "execution_count": null,
   "metadata": {},
   "outputs": [],
   "source": []
  }
 ],
 "metadata": {
  "kernelspec": {
   "display_name": "mcm_classifying",
   "language": "python",
   "name": "python3"
  },
  "language_info": {
   "codemirror_mode": {
    "name": "ipython",
    "version": 3
   },
   "file_extension": ".py",
   "mimetype": "text/x-python",
   "name": "python",
   "nbconvert_exporter": "python",
   "pygments_lexer": "ipython3",
   "version": "3.11.5"
  }
 },
 "nbformat": 4,
 "nbformat_minor": 2
}
