{
 "cells": [
  {
   "cell_type": "code",
   "execution_count": 1,
   "metadata": {},
   "outputs": [],
   "source": [
    "import sys\n",
    "sys.path.append(\"../\")\n",
    "\n",
    "import matplotlib.pyplot as plt\n",
    "import numpy as np\n",
    "from src.loaders import load_data, load_labels\n",
    "from src.classify import MCM_Classifier\n",
    "import os\n",
    "import src.plot as myplot\n",
    "import scipy.ndimage as ndi"
   ]
  },
  {
   "cell_type": "code",
   "execution_count": 2,
   "metadata": {},
   "outputs": [
    {
     "data": {
      "text/plain": [
       "<module 'src.plot' from '/Users/paulhosek/PycharmProjects/mcm/MCM_classifier/Classifier_1/mcm/paper_plots/../src/plot.py'>"
      ]
     },
     "execution_count": 2,
     "metadata": {},
     "output_type": "execute_result"
    }
   ],
   "source": [
    "import importlib\n",
    "import src.plot as myplot\n",
    "importlib.reload(myplot)"
   ]
  },
  {
   "cell_type": "code",
   "execution_count": 17,
   "metadata": {},
   "outputs": [
    {
     "data": {
      "text/plain": [
       "<module 'src.paper_utils' from '/Users/paulhosek/PycharmProjects/mcm/MCM_classifier/Classifier_1/mcm/paper_plots/../src/paper_utils.py'>"
      ]
     },
     "execution_count": 17,
     "metadata": {},
     "output_type": "execute_result"
    }
   ],
   "source": [
    "\n",
    "import importlib\n",
    "import src.paper_utils as utils\n",
    "importlib.reload(utils)"
   ]
  },
  {
   "cell_type": "code",
   "execution_count": 18,
   "metadata": {},
   "outputs": [],
   "source": [
    "path_format=\"../data/OUTPUT/mcm/sample_sizes_fromfull\"\n",
    "\n",
    "counts_samplesizes, mcms_samplesizes = utils.load_counts_mcm([6315], \"\",path_format)\n",
    "# size_run_evds = np.empty((len(sample_sizes), n_runs, 10))\n",
    "# for iss, n in enumerate(sample_sizes):\n",
    "#     for r in range(n_runs):\n",
    "#         # size_run_evds[iss,r,:] = get_evds_imagewise(mcms_samplesizes[iss][r],counts_samplesizes[iss][r], sample_sizes[iss],image_wise=image_wise)\n",
    "#         print(mcms_samplesizes.shape)\n",
    "\n"
   ]
  },
  {
   "cell_type": "code",
   "execution_count": 40,
   "metadata": {},
   "outputs": [],
   "source": [
    "\n",
    "def count_mcm_param(mcm):\n",
    "    \"\"\"take in binary string mcm and compute the number of parameters of that mcm. 2^r -1 for each ICC\"\"\"\n",
    "    return np.sum(2**np.genfromtxt(mcm,dtype=int,delimiter=1).sum(axis=1)-1)"
   ]
  },
  {
   "cell_type": "code",
   "execution_count": 42,
   "metadata": {},
   "outputs": [],
   "source": [
    "len(mcms_samplesizes[0][:50][0][3])\n",
    "nrun = 50\n",
    "digits = [0,1,3,5]\n",
    "mcms_runs = mcms_samplesizes[0][:nrun]\n",
    "parameter_digs = np.zeros((nrun,len(digits)))\n",
    "for runi, mcms_dig in enumerate(mcms_runs):\n",
    "    for j, dig in enumerate(digits):\n",
    "        parameter_digs[runi, j] = count_mcm_param(mcms_dig[dig])\n"
   ]
  },
  {
   "cell_type": "code",
   "execution_count": 53,
   "metadata": {},
   "outputs": [
    {
     "data": {
      "text/plain": [
       "array([[6480.7       , 3464.18      , 4940.6       , 5594.86      ],\n",
       "       [ 113.57861154,   96.1946181 ,   58.64933759,  113.15095761]])"
      ]
     },
     "execution_count": 53,
     "metadata": {},
     "output_type": "execute_result"
    }
   ],
   "source": [
    "np.array((np.mean(parameter_digs,axis=0),np.std(parameter_digs,axis=0)/np.sqrt(nrun)))"
   ]
  }
 ],
 "metadata": {
  "kernelspec": {
   "display_name": "mcm_classifying",
   "language": "python",
   "name": "python3"
  },
  "language_info": {
   "codemirror_mode": {
    "name": "ipython",
    "version": 3
   },
   "file_extension": ".py",
   "mimetype": "text/x-python",
   "name": "python",
   "nbconvert_exporter": "python",
   "pygments_lexer": "ipython3",
   "version": "3.11.5"
  }
 },
 "nbformat": 4,
 "nbformat_minor": 2
}
