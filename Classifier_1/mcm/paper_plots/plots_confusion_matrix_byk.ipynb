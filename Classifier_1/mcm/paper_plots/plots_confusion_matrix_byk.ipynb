{
 "cells": [
  {
   "cell_type": "code",
   "execution_count": 1,
   "metadata": {},
   "outputs": [],
   "source": [
    "import numpy as np\n",
    "import os\n",
    "import json\n",
    "import sys\n",
    "import matplotlib.pyplot as plt\n",
    "import skimage\n",
    "\n",
    "sys.path.append(\"../\")\n",
    "import src.plot as myplot\n",
    "import seaborn as sns\n",
    "\n",
    "import sklearn"
   ]
  },
  {
   "cell_type": "code",
   "execution_count": 2,
   "metadata": {},
   "outputs": [
    {
     "data": {
      "text/plain": [
       "<module 'src.plot' from '/Users/paulhosek/PycharmProjects/mcm/MCM_classifier/Classifier_1/mcm/paper_plots/../src/plot.py'>"
      ]
     },
     "execution_count": 2,
     "metadata": {},
     "output_type": "execute_result"
    }
   ],
   "source": [
    "import importlib\n",
    "import src.plot as myplot\n",
    "importlib.reload(myplot)"
   ]
  },
  {
   "cell_type": "code",
   "execution_count": 3,
   "metadata": {},
   "outputs": [
    {
     "data": {
      "text/plain": [
       "<module 'src.paper_utils' from '/Users/paulhosek/PycharmProjects/mcm/MCM_classifier/Classifier_1/mcm/paper_plots/../src/paper_utils.py'>"
      ]
     },
     "execution_count": 3,
     "metadata": {},
     "output_type": "execute_result"
    }
   ],
   "source": [
    "\n",
    "import importlib\n",
    "import src.paper_utils as utils\n",
    "importlib.reload(utils)"
   ]
  },
  {
   "cell_type": "code",
   "execution_count": 4,
   "metadata": {},
   "outputs": [],
   "source": [
    "sample_sizes = [5423]\n",
    "counts_samplesizes, mcms_samplesizes = utils.load_counts_mcm(sample_sizes, letter=\"\", path_format=\"../data/Output/mcm/sample_sizes\")\n",
    "atest_mcms, atest_probs = utils.get_complete_testprobs(mcms_samplesizes,counts_samplesizes,sample_sizes,n_runs=2,smooth=True)\n",
    "test_mcms = atest_mcms[:,0,0]\n",
    "test_probs = atest_probs[:,0,0]"
   ]
  },
  {
   "cell_type": "code",
   "execution_count": 86,
   "metadata": {},
   "outputs": [
    {
     "data": {
      "text/plain": [
       "(23, 892, 2)"
      ]
     },
     "execution_count": 86,
     "metadata": {},
     "output_type": "execute_result"
    }
   ],
   "source": [
    "sample_idx = 0\n",
    "run_idx = 0\n",
    "mcms_range = [3,5]\n",
    "test_digit = mcms_range[0]\n",
    "\n",
    "all_byk_pair, all_byk_modspin = utils.get_all_byk_pair(atest_probs, atest_mcms, mcms_range, sample_idx, run_idx)\n",
    "all_byk = utils.adjust_smaller_icc(all_byk_pair,all_byk_modspin)\n",
    "all_byk[1].shape"
   ]
  },
  {
   "cell_type": "code",
   "execution_count": 87,
   "metadata": {},
   "outputs": [],
   "source": [
    "\n",
    "def same_len_iters_short_long(all_byk_modspin):\n",
    "    nicc_mods = [len(i) for i in all_byk_modspin] # 33, 30\n",
    "    mods_long_short_i = np.argsort(nicc_mods)[::-1]\n",
    "\n",
    "    nicc_mods\n",
    "    long_iter = np.arange(nicc_mods[mods_long_short_i[0]])\n",
    "    short_iter = np.append(np.arange(nicc_mods[mods_long_short_i[1]]),[-1 for _ in range(np.abs(np.diff(nicc_mods))[0])])\n",
    "    return short_iter, long_iter, mods_long_short_i\n",
    "\n",
    "def predicted_labels_byk_dig(all_byk, all_byk_modspin, mcms_range, dig):\n",
    "    short_iter, long_iter, mods_long_short_i = same_len_iters_short_long(all_byk_modspin)\n",
    "    img_dig_i = mcms_range.index(dig)\n",
    "\n",
    "    out = np.zeros((len(long_iter), 2))\n",
    "    for i in range(len(long_iter)):\n",
    "\n",
    "        predicted_labels = np.where(all_byk[mods_long_short_i[0]][long_iter[i],:, img_dig_i] > \n",
    "                                all_byk[mods_long_short_i[1]][short_iter[i],:, img_dig_i],\n",
    "                                mcms_range[mods_long_short_i[0]], mcms_range[mods_long_short_i[1]])\n",
    "\n",
    "        v, c = np.unique(predicted_labels,return_counts=True)\n",
    "        out[i, mcms_range.index(v[0])] = c[0]\n",
    "        out[i, mcms_range.index(v[1])] = c[1]\n",
    "    return out\n"
   ]
  },
  {
   "cell_type": "code",
   "execution_count": 111,
   "metadata": {},
   "outputs": [
    {
     "data": {
      "text/plain": [
       "array([[891.,   1.],\n",
       "       [808.,  84.],\n",
       "       [787., 105.],\n",
       "       [833.,  59.],\n",
       "       [837.,  55.],\n",
       "       [848.,  44.],\n",
       "       [833.,  59.],\n",
       "       [821.,  71.],\n",
       "       [831.,  61.],\n",
       "       [818.,  74.],\n",
       "       [842.,  50.],\n",
       "       [845.,  47.],\n",
       "       [851.,  41.],\n",
       "       [821.,  71.],\n",
       "       [846.,  46.],\n",
       "       [871.,  21.],\n",
       "       [875.,  17.],\n",
       "       [874.,  18.],\n",
       "       [873.,  19.],\n",
       "       [871.,  21.],\n",
       "       [876.,  16.],\n",
       "       [871.,  21.],\n",
       "       [858.,  34.]])"
      ]
     },
     "execution_count": 111,
     "metadata": {},
     "output_type": "execute_result"
    }
   ],
   "source": [
    "\n",
    "\n",
    "\n",
    "\n",
    "\n",
    "dig = 3\n",
    "predicted_labels_byk_dig(all_byk,all_byk_modspin, mcms_range, dig)\n"
   ]
  },
  {
   "cell_type": "code",
   "execution_count": 75,
   "metadata": {},
   "outputs": [],
   "source": []
  },
  {
   "cell_type": "code",
   "execution_count": 55,
   "metadata": {},
   "outputs": [
    {
     "ename": "TypeError",
     "evalue": "only integer scalar arrays can be converted to a scalar index",
     "output_type": "error",
     "traceback": [
      "\u001b[0;31m---------------------------------------------------------------------------\u001b[0m",
      "\u001b[0;31mTypeError\u001b[0m                                 Traceback (most recent call last)",
      "Cell \u001b[0;32mIn[55], line 6\u001b[0m\n\u001b[1;32m      3\u001b[0m nspin_diff \u001b[38;5;241m=\u001b[39m all_byk_modspin[mods_long_short[\u001b[38;5;241m0\u001b[39m]][:np\u001b[38;5;241m.\u001b[39mmin(nicc_mods)]\n\u001b[1;32m      4\u001b[0m nspin_more \u001b[38;5;241m=\u001b[39m np\u001b[38;5;241m.\u001b[39mabs(np\u001b[38;5;241m.\u001b[39mdiff(nicc_mods))\n\u001b[0;32m----> 6\u001b[0m nicc_short \u001b[38;5;241m=\u001b[39m np\u001b[38;5;241m.\u001b[39mappend(mods_long_short[\u001b[38;5;241m1\u001b[39m], [\u001b[38;5;241m-\u001b[39m\u001b[38;5;241m1\u001b[39m \u001b[38;5;28;01mfor\u001b[39;00m _ \u001b[38;5;129;01min\u001b[39;00m \u001b[38;5;28;43mrange\u001b[39;49m\u001b[43m(\u001b[49m\u001b[43mnspin_more\u001b[49m\u001b[43m)\u001b[49m])\n\u001b[1;32m      7\u001b[0m \u001b[38;5;66;03m# nicc_long = all_byk_modspin[mods_long_short[0]]\u001b[39;00m\n\u001b[1;32m      8\u001b[0m \n\u001b[1;32m      9\u001b[0m \n\u001b[1;32m     10\u001b[0m \n\u001b[1;32m     11\u001b[0m \u001b[38;5;66;03m# nspin_diff = np.append(nspin_diff,(  all_byk_modspin[mods_long_short[0]][np.min(nicc_mods):] - all_byk_modspin[mods_long_short[1]][-1]))\u001b[39;00m\n\u001b[1;32m     13\u001b[0m nspin_more, nicc_short\u001b[38;5;241m.\u001b[39mshape, nicc_long\u001b[38;5;241m.\u001b[39mshape,nicc_short\n",
      "\u001b[0;31mTypeError\u001b[0m: only integer scalar arrays can be converted to a scalar index"
     ]
    }
   ],
   "source": [
    "# nicc_mods = [len(i) for i in all_byk_modspin] # 33, 30\n",
    "# mods_long_short = np.argsort(nicc_mods)[::-1]\n",
    "# nspin_diff = all_byk_modspin[mods_long_short[0]][:np.min(nicc_mods)]\n",
    "# nspin_more = np.abs(np.diff(nicc_mods))\n",
    "\n",
    "# nicc_short = np.append(mods_long_short[1], [-1 for _ in range(nspin_more)])\n",
    "# # nicc_long = all_byk_modspin[mods_long_short[0]]\n",
    "# # nspin_diff = np.append(nspin_diff,(  all_byk_modspin[mods_long_short[0]][np.min(nicc_mods):] - all_byk_modspin[mods_long_short[1]][-1]))\n",
    "\n",
    "# nspin_more, nicc_short.shape, nicc_long.shape,nicc_short"
   ]
  },
  {
   "cell_type": "code",
   "execution_count": 59,
   "metadata": {},
   "outputs": [
    {
     "data": {
      "text/plain": [
       "[19, 32]"
      ]
     },
     "execution_count": 59,
     "metadata": {},
     "output_type": "execute_result"
    }
   ],
   "source": [
    "\n"
   ]
  },
  {
   "cell_type": "code",
   "execution_count": null,
   "metadata": {},
   "outputs": [],
   "source": []
  },
  {
   "cell_type": "code",
   "execution_count": 6,
   "metadata": {},
   "outputs": [],
   "source": [
    "# test_probs[0,0,:,0]\n",
    "# full_mcm_idx = [np.where(test_probs[mcm_i,0,:,0] == -1,)[0][0]-1 for mcm_i in range(10)]\n",
    "# test_probs.shape"
   ]
  },
  {
   "cell_type": "code",
   "execution_count": 9,
   "metadata": {},
   "outputs": [],
   "source": [
    "per_image_prob = np.product(test_probs,axis=2,where=test_probs!=-1) # this correct be cause get_complete_testprobs gives the probability for each icc"
   ]
  },
  {
   "cell_type": "code",
   "execution_count": 10,
   "metadata": {},
   "outputs": [
    {
     "data": {
      "text/plain": [
       "[0.9730941704035875,\n",
       " 0.9775784753363229,\n",
       " 0.9495515695067265,\n",
       " 0.929372197309417,\n",
       " 0.9226457399103138,\n",
       " 0.9204035874439462,\n",
       " 0.945067264573991,\n",
       " 0.9047085201793722,\n",
       " 0.8878923766816144,\n",
       " 0.8957399103139013]"
      ]
     },
     "execution_count": 10,
     "metadata": {},
     "output_type": "execute_result"
    }
   ],
   "source": [
    "# digitwise accuracy\n",
    "max_decision_unit = np.argmax(per_image_prob,axis=0) # out of the 10 mcm seeing the same digit, which one was the most probable\n",
    "digit_accu = [1-np.count_nonzero(max_decision_unit[k,:] - k)/892 for k in range(10)]\n",
    "digit_accu\n",
    "# np.mean(digit_accu)"
   ]
  },
  {
   "cell_type": "code",
   "execution_count": 15,
   "metadata": {},
   "outputs": [
    {
     "data": {
      "text/plain": [
       "array([[0.        , 0.        , 0.00305499, 0.00101833, 0.        ,\n",
       "        0.00509165, 0.00305499, 0.00203666, 0.00916497, 0.00101833],\n",
       "       [0.        , 0.        , 0.00610998, 0.00101833, 0.00101833,\n",
       "        0.        , 0.00305499, 0.00101833, 0.00814664, 0.        ],\n",
       "       [0.00407332, 0.00203666, 0.        , 0.0101833 , 0.00610998,\n",
       "        0.00101833, 0.00305499, 0.00814664, 0.0101833 , 0.00101833],\n",
       "       [0.00101833, 0.        , 0.01527495, 0.        , 0.00101833,\n",
       "        0.0305499 , 0.        , 0.00610998, 0.00916497, 0.00101833],\n",
       "       [0.        , 0.00101833, 0.00407332, 0.00101833, 0.        ,\n",
       "        0.00101833, 0.00814664, 0.00407332, 0.00916497, 0.04175153],\n",
       "       [0.00814664, 0.00203666, 0.        , 0.02647658, 0.        ,\n",
       "        0.        , 0.00814664, 0.        , 0.02240326, 0.00509165],\n",
       "       [0.01120163, 0.00407332, 0.00407332, 0.00203666, 0.00407332,\n",
       "        0.01221996, 0.        , 0.00101833, 0.01120163, 0.        ],\n",
       "       [0.00101833, 0.00712831, 0.01934827, 0.00203666, 0.00509165,\n",
       "        0.00305499, 0.        , 0.        , 0.0101833 , 0.03869654],\n",
       "       [0.00509165, 0.00407332, 0.01629328, 0.02851324, 0.00509165,\n",
       "        0.01527495, 0.00814664, 0.00712831, 0.        , 0.01221996],\n",
       "       [0.00610998, 0.00305499, 0.00610998, 0.01527495, 0.02240326,\n",
       "        0.00916497, 0.        , 0.01934827, 0.01323829, 0.        ]])"
      ]
     },
     "execution_count": 15,
     "metadata": {},
     "output_type": "execute_result"
    }
   ],
   "source": [
    "# for every set of testimages, compute \n",
    "\n",
    "# the most likely label the NB classifier gave to each image (10, 892)\n",
    "predicted_labels_per_image = np.argmax(per_image_prob,axis=0)\n",
    "\n",
    "v, c = np.unique(predicted_labels_per_image, return_counts=True,axis=1)\n",
    "# list of tuples: each tuple is each wrong label:count how often each label\n",
    "unqs = [np.unique(arr, return_counts=True) for arr in predicted_labels_per_image]\n",
    "\n",
    "idx_arr = np.zeros((10,10))\n",
    "for i in range(10):\n",
    "    idx_arr[i][unqs[i][0]] = unqs[i][1]\n",
    "\n",
    "idx_arr /= 982\n",
    "\n",
    "\n",
    "np.fill_diagonal(idx_arr, 0)\n",
    "# np.fill_diagonal(idx_arr,idx_arr.max())\n",
    "idx_arr\n",
    "\n",
    "\n",
    "# unqs[i][0]"
   ]
  },
  {
   "cell_type": "code",
   "execution_count": 16,
   "metadata": {},
   "outputs": [
    {
     "data": {
      "image/png": "[encoded data removed]",
      "text/plain": [
       "<Figure size 480x480 with 2 Axes>"
      ]
     },
     "metadata": {},
     "output_type": "display_data"
    }
   ],
   "source": [
    "im = myplot.plot_confusion_matrix(idx_arr,10,logScale=False,cmap=myplot.cmap_to_gray(\"black\",reverse=True),title=\"Confusion matrix:\\n MCM(n=5423) on test set\")\n",
    "plt.colorbar(im,).set_label(\"Fraction of test images\")"
   ]
  },
  {
   "cell_type": "code",
   "execution_count": null,
   "metadata": {},
   "outputs": [],
   "source": []
  },
  {
   "cell_type": "code",
   "execution_count": null,
   "metadata": {},
   "outputs": [],
   "source": []
  }
 ],
 "metadata": {
  "kernelspec": {
   "display_name": "mcm_classifying",
   "language": "python",
   "name": "python3"
  },
  "language_info": {
   "codemirror_mode": {
    "name": "ipython",
    "version": 3
   },
   "file_extension": ".py",
   "mimetype": "text/x-python",
   "name": "python",
   "nbconvert_exporter": "python",
   "pygments_lexer": "ipython3",
   "version": "3.11.5"
  }
 },
 "nbformat": 4,
 "nbformat_minor": 2
}
