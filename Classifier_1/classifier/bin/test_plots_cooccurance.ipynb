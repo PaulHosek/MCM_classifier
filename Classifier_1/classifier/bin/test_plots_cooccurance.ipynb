import unittest
import numpy as np

class TestPlotsCooccurance(unittest.TestCase):
    def test_plots_cooccurance(self):
        mcm_nr = 3
        test_MCMs = ["test_MCMs_file_path"]  # Replace with the actual file path
        res = np.array([[0, 1, 0, 1, 0],
                        [1, 0, 1, 0, 1],
                        [0, 1, 0, 1, 0],
                        [1, 0, 1, 0, 1],
                        [0, 1, 0, 1, 0]])
        
        inp = np.argwhere(np.genfromtxt(test_MCMs[0], delimiter=1, dtype=int)[mcm_nr])
        pix_in_mcm = inp[0]
        
        expected_output = (np.array([1, 3]), np.array([[3]]))
        self.assertEqual((np.argwhere(res[pix_in_mcm] == 1)[:, 1], inp.T), expected_output)

if __name__ == '__main__':
    unittest.main()