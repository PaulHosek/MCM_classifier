{
 "cells": [
  {
   "cell_type": "code",
   "execution_count": 143,
   "metadata": {},
   "outputs": [],
   "source": [
    "import sys\n",
    "sys.path.append(\"../\")\n",
    "\n",
    "import matplotlib.pyplot as plt\n",
    "import numpy as np\n",
    "from src.loaders import load_data, load_labels\n",
    "from src.classify import MCM_Classifier\n",
    "from src.plot import  plot_results\n",
    "import os\n",
    "from src.plot import plot_confusion_matrix, plot_label_prob_diff\n",
    "import torch\n",
    "from collections import defaultdict"
   ]
  },
  {
   "cell_type": "code",
   "execution_count": null,
   "metadata": {},
   "outputs": [],
   "source": []
  },
  {
   "cell_type": "code",
   "execution_count": 4,
   "metadata": {},
   "outputs": [],
   "source": [
    "# Customizable environment variables\n",
    "n_categories = 10  # Number of categories to be classified\n",
    "n_variables = 121  # Number of variables in the dataset\n",
    "mcm_filename_format = \"train-images-unlabeled-{}_comms.dat\"\n",
    "data_filename_format = \"train-images-unlabeled-{}.dat\"\n",
    "data_path = \"../INPUT/data/\"\n",
    "communities_path = \"../INPUT/MCMs/\"\n",
    "output_path = \"../OUTPUT/\""
   ]
  },
  {
   "cell_type": "code",
   "execution_count": 133,
   "metadata": {},
   "outputs": [],
   "source": [
    "# inp = np.genfromtxt(os.path.join(data_path, data_filename_format.format(1)),dtype=int,delimiter=1)\n",
    "# res = np.where(inp ==1)\n",
    "# print(np.argwhere(inp[0]))\n",
    "\n",
    "# inp = np.flip(inp,axis=1)\n",
    "# indices = np.argwhere(inp==1)\n",
    "# indices  = np.split(indices[:,1], np.unique(indices[:, 0], return_index=True)[1][1:])\n",
    "# [l.sort() for l in indices]\n",
    "# print(indices)\n",
    "\n",
    "# test = [0]*121\n",
    "# for i in range(len(test)):\n",
    "#     if i in indices[0]:\n",
    "#         test[i] = 1\n",
    "\n",
    "# print(np.allclose(np.array(test),inp[0]))"
   ]
  },
  {
   "cell_type": "code",
   "execution_count": 104,
   "metadata": {},
   "outputs": [
    {
     "ename": "ValueError",
     "evalue": "Maximum allowed dimension exceeded",
     "output_type": "error",
     "traceback": [
      "\u001b[0;31m---------------------------------------------------------------------------\u001b[0m",
      "\u001b[0;31mValueError\u001b[0m                                Traceback (most recent call last)",
      "Cell \u001b[0;32mIn[104], line 2\u001b[0m\n\u001b[1;32m      1\u001b[0m size \u001b[38;5;241m=\u001b[39m \u001b[38;5;241m2\u001b[39m\u001b[38;5;241m*\u001b[39m\u001b[38;5;241m*\u001b[39m\u001b[38;5;241m121\u001b[39m\n\u001b[0;32m----> 2\u001b[0m res \u001b[38;5;241m=\u001b[39m \u001b[43mnp\u001b[49m\u001b[38;5;241;43m.\u001b[39;49m\u001b[43mzeros\u001b[49m\u001b[43m(\u001b[49m\u001b[43msize\u001b[49m\u001b[43m)\u001b[49m\n",
      "\u001b[0;31mValueError\u001b[0m: Maximum allowed dimension exceeded"
     ]
    }
   ],
   "source": [
    "size = 2**121\n",
    "res = np.zeros(size)"
   ]
  },
  {
   "cell_type": "code",
   "execution_count": 15,
   "metadata": {},
   "outputs": [],
   "source": [
    "import numba as nb"
   ]
  },
  {
   "cell_type": "code",
   "execution_count": 28,
   "metadata": {},
   "outputs": [],
   "source": [
    "\n",
    "def generate_ops(n_var):\n",
    "    \"\"\"Generate all single and pairwise operators.\"\"\"\n",
    "    return np.array([i for i in range(2**n_var) if i <0]) # TODO are single spin operators allowed?\n"
   ]
  },
  {
   "cell_type": "code",
   "execution_count": 32,
   "metadata": {},
   "outputs": [],
   "source": [
    "from itertools import combinations\n",
    "\n",
    "\n",
    "def generate_ops(num_bits, order_ops, return_binary=False):\n",
    "    positions = list(range(num_bits))\n",
    "    combinations_with_ones = list(combinations(positions, order_ops))\n",
    "    \n",
    "    result = []\n",
    "    for combo in combinations_with_ones:\n",
    "        binary_string = ['0'] * num_bits\n",
    "        for position in combo:\n",
    "            binary_string[position] = '1'\n",
    "        result.append(int(''.join(binary_string), 2))\n",
    "\n",
    "    return result\n"
   ]
  },
  {
   "cell_type": "code",
   "execution_count": 138,
   "metadata": {},
   "outputs": [
    {
     "name": "stdout",
     "output_type": "stream",
     "text": [
      "[1329227995784915872903807060280344576\n",
      " 664613997892457936451903530140172288 332306998946228968225951765070086144\n",
      " 166153499473114484112975882535043072 83076749736557242056487941267521536\n",
      " 41538374868278621028243970633760768 20769187434139310514121985316880384\n",
      " 10384593717069655257060992658440192 5192296858534827628530496329220096\n",
      " 2596148429267413814265248164610048 1298074214633706907132624082305024\n",
      " 649037107316853453566312041152512 324518553658426726783156020576256\n",
      " 162259276829213363391578010288128 81129638414606681695789005144064\n",
      " 40564819207303340847894502572032 20282409603651670423947251286016\n",
      " 10141204801825835211973625643008 5070602400912917605986812821504\n",
      " 2535301200456458802993406410752 1267650600228229401496703205376\n",
      " 633825300114114700748351602688 316912650057057350374175801344\n",
      " 158456325028528675187087900672 79228162514264337593543950336\n",
      " 39614081257132168796771975168 19807040628566084398385987584\n",
      " 9903520314283042199192993792 4951760157141521099596496896\n",
      " 2475880078570760549798248448 1237940039285380274899124224\n",
      " 618970019642690137449562112 309485009821345068724781056\n",
      " 154742504910672534362390528 77371252455336267181195264\n",
      " 38685626227668133590597632 19342813113834066795298816\n",
      " 9671406556917033397649408 4835703278458516698824704\n",
      " 2417851639229258349412352 1208925819614629174706176\n",
      " 604462909807314587353088 302231454903657293676544\n",
      " 151115727451828646838272 75557863725914323419136 37778931862957161709568\n",
      " 18889465931478580854784 9444732965739290427392 4722366482869645213696\n",
      " 2361183241434822606848 1180591620717411303424 590295810358705651712\n",
      " 295147905179352825856 147573952589676412928 73786976294838206464\n",
      " 36893488147419103232 18446744073709551616 9223372036854775808\n",
      " 4611686018427387904 2305843009213693952 1152921504606846976\n",
      " 576460752303423488 288230376151711744 144115188075855872\n",
      " 72057594037927936 36028797018963968 18014398509481984 9007199254740992\n",
      " 4503599627370496 2251799813685248 1125899906842624 562949953421312\n",
      " 281474976710656 140737488355328 70368744177664 35184372088832\n",
      " 17592186044416 8796093022208 4398046511104 2199023255552 1099511627776\n",
      " 549755813888 274877906944 137438953472 68719476736 34359738368\n",
      " 17179869184 8589934592 4294967296 2147483648 1073741824 536870912\n",
      " 268435456 134217728 67108864 33554432 16777216 8388608 4194304 2097152]\n"
     ]
    }
   ],
   "source": [
    "res = np.array(generate_ops(121,1) + generate_ops(121,2))\n",
    "\n",
    "print(res[:100])"
   ]
  },
  {
   "cell_type": "code",
   "execution_count": 136,
   "metadata": {},
   "outputs": [],
   "source": [
    "# index_representation = list(combinations(list(range(10)), 2)) + list(np.arange(10))\n",
    "# index_representation # cheapest way, each entry of the tuple is the index of where there are 1s in the binary string"
   ]
  },
  {
   "cell_type": "code",
   "execution_count": 146,
   "metadata": {},
   "outputs": [],
   "source": []
  },
  {
   "cell_type": "code",
   "execution_count": null,
   "metadata": {},
   "outputs": [],
   "source": []
  },
  {
   "cell_type": "code",
   "execution_count": 147,
   "metadata": {},
   "outputs": [
    {
     "data": {
      "text/plain": [
       "defaultdict(int, {1: 0.5, 4: 0.25, 2: 0.25})"
      ]
     },
     "execution_count": 147,
     "metadata": {},
     "output_type": "execute_result"
    }
   ],
   "source": [
    "# low n\n",
    "data = [\"011\",\"110\",\"101\",\"011\"]\n",
    "data2 = np.array([int(i[::-1], 2) ^ int('1'*len(i), 2) for i in data])\n",
    "data2\n",
    "calc_emp_distr(data2)"
   ]
  },
  {
   "cell_type": "code",
   "execution_count": 67,
   "metadata": {},
   "outputs": [
    {
     "data": {
      "text/plain": [
       "array([[1, 2, 4],\n",
       "       [2, 1, 1]])"
      ]
     },
     "execution_count": 67,
     "metadata": {},
     "output_type": "execute_result"
    }
   ],
   "source": [
    "pseudo_emp_distr = np.array(np.unique(data2, return_counts =True))\n",
    "pseudo_emp_distr # not normalized\n",
    "# since indices are just states that are unrelated, their values only matter in uniquely identifying a state. They indicate no distance."
   ]
  },
  {
   "cell_type": "markdown",
   "metadata": {},
   "source": [
    "What i will def need custom:\n",
    "- FWHT or equivalent\n",
    "- line search evaluation functions. This has to work with my strange datastructure. Could make it a 2 column array instead of tuples."
   ]
  },
  {
   "cell_type": "code",
   "execution_count": 64,
   "metadata": {},
   "outputs": [
    {
     "data": {
      "text/plain": [
       "array([0.  , 0.5 , 0.25, 0.  , 0.25, 0.  , 0.  , 0.  ])"
      ]
     },
     "execution_count": 64,
     "metadata": {},
     "output_type": "execute_result"
    }
   ],
   "source": [
    "# if n=3 have 2^3= 8 possible states\n",
    "# example data data = [\"011\",\"110\",\"101\",\"011\"]\n",
    "# data = array([1, 4, 2, 1]) -> after conversion\n",
    "# FIXME check if we skip over normalization by division by nr_samples ( len(data) )\n",
    "\n",
    "n_var = 3\n",
    "len_data = 2**n_var\n",
    "indices = [0,1,2,3,4,5,6,7]\n",
    "values =  [0,2,1,0,1,0,0,0]\n",
    "\n",
    "# data: array([1, 4, 2, 1]) \n",
    "\n",
    "\n",
    "\n",
    "calc_emp_distr(3,data2) # array([0.  , 0.5 , 0.25, 0.  , 0.25, 0.  , 0.  , 0.  ])\n",
    "\n"
   ]
  },
  {
   "cell_type": "code",
   "execution_count": 75,
   "metadata": {},
   "outputs": [
    {
     "data": {
      "text/plain": [
       "{1: 2, 2: 1, 4: 1}"
      ]
     },
     "execution_count": 75,
     "metadata": {},
     "output_type": "execute_result"
    }
   ],
   "source": [
    "res = np.unique(data2, return_counts =True) # same as pseudo_emp_distr\n",
    "pairs = list(zip(res[0],res[1]))\n",
    "map_emp_distr = {i[0]: i[1] for i in pairs} # for now, the keys are the integer represenation. Later these could also be tuples of the indices of the 1s in the bitstring.\n",
    "map_emp_distr"
   ]
  },
  {
   "cell_type": "code",
   "execution_count": 137,
   "metadata": {},
   "outputs": [
    {
     "name": "stdout",
     "output_type": "stream",
     "text": [
      "1\n"
     ]
    }
   ],
   "source": [
    "# data = np.loadtxt(os.path.join(data_path, data_filename_format.format(1)),dtype=\"str\")\n",
    "\n",
    "# data = np.array([int(i[::-1], 2) ^ int('1'*len(i), 2) for i in data])\n",
    "# data \n",
    "\n",
    "# import hashlib\n",
    "\n",
    "# class SparseArray:\n",
    "#     def __init__(self):\n",
    "#         self.data = {}\n",
    "\n",
    "#     def set(self, index, value):\n",
    "#         # Use a hash function to map the index to a smaller space\n",
    "#         hash_index = hashlib.sha256(str(index).encode()).hexdigest()\n",
    "#         self.data[hash_index] = value\n",
    "\n",
    "#     def get(self, index):\n",
    "#         hash_index = hashlib.sha256(str(index).encode()).hexdigest()\n",
    "#         return self.data.get(hash_index, 0)  # Return 0 if the index is not in the dictionary\n",
    "\n",
    "# # Usage:\n",
    "# sparse_array = SparseArray()\n",
    "# sparse_array.set(2**121 - 1, 1)  # Set the value at index 2**121 - 1 to 1\n",
    "# print(sparse_array.get(2**121 - 1))  # Get the value at index 2**121 - 1"
   ]
  },
  {
   "cell_type": "code",
   "execution_count": 148,
   "metadata": {},
   "outputs": [],
   "source": [
    "# index_representation = list(combinations(list(range(10)), 2)) + list(np.arange(10))\n",
    "# map_idx_repr = {i:0 for i in index_representation}\n",
    "# map_idx_repr"
   ]
  },
  {
   "cell_type": "code",
   "execution_count": null,
   "metadata": {},
   "outputs": [],
   "source": [
    "# convert bitstring to tuple representation\n",
    "inp = np.loadtxt()\n",
    "\n",
    "# get tuple : count using np.unique\n",
    "# set to __distr"
   ]
  },
  {
   "cell_type": "code",
   "execution_count": 82,
   "metadata": {},
   "outputs": [
    {
     "data": {
      "text/plain": [
       "0"
      ]
     },
     "execution_count": 82,
     "metadata": {},
     "output_type": "execute_result"
    }
   ],
   "source": [
    "from collections import defaultdict\n",
    "\n",
    "\n",
    "test = defaultdict(int)\n"
   ]
  },
  {
   "cell_type": "code",
   "execution_count": null,
   "metadata": {},
   "outputs": [],
   "source": []
  },
  {
   "cell_type": "code",
   "execution_count": 166,
   "metadata": {},
   "outputs": [
    {
     "data": {
      "text/plain": [
       "1"
      ]
     },
     "execution_count": 166,
     "metadata": {},
     "output_type": "execute_result"
    }
   ],
   "source": [
    "state = \"0001\"\n",
    "int(state, 2)"
   ]
  },
  {
   "cell_type": "code",
   "execution_count": 188,
   "metadata": {},
   "outputs": [],
   "source": [
    "from collections import defaultdict\n",
    "\n",
    "class Sparse_data_distr():\n",
    "    def __init__(self, data, counts_onlyFalse):\n",
    "        self.__distr = defaultdict(int) # default value is 0\n",
    "        self.calc_distr(data)\n",
    "        self.nr_variables = len(data[0])\n",
    "        self.nr_samples = len(data)\n",
    "        self.keys = self.__distr.keys()\n",
    "        self.counts_only = counts_only\n",
    "\n",
    "\n",
    "\n",
    "    def calc_distr(self,data):\n",
    "        single = 1/self.nr_samples if not self.counts_only else 1\n",
    "        for sample in data:\n",
    "            self.__distr[int(sample,2)] += single\n",
    "\n",
    "    def __getitem__(self, key):\n",
    "        return self.__distr[key] \n",
    "    \n",
    "class Sparse_model_distr():\n",
    "    def __init__(self, parameters):\n",
    "        self.__distr = defaultdict(int) # default value is 0\n",
    "        self.calc_distr(parameters)\n",
    "        self.nr_variables = len(data[0])\n",
    "        self.keys = self.__distr.keys()\n",
    "        \n",
    "\n",
    "    def calc_distr(self,data):\n",
    "        g = np.zeros(2**121)\n",
    "\n",
    "        # these 2 steps do not work with the current implementation\n",
    "        g[[\"list of all spin operators here\"]] = \"model parameters\"\n",
    "        energy = \"FWHT of \"(g)\n",
    "\n",
    "        model_distr = np.exp(energy)\n",
    "        self.model_distr = model_distr / np.sum(model_distr)\n",
    "        \n",
    "\n",
    "\n",
    "    def __getitem__(self, key):\n",
    "        return self.__distr[key] \n",
    "\n",
    "    # probably will need a method to tell the line search what the largest values are in the distribution\n",
    "\n",
    "\n"
   ]
  },
  {
   "cell_type": "code",
   "execution_count": 190,
   "metadata": {},
   "outputs": [
    {
     "name": "stdout",
     "output_type": "stream",
     "text": [
      "0\n"
     ]
    }
   ],
   "source": [
    "data = np.loadtxt(os.path.join(data_path, data_filename_format.format(1)),dtype=\"str\")\n",
    "empr = Sparse_data_distr(data)\n",
    "print(empr[55])"
   ]
  },
  {
   "cell_type": "code",
   "execution_count": null,
   "metadata": {},
   "outputs": [],
   "source": [
    "n_var = 10\n",
    "# how often can this state be found in data\n",
    "\n",
    "# should be hashmap with tuple key of state\n",
    "\n"
   ]
  }
 ],
 "metadata": {
  "kernelspec": {
   "display_name": "mcm_classifying",
   "language": "python",
   "name": "python3"
  },
  "language_info": {
   "codemirror_mode": {
    "name": "ipython",
    "version": 3
   },
   "file_extension": ".py",
   "mimetype": "text/x-python",
   "name": "python",
   "nbconvert_exporter": "python",
   "pygments_lexer": "ipython3",
   "version": "3.11.5"
  }
 },
 "nbformat": 4,
 "nbformat_minor": 2
}
