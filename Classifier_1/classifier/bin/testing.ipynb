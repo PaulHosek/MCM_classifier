{
 "cells": [
  {
   "cell_type": "code",
   "execution_count": 1,
   "metadata": {},
   "outputs": [],
   "source": [
    "import sys\n",
    "sys.path.append(\"../\")\n",
    "\n",
    "import matplotlib.pyplot as plt\n",
    "import numpy as np\n",
    "from src.loaders import load_data, load_labels\n",
    "from src.classify import MCM_Classifier\n",
    "from src.plot import  plot_results\n",
    "import os\n",
    "from src.plot import plot_confusion_matrix, plot_label_prob_diff"
   ]
  },
  {
   "cell_type": "code",
   "execution_count": null,
   "metadata": {},
   "outputs": [],
   "source": []
  },
  {
   "cell_type": "code",
   "execution_count": 2,
   "metadata": {},
   "outputs": [],
   "source": [
    "# Customizable environment variables\n",
    "n_categories = 10  # Number of categories to be classified\n",
    "n_variables = 121  # Number of variables in the dataset\n",
    "mcm_filename_format = \"train-images-unlabeled-{}_comms.dat\"\n",
    "data_filename_format = \"train-images-unlabeled-{}.dat\"\n",
    "data_path = \"../INPUT/data/\"\n",
    "communities_path = \"../INPUT/MCMs/\"\n",
    "output_path = \"../OUTPUT/\""
   ]
  },
  {
   "cell_type": "code",
   "execution_count": null,
   "metadata": {},
   "outputs": [],
   "source": [
    "def arr_to_int(binary_arr):\n",
    "    return binary_arr.dot(1 << np.arange(binary_arr.shape[-1] - 1, -1, -1))\n",
    "\n",
    "def str"
   ]
  },
  {
   "cell_type": "markdown",
   "metadata": {},
   "source": [
    "new method to extract how informative a community is at differentiating between two classes"
   ]
  },
  {
   "cell_type": "code",
   "execution_count": 19,
   "metadata": {},
   "outputs": [],
   "source": [
    "comms3 = np.loadtxt(os.path.join(communities_path, \"train-images-unlabeled-3_comms.dat\"),dtype=str)\n",
    "comms5 = np.loadtxt(os.path.join(communities_path, \"train-images-unlabeled-5_comms.dat\"),dtype=str)"
   ]
  },
  {
   "cell_type": "code",
   "execution_count": 26,
   "metadata": {},
   "outputs": [],
   "source": [
    "5"
   ]
  },
  {
   "cell_type": "code",
   "execution_count": 25,
   "metadata": {},
   "outputs": [
    {
     "data": {
      "text/plain": [
       "121"
      ]
     },
     "execution_count": 25,
     "metadata": {},
     "output_type": "execute_result"
    }
   ],
   "source": [
    "# what is the probability of icc1_c3 for some random image\n",
    "icc1_c3 = comms3[0]\n",
    "\n",
    "def __construct_P(estimator=\"add_smooth\",alp=1) -> tuple:\n",
    "    \"\"\"\n",
    "    Construct probability distributions for each category.\n",
    "    This function should only be run once during initalization of the classifier.\n",
    "\n",
    "    Code provided by https://github.com/ebokai\n",
    "\n",
    "    Args:\n",
    "        P (list): List of the probability distributions for each category\n",
    "        MCM (list): List of the MCMs for each category\n",
    "        n_categories (int): Number of categories in the dataset\n",
    "        n_variables (int): Number of variables in the dataset\n",
    "    \"\"\"\n",
    "    MCM = []\n",
    "    P = []\n",
    "\n",
    "    print_box(\"Constructing probability distributions...\")\n",
    "\n",
    "    # if not self.__validate_input_comms():\n",
    "        # raise ValueError(\"Input data folder file count does not match number of categories. Did you run the fit method?.\")\n",
    "\n",
    "    # Construct probability distributions for each category\n",
    "    for k in range(self.n_categories):\n",
    "        # Add MCM to list\n",
    "        try:\n",
    "            # mcm = load_mcm(f\"../INPUT/MCMs/{self.__mcm_filename_format.format(k)}\")\n",
    "            mcm = load_mcm(os.path.join(self.comms_path, self.__mcm_filename_format.format(k)))\n",
    "            MCM.append(mcm)\n",
    "        except:\n",
    "            # Throw error if MCM file not found\n",
    "            raise FileNotFoundError(f\"Could not find MCM file for category {k}\")\n",
    "\n",
    "        # Load data\n",
    "        try:\n",
    "            # data = load_data(f\"../INPUT/data/{self.__data_filename_format.format(k)}\")\n",
    "            data = load_data(os.path.join(self.data_path, self.__data_filename_format.format(k)))\n",
    "        except:\n",
    "            # Throw error if data file not found\n",
    "            raise FileNotFoundError(f\"Could not find data file for category {k}\")\n",
    "        pk = []\n",
    "\n",
    "        for icc in mcm:\n",
    "            # TODO maybe we later would like a single call to our estimator function\n",
    "            #  here if we are also using some KL-divergence-based approach that works very differently\n",
    "            idx = [i for i in range(self.n_variables) if icc[i] == \"1\"]\n",
    "            rank = len(idx)\n",
    "\n",
    "            # p_icc = np.zeros(2**rank)\n",
    "            # p_icc = np.full(2**rank,fill_value=np.nan) # initialized with 0, lets try nan\n",
    "            # p_icc = np.full(2**rank,fill_value=1/(2**rank+2)) # laplacian smoothing for 0 observations: (0+1)/(N+2*1)\n",
    "            p_icc = self.estimator_init(rank,method=estimator,alpha=alp) # TODO this takes a lot of space, maybe we could find a sparse replacement\n",
    "\n",
    "            icc_data = data[:, idx]\n",
    "            icc_strings = [\n",
    "                int(\"\".join([str(s) for s in state]), 2) for state in icc_data\n",
    "            ]\n",
    "\n",
    "            u, c = np.unique(icc_strings, return_counts=True)\n",
    "            p_icc[u] = self.estimator_prob(c,method=estimator,alpha=alp)\n",
    "            # p_icc[u] = c / np.sum(c)\n",
    "\n",
    "            pk.append(p_icc)\n",
    "\n",
    "        P.append(pk)\n",
    "\n",
    "    self.__P = P\n",
    "    self.__MCM = MCM\n",
    "\n",
    "    return self.__P, self.__MCM\n"
   ]
  },
  {
   "cell_type": "code",
   "execution_count": null,
   "metadata": {},
   "outputs": [],
   "source": [
    "\n",
    "# what is the average probability distribution for icc1_c3. That is i give it all 3s and it gives me a pdf.\n",
    "# what is the same over all 5s?\n",
    "\n",
    "# what is the KL diveregence between both? is this a measure of how informative this icc is?\n",
    "# what could be a measure of how destinct an ICC is for a class?"
   ]
  }
 ],
 "metadata": {
  "kernelspec": {
   "display_name": "mcm_classifying",
   "language": "python",
   "name": "python3"
  },
  "language_info": {
   "codemirror_mode": {
    "name": "ipython",
    "version": 3
   },
   "file_extension": ".py",
   "mimetype": "text/x-python",
   "name": "python",
   "nbconvert_exporter": "python",
   "pygments_lexer": "ipython3",
   "version": "3.11.5"
  }
 },
 "nbformat": 4,
 "nbformat_minor": 2
}
