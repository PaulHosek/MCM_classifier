{
 "cells": [
  {
   "cell_type": "code",
   "execution_count": 1,
   "metadata": {},
   "outputs": [],
   "source": [
    "import sys\n",
    "sys.path.append(\"../\")\n",
    "\n",
    "import matplotlib.pyplot as plt\n",
    "import numpy as np\n",
    "from src.loaders import load_data, load_labels\n",
    "from src.classify import MCM_Classifier\n",
    "from src.plot import  plot_results\n",
    "import os\n",
    "from src.plot import plot_confusion_matrix, plot_label_prob_diff\n"
   ]
  },
  {
   "cell_type": "code",
   "execution_count": 2,
   "metadata": {},
   "outputs": [],
   "source": [
    "# Customizable environment variables\n",
    "n_categories = 10  # Number of categories to be classified\n",
    "n_variables = 121  # Number of variables in the dataset\n",
    "mcm_filename_format = \"train-images-unlabeled-{}_comms.dat\"\n",
    "data_filename_format = \"train-images-unlabeled-{}.dat\"\n",
    "data_path = \"../INPUT/data/\"\n",
    "communities_path = \"../INPUT/MCMs/\"\n",
    "output_path = \"../OUTPUT/\""
   ]
  },
  {
   "cell_type": "code",
   "execution_count": 3,
   "metadata": {},
   "outputs": [
    {
     "name": "stdout",
     "output_type": "stream",
     "text": [
      "----------------  MCM-Classifier  ----------------\n",
      "Generating bootstrap samples...\n",
      "Done!\n",
      "train-images-unlabeled-0_bootstrap filename\n",
      "Generating bootstrap samples...\n",
      "Done!\n",
      "train-images-unlabeled-1_bootstrap filename\n",
      "Generating bootstrap samples...\n",
      "Done!\n",
      "train-images-unlabeled-2_bootstrap filename\n",
      "Generating bootstrap samples...\n",
      "Done!\n",
      "train-images-unlabeled-3_bootstrap filename\n",
      "Generating bootstrap samples...\n",
      "Done!\n",
      "train-images-unlabeled-4_bootstrap filename\n",
      "Generating bootstrap samples...\n",
      "Done!\n",
      "train-images-unlabeled-5_bootstrap filename\n",
      "Generating bootstrap samples...\n",
      "Done!\n",
      "train-images-unlabeled-6_bootstrap filename\n",
      "Generating bootstrap samples...\n",
      "Done!\n",
      "train-images-unlabeled-7_bootstrap filename\n",
      "Generating bootstrap samples...\n",
      "Done!\n",
      "train-images-unlabeled-8_bootstrap filename\n",
      "Generating bootstrap samples...\n",
      "Done!\n",
      "train-images-unlabeled-9_bootstrap filename\n",
      "--------------------------------------------------\n",
      "--  Running MinCompSpin_SimulatedAnnealing...  ---\n",
      "--------------------------------------------------\n",
      "\n",
      "✓ SAA for train-images-unlabeled-0_bootstrap finished successfully\n",
      "✓ SAA for train-images-unlabeled-1_bootstrap finished successfully\n",
      "✓ SAA for train-images-unlabeled-2_bootstrap finished successfully\n",
      "✓ SAA for train-images-unlabeled-3_bootstrap finished successfully\n",
      "✓ SAA for train-images-unlabeled-4_bootstrap finished successfully\n",
      "✓ SAA for train-images-unlabeled-5_bootstrap finished successfully\n",
      "✓ SAA for train-images-unlabeled-6_bootstrap finished successfully\n",
      "✓ SAA for train-images-unlabeled-7_bootstrap finished successfully\n",
      "✓ SAA for train-images-unlabeled-8_bootstrap finished successfully\n",
      "✓ SAA for train-images-unlabeled-9_bootstrap finished successfully\n",
      "✓ Done!\n",
      "--------------------------------------------------\n",
      "--  Constructing probability distributions...  ---\n",
      "--------------------------------------------------\n",
      "\n",
      "--------------------------------------------------\n",
      "-----------  Evaluating classifier...  -----------\n",
      "--------------------------------------------------\n",
      "\n",
      "--------------------------------------------------\n",
      "----  1. Calculating state probabilities...  -----\n",
      "--------------------------------------------------\n",
      "\n",
      "Number of datapoints for which the classifier didn't have any probability for any category: 0\n",
      "--------------------------------------------------\n",
      "----------  2. Calculating accuracy...  ----------\n",
      "--------------------------------------------------\n",
      "\n",
      "--------------------------------------------------\n",
      "--------------  3. Saving stats...  --------------\n",
      "--------------------------------------------------\n",
      "\n",
      "✅ Done!\n"
     ]
    }
   ],
   "source": [
    "print(\"{:-^50}\".format(\"  MCM-Classifier  \")) \n",
    "\n",
    "test_data = load_data(\"../INPUT/data/test-images-unlabeled-all-uniform.txt\").astype(int)\n",
    "test_labels = load_labels(\"../INPUT/data/test-labels-uniform.txt\").astype(int)\n",
    "\n",
    "# Step 1: Initialize classifier\n",
    "classifier = MCM_Classifier(n_categories, n_variables, mcm_filename_format, data_filename_format, data_path, communities_path)\n",
    "\n",
    "# Step 2: Train\n",
    "classifier.fit(greedy=True, max_iter=1000000, max_no_improvement=100000)\n",
    "\n",
    "\n",
    "# Step 3: Evaluate\n",
    "predicted_classes, probs = classifier.predict(test_data, test_labels)\n",
    "\n",
    "# Step 4: Save classification report and other stats\n",
    "# report = classifier.get_classification_report(test_labels)\n",
    "classifier.save_classification_report(test_labels,path=output_path)\n",
    "\n",
    "if (classifier.stats == None):\n",
    "    raise Exception(\"Classifier stats not found. Did you forget to call predict()?\")\n"
   ]
  },
  {
   "cell_type": "code",
   "execution_count": 46,
   "metadata": {},
   "outputs": [
    {
     "data": {
      "text/plain": [
       "array([0.01419355, 0.01493088, 0.00194553, 0.00194553, 0.00073733,\n",
       "       0.0156682 , 0.00073733, 0.000553  , 0.00129032, 0.00194553,\n",
       "       0.00194553, 0.00194553, 0.00194553, 0.00036866, 0.00194553,\n",
       "       0.00194553, 0.00036866, 0.00036866, 0.00194553, 0.00194553,\n",
       "       0.00194553, 0.00036866, 0.00194553, 0.00194553, 0.00194553,\n",
       "       0.00194553, 0.00194553, 0.00194553, 0.00194553, 0.00194553,\n",
       "       0.00194553, 0.00194553, 0.00534562, 0.00479263, 0.00194553,\n",
       "       0.00194553, 0.00663594, 0.09898618, 0.000553  , 0.00110599,\n",
       "       0.00294931, 0.00194553, 0.00147465, 0.00194553, 0.01069124,\n",
       "       0.0121659 , 0.01013825, 0.00460829, 0.00194553, 0.00194553,\n",
       "       0.00194553, 0.00194553, 0.00194553, 0.00194553, 0.00194553,\n",
       "       0.00194553, 0.00194553, 0.00194553, 0.00194553, 0.00194553,\n",
       "       0.00194553, 0.00194553, 0.00194553, 0.00194553, 0.00036866,\n",
       "       0.000553  , 0.00194553, 0.00194553, 0.00036866, 0.00147465,\n",
       "       0.00194553, 0.00194553, 0.00626728, 0.00092166, 0.00110599,\n",
       "       0.00194553, 0.00036866, 0.00184332, 0.00036866, 0.00194553,\n",
       "       0.00036866, 0.00194553, 0.00194553, 0.00194553, 0.00194553,\n",
       "       0.00194553, 0.00194553, 0.00194553, 0.00194553, 0.00194553,\n",
       "       0.000553  , 0.00194553, 0.00194553, 0.00194553, 0.00194553,\n",
       "       0.00194553, 0.00036866, 0.000553  , 0.00194553, 0.00194553,\n",
       "       0.00036866, 0.00129032, 0.00194553, 0.00194553, 0.00165899,\n",
       "       0.00194553, 0.0040553 , 0.00194553, 0.00129032, 0.00239631,\n",
       "       0.00479263, 0.00184332, 0.00194553, 0.00194553, 0.00194553,\n",
       "       0.00194553, 0.00194553, 0.00194553, 0.00194553, 0.00194553,\n",
       "       0.00194553, 0.00194553, 0.00147465, 0.00194553, 0.00194553,\n",
       "       0.00194553, 0.00092166, 0.00036866, 0.00036866, 0.00194553,\n",
       "       0.00194553, 0.00194553, 0.00194553, 0.00036866, 0.00194553,\n",
       "       0.00194553, 0.00184332, 0.00194553, 0.00194553, 0.00194553,\n",
       "       0.00194553, 0.00194553, 0.00194553, 0.00194553, 0.00092166,\n",
       "       0.00194553, 0.01788018, 0.00036866, 0.00194553, 0.00194553,\n",
       "       0.00194553, 0.00194553, 0.00110599, 0.000553  , 0.00331797,\n",
       "       0.00194553, 0.00194553, 0.00194553, 0.00036866, 0.00194553,\n",
       "       0.00036866, 0.00194553, 0.00194553, 0.00194553, 0.00036866,\n",
       "       0.00092166, 0.00036866, 0.00194553, 0.00194553, 0.00194553,\n",
       "       0.00194553, 0.00194553, 0.00194553, 0.000553  , 0.00036866,\n",
       "       0.00036866, 0.00194553, 0.00194553, 0.00194553, 0.00194553,\n",
       "       0.00194553, 0.00194553, 0.00194553, 0.00194553, 0.00194553,\n",
       "       0.00194553, 0.00194553, 0.00194553, 0.00194553, 0.00194553,\n",
       "       0.00194553, 0.00036866, 0.00194553, 0.00036866, 0.00036866,\n",
       "       0.00194553, 0.00194553, 0.000553  , 0.00194553, 0.00194553,\n",
       "       0.00847926, 0.00258065, 0.00092166, 0.00194553, 0.00194553,\n",
       "       0.00460829, 0.00194553, 0.00194553, 0.00194553, 0.00194553,\n",
       "       0.00110599, 0.00194553, 0.00194553, 0.00194553, 0.00194553,\n",
       "       0.00194553, 0.00129032, 0.00073733, 0.00903226, 0.00073733,\n",
       "       0.00194553, 0.000553  , 0.00194553, 0.000553  , 0.00194553,\n",
       "       0.00036866, 0.00194553, 0.00194553, 0.00110599, 0.00129032,\n",
       "       0.00194553, 0.00194553, 0.00194553, 0.00194553, 0.00194553,\n",
       "       0.00194553, 0.00036866, 0.00073733, 0.00194553, 0.00194553,\n",
       "       0.00194553, 0.00194553, 0.00194553, 0.00194553, 0.00194553,\n",
       "       0.00194553, 0.00194553, 0.00194553, 0.00194553, 0.00194553,\n",
       "       0.00194553, 0.00194553, 0.00194553, 0.00194553, 0.00036866,\n",
       "       0.00036866, 0.0035023 , 0.00276498, 0.00194553, 0.00194553,\n",
       "       0.000553  , 0.00331797, 0.00194553, 0.00194553, 0.00092166,\n",
       "       0.00194553, 0.000553  , 0.00194553, 0.00194553, 0.00036866,\n",
       "       0.00194553, 0.00194553, 0.00194553, 0.00194553, 0.00036866,\n",
       "       0.00194553, 0.00194553, 0.00194553, 0.00194553, 0.00194553,\n",
       "       0.00194553, 0.00194553, 0.00194553, 0.00194553, 0.00194553,\n",
       "       0.00194553, 0.00194553, 0.00194553, 0.01364055, 0.00682028,\n",
       "       0.00194553, 0.00194553, 0.00884793, 0.12276498, 0.00073733,\n",
       "       0.00165899, 0.00110599, 0.00194553, 0.000553  , 0.00194553,\n",
       "       0.00258065, 0.01179724, 0.00258065, 0.00460829, 0.00194553,\n",
       "       0.00194553, 0.00194553, 0.00194553, 0.00194553, 0.00036866,\n",
       "       0.00194553, 0.00194553, 0.00194553, 0.00194553, 0.00194553,\n",
       "       0.00194553, 0.00194553, 0.00194553, 0.00194553, 0.00036866,\n",
       "       0.00092166, 0.000553  , 0.000553  , 0.00194553, 0.000553  ,\n",
       "       0.00682028, 0.00194553, 0.00194553, 0.04976959, 0.00368664,\n",
       "       0.02986175, 0.00194553, 0.00589862, 0.01290323, 0.00194553,\n",
       "       0.00194553, 0.00194553, 0.00194553, 0.00147465, 0.00194553,\n",
       "       0.00194553, 0.00194553, 0.00194553, 0.00194553, 0.00036866,\n",
       "       0.00194553, 0.01917051, 0.00194553, 0.00194553, 0.00194553,\n",
       "       0.00194553, 0.00194553, 0.000553  , 0.00073733, 0.00194553,\n",
       "       0.00194553, 0.0035023 , 0.07023041, 0.00194553, 0.00073733,\n",
       "       0.00589862, 0.000553  , 0.01235023, 0.00036866, 0.02175115,\n",
       "       0.08516129, 0.01695853, 0.0197235 , 0.00194553, 0.00194553,\n",
       "       0.00194553, 0.00194553, 0.00194553, 0.00194553, 0.00194553,\n",
       "       0.00194553, 0.00194553, 0.00194553, 0.00829493, 0.00194553,\n",
       "       0.00194553, 0.00073733, 0.00866359, 0.00239631, 0.00194553,\n",
       "       0.00194553, 0.00194553, 0.00194553, 0.00194553, 0.00036866,\n",
       "       0.00194553, 0.00194553, 0.00194553, 0.00194553, 0.00194553,\n",
       "       0.00194553, 0.00194553, 0.00194553, 0.00194553, 0.00194553,\n",
       "       0.00194553, 0.00194553, 0.00276498, 0.00194553, 0.00194553,\n",
       "       0.00194553, 0.00194553, 0.00194553, 0.00194553, 0.00036866,\n",
       "       0.000553  , 0.00194553, 0.00194553, 0.00194553, 0.00194553,\n",
       "       0.00194553, 0.00036866, 0.000553  , 0.00194553, 0.00194553,\n",
       "       0.00092166, 0.0035023 , 0.00194553, 0.000553  , 0.00194553,\n",
       "       0.00194553, 0.00194553, 0.00194553, 0.000553  , 0.00092166,\n",
       "       0.00036866, 0.00194553, 0.00194553, 0.00194553, 0.00194553,\n",
       "       0.00194553, 0.00194553, 0.00194553, 0.00194553, 0.00194553,\n",
       "       0.00194553, 0.00194553, 0.00194553, 0.00194553, 0.00194553,\n",
       "       0.00036866, 0.00194553, 0.00194553, 0.00194553, 0.00036866,\n",
       "       0.00194553, 0.00194553, 0.00194553, 0.00036866, 0.00194553,\n",
       "       0.00194553, 0.00534562, 0.00165899, 0.00221198, 0.00194553,\n",
       "       0.00036866, 0.00479263, 0.000553  , 0.00194553, 0.00194553,\n",
       "       0.00194553, 0.00552995, 0.00194553, 0.00194553, 0.00194553,\n",
       "       0.00194553, 0.00194553, 0.00184332, 0.00194553, 0.04147465,\n",
       "       0.00110599, 0.00036866, 0.00110599, 0.00110599, 0.00313364,\n",
       "       0.00036866, 0.00092166, 0.00194553, 0.00194553, 0.00036866,\n",
       "       0.00589862, 0.00194553, 0.00036866, 0.00194553, 0.00194553,\n",
       "       0.00110599, 0.00194553, 0.00092166, 0.01677419, 0.00110599,\n",
       "       0.00479263, 0.00036866, 0.00194553, 0.00194553, 0.00194553,\n",
       "       0.00194553, 0.00036866, 0.00194553, 0.00194553, 0.00194553,\n",
       "       0.00194553, 0.00387097, 0.00194553, 0.00036866, 0.00313364,\n",
       "       0.00534562, 0.00995392])"
      ]
     },
     "execution_count": 46,
     "metadata": {},
     "output_type": "execute_result"
    }
   ],
   "source": [
    "classifier.get_P()[0][2]"
   ]
  },
  {
   "cell_type": "code",
   "execution_count": 47,
   "metadata": {},
   "outputs": [
    {
     "data": {
      "text/plain": [
       "((21,), (4,))"
      ]
     },
     "execution_count": 47,
     "metadata": {},
     "output_type": "execute_result"
    }
   ],
   "source": [
    "\n",
    "mcm_c3 = classifier.get_MCMs()[3]\n",
    "mcm_c5 = classifier.get_MCMs()[5]\n",
    "\n",
    "icc1_c3_P = classifier.get_P()[3][0] # icc 1 for class 3 probability distribution\n",
    "icc1_c5_P = classifier.get_P()[5][0] # icc 1 for class 3 probability distribution\n",
    "mcm_c5.shape,icc1_c3_P.shape"
   ]
  },
  {
   "cell_type": "code",
   "execution_count": 19,
   "metadata": {},
   "outputs": [
    {
     "data": {
      "text/plain": [
       "(5423, 121)"
      ]
     },
     "execution_count": 19,
     "metadata": {},
     "output_type": "execute_result"
    }
   ],
   "source": [
    "# now for icc1_c3, see what P(C3|image_c5, icc1_c3)\n",
    "\n",
    "data_c3 = load_data(os.path.join(data_path, data_filename_format.format(3)))\n",
    "data_c3.shape"
   ]
  },
  {
   "cell_type": "code",
   "execution_count": 56,
   "metadata": {},
   "outputs": [
    {
     "ename": "ValueError",
     "evalue": "invalid literal for int() with base 2: '[0 0 0 0 0 0 0 0 0 0 0 0 0 0 0 1 1 1 0 0 0 0 0 0 0 0 1 1 1 1 0 0 0 0 0 0 0\\n 0 1 1 1 0 0 0 0 0 0 0 1 1 1 1 0 0 0 0 0 0 0 1 1 1 1 0 0 0 0 0 0 0 0 0 1 1\\n 0 0 0 0 0 0 0 0 0 1 1 0 0 0 0 0 1 0 0 0 1 1 0 ",
     "output_type": "error",
     "traceback": [
      "\u001b[0;31m---------------------------------------------------------------------------\u001b[0m",
      "\u001b[0;31mValueError\u001b[0m                                Traceback (most recent call last)",
      "Cell \u001b[0;32mIn[56], line 11\u001b[0m\n\u001b[1;32m      9\u001b[0m     idx \u001b[38;5;241m=\u001b[39m [i \u001b[38;5;28;01mfor\u001b[39;00m i \u001b[38;5;129;01min\u001b[39;00m \u001b[38;5;28mrange\u001b[39m(n_variables) \u001b[38;5;28;01mif\u001b[39;00m icc[i] \u001b[38;5;241m==\u001b[39m \u001b[38;5;124m\"\u001b[39m\u001b[38;5;124m1\u001b[39m\u001b[38;5;124m\"\u001b[39m]\n\u001b[1;32m     10\u001b[0m     ss \u001b[38;5;241m=\u001b[39m state[idx]\n\u001b[0;32m---> 11\u001b[0m     sm \u001b[38;5;241m=\u001b[39m \u001b[38;5;28;43mint\u001b[39;49m\u001b[43m(\u001b[49m\u001b[38;5;124;43m\"\u001b[39;49m\u001b[38;5;124;43m\"\u001b[39;49m\u001b[38;5;241;43m.\u001b[39;49m\u001b[43mjoin\u001b[49m\u001b[43m(\u001b[49m\u001b[43m[\u001b[49m\u001b[38;5;28;43mstr\u001b[39;49m\u001b[43m(\u001b[49m\u001b[43ms\u001b[49m\u001b[43m)\u001b[49m\u001b[43m \u001b[49m\u001b[38;5;28;43;01mfor\u001b[39;49;00m\u001b[43m \u001b[49m\u001b[43ms\u001b[49m\u001b[43m \u001b[49m\u001b[38;5;129;43;01min\u001b[39;49;00m\u001b[43m \u001b[49m\u001b[43mss\u001b[49m\u001b[43m]\u001b[49m\u001b[43m)\u001b[49m\u001b[43m,\u001b[49m\u001b[43m \u001b[49m\u001b[38;5;241;43m2\u001b[39;49m\u001b[43m)\u001b[49m\n\u001b[1;32m     12\u001b[0m     prob \u001b[38;5;241m*\u001b[39m\u001b[38;5;241m=\u001b[39m p_icc[sm]\n\u001b[1;32m     13\u001b[0m prob\n",
      "\u001b[0;31mValueError\u001b[0m: invalid literal for int() with base 2: '[0 0 0 0 0 0 0 0 0 0 0 0 0 0 0 1 1 1 0 0 0 0 0 0 0 0 1 1 1 1 0 0 0 0 0 0 0\\n 0 1 1 1 0 0 0 0 0 0 0 1 1 1 1 0 0 0 0 0 0 0 1 1 1 1 0 0 0 0 0 0 0 0 0 1 1\\n 0 0 0 0 0 0 0 0 0 1 1 0 0 0 0 0 1 0 0 0 1 1 0 "
     ]
    }
   ],
   "source": [
    "prob = 1\n",
    "MCM = classifier.get_MCMs()[3]\n",
    "P =  classifier.get_P()[3]\n",
    "state = data_c3\n",
    "\n",
    "\n",
    "for j, icc in enumerate(MCM):\n",
    "    p_icc = P[j]\n",
    "    idx = [i for i in range(n_variables) if icc[i] == \"1\"]\n",
    "    ss = state[idx]\n",
    "    sm = int(\"\".join([str(s) for s in ss]), 2)\n",
    "    prob *= p_icc[sm]\n",
    "prob"
   ]
  },
  {
   "cell_type": "code",
   "execution_count": null,
   "metadata": {},
   "outputs": [],
   "source": []
  }
 ],
 "metadata": {
  "kernelspec": {
   "display_name": "mcm_classifying",
   "language": "python",
   "name": "python3"
  },
  "language_info": {
   "codemirror_mode": {
    "name": "ipython",
    "version": 3
   },
   "file_extension": ".py",
   "mimetype": "text/x-python",
   "name": "python",
   "nbconvert_exporter": "python",
   "pygments_lexer": "ipython3",
   "version": "3.11.5"
  }
 },
 "nbformat": 4,
 "nbformat_minor": 2
}
