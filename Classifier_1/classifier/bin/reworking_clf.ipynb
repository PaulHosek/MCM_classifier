{
 "cells": [
  {
   "cell_type": "code",
   "execution_count": 1,
   "metadata": {},
   "outputs": [],
   "source": [
    "import sys\n",
    "sys.path.append(\"../\")\n",
    "\n",
    "import matplotlib.pyplot as plt\n",
    "import numpy as np\n",
    "from src.loaders import load_data, load_labels\n",
    "from src.classify import MCM_Classifier\n",
    "import os\n",
    "import src.plot as myplot\n"
   ]
  },
  {
   "cell_type": "code",
   "execution_count": 2,
   "metadata": {},
   "outputs": [],
   "source": [
    "# Customizable environment variables\n",
    "n_categories = 10  # Number of categories to be classified\n",
    "n_variables = 121  # Number of variables in the dataset\n",
    "mcm_filename_format = \"train-images-unlabeled-{}_comms.dat\"\n",
    "data_filename_format = \"train-images-unlabeled-{}.dat\"\n",
    "data_path = \"../INPUT/data/\"\n",
    "communities_path = \"../INPUT/MCMs/\"\n",
    "output_path = \"../OUTPUT/\""
   ]
  },
  {
   "cell_type": "code",
   "execution_count": 3,
   "metadata": {},
   "outputs": [
    {
     "name": "stdout",
     "output_type": "stream",
     "text": [
      "----------------  MCM-Classifier  ----------------\n"
     ]
    },
    {
     "name": "stdout",
     "output_type": "stream",
     "text": [
      "Generating bootstrap samples...\n",
      "Done!\n",
      "train-images-unlabeled-0_bootstrap filename\n",
      "Generating bootstrap samples...\n",
      "Done!\n",
      "train-images-unlabeled-1_bootstrap filename\n",
      "Generating bootstrap samples...\n",
      "Done!\n",
      "train-images-unlabeled-2_bootstrap filename\n",
      "Generating bootstrap samples...\n",
      "Done!\n",
      "train-images-unlabeled-3_bootstrap filename\n",
      "Generating bootstrap samples...\n",
      "Done!\n",
      "train-images-unlabeled-4_bootstrap filename\n",
      "Generating bootstrap samples...\n",
      "Done!\n",
      "train-images-unlabeled-5_bootstrap filename\n",
      "Generating bootstrap samples...\n",
      "Done!\n",
      "train-images-unlabeled-6_bootstrap filename\n",
      "Generating bootstrap samples...\n",
      "Done!\n",
      "train-images-unlabeled-7_bootstrap filename\n",
      "Generating bootstrap samples...\n",
      "Done!\n",
      "train-images-unlabeled-8_bootstrap filename\n",
      "Generating bootstrap samples...\n",
      "Done!\n",
      "train-images-unlabeled-9_bootstrap filename\n",
      "--------------------------------------------------\n",
      "--  Running MinCompSpin_SimulatedAnnealing...  ---\n",
      "--------------------------------------------------\n",
      "\n",
      "✓ SAA for train-images-unlabeled-0_bootstrap finished successfully\n",
      "✓ SAA for train-images-unlabeled-1_bootstrap finished successfully\n",
      "✓ SAA for train-images-unlabeled-2_bootstrap finished successfully\n",
      "✓ SAA for train-images-unlabeled-3_bootstrap finished successfully\n",
      "✓ SAA for train-images-unlabeled-4_bootstrap finished successfully\n",
      "✓ SAA for train-images-unlabeled-5_bootstrap finished successfully\n",
      "✓ SAA for train-images-unlabeled-6_bootstrap finished successfully\n",
      "✓ SAA for train-images-unlabeled-7_bootstrap finished successfully\n",
      "✓ SAA for train-images-unlabeled-8_bootstrap finished successfully\n",
      "✓ SAA for train-images-unlabeled-9_bootstrap finished successfully\n",
      "✓ Done!\n",
      "--------------------------------------------------\n",
      "--  Constructing probability distributions...  ---\n",
      "--------------------------------------------------\n",
      "\n",
      "--------------------------------------------------\n",
      "-----------  Evaluating classifier...  -----------\n",
      "--------------------------------------------------\n",
      "\n",
      "--------------------------------------------------\n",
      "----  1. Calculating state probabilities...  -----\n",
      "--------------------------------------------------\n",
      "\n",
      "Number of datapoints for which the classifier didn't have any probability for any category: 0\n",
      "--------------------------------------------------\n",
      "----------  2. Calculating accuracy...  ----------\n",
      "--------------------------------------------------\n",
      "\n",
      "--------------------------------------------------\n",
      "--------------  3. Saving stats...  --------------\n",
      "--------------------------------------------------\n",
      "\n",
      "✅ Done!\n"
     ]
    }
   ],
   "source": [
    "print(\"{:-^50}\".format(\"  MCM-Classifier  \")) \n",
    "\n",
    "test_data = load_data(\"../INPUT/data/test-images-unlabeled-all-uniform.txt\").astype(int)\n",
    "test_labels = load_labels(\"../INPUT/data/test-labels-uniform.txt\").astype(int)\n",
    "\n",
    "# Step 1: Initialize classifier\n",
    "classifier = MCM_Classifier(n_categories, n_variables, mcm_filename_format, data_filename_format, data_path, communities_path)\n",
    "\n",
    "# Step 2: Train\n",
    "classifier.fit(greedy=True, max_iter=1000000, max_no_improvement=100000)\n",
    "\n",
    "\n",
    "# Step 3: Evaluate\n",
    "predicted_classes, probs = classifier.predict(test_data, test_labels)\n",
    "\n",
    "# Step 4: Save classification report and other stats\n",
    "# report = classifier.get_classification_report(test_labels)\n",
    "classifier.save_classification_report(test_labels,path=output_path)\n",
    "\n",
    "if (classifier.stats == None):\n",
    "    raise Exception(\"Classifier stats not found. Did you forget to call predict()?\")\n"
   ]
  },
  {
   "cell_type": "code",
   "execution_count": 10,
   "metadata": {},
   "outputs": [
    {
     "data": {
      "text/plain": [
       "<module 'src.plot' from '/Users/paulhosek/PycharmProjects/mcm/MCM_classifier/Classifier_1/classifier/bin/../src/plot.py'>"
      ]
     },
     "execution_count": 10,
     "metadata": {},
     "output_type": "execute_result"
    }
   ],
   "source": [
    "import importlib\n",
    "import src.plot as myplot\n",
    "importlib.reload(myplot)"
   ]
  },
  {
   "cell_type": "code",
   "execution_count": 5,
   "metadata": {},
   "outputs": [],
   "source": [
    "def plot_histogram(icc_Ps, columns):\n",
    "    plt.figure()\n",
    "    for i in columns:\n",
    "        plt.hist(icc_Ps[:, i])\n",
    "    plt.xlabel('Probability')\n",
    "    plt.ylabel('Frequency')\n",
    "    plt.title('Histogram of icc_Ps')\n",
    "    plt.legend([f'Digit {i}' for i in columns])\n",
    "    plt.show()"
   ]
  },
  {
   "cell_type": "code",
   "execution_count": null,
   "metadata": {},
   "outputs": [],
   "source": [
    "all_MCM = classifier.get_MCMs()\n",
    "P =  classifier.get_P()"
   ]
  },
  {
   "cell_type": "code",
   "execution_count": null,
   "metadata": {},
   "outputs": [],
   "source": [
    "mcm_index = 3"
   ]
  },
  {
   "cell_type": "code",
   "execution_count": 11,
   "metadata": {},
   "outputs": [],
   "source": [
    "# for all images in all categories, get the PDF of that all ICC of one MCM fitted to one image\n",
    "all_P_icc = myplot.calculate_P_icc(P, all_MCM,mcm_index,n_variables, data_path,data_filename_format)"
   ]
  },
  {
   "cell_type": "code",
   "execution_count": 12,
   "metadata": {},
   "outputs": [],
   "source": [
    "mcm3_comms_map = myplot.generate_icc_comms_map(all_MCM[mcm_index])"
   ]
  },
  {
   "cell_type": "code",
   "execution_count": 13,
   "metadata": {},
   "outputs": [
    {
     "data": {
      "image/png": "[encoded data removed]",
      "text/plain": [
       "<Figure size 640x480 with 1 Axes>"
      ]
     },
     "metadata": {},
     "output_type": "display_data"
    }
   ],
   "source": [
    "pastel_cmap = myplot.create_pastel_cmap(121)\n",
    "borders = myplot.find_borders(mcm3_comms_map)\n",
    "comms = mcm3_comms_map.astype(int) #TODO use the values here that indicate how indicative this ICC is\n",
    "lw = 2\n",
    "plt.figure()\n",
    "plt.title(\"Communities in MCM 3\")\n",
    "myplot.draw_all_borders(borders)\n",
    "myplot.draw_all_values(comms)        \n",
    "plt.imshow(mcm3_comms_map, cmap=pastel_cmap)\n",
    "plt.xticks([])\n",
    "plt.yticks([])\n",
    "plt.show()\n"
   ]
  },
  {
   "cell_type": "code",
   "execution_count": null,
   "metadata": {},
   "outputs": [],
   "source": []
  },
  {
   "cell_type": "code",
   "execution_count": 14,
   "metadata": {},
   "outputs": [],
   "source": [
    "# difference 3 vs. 5\n",
    "dif_35 = all_P_icc[:,:,[3,5]].mean(axis=1)\n",
    "dif_35 = np.diff(dif_35, axis=1).flatten()\n",
    "\n",
    "# difference in means class 3 vs. rest\n",
    "dif_3r = all_P_icc.mean(axis=1)\n",
    "dif_3r = dif_3r[:,3] - dif_3r.mean(axis=1)\n",
    "\n",
    "\n"
   ]
  },
  {
   "cell_type": "code",
   "execution_count": 26,
   "metadata": {},
   "outputs": [
    {
     "data": {
      "image/png": "[encoded data removed]",
      "text/plain": [
       "<Figure size 640x480 with 2 Axes>"
      ]
     },
     "metadata": {},
     "output_type": "display_data"
    }
   ],
   "source": [
    "bias = (dif_35[comms]*100).astype(int) \n",
    "absmax = np.abs(bias.flat[np.abs(bias).argmax()]) # scale axis\n",
    "# diff_map is difference in average probabilities of an ICC over all images of class 3 vs class 5\n",
    "# FIXME problem is that borders are not enough to indicate which cells are the same ICC because they must not be adjacent\n",
    "\n",
    "plt.figure()\n",
    "# plt.title(\"Bias of ICC probabilities in MCM 3 for class 3 vs. class 5.\") # plt.title(\" Higher values = higher avg P for an image of class 3.\")\n",
    "plt.title(\"3 vs.5: Indicative ICCs in MCM 3\")\n",
    "myplot.draw_all_borders(borders)\n",
    "myplot.draw_all_values(bias,color=\"black\") # bias OR comms\n",
    "im = plt.imshow(bias, cmap=\"coolwarm\",vmin=-absmax,vmax=absmax)  # Set the color limits\n",
    "colorbar = plt.colorbar(im)\n",
    "\n",
    "plt.xticks([])\n",
    "plt.yticks([])\n",
    "plt.setp(plt.gca().spines.values(), linewidth=2)\n",
    "\n",
    "plt.show()\n"
   ]
  },
  {
   "cell_type": "code",
   "execution_count": null,
   "metadata": {},
   "outputs": [],
   "source": [
    "# need a co-occurance matrix of what it was called\n",
    "# 121 by 121 of how destinctive that pixel is between 3 vs. 5\n",
    "\n",
    "# 1 matrix = 1 image\n",
    "# what icc these pixels are part of\n"
   ]
  }
 ],
 "metadata": {
  "kernelspec": {
   "display_name": "mcm_classifying",
   "language": "python",
   "name": "python3"
  },
  "language_info": {
   "codemirror_mode": {
    "name": "ipython",
    "version": 3
   },
   "file_extension": ".py",
   "mimetype": "text/x-python",
   "name": "python",
   "nbconvert_exporter": "python",
   "pygments_lexer": "ipython3",
   "version": "3.11.5"
  }
 },
 "nbformat": 4,
 "nbformat_minor": 2
}
