{
 "cells": [
  {
   "cell_type": "code",
   "execution_count": 1,
   "metadata": {},
   "outputs": [],
   "source": [
    "import sys\n",
    "sys.path.append(\"../\")\n",
    "\n",
    "import matplotlib.pyplot as plt\n",
    "import numpy as np\n",
    "from src.loaders import load_data, load_labels\n",
    "from src.classify import MCM_Classifier\n",
    "from src.plot import  plot_results\n",
    "import os\n",
    "from src.plot import plot_confusion_matrix, plot_label_prob_diff\n"
   ]
  },
  {
   "cell_type": "code",
   "execution_count": 2,
   "metadata": {},
   "outputs": [],
   "source": [
    "# Customizable environment variables\n",
    "n_categories = 10  # Number of categories to be classified\n",
    "n_variables = 121  # Number of variables in the dataset\n",
    "mcm_filename_format = \"train-images-unlabeled-{}_comms.dat\"\n",
    "data_filename_format = \"train-images-unlabeled-{}.dat\"\n",
    "data_path = \"../INPUT/data/\"\n",
    "communities_path = \"../INPUT/MCMs/\"\n",
    "output_path = \"../OUTPUT/\""
   ]
  },
  {
   "cell_type": "code",
   "execution_count": 3,
   "metadata": {},
   "outputs": [
    {
     "name": "stdout",
     "output_type": "stream",
     "text": [
      "----------------  MCM-Classifier  ----------------\n"
     ]
    },
    {
     "name": "stdout",
     "output_type": "stream",
     "text": [
      "Generating bootstrap samples...\n",
      "Done!\n",
      "train-images-unlabeled-0_bootstrap filename\n",
      "Generating bootstrap samples...\n",
      "Done!\n",
      "train-images-unlabeled-1_bootstrap filename\n",
      "Generating bootstrap samples...\n",
      "Done!\n",
      "train-images-unlabeled-2_bootstrap filename\n",
      "Generating bootstrap samples...\n",
      "Done!\n",
      "train-images-unlabeled-3_bootstrap filename\n",
      "Generating bootstrap samples...\n",
      "Done!\n",
      "train-images-unlabeled-4_bootstrap filename\n",
      "Generating bootstrap samples...\n",
      "Done!\n",
      "train-images-unlabeled-5_bootstrap filename\n",
      "Generating bootstrap samples...\n",
      "Done!\n",
      "train-images-unlabeled-6_bootstrap filename\n",
      "Generating bootstrap samples...\n",
      "Done!\n",
      "train-images-unlabeled-7_bootstrap filename\n",
      "Generating bootstrap samples...\n",
      "Done!\n",
      "train-images-unlabeled-8_bootstrap filename\n",
      "Generating bootstrap samples...\n",
      "Done!\n",
      "train-images-unlabeled-9_bootstrap filename\n",
      "--------------------------------------------------\n",
      "--  Running MinCompSpin_SimulatedAnnealing...  ---\n",
      "--------------------------------------------------\n",
      "\n",
      "✓ SAA for train-images-unlabeled-0_bootstrap finished successfully\n",
      "✓ SAA for train-images-unlabeled-1_bootstrap finished successfully\n",
      "✓ SAA for train-images-unlabeled-2_bootstrap finished successfully\n",
      "✓ SAA for train-images-unlabeled-3_bootstrap finished successfully\n",
      "✓ SAA for train-images-unlabeled-4_bootstrap finished successfully\n",
      "✓ SAA for train-images-unlabeled-5_bootstrap finished successfully\n",
      "✓ SAA for train-images-unlabeled-6_bootstrap finished successfully\n",
      "✓ SAA for train-images-unlabeled-7_bootstrap finished successfully\n",
      "✓ SAA for train-images-unlabeled-8_bootstrap finished successfully\n",
      "✓ SAA for train-images-unlabeled-9_bootstrap finished successfully\n",
      "✓ Done!\n",
      "--------------------------------------------------\n",
      "--  Constructing probability distributions...  ---\n",
      "--------------------------------------------------\n",
      "\n",
      "--------------------------------------------------\n",
      "-----------  Evaluating classifier...  -----------\n",
      "--------------------------------------------------\n",
      "\n",
      "--------------------------------------------------\n",
      "----  1. Calculating state probabilities...  -----\n",
      "--------------------------------------------------\n",
      "\n",
      "Number of datapoints for which the classifier didn't have any probability for any category: 0\n",
      "--------------------------------------------------\n",
      "----------  2. Calculating accuracy...  ----------\n",
      "--------------------------------------------------\n",
      "\n",
      "--------------------------------------------------\n",
      "--------------  3. Saving stats...  --------------\n",
      "--------------------------------------------------\n",
      "\n",
      "✅ Done!\n"
     ]
    }
   ],
   "source": [
    "print(\"{:-^50}\".format(\"  MCM-Classifier  \")) \n",
    "\n",
    "test_data = load_data(\"../INPUT/data/test-images-unlabeled-all-uniform.txt\").astype(int)\n",
    "test_labels = load_labels(\"../INPUT/data/test-labels-uniform.txt\").astype(int)\n",
    "\n",
    "# Step 1: Initialize classifier\n",
    "classifier = MCM_Classifier(n_categories, n_variables, mcm_filename_format, data_filename_format, data_path, communities_path)\n",
    "\n",
    "# Step 2: Train\n",
    "classifier.fit(greedy=True, max_iter=1000000, max_no_improvement=100000)\n",
    "\n",
    "\n",
    "# Step 3: Evaluate\n",
    "predicted_classes, probs = classifier.predict(test_data, test_labels)\n",
    "\n",
    "# Step 4: Save classification report and other stats\n",
    "# report = classifier.get_classification_report(test_labels)\n",
    "classifier.save_classification_report(test_labels,path=output_path)\n",
    "\n",
    "if (classifier.stats == None):\n",
    "    raise Exception(\"Classifier stats not found. Did you forget to call predict()?\")\n"
   ]
  },
  {
   "cell_type": "code",
   "execution_count": 4,
   "metadata": {},
   "outputs": [
    {
     "data": {
      "text/plain": [
       "array([0.01419355, 0.01493088, 0.00194553, 0.00194553, 0.00073733,\n",
       "       0.0156682 , 0.00073733, 0.000553  , 0.00129032, 0.00194553,\n",
       "       0.00194553, 0.00194553, 0.00194553, 0.00036866, 0.00194553,\n",
       "       0.00194553, 0.00036866, 0.00036866, 0.00194553, 0.00194553,\n",
       "       0.00194553, 0.00036866, 0.00194553, 0.00194553, 0.00194553,\n",
       "       0.00194553, 0.00194553, 0.00194553, 0.00194553, 0.00194553,\n",
       "       0.00194553, 0.00194553, 0.00534562, 0.00479263, 0.00194553,\n",
       "       0.00194553, 0.00663594, 0.09898618, 0.000553  , 0.00110599,\n",
       "       0.00294931, 0.00194553, 0.00147465, 0.00194553, 0.01069124,\n",
       "       0.0121659 , 0.01013825, 0.00460829, 0.00194553, 0.00194553,\n",
       "       0.00194553, 0.00194553, 0.00194553, 0.00194553, 0.00194553,\n",
       "       0.00194553, 0.00194553, 0.00194553, 0.00194553, 0.00194553,\n",
       "       0.00194553, 0.00194553, 0.00194553, 0.00194553, 0.00036866,\n",
       "       0.000553  , 0.00194553, 0.00194553, 0.00036866, 0.00147465,\n",
       "       0.00194553, 0.00194553, 0.00626728, 0.00092166, 0.00110599,\n",
       "       0.00194553, 0.00036866, 0.00184332, 0.00036866, 0.00194553,\n",
       "       0.00036866, 0.00194553, 0.00194553, 0.00194553, 0.00194553,\n",
       "       0.00194553, 0.00194553, 0.00194553, 0.00194553, 0.00194553,\n",
       "       0.000553  , 0.00194553, 0.00194553, 0.00194553, 0.00194553,\n",
       "       0.00194553, 0.00036866, 0.000553  , 0.00194553, 0.00194553,\n",
       "       0.00036866, 0.00129032, 0.00194553, 0.00194553, 0.00165899,\n",
       "       0.00194553, 0.0040553 , 0.00194553, 0.00129032, 0.00239631,\n",
       "       0.00479263, 0.00184332, 0.00194553, 0.00194553, 0.00194553,\n",
       "       0.00194553, 0.00194553, 0.00194553, 0.00194553, 0.00194553,\n",
       "       0.00194553, 0.00194553, 0.00147465, 0.00194553, 0.00194553,\n",
       "       0.00194553, 0.00092166, 0.00036866, 0.00036866, 0.00194553,\n",
       "       0.00194553, 0.00194553, 0.00194553, 0.00036866, 0.00194553,\n",
       "       0.00194553, 0.00184332, 0.00194553, 0.00194553, 0.00194553,\n",
       "       0.00194553, 0.00194553, 0.00194553, 0.00194553, 0.00092166,\n",
       "       0.00194553, 0.01788018, 0.00036866, 0.00194553, 0.00194553,\n",
       "       0.00194553, 0.00194553, 0.00110599, 0.000553  , 0.00331797,\n",
       "       0.00194553, 0.00194553, 0.00194553, 0.00036866, 0.00194553,\n",
       "       0.00036866, 0.00194553, 0.00194553, 0.00194553, 0.00036866,\n",
       "       0.00092166, 0.00036866, 0.00194553, 0.00194553, 0.00194553,\n",
       "       0.00194553, 0.00194553, 0.00194553, 0.000553  , 0.00036866,\n",
       "       0.00036866, 0.00194553, 0.00194553, 0.00194553, 0.00194553,\n",
       "       0.00194553, 0.00194553, 0.00194553, 0.00194553, 0.00194553,\n",
       "       0.00194553, 0.00194553, 0.00194553, 0.00194553, 0.00194553,\n",
       "       0.00194553, 0.00036866, 0.00194553, 0.00036866, 0.00036866,\n",
       "       0.00194553, 0.00194553, 0.000553  , 0.00194553, 0.00194553,\n",
       "       0.00847926, 0.00258065, 0.00092166, 0.00194553, 0.00194553,\n",
       "       0.00460829, 0.00194553, 0.00194553, 0.00194553, 0.00194553,\n",
       "       0.00110599, 0.00194553, 0.00194553, 0.00194553, 0.00194553,\n",
       "       0.00194553, 0.00129032, 0.00073733, 0.00903226, 0.00073733,\n",
       "       0.00194553, 0.000553  , 0.00194553, 0.000553  , 0.00194553,\n",
       "       0.00036866, 0.00194553, 0.00194553, 0.00110599, 0.00129032,\n",
       "       0.00194553, 0.00194553, 0.00194553, 0.00194553, 0.00194553,\n",
       "       0.00194553, 0.00036866, 0.00073733, 0.00194553, 0.00194553,\n",
       "       0.00194553, 0.00194553, 0.00194553, 0.00194553, 0.00194553,\n",
       "       0.00194553, 0.00194553, 0.00194553, 0.00194553, 0.00194553,\n",
       "       0.00194553, 0.00194553, 0.00194553, 0.00194553, 0.00036866,\n",
       "       0.00036866, 0.0035023 , 0.00276498, 0.00194553, 0.00194553,\n",
       "       0.000553  , 0.00331797, 0.00194553, 0.00194553, 0.00092166,\n",
       "       0.00194553, 0.000553  , 0.00194553, 0.00194553, 0.00036866,\n",
       "       0.00194553, 0.00194553, 0.00194553, 0.00194553, 0.00036866,\n",
       "       0.00194553, 0.00194553, 0.00194553, 0.00194553, 0.00194553,\n",
       "       0.00194553, 0.00194553, 0.00194553, 0.00194553, 0.00194553,\n",
       "       0.00194553, 0.00194553, 0.00194553, 0.01364055, 0.00682028,\n",
       "       0.00194553, 0.00194553, 0.00884793, 0.12276498, 0.00073733,\n",
       "       0.00165899, 0.00110599, 0.00194553, 0.000553  , 0.00194553,\n",
       "       0.00258065, 0.01179724, 0.00258065, 0.00460829, 0.00194553,\n",
       "       0.00194553, 0.00194553, 0.00194553, 0.00194553, 0.00036866,\n",
       "       0.00194553, 0.00194553, 0.00194553, 0.00194553, 0.00194553,\n",
       "       0.00194553, 0.00194553, 0.00194553, 0.00194553, 0.00036866,\n",
       "       0.00092166, 0.000553  , 0.000553  , 0.00194553, 0.000553  ,\n",
       "       0.00682028, 0.00194553, 0.00194553, 0.04976959, 0.00368664,\n",
       "       0.02986175, 0.00194553, 0.00589862, 0.01290323, 0.00194553,\n",
       "       0.00194553, 0.00194553, 0.00194553, 0.00147465, 0.00194553,\n",
       "       0.00194553, 0.00194553, 0.00194553, 0.00194553, 0.00036866,\n",
       "       0.00194553, 0.01917051, 0.00194553, 0.00194553, 0.00194553,\n",
       "       0.00194553, 0.00194553, 0.000553  , 0.00073733, 0.00194553,\n",
       "       0.00194553, 0.0035023 , 0.07023041, 0.00194553, 0.00073733,\n",
       "       0.00589862, 0.000553  , 0.01235023, 0.00036866, 0.02175115,\n",
       "       0.08516129, 0.01695853, 0.0197235 , 0.00194553, 0.00194553,\n",
       "       0.00194553, 0.00194553, 0.00194553, 0.00194553, 0.00194553,\n",
       "       0.00194553, 0.00194553, 0.00194553, 0.00829493, 0.00194553,\n",
       "       0.00194553, 0.00073733, 0.00866359, 0.00239631, 0.00194553,\n",
       "       0.00194553, 0.00194553, 0.00194553, 0.00194553, 0.00036866,\n",
       "       0.00194553, 0.00194553, 0.00194553, 0.00194553, 0.00194553,\n",
       "       0.00194553, 0.00194553, 0.00194553, 0.00194553, 0.00194553,\n",
       "       0.00194553, 0.00194553, 0.00276498, 0.00194553, 0.00194553,\n",
       "       0.00194553, 0.00194553, 0.00194553, 0.00194553, 0.00036866,\n",
       "       0.000553  , 0.00194553, 0.00194553, 0.00194553, 0.00194553,\n",
       "       0.00194553, 0.00036866, 0.000553  , 0.00194553, 0.00194553,\n",
       "       0.00092166, 0.0035023 , 0.00194553, 0.000553  , 0.00194553,\n",
       "       0.00194553, 0.00194553, 0.00194553, 0.000553  , 0.00092166,\n",
       "       0.00036866, 0.00194553, 0.00194553, 0.00194553, 0.00194553,\n",
       "       0.00194553, 0.00194553, 0.00194553, 0.00194553, 0.00194553,\n",
       "       0.00194553, 0.00194553, 0.00194553, 0.00194553, 0.00194553,\n",
       "       0.00036866, 0.00194553, 0.00194553, 0.00194553, 0.00036866,\n",
       "       0.00194553, 0.00194553, 0.00194553, 0.00036866, 0.00194553,\n",
       "       0.00194553, 0.00534562, 0.00165899, 0.00221198, 0.00194553,\n",
       "       0.00036866, 0.00479263, 0.000553  , 0.00194553, 0.00194553,\n",
       "       0.00194553, 0.00552995, 0.00194553, 0.00194553, 0.00194553,\n",
       "       0.00194553, 0.00194553, 0.00184332, 0.00194553, 0.04147465,\n",
       "       0.00110599, 0.00036866, 0.00110599, 0.00110599, 0.00313364,\n",
       "       0.00036866, 0.00092166, 0.00194553, 0.00194553, 0.00036866,\n",
       "       0.00589862, 0.00194553, 0.00036866, 0.00194553, 0.00194553,\n",
       "       0.00110599, 0.00194553, 0.00092166, 0.01677419, 0.00110599,\n",
       "       0.00479263, 0.00036866, 0.00194553, 0.00194553, 0.00194553,\n",
       "       0.00194553, 0.00036866, 0.00194553, 0.00194553, 0.00194553,\n",
       "       0.00194553, 0.00387097, 0.00194553, 0.00036866, 0.00313364,\n",
       "       0.00534562, 0.00995392])"
      ]
     },
     "execution_count": 4,
     "metadata": {},
     "output_type": "execute_result"
    }
   ],
   "source": [
    "classifier.get_P()[0][2]"
   ]
  },
  {
   "cell_type": "code",
   "execution_count": 5,
   "metadata": {},
   "outputs": [
    {
     "data": {
      "text/plain": [
       "((21,), (4,))"
      ]
     },
     "execution_count": 5,
     "metadata": {},
     "output_type": "execute_result"
    }
   ],
   "source": [
    "\n",
    "mcm_c3 = classifier.get_MCMs()[3]\n",
    "mcm_c5 = classifier.get_MCMs()[5]\n",
    "\n",
    "icc1_c3_P = classifier.get_P()[3][0] # icc 1 for class 3 probability distribution\n",
    "icc1_c5_P = classifier.get_P()[5][0] # icc 1 for class 3 probability distribution\n",
    "mcm_c5.shape,icc1_c3_P.shape"
   ]
  },
  {
   "cell_type": "code",
   "execution_count": 6,
   "metadata": {},
   "outputs": [
    {
     "data": {
      "text/plain": [
       "(5423, 121)"
      ]
     },
     "execution_count": 6,
     "metadata": {},
     "output_type": "execute_result"
    }
   ],
   "source": [
    "# now for icc1_c3, see what P(C3|image_c5, icc1_c3)\n",
    "data_c5 = load_data(os.path.join(data_path, data_filename_format.format(5)))\n",
    "data_c3 = load_data(os.path.join(data_path, data_filename_format.format(3)))\n",
    "data_c3.shape"
   ]
  },
  {
   "cell_type": "code",
   "execution_count": 7,
   "metadata": {},
   "outputs": [
    {
     "data": {
      "text/plain": [
       "array([0, 0, 0, ..., 0, 0, 1])"
      ]
     },
     "execution_count": 7,
     "metadata": {},
     "output_type": "execute_result"
    }
   ],
   "source": [
    "data_c3[:,0]"
   ]
  },
  {
   "cell_type": "code",
   "execution_count": 8,
   "metadata": {},
   "outputs": [],
   "source": [
    "\n",
    "def generate_p_icc(data, P_MCM, n_variables,MCM,icc_idx):\n",
    "    \"\"\"Get probability distribution of single icc for some set of input images.\n",
    "    E.g., what probabilities do we get for the first ICC in the MCM for the image of a 5 \n",
    "    if we show it data of a 3. \n",
    "    ==> How good does this ICC differentiate between classes?\n",
    "    P_MCM: is the probability distribution for the selected MCM\n",
    "    \"\"\"\n",
    "    \n",
    "    icc_Ps = np.zeros(len(data))\n",
    "    for k, img in enumerate(data):\n",
    "        idx = [i for i in range(n_variables) if MCM[icc_idx][i] == \"1\"]\n",
    "        sm = int(\"\".join([str(s) for s in img[idx]]), 2)\n",
    "        icc_Ps[k] = P_MCM[icc_idx][sm] \n",
    "    return icc_Ps\n"
   ]
  },
  {
   "cell_type": "code",
   "execution_count": null,
   "metadata": {},
   "outputs": [],
   "source": [
    "\n"
   ]
  },
  {
   "cell_type": "code",
   "execution_count": 9,
   "metadata": {},
   "outputs": [],
   "source": [
    "def plot_histogram(icc_Ps, columns):\n",
    "    plt.figure()\n",
    "    for i in columns:\n",
    "        plt.hist(icc_Ps[:, i])\n",
    "    plt.xlabel('Probability')\n",
    "    plt.ylabel('Frequency')\n",
    "    plt.title('Histogram of icc_Ps')\n",
    "    plt.legend([f'Digit {i}' for i in columns])\n",
    "    plt.show()"
   ]
  },
  {
   "cell_type": "code",
   "execution_count": 10,
   "metadata": {},
   "outputs": [],
   "source": [
    "# get probability distribution for single ICC for all categories\n",
    "\n",
    "from re import A\n",
    "\n",
    "\n",
    "all_MCM = classifier.get_MCMs()\n",
    "P =  classifier.get_P()\n",
    "\n",
    "model_nr = 3\n",
    "\n",
    "all_P_icc = []\n",
    "\n",
    "\n",
    "MCM = all_MCM[model_nr]\n",
    "P_MCM = P[model_nr]\n",
    "nr_icc = len(MCM)\n",
    "nr_images = len(data_c3)\n",
    "all_P_icc = np.zeros((nr_icc,nr_images,10))\n",
    "\n",
    "for icc_idx in range(nr_icc):\n",
    "    icc_Ps = np.zeros((nr_images,10)) # all samples same size\n",
    "    # for different images, get the PDF of that one ICC fitted to one image\n",
    "    for cat_idx in range(10):\n",
    "        data = load_data(os.path.join(data_path, data_filename_format.format(cat_idx)))\n",
    "        icc_Ps[:,cat_idx] = generate_p_icc(data,P_MCM,n_variables,MCM,icc_idx)\n",
    "    all_P_icc[icc_idx,:,:] = icc_Ps\n",
    "\n",
    "\n",
    "all_P_icc=np.array(all_P_icc)\n",
    "    # columns_to_plot = range(10)\n",
    "    # plot_histogram(icc_Ps, columns_to_plot)\n"
   ]
  },
  {
   "cell_type": "code",
   "execution_count": null,
   "metadata": {},
   "outputs": [],
   "source": []
  },
  {
   "cell_type": "code",
   "execution_count": 11,
   "metadata": {},
   "outputs": [],
   "source": [
    "res = all_P_icc[:,:,[2,5]].mean(axis=1)\n",
    "res_diff = np.diff(res, axis=1)\n",
    "res_diff = res_diff.reshape(-1, 1)\n",
    "\n",
    "\n",
    "# plt.figure()\n",
    "# plt.bar(list(range(len(res_diff))), res_diff.flatten(), bottom=0)\n",
    "# plt.xlabel('Index')\n",
    "# plt.ylabel('Difference in means')\n",
    "# plt.title('MCM 3: Digits 5 vs.3')\n",
    "# plt.show()\n",
    "\n",
    "\n"
   ]
  },
  {
   "cell_type": "code",
   "execution_count": 44,
   "metadata": {},
   "outputs": [
    {
     "data": {
      "text/plain": [
       "array([[ 0,  1],\n",
       "       [ 0, 10],\n",
       "       [ 1,  9],\n",
       "       [ 1, 55]])"
      ]
     },
     "execution_count": 44,
     "metadata": {},
     "output_type": "execute_result"
    }
   ],
   "source": [
    "sorted_data[:4,:]"
   ]
  },
  {
   "cell_type": "code",
   "execution_count": 58,
   "metadata": {},
   "outputs": [
    {
     "data": {
      "image/png": "[encoded data removed]",
      "text/plain": [
       "<Figure size 640x480 with 2 Axes>"
      ]
     },
     "metadata": {},
     "output_type": "display_data"
    }
   ],
   "source": [
    "res_diff\n",
    "MCM# Reshape the MCM array into a 2D numpy array\n",
    "icc_arr = np.array([list(icc) for icc in MCM],dtype=int)\n",
    "icc_arr\n",
    "sorted_data = np.argwhere(icc_arr == 1)\n",
    "\n",
    "grouped_data = np.split(sorted_data[:, 1], np.unique(sorted_data[:, 0], return_index=True)[1][1:])\n",
    "\n",
    "\n",
    "\n",
    "out = np.empty(121)\n",
    "for com_i, comm in enumerate(grouped_data):\n",
    "    out[comm] = com_i\n",
    "res = out.reshape((11,11))\n",
    "\n",
    "import matplotlib.pyplot as plt\n",
    "\n",
    "plt.imshow(res, cmap='tab10')\n",
    "plt.colorbar(ticks=range(11))\n",
    "plt.xticks([])\n",
    "plt.yticks([])\n",
    "\n",
    "# Add text in each cell\n",
    "for i in range(res.shape[0]):\n",
    "    for j in range(res.shape[1]):\n",
    "        plt.text(j, i, int(res[i, j]), ha='center', va='center', color='white')\n",
    "\n",
    "plt.show()\n"
   ]
  },
  {
   "cell_type": "code",
   "execution_count": 111,
   "metadata": {},
   "outputs": [
    {
     "data": {
      "text/plain": [
       "<matplotlib.patches.Rectangle at 0x121690410>"
      ]
     },
     "execution_count": 111,
     "metadata": {},
     "output_type": "execute_result"
    },
    {
     "data": {
      "image/png": "[encoded data removed]",
      "text/plain": [
       "<Figure size 640x480 with 1 Axes>"
      ]
     },
     "metadata": {},
     "output_type": "display_data"
    }
   ],
   "source": [
    "# def border(x, y, side, ax=None, **kwargs):\n",
    "#     side_to_offset = {'t': (-.5, -.5, 1, 0), 'r': (.5, -.5, 0, 1), 'b': (-.5, .5, 1, 0), 'l': (-.5, -.5, 0, 1)}\n",
    "\n",
    "#     if side not in side_to_offset:\n",
    "#         raise ValueError(\"Invalid side value. Valid values are 't', 'r', 'b', 'l'.\")\n",
    "    \n",
    "#     dx, dy, width, height = side_to_offset[side]\n",
    "#     rect = plt.Rectangle((x+dx, y+dy), width, height, fill=False, **kwargs)\n",
    "    \n",
    "#     ax = ax or plt.gca()\n",
    "#     ax.add_patch(rect)\n",
    "#     return rect\n",
    "\n",
    "\n",
    "# plt.imshow(res)\n",
    "\n",
    "# border(1,1,\"r\",linewidth=3)"
   ]
  },
  {
   "cell_type": "code",
   "execution_count": 104,
   "metadata": {},
   "outputs": [
    {
     "data": {
      "text/plain": [
       "<matplotlib.patches.Rectangle at 0x1216c5cd0>"
      ]
     },
     "execution_count": 104,
     "metadata": {},
     "output_type": "execute_result"
    },
    {
     "data": {
      "image/png": "[encoded data removed]",
      "text/plain": [
       "<Figure size 640x480 with 1 Axes>"
      ]
     },
     "metadata": {},
     "output_type": "display_data"
    }
   ],
   "source": [
    "import matplotlib.colors as mcolors\n",
    "white_cmap = mcolors.LinearSegmentedColormap.from_list(\"white_cmap\", [(1, 1, 1), (1, 1, 1)])\n",
    "\n",
    "\n",
    "\n",
    "\n",
    "def border(x, y, side, ax=None, **kwargs):\n",
    "    side_to_offset = {'t': (-.5, -.5, 1, 0), 'r': (.5, -.5, 0, 1), 'b': (-.5, .5, 1, 0), 'l': (-.5, -.5, 0, 1)}\n",
    "\n",
    "    if side not in side_to_offset:\n",
    "        raise ValueError(\"Invalid side value. Valid values are 't', 'r', 'b', 'l'.\")\n",
    "    \n",
    "    dx, dy, width, height = side_to_offset[side]\n",
    "    rect = plt.Rectangle((x+dx, y+dy), width, height, fill=False, **kwargs)\n",
    "    \n",
    "    ax = ax or plt.gca()\n",
    "    ax.add_patch(rect)\n",
    "    return rect\n",
    "\n",
    "\n",
    "# Define a colormap where all colors are white\n",
    "\n",
    "# Use the colormap in imshow\n",
    "plt.imshow(res)\n",
    "\n",
    "border(1,1,\"t\",linewidth=3)\n"
   ]
  },
  {
   "cell_type": "code",
   "execution_count": null,
   "metadata": {},
   "outputs": [],
   "source": [
    "import matplotlib.colors as mcolors\n",
    "\n",
    "# Define a colormap where all colors are white\n",
    "white_cmap = mcolors.LinearSegmentedColormap.from_list(\"white_cmap\", [(1, 1, 1), (1, 1, 1)])\n",
    "\n",
    "# Use the colormap in imshow\n",
    "plt.imshow(res, cmap=white_cmap)"
   ]
  },
  {
   "cell_type": "code",
   "execution_count": 12,
   "metadata": {},
   "outputs": [
    {
     "data": {
      "image/png": "[encoded data removed]",
      "text/plain": [
       "<Figure size 640x480 with 1 Axes>"
      ]
     },
     "metadata": {},
     "output_type": "display_data"
    }
   ],
   "source": [
    "# difference in means class 3 vs. rest\n",
    "res = all_P_icc.mean(axis=1)\n",
    "res_diff = res[:,3] - res.mean(axis=1)\n",
    "\n",
    "# res_diff = np.diff(res, axis=1)\n",
    "# res_diff = res_diff.reshape(-1, 1)\n",
    "\n",
    "plt.figure()\n",
    "plt.bar(list(range(len(res_diff))), res_diff.flatten(), bottom=0)\n",
    "plt.xlabel('Index')\n",
    "plt.ylabel('Difference in means')\n",
    "plt.title('MCM 3: Digits 3 vs. rest')\n",
    "plt.show()"
   ]
  },
  {
   "cell_type": "code",
   "execution_count": 13,
   "metadata": {},
   "outputs": [],
   "source": [
    "# now map these ICC to the pixels in the image using the MCM\n",
    "\n",
    "MCM = all_MCM[model_nr]\n",
    "# "
   ]
  },
  {
   "cell_type": "code",
   "execution_count": 14,
   "metadata": {},
   "outputs": [],
   "source": [
    "# need a co-occurance matrix of what it was called\n",
    "# 121 by 121 of how destinctive that pixel is between 3 vs. 5\n",
    "\n",
    "# 1 matrix = 1 image\n",
    "# what icc these pixels are part of\n"
   ]
  }
 ],
 "metadata": {
  "kernelspec": {
   "display_name": "mcm_classifying",
   "language": "python",
   "name": "python3"
  },
  "language_info": {
   "codemirror_mode": {
    "name": "ipython",
    "version": 3
   },
   "file_extension": ".py",
   "mimetype": "text/x-python",
   "name": "python",
   "nbconvert_exporter": "python",
   "pygments_lexer": "ipython3",
   "version": "3.11.5"
  }
 },
 "nbformat": 4,
 "nbformat_minor": 2
}
