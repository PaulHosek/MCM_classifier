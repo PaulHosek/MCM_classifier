{
 "cells": [
  {
   "cell_type": "code",
   "execution_count": 2,
   "metadata": {},
   "outputs": [],
   "source": [
    "import sys\n",
    "sys.path.append(\"../\")"
   ]
  },
  {
   "cell_type": "code",
   "execution_count": 3,
   "metadata": {},
   "outputs": [
    {
     "data": {
      "text/plain": [
       "<module 'src.paper_utils' from '/Users/paulhosek/PycharmProjects/mcm/MCM_classifier/Classifier_1/classifier/bin/../src/paper_utils.py'>"
      ]
     },
     "execution_count": 3,
     "metadata": {},
     "output_type": "execute_result"
    }
   ],
   "source": [
    "import src.paper_utils as utils\n",
    "import importlib\n",
    "importlib.reload(utils)"
   ]
  },
  {
   "cell_type": "code",
   "execution_count": 4,
   "metadata": {},
   "outputs": [],
   "source": [
    "n_categories = 10 \n",
    "n_variables = 121  \n",
    "mcm_filename_format = \"train-images-unlabeled-{}_comms.dat\"\n",
    "data_filename_format = \"train-images-unlabeled-{}.dat\"\n",
    "data_path = \"../INPUT/data/\"\n",
    "communities_path = \"../INPUT/MCMs/\"\n",
    "output_path = \"../OUTPUT/\"\n",
    "\n"
   ]
  },
  {
   "cell_type": "code",
   "execution_count": 5,
   "metadata": {},
   "outputs": [],
   "source": [
    "clf_args = [n_categories, n_variables, mcm_filename_format, data_filename_format, data_path, communities_path]\n",
    "all_data_path=\"../INPUT_all/data\"\n",
    "result_sample_sizes_dir = \"../OUTPUT/sample_sizes\""
   ]
  },
  {
   "cell_type": "code",
   "execution_count": 9,
   "metadata": {},
   "outputs": [],
   "source": [
    "# for i in [10,100,500,1000,3000,4000,5421]:\n",
    "#     utils.evaluate_subsample(10, clf_args)"
   ]
  },
  {
   "cell_type": "code",
   "execution_count": 15,
   "metadata": {},
   "outputs": [],
   "source": [
    "# utils.evaluate_subsample(5421, clf_args)"
   ]
  },
  {
   "cell_type": "code",
   "execution_count": 24,
   "metadata": {},
   "outputs": [],
   "source": [
    "from src.classify import MCM_Classifier"
   ]
  },
  {
   "cell_type": "code",
   "execution_count": 40,
   "metadata": {},
   "outputs": [
    {
     "name": "stdout",
     "output_type": "stream",
     "text": [
      "Generating bootstrap samples...\n",
      "Done!\n",
      "Generating bootstrap samples...\n",
      "Done!\n",
      "Generating bootstrap samples...\n",
      "Done!\n",
      "Generating bootstrap samples...\n",
      "Done!\n",
      "Generating bootstrap samples...\n",
      "Done!\n",
      "Generating bootstrap samples...\n",
      "Done!\n",
      "Generating bootstrap samples...\n",
      "Done!\n",
      "Generating bootstrap samples...\n",
      "Done!\n",
      "Generating bootstrap samples...\n",
      "Done!\n",
      "Generating bootstrap samples...\n",
      "Done!\n",
      "--------------------------------------------------\n",
      "--  Running MinCompSpin_SimulatedAnnealing...  ---\n",
      "--------------------------------------------------\n",
      "\n",
      "✓ SAA for train-images-unlabeled-0_bootstrap finished successfully\n",
      "✓ SAA for train-images-unlabeled-1_bootstrap finished successfully\n",
      "✓ SAA for train-images-unlabeled-2_bootstrap finished successfully\n",
      "✓ SAA for train-images-unlabeled-3_bootstrap finished successfully\n",
      "✓ SAA for train-images-unlabeled-4_bootstrap finished successfully\n",
      "✓ SAA for train-images-unlabeled-5_bootstrap finished successfully\n",
      "✓ SAA for train-images-unlabeled-6_bootstrap finished successfully\n",
      "✓ SAA for train-images-unlabeled-7_bootstrap finished successfully\n",
      "✓ SAA for train-images-unlabeled-8_bootstrap finished successfully\n",
      "✓ SAA for train-images-unlabeled-9_bootstrap finished successfully\n",
      "✓ Done!\n",
      "--------------------------------------------------\n",
      "--  Constructing probability distributions...  ---\n",
      "--------------------------------------------------\n",
      "\n"
     ]
    }
   ],
   "source": [
    "utils.subsample_data(5000)\n",
    "classifier = MCM_Classifier(*clf_args)\n",
    "classifier.fit(greedy=True, max_iter=1000000, max_no_improvement=100000)\n",
    "classifier_5k = classifier"
   ]
  },
  {
   "cell_type": "code",
   "execution_count": 41,
   "metadata": {},
   "outputs": [
    {
     "name": "stdout",
     "output_type": "stream",
     "text": [
      "Generating bootstrap samples...\n",
      "Done!\n",
      "Generating bootstrap samples...\n",
      "Done!\n",
      "Generating bootstrap samples...\n",
      "Done!\n",
      "Generating bootstrap samples...\n",
      "Done!\n",
      "Generating bootstrap samples...\n",
      "Done!\n",
      "Generating bootstrap samples...\n",
      "Done!\n",
      "Generating bootstrap samples...\n",
      "Done!\n",
      "Generating bootstrap samples...\n",
      "Done!\n",
      "Generating bootstrap samples...\n",
      "Done!\n",
      "Generating bootstrap samples...\n",
      "Done!\n",
      "--------------------------------------------------\n",
      "--  Running MinCompSpin_SimulatedAnnealing...  ---\n",
      "--------------------------------------------------\n",
      "\n",
      "✓ SAA for train-images-unlabeled-0_bootstrap finished successfully\n",
      "✓ SAA for train-images-unlabeled-1_bootstrap finished successfully\n",
      "✓ SAA for train-images-unlabeled-2_bootstrap finished successfully\n",
      "✓ SAA for train-images-unlabeled-3_bootstrap finished successfully\n",
      "✓ SAA for train-images-unlabeled-4_bootstrap finished successfully\n",
      "✓ SAA for train-images-unlabeled-5_bootstrap finished successfully\n",
      "✓ SAA for train-images-unlabeled-6_bootstrap finished successfully\n",
      "✓ SAA for train-images-unlabeled-7_bootstrap finished successfully\n",
      "✓ SAA for train-images-unlabeled-8_bootstrap finished successfully\n",
      "✓ SAA for train-images-unlabeled-9_bootstrap finished successfully\n",
      "✓ Done!\n",
      "--------------------------------------------------\n",
      "--  Constructing probability distributions...  ---\n",
      "--------------------------------------------------\n",
      "\n"
     ]
    }
   ],
   "source": [
    "utils.subsample_data(2)\n",
    "classifier = MCM_Classifier(*clf_args)\n",
    "classifier.fit(greedy=True, max_iter=1000000, max_no_improvement=100000)\n",
    "classifier_2 = classifier"
   ]
  },
  {
   "cell_type": "code",
   "execution_count": 42,
   "metadata": {},
   "outputs": [],
   "source": [
    "_5k = classifier_5k.get_MCMs()[0]"
   ]
  },
  {
   "cell_type": "code",
   "execution_count": 43,
   "metadata": {},
   "outputs": [],
   "source": [
    "_2 = classifier_2.get_MCMs()[0]"
   ]
  },
  {
   "cell_type": "code",
   "execution_count": 44,
   "metadata": {},
   "outputs": [
    {
     "data": {
      "text/plain": [
       "True"
      ]
     },
     "execution_count": 44,
     "metadata": {},
     "output_type": "execute_result"
    }
   ],
   "source": [
    "import numpy as np\n",
    "np.allclose(np.genfromtxt(_5k,delimiter=1,dtype=int),np.genfromtxt(_2,delimiter=1,dtype=int))"
   ]
  },
  {
   "cell_type": "markdown",
   "metadata": {},
   "source": [
    "How can it be that the Classifier finds the exact same communities independent of the sampling. Maybe it does not save the mcms after fitting? \n",
    "It takes different amount of times for the fitting processes, so it reads the right data.\n",
    "Maybe the mcms we load to the classifier are not the ones that we use for fitting?\n",
    "Maybe get_MCM() gets the MCMs but they are not saved if there are some in the folder already?\n",
    "\n",
    "OK SA does not save the MCM, but then i do not get how the classification reports can look different. Maybe we only get probabilities back. Need to check how that can be.\n",
    "\n"
   ]
  },
  {
   "cell_type": "markdown",
   "metadata": {},
   "source": []
  }
 ],
 "metadata": {
  "kernelspec": {
   "display_name": "mcm_classifying",
   "language": "python",
   "name": "python3"
  },
  "language_info": {
   "codemirror_mode": {
    "name": "ipython",
    "version": 3
   },
   "file_extension": ".py",
   "mimetype": "text/x-python",
   "name": "python",
   "nbconvert_exporter": "python",
   "pygments_lexer": "ipython3",
   "version": "3.11.5"
  }
 },
 "nbformat": 4,
 "nbformat_minor": 2
}
