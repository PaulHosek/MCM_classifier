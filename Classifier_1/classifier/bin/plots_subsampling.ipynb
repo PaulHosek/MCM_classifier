{
 "cells": [
  {
   "cell_type": "code",
   "execution_count": 2,
   "metadata": {},
   "outputs": [],
   "source": [
    "import sys\n",
    "sys.path.append(\"../\")"
   ]
  },
  {
   "cell_type": "code",
   "execution_count": 3,
   "metadata": {},
   "outputs": [
    {
     "data": {
      "text/plain": [
       "<module 'src.paper_utils' from '/Users/paulhosek/PycharmProjects/mcm/MCM_classifier/Classifier_1/classifier/bin/../src/paper_utils.py'>"
      ]
     },
     "execution_count": 3,
     "metadata": {},
     "output_type": "execute_result"
    }
   ],
   "source": [
    "import src.paper_utils as utils\n",
    "import importlib\n",
    "importlib.reload(utils)"
   ]
  },
  {
   "cell_type": "code",
   "execution_count": 4,
   "metadata": {},
   "outputs": [],
   "source": [
    "n_categories = 10 \n",
    "n_variables = 121  \n",
    "mcm_filename_format = \"train-images-unlabeled-{}_comms.dat\"\n",
    "data_filename_format = \"train-images-unlabeled-{}.dat\"\n",
    "data_path = \"../INPUT/data/\"\n",
    "communities_path = \"../INPUT/MCMs/\"\n",
    "output_path = \"../OUTPUT/\"\n",
    "\n"
   ]
  },
  {
   "cell_type": "code",
   "execution_count": 5,
   "metadata": {},
   "outputs": [],
   "source": [
    "clf_args = [n_categories, n_variables, mcm_filename_format, data_filename_format, data_path, communities_path]\n",
    "all_data_path=\"../INPUT_all/data\"\n",
    "result_sample_sizes_dir = \"../OUTPUT/sample_sizes\""
   ]
  },
  {
   "cell_type": "code",
   "execution_count": 9,
   "metadata": {},
   "outputs": [],
   "source": [
    "# for i in [10,100,500,1000,3000,4000,5421]:\n",
    "#     utils.evaluate_subsample(10, clf_args)"
   ]
  },
  {
   "cell_type": "code",
   "execution_count": 15,
   "metadata": {},
   "outputs": [],
   "source": [
    "# utils.evaluate_subsample(5421, clf_args)"
   ]
  },
  {
   "cell_type": "code",
   "execution_count": 24,
   "metadata": {},
   "outputs": [],
   "source": [
    "from src.classify import MCM_Classifier"
   ]
  },
  {
   "cell_type": "code",
   "execution_count": 40,
   "metadata": {},
   "outputs": [
    {
     "name": "stdout",
     "output_type": "stream",
     "text": [
      "Generating bootstrap samples...\n",
      "Done!\n",
      "Generating bootstrap samples...\n",
      "Done!\n",
      "Generating bootstrap samples...\n",
      "Done!\n",
      "Generating bootstrap samples...\n",
      "Done!\n",
      "Generating bootstrap samples...\n",
      "Done!\n",
      "Generating bootstrap samples...\n",
      "Done!\n",
      "Generating bootstrap samples...\n",
      "Done!\n",
      "Generating bootstrap samples...\n",
      "Done!\n",
      "Generating bootstrap samples...\n",
      "Done!\n",
      "Generating bootstrap samples...\n",
      "Done!\n",
      "--------------------------------------------------\n",
      "--  Running MinCompSpin_SimulatedAnnealing...  ---\n",
      "--------------------------------------------------\n",
      "\n",
      "✓ SAA for train-images-unlabeled-0_bootstrap finished successfully\n",
      "✓ SAA for train-images-unlabeled-1_bootstrap finished successfully\n",
      "✓ SAA for train-images-unlabeled-2_bootstrap finished successfully\n",
      "✓ SAA for train-images-unlabeled-3_bootstrap finished successfully\n",
      "✓ SAA for train-images-unlabeled-4_bootstrap finished successfully\n",
      "✓ SAA for train-images-unlabeled-5_bootstrap finished successfully\n",
      "✓ SAA for train-images-unlabeled-6_bootstrap finished successfully\n",
      "✓ SAA for train-images-unlabeled-7_bootstrap finished successfully\n",
      "✓ SAA for train-images-unlabeled-8_bootstrap finished successfully\n",
      "✓ SAA for train-images-unlabeled-9_bootstrap finished successfully\n",
      "✓ Done!\n",
      "--------------------------------------------------\n",
      "--  Constructing probability distributions...  ---\n",
      "--------------------------------------------------\n",
      "\n"
     ]
    }
   ],
   "source": [
    "utils.subsample_data(5000)\n",
    "classifier = MCM_Classifier(*clf_args)\n",
    "classifier.fit(greedy=True, max_iter=1000000, max_no_improvement=100000)\n",
    "classifier_5k = classifier"
   ]
  },
  {
   "cell_type": "code",
   "execution_count": 41,
   "metadata": {},
   "outputs": [
    {
     "name": "stdout",
     "output_type": "stream",
     "text": [
      "Generating bootstrap samples...\n",
      "Done!\n",
      "Generating bootstrap samples...\n",
      "Done!\n",
      "Generating bootstrap samples...\n",
      "Done!\n",
      "Generating bootstrap samples...\n",
      "Done!\n",
      "Generating bootstrap samples...\n",
      "Done!\n",
      "Generating bootstrap samples...\n",
      "Done!\n",
      "Generating bootstrap samples...\n",
      "Done!\n",
      "Generating bootstrap samples...\n",
      "Done!\n",
      "Generating bootstrap samples...\n",
      "Done!\n",
      "Generating bootstrap samples...\n",
      "Done!\n",
      "--------------------------------------------------\n",
      "--  Running MinCompSpin_SimulatedAnnealing...  ---\n",
      "--------------------------------------------------\n",
      "\n",
      "✓ SAA for train-images-unlabeled-0_bootstrap finished successfully\n",
      "✓ SAA for train-images-unlabeled-1_bootstrap finished successfully\n",
      "✓ SAA for train-images-unlabeled-2_bootstrap finished successfully\n",
      "✓ SAA for train-images-unlabeled-3_bootstrap finished successfully\n",
      "✓ SAA for train-images-unlabeled-4_bootstrap finished successfully\n",
      "✓ SAA for train-images-unlabeled-5_bootstrap finished successfully\n",
      "✓ SAA for train-images-unlabeled-6_bootstrap finished successfully\n",
      "✓ SAA for train-images-unlabeled-7_bootstrap finished successfully\n",
      "✓ SAA for train-images-unlabeled-8_bootstrap finished successfully\n",
      "✓ SAA for train-images-unlabeled-9_bootstrap finished successfully\n",
      "✓ Done!\n",
      "--------------------------------------------------\n",
      "--  Constructing probability distributions...  ---\n",
      "--------------------------------------------------\n",
      "\n"
     ]
    }
   ],
   "source": [
    "utils.subsample_data(2)\n",
    "classifier = MCM_Classifier(*clf_args)\n",
    "classifier.fit(greedy=True, max_iter=1000000, max_no_improvement=100000)\n",
    "classifier_2 = classifier"
   ]
  },
  {
   "cell_type": "code",
   "execution_count": 42,
   "metadata": {},
   "outputs": [],
   "source": [
    "_5k = classifier_5k.get_MCMs()[0]"
   ]
  },
  {
   "cell_type": "code",
   "execution_count": 43,
   "metadata": {},
   "outputs": [],
   "source": [
    "_2 = classifier_2.get_MCMs()[0]"
   ]
  },
  {
   "cell_type": "code",
   "execution_count": 44,
   "metadata": {},
   "outputs": [
    {
     "data": {
      "text/plain": [
       "True"
      ]
     },
     "execution_count": 44,
     "metadata": {},
     "output_type": "execute_result"
    }
   ],
   "source": [
    "import numpy as np\n",
    "np.allclose(np.genfromtxt(_5k,delimiter=1,dtype=int),np.genfromtxt(_2,delimiter=1,dtype=int))"
   ]
  },
  {
   "cell_type": "markdown",
   "metadata": {},
   "source": [
    "How can it be that the Classifier finds the exact same communities independent of the sampling. Maybe it does not save the mcms after fitting? \n",
    "It takes different amount of times for the fitting processes, so it reads the right data.\n",
    "Maybe the mcms we load to the classifier are not the ones that we use for fitting?\n",
    "Maybe get_MCM() gets the MCMs but they are not saved if there are some in the folder already?\n",
    "\n",
    "OK SA does not save the MCM, but then i do not get how the classification reports can look different. Maybe we only get probabilities back. Need to check how that can be.\n",
    "\n"
   ]
  },
  {
   "cell_type": "code",
   "execution_count": 46,
   "metadata": {},
   "outputs": [],
   "source": [
    "import subprocess\n",
    "import os"
   ]
  },
  {
   "cell_type": "code",
   "execution_count": 52,
   "metadata": {},
   "outputs": [],
   "source": [
    "utils.subsample_data(5000)\n"
   ]
  },
  {
   "cell_type": "code",
   "execution_count": 79,
   "metadata": {},
   "outputs": [
    {
     "name": "stdout",
     "output_type": "stream",
     "text": [
      "- input file: ../../../classifier/INPUT/data/train-images-unlabeled-3\n",
      "- max iterations (stop): 50000 (10000)\n",
      "\n",
      "- loaded: ../input/data/../../../classifier/INPUT/data/train-images-unlabeled-3.dat (5000 samples)\n",
      "\n",
      "- starting from independent partition\n",
      "- initial log-evidence: -32587.9\n",
      "\n",
      "\n",
      "- running simulated annealing algorithm\n",
      "\n",
      "best log-evidence: -32578.1\t@T = 100\ti = 0\n",
      "best log-evidence: -32434.6\t@T = 100\ti = 9\n",
      "best log-evidence: -31709.3\t@T = 100\ti = 16\n",
      "best log-evidence: -31707.1\t@T = 100\ti = 19\n",
      "best log-evidence: -31703.5\t@T = 100\ti = 20\n",
      "best log-evidence: -31699.3\t@T = 100\ti = 28\n",
      "best log-evidence: -31698.1\t@T = 100\ti = 29\n",
      "best log-evidence: -31696.7\t@T = 100\ti = 31\n",
      "best log-evidence: -31694.7\t@T = 100\ti = 32\n",
      "best log-evidence: -31694.6\t@T = 100\ti = 33\n",
      "best log-evidence: -31639.1\t@T = 100\ti = 34\n",
      "best log-evidence: -31550.5\t@T = 100\ti = 39\n",
      "best log-evidence: -30814.5\t@T = 100\ti = 40\n",
      "best log-evidence: -30734.4\t@T = 100\ti = 42\n",
      "best log-evidence: -30658.3\t@T = 100\ti = 47\n",
      "best log-evidence: -30563.7\t@T = 100\ti = 49\n",
      "best log-evidence: -30561.8\t@T = 100\ti = 52\n",
      "best log-evidence: -30557.6\t@T = 100\ti = 56\n",
      "best log-evidence: -30552.2\t@T = 100\ti = 59\n",
      "best log-evidence: -30534.9\t@T = 100\ti = 60\n",
      "best log-evidence: -30530.7\t@T = 100\ti = 84\n",
      "best log-evidence: -30528.7\t@T = 100\ti = 85\n",
      "best log-evidence: -30042.6\t@T = 100\ti = 86\n",
      "best log-evidence: -29725.8\t@T = 100\ti = 87\n",
      "best log-evidence: -28914.7\t@T = 100\ti = 90\n",
      "best log-evidence: -28658.5\t@T = 17.8091\ti = 111\n",
      "best log-evidence: -28624.1\t@T = 17.8091\ti = 147\n",
      "best log-evidence: -28557.9\t@T = 17.8091\ti = 150\n",
      "best log-evidence: -28556.6\t@T = 17.8091\ti = 157\n",
      "best log-evidence: -28125.6\t@T = 17.8091\ti = 169\n",
      "best log-evidence: -28120.9\t@T = 17.8091\ti = 173\n",
      "best log-evidence: -27874.9\t@T = 17.8091\ti = 174\n",
      "best log-evidence: -27868.6\t@T = 17.8091\ti = 178\n",
      "best log-evidence: -27476.2\t@T = 17.8091\ti = 181\n",
      "best log-evidence: -27474.8\t@T = 17.8091\ti = 185\n",
      "best log-evidence: -27473.6\t@T = 17.8091\ti = 195\n",
      "best log-evidence: -27473.5\t@T = 15.8647\ti = 217\n",
      "best log-evidence: -27471.3\t@T = 15.8647\ti = 242\n",
      "best log-evidence: -27313.2\t@T = 15.8647\ti = 250\n",
      "best log-evidence: -27312.3\t@T = 15.8647\ti = 253\n",
      "best log-evidence: -27311.5\t@T = 15.8647\ti = 254\n",
      "best log-evidence: -27308.3\t@T = 15.8647\ti = 262\n",
      "best log-evidence: -27307.1\t@T = 15.8647\ti = 264\n",
      "best log-evidence: -27210.1\t@T = 15.8647\ti = 273\n",
      "best log-evidence: -27204.5\t@T = 15.8647\ti = 275\n",
      "best log-evidence: -26991.4\t@T = 14.9096\ti = 331\n",
      "best log-evidence: -26890.2\t@T = 14.9096\ti = 349\n",
      "best log-evidence: -26890.1\t@T = 14.9096\ti = 374\n",
      "best log-evidence: -26885.7\t@T = 14.9096\ti = 376\n",
      "best log-evidence: -26863.7\t@T = 14.298\ti = 450\n",
      "best log-evidence: -26861.7\t@T = 14.298\ti = 454\n",
      "best log-evidence: -26861.4\t@T = 14.298\ti = 458\n",
      "best log-evidence: -26787.5\t@T = 14.298\ti = 461\n",
      "best log-evidence: -26784.3\t@T = 14.298\ti = 476\n",
      "best log-evidence: -26764.5\t@T = 13.8569\ti = 521\n",
      "best log-evidence: -26763.2\t@T = 13.8569\ti = 534\n",
      "best log-evidence: -26761\t@T = 13.8569\ti = 540\n",
      "best log-evidence: -26607.8\t@T = 13.8569\ti = 561\n",
      "best log-evidence: -26607.5\t@T = 13.8569\ti = 567\n",
      "best log-evidence: -26600\t@T = 13.8569\ti = 574\n",
      "best log-evidence: -26598\t@T = 13.5161\ti = 610\n",
      "best log-evidence: -26591.5\t@T = 13.5161\ti = 650\n",
      "best log-evidence: -26585.5\t@T = 13.5161\ti = 686\n",
      "best log-evidence: -26584.3\t@T = 13.0109\ti = 819\n",
      "best log-evidence: -26581.9\t@T = 13.0109\ti = 828\n",
      "best log-evidence: -26503.6\t@T = 12.8148\ti = 986\n",
      "best log-evidence: -26502.3\t@T = 12.8148\ti = 994\n",
      "best log-evidence: -26500\t@T = 12.8148\ti = 995\n",
      "best log-evidence: -26496.5\t@T = 12.3595\ti = 1213\n",
      "\n",
      "- maximum iterations without improvement reached\n",
      "- iterations per second: 272798\n",
      "\n",
      "- running greedy merging algorithm on 6 communities\n",
      "\n",
      "- current log-evidence (after SAA): -26496.5\n",
      "- best log-evidence (after SAA):    -26496.5\n",
      "final log-evidence: -26496.5\n",
      "final community: \n",
      "3\t00001111100000000111 | size: 8\n",
      "9\t10000000001000000000 | size: 2\n",
      "11\t00000000010000000000 | size: 1\n",
      "18\t00110000000011111000 | size: 7\n",
      "19\t01000000000100000000 | size: 2\n"
     ]
    }
   ],
   "source": [
    "n = 20\n",
    "datafile = os.path.join(\"../../../classifier/INPUT/data/train-images-unlabeled-3\")\n",
    "saa_args = ('../../MinCompSpin_SimulatedAnnealing/bin/saa.out', str(n), '-i', datafile) # the run command as an argument tuple\n",
    "# calling the algorithm\n",
    "# saa = subprocess.Popen(saa_args, stdout = subprocess.PIPE)\n",
    "saa = subprocess.Popen(saa_args, stdout = subprocess.PIPE)\n",
    "\n",
    "# parsing the output from the algorithm\n",
    "for line in saa.stdout:\n",
    "    print(line[:-1].decode('utf-8'))"
   ]
  },
  {
   "cell_type": "markdown",
   "metadata": {},
   "source": []
  }
 ],
 "metadata": {
  "kernelspec": {
   "display_name": "mcm_classifying",
   "language": "python",
   "name": "python3"
  },
  "language_info": {
   "codemirror_mode": {
    "name": "ipython",
    "version": 3
   },
   "file_extension": ".py",
   "mimetype": "text/x-python",
   "name": "python",
   "nbconvert_exporter": "python",
   "pygments_lexer": "ipython3",
   "version": "3.11.5"
  }
 },
 "nbformat": 4,
 "nbformat_minor": 2
}
