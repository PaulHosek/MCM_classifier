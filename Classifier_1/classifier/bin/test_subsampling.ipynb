{
 "cells": [
  {
   "cell_type": "code",
   "execution_count": 2,
   "metadata": {},
   "outputs": [],
   "source": [
    "import numpy as np\n",
    "import os"
   ]
  },
  {
   "cell_type": "code",
   "execution_count": 3,
   "metadata": {},
   "outputs": [],
   "source": [
    "# in INPUT. delete the contents of the datafolder that start with \"train-\"\n",
    "# then for each bootstrap data file\n",
    "    # load, subsample the needed amount of rows, put subset into INPUT file"
   ]
  },
  {
   "cell_type": "code",
   "execution_count": 15,
   "metadata": {},
   "outputs": [],
   "source": [
    "import numpy as np\n",
    "import os\n",
    "\n",
    "def subsample_data(sample_size=None, all_data_path=\"../INPUT_all/data\", input_data_path=\"../INPUT/data\", k, seed=42):\n",
    "    \"\"\"Clear the input_data_path folder and fill it with samples from the all_data_path folder.\n",
    "    \n",
    "    :param sample_size: if None then take whole sample, otherwise provide integer of how many samples. Must be <= available samples.\n",
    "\n",
    "    \"\"\"\n",
    "    rng = np.random.default_rng(seed)\n",
    "\n",
    "    # Iterate over the files and delete the ones that start with \"train-\"\n",
    "    for file in os.listdir(input_data_path):\n",
    "        if file.startswith(\"train-\"):\n",
    "            os.remove(os.path.join(input_data_path, file))\n",
    "\n",
    "    # generate new input data \n",
    "    for file in os.listdir(all_data_path):\n",
    "        if file.startswith(\"train-\"):\n",
    "            inp = np.loadtxt(os.path.join(all_data_path,file), dtype=\"str\")\n",
    "            np.savetxt(os.path.join(input_data_path, file), rng.choice(inp, sample_size), fmt=\"%s\")\n",
    "\n",
    "\n",
    "\n"
   ]
  },
  {
   "cell_type": "code",
   "execution_count": 29,
   "metadata": {},
   "outputs": [],
   "source": [
    "\n"
   ]
  },
  {
   "cell_type": "code",
   "execution_count": 27,
   "metadata": {},
   "outputs": [],
   "source": [
    "\n",
    "\n"
   ]
  },
  {
   "cell_type": "code",
   "execution_count": null,
   "metadata": {},
   "outputs": [],
   "source": []
  }
 ],
 "metadata": {
  "kernelspec": {
   "display_name": "mcm_classifying",
   "language": "python",
   "name": "python3"
  },
  "language_info": {
   "codemirror_mode": {
    "name": "ipython",
    "version": 3
   },
   "file_extension": ".py",
   "mimetype": "text/x-python",
   "name": "python",
   "nbconvert_exporter": "python",
   "pygments_lexer": "ipython3",
   "version": "3.11.5"
  }
 },
 "nbformat": 4,
 "nbformat_minor": 2
}
