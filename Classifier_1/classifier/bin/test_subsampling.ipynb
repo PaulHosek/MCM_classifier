{
 "cells": [
  {
   "cell_type": "code",
   "execution_count": 5,
   "metadata": {},
   "outputs": [],
   "source": [
    "import numpy as np\n",
    "import os"
   ]
  },
  {
   "cell_type": "code",
   "execution_count": 4,
   "metadata": {},
   "outputs": [],
   "source": [
    "# in INPUT. delete the contents of the datafolder that start with \"train-\"\n",
    "# then for each bootstrap data file\n",
    "    # load, subsample the needed amount of rows, put subset into INPUT file"
   ]
  },
  {
   "cell_type": "code",
   "execution_count": 11,
   "metadata": {},
   "outputs": [],
   "source": [
    "data_filename_format = \"train-images-unlabeled-{}.dat\"\n",
    "data_path = \"../all_INPUT/data/\"\n",
    "subsample_path = \"../INPUT/data/\"\n",
    "k = 0\n",
    "seed = 1\n",
    "sample_size = 100\n",
    "file_path = os.path.join(data_path, data_filename_format.format(k))\n"
   ]
  },
  {
   "cell_type": "code",
   "execution_count": 10,
   "metadata": {},
   "outputs": [
    {
     "data": {
      "text/plain": [
       "array(['0000000010000000011110000001110100000111001000011000110001100001000111000110001100011000010011100000111110000000000000000',\n",
       "       '0000000100000000111100000011101000001100011000110000110011000001000110000110001100001100011000110000011111000000011100000',\n",
       "       '0000000000000000111000000011111000000110010000011001100000100011000001000110000010001100000100110000001111100000001110000',\n",
       "       '0000001000000001100010000100000010010000000101100000001010000000110100000001001000000100001000011000011011000000001000000',\n",
       "       '0000000000000001100000000011100000001000100000010001000000100001000001000010000010000100000100011000000100100000001110000',\n",
       "       '0000010000000001111100000110011100001100011000110000010011000000100110000011001100001110011001111000111111000000011000000',\n",
       "       '0000001000000000111000000011110000001111100000010001100001100001000011000010000110001100001100111000001111100000000100000',\n",
       "       '0000000000000001111000000111111000011100011000110000110001100001100010000011000100000110001100011000011111100000011110000',\n",
       "       '0000000000000000001100000001111100000111111100011011111011100001100110000011001100000110011100011000011111100000001110000',\n",
       "       '0000000000000000000000000000000000011111000001100011110011000000010110000001101110001110000111110000000000000000000000000'],\n",
       "      dtype='<U121')"
      ]
     },
     "execution_count": 10,
     "metadata": {},
     "output_type": "execute_result"
    }
   ],
   "source": [
    "inp = np.loadtxt(file_path, dtype=\"str\")\n",
    "rng = np.random.default_rng(1)\n",
    "np.savetxt(rng.choice(inp, 10))\n"
   ]
  },
  {
   "cell_type": "code",
   "execution_count": null,
   "metadata": {},
   "outputs": [],
   "source": []
  }
 ],
 "metadata": {
  "kernelspec": {
   "display_name": "mcm_classifying",
   "language": "python",
   "name": "python3"
  },
  "language_info": {
   "codemirror_mode": {
    "name": "ipython",
    "version": 3
   },
   "file_extension": ".py",
   "mimetype": "text/x-python",
   "name": "python",
   "nbconvert_exporter": "python",
   "pygments_lexer": "ipython3",
   "version": "3.11.5"
  }
 },
 "nbformat": 4,
 "nbformat_minor": 2
}
