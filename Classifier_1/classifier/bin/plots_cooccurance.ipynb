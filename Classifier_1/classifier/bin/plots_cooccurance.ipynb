{
 "cells": [
  {
   "cell_type": "markdown",
   "metadata": {},
   "source": [
    "- want cooccurance plots for each MCM\n",
    "- want want to cluster them etc. see notes\n",
    "- want them for same MCM but different sizes"
   ]
  },
  {
   "cell_type": "code",
   "execution_count": 3,
   "metadata": {},
   "outputs": [],
   "source": [
    "import numpy as np\n",
    "import os\n",
    "import json\n",
    "import sys\n",
    "import matplotlib.pyplot as plt\n",
    "import scipy.cluster.hierarchy as sch\n",
    "\n",
    "sys.path.append(\"../\")\n",
    "import src.plot as myplot\n",
    "\n"
   ]
  },
  {
   "cell_type": "code",
   "execution_count": 2,
   "metadata": {},
   "outputs": [],
   "source": [
    "\n"
   ]
  },
  {
   "cell_type": "code",
   "execution_count": 2,
   "metadata": {},
   "outputs": [],
   "source": [
    "# lets first load some example MCM\n",
    "data_path = \"../OUTPUT/sample_sizes\"\n",
    "sample_size = 10\n",
    "fname = \"MCMs.json\"\n",
    "with open(os.path.join(data_path,str(sample_size), fname), \"r\") as f:\n",
    "        test_MCMs = json.load(f)"
   ]
  },
  {
   "cell_type": "code",
   "execution_count": 59,
   "metadata": {},
   "outputs": [],
   "source": [
    "def create_cooccurance_matrix(mcm):\n",
    "    \"\"\"\n",
    "    Create a co-occurrence matrix based on the given MCMs.\n",
    "\n",
    "    :param MCMs: A list or nparray with strings of nr_pixel elements that are either 0 or 1.\n",
    "    :type MCMs: list or np.ndarray\n",
    "    :return: The ordered co-occurrence matrix.\n",
    "    :rtype: np.ndarray\n",
    "    \"\"\"\n",
    "    mcm = np.genfromtxt(mcm, delimiter=1, dtype=int)\n",
    "    pairs = np.argwhere(mcm == 1).T\n",
    "    nr_pixels = len(pairs[0])\n",
    "    matrix = np.zeros((nr_pixels, nr_pixels))\n",
    "\n",
    "    # fill the groupings into the co-occurrence matrix\n",
    "    for icc in np.unique(pairs[0]):\n",
    "        pixels = pairs[1][pairs[0] == icc]\n",
    "        matrix[np.ix_(pixels, pixels)] = 1\n",
    "        \n",
    "    # cluster MCMs together\n",
    "\n",
    "\n",
    "    return matrix\n",
    "\n",
    "def do_cluster(matrix, via_matrix=None):\n",
    "    \"\"\"\n",
    "    Perform hierarchical clustering on a given matrix.\n",
    "    Can provide via_matrix to base the clustering of \"matrix\" on the dendrogram of \"via_matrix\". \n",
    "\n",
    "    :param matrix: The input matrix for clustering.\n",
    "    :type matrix: numpy.ndarray\n",
    "    :param via_matrix: Optional matrix to base the clustering of \"matrix\" on. Clustering will be performed on \"via_matrix\" and applied to \"matrix\".\n",
    "    :type return_dendro: numpy.ndarray\n",
    "    :return: The clustered matrix\n",
    "    :rtype: numpy.ndarray\n",
    "    \"\"\"\n",
    "    \n",
    "    if via_matrix is None:\n",
    "        out = matrix.copy()\n",
    "        matrix = via_matrix\n",
    "    else:\n",
    "        out = matrix\n",
    "\n",
    "    linkage = sch.linkage(matrix, method='average')\n",
    "    dendrogram = sch.dendrogram(linkage, no_plot=True)\n",
    "    return out[:, dendrogram['leaves']][dendrogram['leaves']]"
   ]
  },
  {
   "cell_type": "code",
   "execution_count": null,
   "metadata": {},
   "outputs": [],
   "source": [
    "\n"
   ]
  },
  {
   "cell_type": "code",
   "execution_count": 60,
   "metadata": {},
   "outputs": [],
   "source": [
    "# get m1, m2 for same MCM but different sample sizes\n",
    "# add them together with + s.t. we get unique colors for some that are only in one but not the other -> think about directionality here as well\n",
    "MCM_idx = 0\n",
    "coom_a = create_cooccurance_matrix(test_MCMs[MCM_idx])\n",
    "comm_"
   ]
  },
  {
   "cell_type": "code",
   "execution_count": 61,
   "metadata": {},
   "outputs": [
    {
     "data": {
      "text/plain": [
       "<matplotlib.image.AxesImage at 0x12a222590>"
      ]
     },
     "execution_count": 61,
     "metadata": {},
     "output_type": "execute_result"
    },
    {
     "data": {
      "image/png": "[encoded data removed]",
      "text/plain": [
       "<Figure size 640x480 with 1 Axes>"
      ]
     },
     "metadata": {},
     "output_type": "display_data"
    }
   ],
   "source": [
    "\n",
    "plt.imshow(do_cluster(coom, coom))"
   ]
  },
  {
   "cell_type": "code",
   "execution_count": 9,
   "metadata": {},
   "outputs": [],
   "source": [
    "import seaborn as sns\n"
   ]
  },
  {
   "cell_type": "code",
   "execution_count": 53,
   "metadata": {},
   "outputs": [],
   "source": [
    "g = sns.clustermap(do_cluster(coom), cmap=\"tab20c_r\", linewidth=.99,\n",
    "                    edgecolor=\"white\", \n",
    "                    dendrogram_ratio=(1e-10,1e-10), # This line \n",
    "                    figsize=(15,15),\n",
    "                    xticklabels=False,\n",
    "                    yticklabels=False,\n",
    "                    row_cluster=False,\n",
    "                    col_cluster=False,\n",
    "                    cbar=False)\n",
    "# g.ax_row_dendrogram.remove()\n",
    "# g.ax_col_dendrogram.remove()\n",
    "g.ax_heatmap.set_facecolor(\"gray\")\n",
    "\n",
    "g.cax.set_visible(False)\n",
    "plt.close()"
   ]
  },
  {
   "cell_type": "markdown",
   "metadata": {},
   "source": [
    "------------------------------"
   ]
  },
  {
   "cell_type": "code",
   "execution_count": null,
   "metadata": {},
   "outputs": [],
   "source": [
    "test_mcm = test_MCMs[0]\n",
    "test_mcm = np.genfromtxt(test_mcm,delimiter=1,dtype=int)\n",
    "\n",
    "\n",
    "idx_pairs = np.argwhere(test_mcm==1).T\n",
    "cooocurance_matrix = np.zeros((121,121))\n",
    "\n",
    "cooocurance_matrix[idx_pairs[0],idx_pairs[1]] = 1\n",
    "cooocurance_matrix[idx_pairs[1],idx_pairs[0]] = 1\n",
    "\n",
    "plt.imshow(cooocurance_matrix)\n",
    "\n",
    "mcm = np.array([\"11000\", \"00111\"],dtype=str)\n",
    "\n",
    "mcm"
   ]
  }
 ],
 "metadata": {
  "kernelspec": {
   "display_name": "mcm_classifying",
   "language": "python",
   "name": "python3"
  },
  "language_info": {
   "codemirror_mode": {
    "name": "ipython",
    "version": 3
   },
   "file_extension": ".py",
   "mimetype": "text/x-python",
   "name": "python",
   "nbconvert_exporter": "python",
   "pygments_lexer": "ipython3",
   "version": "3.11.5"
  }
 },
 "nbformat": 4,
 "nbformat_minor": 2
}
