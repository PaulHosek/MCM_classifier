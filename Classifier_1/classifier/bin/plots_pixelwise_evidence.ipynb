{
 "cells": [
  {
   "cell_type": "code",
   "execution_count": 1,
   "metadata": {},
   "outputs": [],
   "source": [
    "import sys\n",
    "sys.path.append(\"../\")\n",
    "\n",
    "import matplotlib.pyplot as plt\n",
    "import numpy as np\n",
    "from src.loaders import load_data, load_labels\n",
    "from src.classify import MCM_Classifier\n",
    "import os\n",
    "import src.plot as myplot\n"
   ]
  },
  {
   "cell_type": "code",
   "execution_count": 2,
   "metadata": {},
   "outputs": [
    {
     "data": {
      "text/plain": [
       "<module 'src.plot' from '/Users/paulhosek/PycharmProjects/mcm/MCM_classifier/Classifier_1/classifier/bin/../src/plot.py'>"
      ]
     },
     "execution_count": 2,
     "metadata": {},
     "output_type": "execute_result"
    }
   ],
   "source": [
    "import importlib\n",
    "import src.plot as myplot\n",
    "importlib.reload(myplot)"
   ]
  },
  {
   "cell_type": "code",
   "execution_count": 3,
   "metadata": {},
   "outputs": [],
   "source": [
    "# Customizable environment variables\n",
    "n_categories = 10  # Number of categories to be classified\n",
    "n_variables = 121  # Number of variables in the dataset\n",
    "mcm_filename_format = \"train-images-unlabeled-{}_comms.dat\"\n",
    "data_filename_format = \"train-images-unlabeled-{}.dat\"\n",
    "data_path = \"../INPUT/data/\"\n",
    "communities_path = \"../INPUT/MCMs/\"\n",
    "output_path = \"../OUTPUT/\""
   ]
  },
  {
   "cell_type": "code",
   "execution_count": 4,
   "metadata": {},
   "outputs": [
    {
     "name": "stdout",
     "output_type": "stream",
     "text": [
      "----------------  MCM-Classifier  ----------------\n",
      "Generating bootstrap samples...\n",
      "Done!\n",
      "Generating bootstrap samples...\n",
      "Done!\n",
      "Generating bootstrap samples...\n",
      "Done!\n",
      "Generating bootstrap samples...\n",
      "Done!\n",
      "Generating bootstrap samples...\n",
      "Done!\n",
      "Generating bootstrap samples...\n",
      "Done!\n",
      "Generating bootstrap samples...\n",
      "Done!\n",
      "Generating bootstrap samples...\n",
      "Done!\n",
      "Generating bootstrap samples...\n",
      "Done!\n",
      "Generating bootstrap samples...\n",
      "Done!\n",
      "--------------------------------------------------\n",
      "--  Running MinCompSpin_SimulatedAnnealing...  ---\n",
      "--------------------------------------------------\n",
      "\n",
      "✓ SAA for train-images-unlabeled-0_bootstrap finished successfully\n",
      "✓ SAA for train-images-unlabeled-1_bootstrap finished successfully\n",
      "✓ SAA for train-images-unlabeled-2_bootstrap finished successfully\n",
      "✓ SAA for train-images-unlabeled-3_bootstrap finished successfully\n",
      "✓ SAA for train-images-unlabeled-4_bootstrap finished successfully\n",
      "✓ SAA for train-images-unlabeled-5_bootstrap finished successfully\n",
      "✓ SAA for train-images-unlabeled-6_bootstrap finished successfully\n",
      "✓ SAA for train-images-unlabeled-7_bootstrap finished successfully\n",
      "✓ SAA for train-images-unlabeled-8_bootstrap finished successfully\n",
      "✓ SAA for train-images-unlabeled-9_bootstrap finished successfully\n",
      "✓ Done!\n",
      "--------------------------------------------------\n",
      "--  Constructing probability distributions...  ---\n",
      "--------------------------------------------------\n",
      "\n",
      "--------------------------------------------------\n",
      "-----------  Evaluating classifier...  -----------\n",
      "--------------------------------------------------\n",
      "\n",
      "--------------------------------------------------\n",
      "----  1. Calculating state probabilities...  -----\n",
      "--------------------------------------------------\n",
      "\n",
      "Number of datapoints for which the classifier didn't have any probability for any category: 0\n",
      "--------------------------------------------------\n",
      "----------  2. Calculating accuracy...  ----------\n",
      "--------------------------------------------------\n",
      "\n",
      "--------------------------------------------------\n",
      "--------------  3. Saving stats...  --------------\n",
      "--------------------------------------------------\n",
      "\n",
      "✅ Done!\n"
     ]
    }
   ],
   "source": [
    "print(\"{:-^50}\".format(\"  MCM-Classifier  \")) \n",
    "\n",
    "test_data = load_data(\"../INPUT/data/test-images-unlabeled-all-uniform.txt\").astype(int)\n",
    "test_labels = load_labels(\"../INPUT/data/test-labels-uniform.txt\").astype(int)\n",
    "\n",
    "# Step 1: Initialize classifier\n",
    "classifier = MCM_Classifier(n_categories, n_variables, mcm_filename_format, data_filename_format, data_path, communities_path)\n",
    "\n",
    "# Step 2: Train\n",
    "classifier.fit(greedy=True, max_iter=1000000, max_no_improvement=100000)\n",
    "\n",
    "\n",
    "# Step 3: Evaluate\n",
    "predicted_classes, probs = classifier.predict(test_data, test_labels)\n",
    "\n",
    "# Step 4: Save classification report and other stats\n",
    "# report = classifier.get_classification_report(test_labels)\n",
    "classifier.save_classification_report(test_labels,path=output_path)\n",
    "\n",
    "if (classifier.stats == None):\n",
    "    raise Exception(\"Classifier stats not found. Did you forget to call predict()?\")\n"
   ]
  },
  {
   "cell_type": "code",
   "execution_count": 18,
   "metadata": {},
   "outputs": [],
   "source": [
    "Ps = classifier.get_P() # category, icc in MCM, 2**rank_icc probability distribution\n",
    "MCMs = classifier.get_MCMs()\n",
    "Counts = classifier.get_Counts()\n",
    "N = Counts[0][0].sum().astype(int) "
   ]
  },
  {
   "cell_type": "code",
   "execution_count": 34,
   "metadata": {},
   "outputs": [
    {
     "data": {
      "text/plain": [
       "array(['1000000000100000000000000000000000000000000000000000000000000000000000000000000000000000000000000000000000000000000000000',\n",
       "       '0000000000000000000000100000000000000000000000000000000000000000000000000000000000000000000000000000000000000000000000001',\n",
       "       '0000000000000000000000000000000000000000010000000001110000000011100000000101000000000000000000000000000000000000000000000',\n",
       "       '0000000000000000000000000000000000000000000010000000000100000000001000000000010000000000000000000000000000000000000000000',\n",
       "       '0001100000001100000000010000000000000000000000000000000000000000000000000000000000000000000000000000000000000000000000000',\n",
       "       '0000000000000000000000000000000000000000000000000000000000000000000000000000000000000000000000000000001111100000001110000',\n",
       "       '0000000000000000000000000000000000000000000000000000000000000000000000000000000000000000000000000001000000000001000000000',\n",
       "       '0000000000000000000000000000000000000000000000000000000000000000000000000010000000011110000011111000000000000000000000000',\n",
       "       '0000000011000000000011000000000010000000000000000000000000000000000000000000000000000000000000000000000000000000000000000',\n",
       "       '0000000000000000000000000000000000000000000000000000000000000000000000000000000000000000000000000000000000000100000000010',\n",
       "       '0000000000000000000000000000000000000000000000000000000000001100000000111000000001100000000000000000000000000000000000000',\n",
       "       '0000001100000000011100000000001100000000001000000000000000000000000000000000000000000000000000000000000000000000000000000',\n",
       "       '0000000000000000000000000000000000000000000000100000000011000000000110000000001100000000010000000000000000000000000000000',\n",
       "       '0100000000000000000000000000000000000000000000000000000000000000000000000000000000000000000000000000000000000010000000000',\n",
       "       '0000000000000000000000000000000000000000000100000000001000000000010000000000100000000001000000000100000000010000000001000',\n",
       "       '0000000000000000000000000001110000000011100000000110000000000000000000000000000000000000000000000000000000000000000000000',\n",
       "       '0000010000000011000000001100000000110000000001000000000000000000000000000000000000000000000000000000000000000000000000000',\n",
       "       '0000000000000000000000000000000000000000000000000000000000000000000000000000000000000000000000000010000000001000000000100',\n",
       "       '0010000000000000000000000000000000000000000000000000000000000000000000000000000000000000000000000000000000000000000000000',\n",
       "       '0000000000010000000000000000000001000000000000000000000000000000000000000000000000000000000000000000000000000000000000000',\n",
       "       '0000000000000000000000000000000000000000000000000000000000000000000000000000000010000000101100000000110000000000110000000',\n",
       "       '0000000000000000100000000010000000001100000000011000000000110000000001000000000000000000000000000000000000000000000000000'],\n",
       "      dtype='<U121')"
      ]
     },
     "execution_count": 34,
     "metadata": {},
     "output_type": "execute_result"
    }
   ],
   "source": [
    "MCMs[0]"
   ]
  },
  {
   "cell_type": "code",
   "execution_count": 26,
   "metadata": {},
   "outputs": [],
   "source": [
    "MCMs[0][0]\n",
    "def rank_icc(icc:str):\n",
    "    \"\"\"Get the rank of an icc given its string representation.\"\"\"\n",
    "\n",
    "    return icc.count(\"1\")\n"
   ]
  },
  {
   "cell_type": "code",
   "execution_count": 33,
   "metadata": {},
   "outputs": [
    {
     "data": {
      "text/plain": [
       "array([-27340.10928365, -13326.30371767,    -40.24539169,   -969.8554934 ,\n",
       "        -5300.58629578,  -6795.89218441, -22608.84491615, -13260.52032613,\n",
       "       -11931.63392645, -16013.12903756, -16127.35596855,  -1330.31380333,\n",
       "         -311.90070708,   -266.91418708, -27357.76908427,   -153.12492052,\n",
       "       -10132.72831215,   -772.94381614, -26492.79823345, -20897.53823688,\n",
       "          -51.36849937])"
      ]
     },
     "execution_count": 33,
     "metadata": {},
     "output_type": "execute_result"
    }
   ],
   "source": [
    "import math\n",
    "mcm_idx = 0\n",
    "\n",
    "import numpy as np\n",
    "import math\n",
    "\n",
    "def evidence_iccs(Counts, MCMs, mcm_idx):\n",
    "    \"\"\"Calculate the evidence for each icc in an MCM.\n",
    "      Return an array of evidences. The sum of that array is the MCM evidence.\n",
    "\n",
    "    :param Counts: Return value of classifier.get_Counts(). Unormalized probability distribution for all MCM for all ICC.  \n",
    "    :type Counts: np.ndarray of shape[category,icc,possible_states]\n",
    "    :param MCMs: Return value of classifier.get_MCMs(). MCMs for all categories.\n",
    "    :type MCMs: np.ndarray of shape[category,icc] of binary strings.\n",
    "    :param mcm_idx: which mcm to calculate the evidence for.\n",
    "    :type mcm_idx: int < #categories\n",
    "    :return: np.ndarray of evidences for each icc. ICC are identified by index\n",
    "    :rtype: np.ndarray of shape [icc_evidences]\n",
    "    \"\"\"\n",
    "    N = Counts[0][0].sum().astype(int) \n",
    "    count_mcm = Counts[mcm_idx]\n",
    "    evidence = np.zeros(len(count_mcm))\n",
    "    log_sqrt_pi = math.log(math.sqrt(math.pi))\n",
    "    for idx, icc in enumerate(count_mcm):\n",
    "        rank = rank_icc(MCMs[mcm_idx][idx])\n",
    "        evidence[idx] += math.lgamma(2**(rank-1)) - math.lgamma(N + 2**(rank-1)) # middle part of equation 8 in Mulatier_2020\n",
    "        for pattern in Counts[mcm_idx][idx]: # last part of equation 8\n",
    "            evidence[idx] += math.lgamma(pattern+.5) - log_sqrt_pi\n",
    "    return evidence\n",
    "\n",
    "evidence_iccs(Counts,MCMs,2)\n"
   ]
  },
  {
   "cell_type": "code",
   "execution_count": 33,
   "metadata": {},
   "outputs": [],
   "source": [
    "comms0 = myplot.generate_icc_comms_map(MCMs[0])\n",
    "P0 = Ps[0]"
   ]
  },
  {
   "cell_type": "code",
   "execution_count": 36,
   "metadata": {},
   "outputs": [
    {
     "data": {
      "text/plain": [
       "1.6699194893220248"
      ]
     },
     "execution_count": 36,
     "metadata": {},
     "output_type": "execute_result"
    }
   ],
   "source": [
    "comms0.max()\n",
    "P0[2]\n"
   ]
  },
  {
   "cell_type": "code",
   "execution_count": 21,
   "metadata": {},
   "outputs": [
    {
     "ename": "TypeError",
     "evalue": "only integer scalar arrays can be converted to a scalar index",
     "output_type": "error",
     "traceback": [
      "\u001b[0;31m---------------------------------------------------------------------------\u001b[0m",
      "\u001b[0;31mTypeError\u001b[0m                                 Traceback (most recent call last)",
      "Cell \u001b[0;32mIn[21], line 1\u001b[0m\n\u001b[0;32m----> 1\u001b[0m mi_matrix \u001b[38;5;241m=\u001b[39m (\u001b[43mP0\u001b[49m\u001b[43m[\u001b[49m\u001b[43mcomms0\u001b[49m\u001b[43m]\u001b[49m)\n",
      "\u001b[0;31mTypeError\u001b[0m: only integer scalar arrays can be converted to a scalar index"
     ]
    }
   ],
   "source": [
    "mi_matrix = (P0[comms0])"
   ]
  },
  {
   "cell_type": "code",
   "execution_count": null,
   "metadata": {},
   "outputs": [],
   "source": [
    "\n",
    "myplot.partition_map(plt.gca(),mi_matrix,mi_matrix,borders,drawing_cond=drawing_cond)  "
   ]
  }
 ],
 "metadata": {
  "kernelspec": {
   "display_name": "mcm_classifying",
   "language": "python",
   "name": "python3"
  },
  "language_info": {
   "codemirror_mode": {
    "name": "ipython",
    "version": 3
   },
   "file_extension": ".py",
   "mimetype": "text/x-python",
   "name": "python",
   "nbconvert_exporter": "python",
   "pygments_lexer": "ipython3",
   "version": "3.11.5"
  }
 },
 "nbformat": 4,
 "nbformat_minor": 2
}
