{
 "cells": [
  {
   "cell_type": "markdown",
   "metadata": {},
   "source": [
    "Co-occurance\n",
    "1. 3 co-occurrence plots next to each other\n",
    "    - [ ] Use default colouring\n",
    "    - [ ] For maybe 5 sizes\n",
    "    - [ ] Do 1 version without any clustering\n",
    "    - [ ] Do 1 other version with clustering using 2000 runs\n",
    "    - [ ] Use entire set, not only training data"
   ]
  },
  {
   "cell_type": "code",
   "execution_count": 1,
   "metadata": {},
   "outputs": [],
   "source": [
    "import numpy as np\n",
    "import os\n",
    "import json\n",
    "import sys\n",
    "import matplotlib.pyplot as plt\n",
    "import scipy.cluster.hierarchy as sch\n",
    "\n",
    "sys.path.append(\"../\")\n",
    "import src.plot as myplot\n",
    "import seaborn as sns\n"
   ]
  },
  {
   "cell_type": "code",
   "execution_count": 2,
   "metadata": {},
   "outputs": [
    {
     "data": {
      "text/plain": [
       "<module 'src.plot' from '/Users/paulhosek/PycharmProjects/mcm/MCM_classifier/Classifier_1/classifier/paper_plots/../src/plot.py'>"
      ]
     },
     "execution_count": 2,
     "metadata": {},
     "output_type": "execute_result"
    }
   ],
   "source": [
    "import importlib\n",
    "import src.plot as myplot\n",
    "importlib.reload(myplot)"
   ]
  },
  {
   "cell_type": "code",
   "execution_count": 3,
   "metadata": {},
   "outputs": [],
   "source": [
    "# 1. Get \"correct \" partition map (some random paritioning from 5423 for now)\n",
    "sample_size = 5423\n",
    "digit = 0\n",
    "samples_path = f\"../OUTPUT/sample_sizes/\"\n",
    "fname = \"MCMs_\"\n",
    "\n",
    "correct_partition = []\n",
    "mcms_path = os.path.join(samples_path, str(sample_size), \"MCMs\")\n",
    "i = 0 # for loop here\n",
    "with open(os.path.join(mcms_path, fname+str(i)+ \".json\")) as f:\n",
    "        # samples[sample_size] = json.load(f)\n",
    "        correct_partition.append(json.load(f))\n",
    "\n",
    "correct_partition = correct_partition[i][digit]\n",
    "correct_coo = myplot.create_cooccurance_matrix(correct_partition)"
   ]
  },
  {
   "cell_type": "code",
   "execution_count": 4,
   "metadata": {},
   "outputs": [
    {
     "ename": "NameError",
     "evalue": "name 'skimage' is not defined",
     "output_type": "error",
     "traceback": [
      "\u001b[0;31m---------------------------------------------------------------------------\u001b[0m",
      "\u001b[0;31mNameError\u001b[0m                                 Traceback (most recent call last)",
      "Cell \u001b[0;32mIn[4], line 25\u001b[0m\n\u001b[1;32m     23\u001b[0m \u001b[38;5;66;03m# VI score average over runs\u001b[39;00m\n\u001b[1;32m     24\u001b[0m mcm_comms \u001b[38;5;241m=\u001b[39m [myplot\u001b[38;5;241m.\u001b[39mgenerate_icc_comms_map(mcm_sample[i][digit]) \u001b[38;5;28;01mfor\u001b[39;00m i \u001b[38;5;129;01min\u001b[39;00m \u001b[38;5;28mrange\u001b[39m(nr_runs)]\n\u001b[0;32m---> 25\u001b[0m vi_raw \u001b[38;5;241m=\u001b[39m  np\u001b[38;5;241m.\u001b[39marray(\u001b[43m[\u001b[49m\u001b[43mskimage\u001b[49m\u001b[38;5;241;43m.\u001b[39;49m\u001b[43mmetrics\u001b[49m\u001b[38;5;241;43m.\u001b[39;49m\u001b[43mvariation_of_information\u001b[49m\u001b[43m(\u001b[49m\u001b[43mcomms_i\u001b[49m\u001b[43m,\u001b[49m\u001b[43m \u001b[49m\u001b[43mcorr_comm\u001b[49m\u001b[43m)\u001b[49m\u001b[43m \u001b[49m\u001b[38;5;28;43;01mfor\u001b[39;49;00m\u001b[43m \u001b[49m\u001b[43mcomms_i\u001b[49m\u001b[43m \u001b[49m\u001b[38;5;129;43;01min\u001b[39;49;00m\u001b[43m \u001b[49m\u001b[43mmcm_comms\u001b[49m\u001b[43m]\u001b[49m)\n\u001b[1;32m     26\u001b[0m vi[s,:] \u001b[38;5;241m=\u001b[39m vi_raw\u001b[38;5;241m.\u001b[39mmean(axis\u001b[38;5;241m=\u001b[39m\u001b[38;5;241m0\u001b[39m)\n\u001b[1;32m     27\u001b[0m vi_std[s,:] \u001b[38;5;241m=\u001b[39m vi_raw\u001b[38;5;241m.\u001b[39mstd(axis\u001b[38;5;241m=\u001b[39m\u001b[38;5;241m0\u001b[39m)\n",
      "Cell \u001b[0;32mIn[4], line 25\u001b[0m, in \u001b[0;36m<listcomp>\u001b[0;34m(.0)\u001b[0m\n\u001b[1;32m     23\u001b[0m \u001b[38;5;66;03m# VI score average over runs\u001b[39;00m\n\u001b[1;32m     24\u001b[0m mcm_comms \u001b[38;5;241m=\u001b[39m [myplot\u001b[38;5;241m.\u001b[39mgenerate_icc_comms_map(mcm_sample[i][digit]) \u001b[38;5;28;01mfor\u001b[39;00m i \u001b[38;5;129;01min\u001b[39;00m \u001b[38;5;28mrange\u001b[39m(nr_runs)]\n\u001b[0;32m---> 25\u001b[0m vi_raw \u001b[38;5;241m=\u001b[39m  np\u001b[38;5;241m.\u001b[39marray([\u001b[43mskimage\u001b[49m\u001b[38;5;241m.\u001b[39mmetrics\u001b[38;5;241m.\u001b[39mvariation_of_information(comms_i, corr_comm) \u001b[38;5;28;01mfor\u001b[39;00m comms_i \u001b[38;5;129;01min\u001b[39;00m mcm_comms])\n\u001b[1;32m     26\u001b[0m vi[s,:] \u001b[38;5;241m=\u001b[39m vi_raw\u001b[38;5;241m.\u001b[39mmean(axis\u001b[38;5;241m=\u001b[39m\u001b[38;5;241m0\u001b[39m)\n\u001b[1;32m     27\u001b[0m vi_std[s,:] \u001b[38;5;241m=\u001b[39m vi_raw\u001b[38;5;241m.\u001b[39mstd(axis\u001b[38;5;241m=\u001b[39m\u001b[38;5;241m0\u001b[39m)\n",
      "\u001b[0;31mNameError\u001b[0m: name 'skimage' is not defined"
     ]
    }
   ],
   "source": [
    "# 2. For a sample size, compute the fraction of correct members in the group of each icc\n",
    "# that is get the partition map and check fraction overlap between rows in where the 1s are excluding diagonal\n",
    "corr_coo = correct_coo\n",
    "np.fill_diagonal(corr_coo,0)\n",
    "nr_runs = 10\n",
    "corr_comm = myplot.generate_icc_comms_map(correct_partition)\n",
    "\n",
    "sample_sizes = [10]+list(range(0,5424,100))[1:]\n",
    "frac = np.zeros(len(sample_sizes))\n",
    "frac_std = np.zeros(len(sample_sizes))\n",
    "vi = np.zeros((len(sample_sizes),2))\n",
    "vi_std = np.zeros((len(sample_sizes),2))\n",
    "\n",
    "for s, sample_size in enumerate(sample_sizes):\n",
    "    # load runs\n",
    "    mcm_sample = []\n",
    "    mcms_path = os.path.join(samples_path, str(sample_size), \"MCMs\")\n",
    "    for i in range(len(os.listdir(mcms_path))):\n",
    "        with open(os.path.join(mcms_path, fname+str(i)+ \".json\")) as f:\n",
    "                mcm_sample.append(json.load(f))\n",
    "    mcm_0_multisample = [myplot.create_cooccurance_matrix(mcm_sample[i][digit]) for i in range(nr_runs)]\n",
    "\n",
    "\n",
    "    mcm_comms = [myplot.generate_icc_comms_map(mcm_sample[i][digit]) for i in range(nr_runs)]\n",
    "\n",
    "\n",
    "\n",
    "\n",
    "\n",
    "\n",
    "    # vi_raw =  np.array([skimage.metrics.variation_of_information(comms_i, corr_comm) for comms_i in mcm_comms])\n",
    "    # vi[s,:] = vi_raw.mean(axis=0)\n",
    "    # vi_std[s,:] = vi_raw.std(axis=0)\n",
    "\n",
    "    # # find pixels in wrong icc\n",
    "    # convergence = []\n",
    "    # for i, mcm_s in enumerate(mcm_0_multisample):\n",
    "    #     a = mcm_s+corr_coo\n",
    "    #     np.fill_diagonal(a, 0)\n",
    "    #     convergence.append(np.where(np.all(a != 2, axis=0))[0])\n",
    "    # # fraction between runs this pixel is not grouped the same as in the end (inverse)\n",
    "    # # fraction of wrong pixels for that sample size over runs\n",
    "    # fraction_incorrectly_grouped = np.zeros((121))\n",
    "    # for conv in convergence:\n",
    "    #     fraction_incorrectly_grouped[conv] += 1\n",
    "    # fraction_incorrectly_grouped = fraction_incorrectly_grouped/len(convergence)\n",
    "    # frac[s] = fraction_incorrectly_grouped.mean()\n",
    "    # frac_std[s] = fraction_incorrectly_grouped.std()"
   ]
  },
  {
   "cell_type": "code",
   "execution_count": null,
   "metadata": {},
   "outputs": [],
   "source": []
  }
 ],
 "metadata": {
  "kernelspec": {
   "display_name": "mcm_classifying",
   "language": "python",
   "name": "python3"
  },
  "language_info": {
   "codemirror_mode": {
    "name": "ipython",
    "version": 3
   },
   "file_extension": ".py",
   "mimetype": "text/x-python",
   "name": "python",
   "nbconvert_exporter": "python",
   "pygments_lexer": "ipython3",
   "version": "3.11.5"
  }
 },
 "nbformat": 4,
 "nbformat_minor": 2
}
