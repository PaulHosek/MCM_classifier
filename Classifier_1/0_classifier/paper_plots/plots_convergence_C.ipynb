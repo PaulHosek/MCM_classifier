{
 "cells": [
  {
   "cell_type": "code",
   "execution_count": 1,
   "metadata": {},
   "outputs": [],
   "source": [
    "import numpy as np\n",
    "import sys\n",
    "sys.path.append(\"../\")"
   ]
  },
  {
   "cell_type": "code",
   "execution_count": 2,
   "metadata": {},
   "outputs": [
    {
     "data": {
      "text/plain": [
       "<module 'src.paper_utils' from '/Users/paulhosek/PycharmProjects/mcm/MCM_classifier/Classifier_1/0_classifier/paper_plots/../src/paper_utils.py'>"
      ]
     },
     "execution_count": 2,
     "metadata": {},
     "output_type": "execute_result"
    }
   ],
   "source": [
    "import importlib\n",
    "import src.paper_utils as utils\n",
    "importlib.reload(utils)"
   ]
  },
  {
   "cell_type": "code",
   "execution_count": 9,
   "metadata": {},
   "outputs": [
    {
     "data": {
      "text/plain": [
       "<module 'src.plot' from '/Users/paulhosek/PycharmProjects/mcm/MCM_classifier/Classifier_1/0_classifier/paper_plots/../src/plot.py'>"
      ]
     },
     "execution_count": 9,
     "metadata": {},
     "output_type": "execute_result"
    }
   ],
   "source": [
    "import importlib\n",
    "import src.plot as myplot\n",
    "importlib.reload(myplot)\n",
    "\n"
   ]
  },
  {
   "cell_type": "markdown",
   "metadata": {},
   "source": [
    "# Convergence plot C\n",
    "\n",
    "digit 0 and 1"
   ]
  },
  {
   "cell_type": "code",
   "execution_count": 3,
   "metadata": {},
   "outputs": [],
   "source": [
    "# # need to read in mcm A stuff\n",
    "# # probabilities for that for digit 0 and 1 for seeing another dataset\n",
    "\n",
    "# # main function for convergence B\n",
    "# def letter_means_stds(letter, sample_sizes, nr_runs, digit,recreate_letter):\n",
    "#     counts_sample, mcm_sample = load_counts_mcm(digit,nr_runs,sample_sizes,letter)\n",
    "\n",
    "\n",
    "#     ms_all = np.empty((len(sample_sizes),nr_runs,2))\n",
    "#     for sample_idx, sample_size in enumerate(sample_sizes):\n",
    "#         m_s_run = np.empty((nr_runs,2))\n",
    "#         for run_idx in range(nr_runs):\n",
    "#             n_icc = len(counts_sample[sample_idx][run_idx][digit])\n",
    "\n",
    "#             sample_recreate = recreate_dataset(recreate_letter, sample_size)\n",
    "\n",
    "#             counts_observe_X, ranks = generate_counts_ranks_singlerun_singlesample(counts_sample, mcm_sample, sample_recreate, run_idx, sample_idx)\n",
    "#             sum_of_count = np.sum(counts_sample[sample_idx][run_idx][0][0])\n",
    "#             # mean probabilities over 100 B samples for some mcm\n",
    "#             m,s = probs_mean_std(counts_observe_X, ranks, sum_of_count,sample_size, n_icc) \n",
    "#             ms_all[sample_idx, run_idx, :] = [m,s]\n",
    "\n",
    "#     return ms_all\n"
   ]
  },
  {
   "cell_type": "code",
   "execution_count": 5,
   "metadata": {},
   "outputs": [],
   "source": [
    "digit = 0\n",
    "nr_runs = 99\n",
    "sample_sizes = [100, 1000,2000,3000]\n",
    "\n",
    "\n",
    "stats_a_seeB = utils.letter_means_stds(\"A\", sample_sizes, nr_runs, digit,recreate_letter=\"B\", data_size=894)"
   ]
  },
  {
   "cell_type": "code",
   "execution_count": 38,
   "metadata": {},
   "outputs": [],
   "source": [
    "# get 5423 sample\n",
    "import json\n",
    "import os\n",
    "\n",
    "def here_load_counts_mcm(digit, nr_runs, sample_sizes):\n",
    "    \"\"\"For all sample sizes, load the counts and mcms for a specific digit and a pool of samples specifid by the letter.\"\"\"\n",
    "    samples_path = \"../OUTPUT/sample_sizes\"\n",
    "\n",
    "    fname = \"Counts_\"\n",
    "    counts_sample = []\n",
    "    for s, sample_size in enumerate(sample_sizes):\n",
    "        counts_runs = []\n",
    "        counts_path = os.path.join(samples_path, str(sample_size), \"Counts\")\n",
    "        for i in range(len(os.listdir(counts_path))):\n",
    "            with open(os.path.join(counts_path, fname+str(i)+ \".json\")) as f:\n",
    "                    counts_runs.append(json.load(f))\n",
    "        \n",
    "        counts_sample.append(counts_runs)\n",
    "\n",
    "    fname = \"MCMs_\"\n",
    "    mcm_sample = []\n",
    "    for s, sample_size in enumerate(sample_sizes):\n",
    "        mcm_runs = []\n",
    "        mcms_path = os.path.join(samples_path, str(sample_size), \"MCMs\")\n",
    "        for i in range(len(os.listdir(mcms_path))):\n",
    "            with open(os.path.join(mcms_path, fname+str(i)+ \".json\")) as f:\n",
    "                    # samples[sample_size] = json.load(f)\n",
    "                    mcm_runs.append(json.load(f))\n",
    "        mcm_sample.append(mcm_runs)\n",
    "\n",
    "    return counts_sample, mcm_sample\n",
    "def load_test_data():\n",
    "        all_data_path=\"../INPUT_all/data/testdata_separated\"\n",
    "        file = \"test-images-unlabeled-0.dat\"\n",
    "        inp = np.loadtxt(os.path.join(all_data_path,file), dtype=\"str\")\n",
    "        return inp\n",
    "\n",
    "def letter_means_stds(sample_sizes, nr_runs, digit):\n",
    "    counts_sample, mcm_sample = here_load_counts_mcm(digit,nr_runs,sample_sizes)\n",
    "\n",
    "\n",
    "    ms_all = np.empty((len(sample_sizes),nr_runs,2))\n",
    "    for sample_idx, sample_size in enumerate(sample_sizes):\n",
    "        m_s_run = np.empty((nr_runs,2))\n",
    "    \n",
    "        for run_idx in range(nr_runs):\n",
    "            n_icc = len(counts_sample[sample_idx][run_idx][digit])\n",
    "        #     sample_recreate = utils.recreate_dataset(recreate_letter, int(data_size))\n",
    "            # load test data instead of recreate\n",
    "            sample_recreate = load_test_data()\n",
    "            \n",
    "\n",
    "            counts_observe_X, ranks = utils.generate_counts_ranks_singlerun_singlesample(counts_sample, mcm_sample, sample_recreate, run_idx, sample_idx)\n",
    "            sum_of_count = np.sum(counts_sample[sample_idx][run_idx][0][0])\n",
    "            # mean probabilities over 100 B samples for some mcm\n",
    "            m,s = utils.probs_mean_std(counts_observe_X, ranks, sum_of_count,892, n_icc) \n",
    "            ms_all[sample_idx, run_idx, :] = [m,s]\n",
    "\n",
    "    return ms_all\n",
    "\n"
   ]
  },
  {
   "cell_type": "code",
   "execution_count": 39,
   "metadata": {},
   "outputs": [],
   "source": [
    "sample_sizes = [5423]\n",
    "nr_runs = 49\n",
    "digit = 0\n",
    "res = letter_means_stds(sample_sizes, nr_runs, digit)"
   ]
  },
  {
   "cell_type": "code",
   "execution_count": 44,
   "metadata": {},
   "outputs": [
    {
     "data": {
      "text/plain": [
       "(49,)"
      ]
     },
     "execution_count": 44,
     "metadata": {},
     "output_type": "execute_result"
    }
   ],
   "source": [
    "res[0,:,0].shape"
   ]
  },
  {
   "cell_type": "code",
   "execution_count": null,
   "metadata": {},
   "outputs": [],
   "source": [
    "res[0,:,0].shape, "
   ]
  },
  {
   "cell_type": "code",
   "execution_count": 49,
   "metadata": {},
   "outputs": [
    {
     "name": "stderr",
     "output_type": "stream",
     "text": [
      "No artists with labels found to put in legend.  Note that artists whose label start with an underscore are ignored when legend() is called with no argument.\n"
     ]
    },
    {
     "data": {
      "image/png": "[encoded data removed]",
      "text/plain": [
       "<Figure size 640x480 with 1 Axes>"
      ]
     },
     "metadata": {},
     "output_type": "display_data"
    }
   ],
   "source": [
    "import matplotlib.pyplot as plt\n",
    "\n",
    "# Define the x-axis values\n",
    "\n",
    "nr_runs = 99\n",
    "# Define the sample sizes\n",
    "sample_sizes = [10, 1000, 2000, 3000]\n",
    "\n",
    "# Iterate over the sample sizes\n",
    "for i, sample_size in enumerate(sample_sizes):\n",
    "    # Get the mean and std values for the current sample size\n",
    "    means = stats_a_seeB[i,:,0]\n",
    "    stds = stats_a_seeB[i,:,1]\n",
    "    \n",
    "    # Plot the error bars\n",
    "    # plt.errorbar(x, means, yerr=stds, label=f'Sample Size: {sample_size}')\n",
    "    plt.scatter(np.full(nr_runs , fill_value=sample_size), means, marker=\".\", color=\"blue\", alpha= .5)\n",
    "\n",
    "plt.scatter(np.full(49 , fill_value=5423), res[0,:,0], marker=\".\", color=\"blue\", alpha= .5)\n",
    "\n",
    "\n",
    "# Add labels and legend\n",
    "plt.xlabel('Sample size')\n",
    "plt.ylabel('Avg Prob on fixed test data')\n",
    "plt.legend()\n",
    "\n",
    "# Show the plot\n",
    "plt.show()\n",
    "\n",
    "# should not be a see b but see same size of data all the time, take 892 (=test data size) samples from B"
   ]
  },
  {
   "cell_type": "code",
   "execution_count": 53,
   "metadata": {},
   "outputs": [
    {
     "data": {
      "text/plain": [
       "array([1.42459784e-12, 1.24915146e-12, 9.80483384e-13, 2.10068884e-12,\n",
       "       9.23017671e-13, 1.33703396e-12, 2.16474865e-12, 1.78968768e-12,\n",
       "       1.10169524e-12, 7.09807421e-13, 1.11211828e-12, 1.60985458e-12,\n",
       "       1.16946504e-12, 1.50433176e-12, 8.83994019e-13, 1.52992186e-12,\n",
       "       1.49385139e-12, 1.69137838e-12, 1.74638834e-12, 1.32423086e-12,\n",
       "       8.05305885e-13, 9.53862897e-13, 1.52668277e-12, 1.45241568e-12,\n",
       "       7.94221603e-13, 1.33876983e-12, 9.40174815e-13, 7.16200660e-13,\n",
       "       2.18920565e-12, 1.12379189e-12, 3.23589605e-12, 1.44508516e-12,\n",
       "       1.95980351e-12, 1.45815794e-12, 3.56108465e-12, 1.00029045e-12,\n",
       "       2.31564262e-12, 9.09405930e-13, 1.21795961e-12, 1.27403439e-12,\n",
       "       2.31347667e-12, 1.24951548e-12, 1.12457885e-12, 2.52581096e-12,\n",
       "       7.50851019e-13, 1.42982217e-12, 1.18567115e-12, 2.44051656e-12,\n",
       "       1.56252575e-12])"
      ]
     },
     "execution_count": 53,
     "metadata": {},
     "output_type": "execute_result"
    }
   ],
   "source": [
    "res[0,:,0]"
   ]
  },
  {
   "cell_type": "code",
   "execution_count": 54,
   "metadata": {},
   "outputs": [
    {
     "data": {
      "image/png": "[encoded data removed]",
      "text/plain": [
       "<Figure size 640x480 with 1 Axes>"
      ]
     },
     "metadata": {},
     "output_type": "display_data"
    }
   ],
   "source": [
    "import matplotlib.pyplot as plt\n",
    "\n",
    "# Define the x-axis values\n",
    "\n",
    "\n",
    "# Define the sample sizes\n",
    "sample_sizes = [100, 1000, 2000, 3000]\n",
    "# Iterate over the sample sizes\n",
    "for i, sample_size in enumerate(sample_sizes):\n",
    "    # Get the mean values for the current sample size\n",
    "    means = stats_a_seeB[i,:,0]\n",
    "    \n",
    "    # Create a box plot\n",
    "    plt.boxplot(means, positions=[sample_size], widths=100)\n",
    "\n",
    "plt.boxplot(res[0,:,0], positions=[5423], widths=100)\n",
    "\n",
    "# Add labels and legend\n",
    "plt.xlabel('Sample size')\n",
    "plt.ylabel('Avg Prob on fixed test data')\n",
    "\n",
    "# Show the plot\n",
    "# plt.xlim((-100,3100))\n",
    "plt.show()\n",
    "\n",
    "\n",
    "\n",
    "# should not be a see b but see same size of data all the time, take 892 (=test data size) samples from B"
   ]
  },
  {
   "cell_type": "code",
   "execution_count": null,
   "metadata": {},
   "outputs": [
    {
     "data": {
      "text/plain": [
       "(4, 50)"
      ]
     },
     "execution_count": 54,
     "metadata": {},
     "output_type": "execute_result"
    }
   ],
   "source": [
    "stats_a_seeB[...,0].shape"
   ]
  },
  {
   "cell_type": "code",
   "execution_count": null,
   "metadata": {},
   "outputs": [],
   "source": []
  },
  {
   "cell_type": "code",
   "execution_count": null,
   "metadata": {},
   "outputs": [],
   "source": []
  },
  {
   "cell_type": "code",
   "execution_count": null,
   "metadata": {},
   "outputs": [
    {
     "data": {
      "text/plain": [
       "(892,)"
      ]
     },
     "execution_count": 25,
     "metadata": {},
     "output_type": "execute_result"
    }
   ],
   "source": [
    "import pandas as pd\n",
    "import numpy as np\n",
    "\n",
    "# Read the first file from the directory\n",
    "file_path = \"../INPUT_all/data/testdata_separated/test-images-unlabeled-0.dat\"\n",
    "\n",
    "file = np.loadtxt(file_path, dtype=str)\n",
    "file.shape\n",
    "\n",
    "\n"
   ]
  },
  {
   "cell_type": "markdown",
   "metadata": {},
   "source": [
    "-----------------------"
   ]
  }
 ],
 "metadata": {
  "kernelspec": {
   "display_name": "mcm_classifying",
   "language": "python",
   "name": "python3"
  },
  "language_info": {
   "codemirror_mode": {
    "name": "ipython",
    "version": 3
   },
   "file_extension": ".py",
   "mimetype": "text/x-python",
   "name": "python",
   "nbconvert_exporter": "python",
   "pygments_lexer": "ipython3",
   "version": "3.11.5"
  }
 },
 "nbformat": 4,
 "nbformat_minor": 2
}
