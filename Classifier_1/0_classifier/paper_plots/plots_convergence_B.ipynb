{
 "cells": [
  {
   "cell_type": "code",
   "execution_count": 1,
   "metadata": {
    "ExecuteTime": {
     "end_time": "2024-03-19T08:49:20.104059Z",
     "start_time": "2024-03-19T08:49:20.069137Z"
    }
   },
   "outputs": [],
   "source": [
    "# import os\n",
    "# import numpy as np\n",
    "# # split full data into 2 mutually exclusive subfolders\n",
    "# input_dir = \"./../INPUT_all/data/combined_data\"\n",
    "# output_dir_A = \"./../INPUT_all/data/combined_split_A\"\n",
    "# output_dir_B = \"./../INPUT_all/data/combined_split_B\"\n",
    "# \n",
    "# # Read files into a numpy array\n",
    "# file_list = os.listdir(input_dir)[1:]\n",
    "# print(file_list)\n",
    "# # for file in file_list\n",
    "# for cat in range(10):\n",
    "#     file = file_list[cat]\n",
    "#     data = np.loadtxt(os.path.join(input_dir, file), dtype=str)\n",
    "# \n",
    "#     split_index = len(data) // 2\n",
    "#     split_A = data[:split_index]\n",
    "#     split_B = data[split_index:]\n",
    "#     if len(split_A) > len(split_B):\n",
    "#         split_A = split_A[:len(split_B)]\n",
    "#     else:\n",
    "#         split_B = split_B[:len(split_A)]\n",
    "# \n",
    "# \n",
    "#     np.savetxt(os.path.join(output_dir_A, f\"half-images-unlabeled-{cat}.dat\"), split_A, fmt=\"%s\")\n",
    "#     np.savetxt(os.path.join(output_dir_B, f\"half-images-unlabeled-{cat}.dat\"), split_B, fmt=\"%s\")\n"
   ]
  },
  {
   "cell_type": "code",
   "execution_count": 1,
   "metadata": {
    "ExecuteTime": {
     "end_time": "2024-03-19T08:52:02.867753Z",
     "start_time": "2024-03-19T08:52:02.815518Z"
    },
    "collapsed": false
   },
   "outputs": [],
   "source": [
    "import numpy as np\n",
    "import os\n",
    "import json\n",
    "import sys\n",
    "import matplotlib.pyplot as plt\n",
    "\n",
    "sys.path.append(\"../\")"
   ]
  },
  {
   "cell_type": "code",
   "execution_count": 2,
   "metadata": {
    "ExecuteTime": {
     "end_time": "2024-03-19T08:52:22.764486Z",
     "start_time": "2024-03-19T08:52:03.498757Z"
    },
    "collapsed": false
   },
   "outputs": [
    {
     "data": {
      "text/plain": [
       "<module 'src.plot' from '/Users/paulhosek/PycharmProjects/mcm/MCM_classifier/Classifier_1/0_classifier/paper_plots/../src/plot.py'>"
      ]
     },
     "execution_count": 2,
     "metadata": {},
     "output_type": "execute_result"
    }
   ],
   "source": [
    "import importlib\n",
    "import src.plot as myplot\n",
    "importlib.reload(myplot)"
   ]
  },
  {
   "cell_type": "code",
   "execution_count": 26,
   "metadata": {},
   "outputs": [],
   "source": [
    "digit = 0\n",
    "nr_runs = 10\n",
    "sample_sizes = [10,100]#,1000]\n",
    "samples_path = \"../OUTPUT/sample_sizes_split_A\""
   ]
  },
  {
   "cell_type": "code",
   "execution_count": 27,
   "metadata": {
    "ExecuteTime": {
     "end_time": "2024-03-19T09:01:22.093626Z",
     "start_time": "2024-03-19T09:01:19.345351Z"
    },
    "collapsed": false
   },
   "outputs": [],
   "source": [
    "# XXX_sample => [sample size, run_index, cat_idx, icc_idx]\n",
    "fname = \"Counts_\"\n",
    "\n",
    "counts_sample = []\n",
    "\n",
    "for s, sample_size in enumerate(sample_sizes):\n",
    "    counts_runs = []\n",
    "    counts_path = os.path.join(samples_path, str(sample_size), \"Counts\")\n",
    "    for i in range(len(os.listdir(counts_path))):\n",
    "        with open(os.path.join(counts_path, fname+str(i)+ \".json\")) as f:\n",
    "                counts_runs.append(json.load(f))\n",
    "    \n",
    "    counts_sample.append(counts_runs)\n",
    "\n",
    "                \n",
    "fname = \"MCMs_\"\n",
    "mcm_sample = []\n",
    "\n",
    "for s, sample_size in enumerate(sample_sizes):\n",
    "    mcm_runs = []\n",
    "    mcms_path = os.path.join(samples_path, str(sample_size), \"MCMs\")\n",
    "    for i in range(len(os.listdir(mcms_path))):\n",
    "        with open(os.path.join(mcms_path, fname+str(i)+ \".json\")) as f:\n",
    "                # samples[sample_size] = json.load(f)\n",
    "                mcm_runs.append(json.load(f))\n",
    "    mcm_sample.append(mcm_runs)"
   ]
  },
  {
   "cell_type": "code",
   "execution_count": 37,
   "metadata": {},
   "outputs": [],
   "source": [
    "# get sample seed=42 from dataset B\n",
    "def recreate_dataset(sample_from_letter, sample_size:int, seed = 42):\n",
    "    \"\"\"Recreate the dataset A or B was build on.\"\"\"\n",
    "    all_data_path=\"../INPUT_all/data/combined_split_{}\".format(sample_from_letter)\n",
    "    file = \"half-images-unlabeled-0.dat\"\n",
    "    sample_size_from_letter = sample_size # needs to be the same as build from sample size. We just show it the exact samples the other one is build on.\n",
    "    rng = np.random.default_rng(seed=seed)\n",
    "    inp = np.loadtxt(os.path.join(all_data_path,file), dtype=\"str\")\n",
    "    return rng.choice(inp, sample_size_from_letter,replace=False)\n",
    "\n",
    "sample_B = recreate_dataset(\"B\", 10)"
   ]
  },
  {
   "cell_type": "code",
   "execution_count": null,
   "metadata": {},
   "outputs": [],
   "source": [
    "# average probability for each icc for observing the data B of the same size was build on\n",
    "# do the same for observing A\n",
    "def generate_counts_ranks_singlerun_singlesample(counts_sample, mcm_sample, see_data,run_idx, sample_idx, cat_idx = 0):\n",
    "    \"\"\"Generate the observed counts for iccs to observe the \"see_data\" sample. Also returns the ranks of the iccs. \"\"\"\n",
    "\n",
    "    counts_observe_B = []\n",
    "\n",
    "    see_data = sample_B\n",
    "\n",
    "    sum_of_count = np.sum(counts_sample[sample_idx][run_idx][cat_idx][0])\n",
    "    data = np.array([[int(s) for s in state] for state in see_data])\n",
    "    for i in range(len(counts_sample[sample_idx][run_idx][cat_idx])):\n",
    "        counts_observe_B.append(myplot.calc_p_icc_single(data,counts_sample[sample_idx][run_idx][cat_idx],121,mcm_sample[sample_idx][run_idx][cat_idx],i))\n",
    "\n",
    "    ranks = np.genfromtxt(mcm_sample[sample_idx][run_idx][cat_idx],dtype=int,delimiter=1).sum(axis=1)\n",
    "\n",
    "    return counts_observe_B, ranks\n",
    "\n",
    "run_idx = 0 # need to make loop\n",
    "sample_idx = 0 # 10 samples, need to make loop\n",
    "generate_counts_ranks_singlerun_singlesample(counts_sample, mcm_sample, sample_B, run_idx, sample_idx)"
   ]
  },
  {
   "cell_type": "code",
   "execution_count": 106,
   "metadata": {},
   "outputs": [
    {
     "data": {
      "text/plain": [
       "(5.991289666971085e-13, 1.0554153698712654e-12)"
      ]
     },
     "execution_count": 106,
     "metadata": {},
     "output_type": "execute_result"
    }
   ],
   "source": [
    "def counts_to_prob(icc_pdf, rank,sum_of_count, add_smooth=True):\n",
    "    alpha = 1\n",
    "    if add_smooth:\n",
    "        zero_f =  lambda x: (x+alpha)/ (sum_of_count+rank*alpha) \n",
    "    else:\n",
    "        zero_f = lambda x: x/sum_of_count\n",
    "\n",
    "    return np.apply_along_axis(zero_f,0,icc_pdf)\n",
    "\n",
    "# calculate probabilities P(MCM_A see data_B)\n",
    "def probs_mean_std(counts_observe_B, ranks):\n",
    "    sum_of_count = np.sum(counts_sample[sample_idx][run_idx][0][0])\n",
    "\n",
    "    probs = np.empty((21,10))\n",
    "    for i in range(len(ranks)):\n",
    "        probs[i,:] = counts_to_prob(counts_observe_B[i],ranks[i], sum_of_count)\n",
    "    probs_mcm = np.product(probs,axis=0)\n",
    "\n",
    "    return np.mean(probs_mcm), np.std(probs_mcm)"
   ]
  },
  {
   "cell_type": "code",
   "execution_count": null,
   "metadata": {},
   "outputs": [],
   "source": []
  },
  {
   "cell_type": "code",
   "execution_count": 38,
   "metadata": {},
   "outputs": [],
   "source": [
    "# calculate average probability for digit 0 for 10 samples sample idx 0 for seeing a 0 of dataset B\n"
   ]
  },
  {
   "cell_type": "code",
   "execution_count": null,
   "metadata": {},
   "outputs": [],
   "source": [
    "# now working with A only\n",
    "# for every sample size\n",
    "# for every sample, need to calculate average probability of seeing seed=42 sample in dataset B\n",
    "# then we calculate the mean + std over the 50 samples in a sample size\n",
    "\n",
    "# do the same with B"
   ]
  },
  {
   "cell_type": "code",
   "execution_count": null,
   "metadata": {},
   "outputs": [],
   "source": []
  },
  {
   "cell_type": "code",
   "execution_count": 9,
   "metadata": {
    "ExecuteTime": {
     "end_time": "2024-03-19T09:02:33.820525Z",
     "start_time": "2024-03-19T09:02:04.151136Z"
    },
    "collapsed": false
   },
   "outputs": [
    {
     "ename": "FileNotFoundError",
     "evalue": "[Errno 2] No such file or directory: '../OUTPUT/sample_sizes_split_A10/all_C_icc_0.npy'",
     "output_type": "error",
     "traceback": [
      "\u001b[0;31m---------------------------------------------------------------------------\u001b[0m",
      "\u001b[0;31mFileNotFoundError\u001b[0m                         Traceback (most recent call last)",
      "Cell \u001b[0;32mIn[9], line 10\u001b[0m\n\u001b[1;32m      8\u001b[0m \u001b[38;5;66;03m# # for all images in all categories, get the PDF of that all ICC of one MCM fitted to one image\u001b[39;00m\n\u001b[1;32m      9\u001b[0m all_C_icc_3 \u001b[38;5;241m=\u001b[39m myplot\u001b[38;5;241m.\u001b[39mcalculate_P_icc(C, all_MCM, \u001b[38;5;241m0\u001b[39m, n_variables, data_path, data_filename_format)\n\u001b[0;32m---> 10\u001b[0m \u001b[43mnp\u001b[49m\u001b[38;5;241;43m.\u001b[39;49m\u001b[43msave\u001b[49m\u001b[43m(\u001b[49m\u001b[43msamples_path\u001b[49m\u001b[43m \u001b[49m\u001b[38;5;241;43m+\u001b[39;49m\u001b[43m \u001b[49m\u001b[38;5;124;43mf\u001b[39;49m\u001b[38;5;124;43m\"\u001b[39;49m\u001b[38;5;132;43;01m{\u001b[39;49;00m\u001b[43msample_size\u001b[49m\u001b[38;5;132;43;01m}\u001b[39;49;00m\u001b[38;5;124;43m/all_C_icc_0.npy\u001b[39;49m\u001b[38;5;124;43m\"\u001b[39;49m\u001b[43m,\u001b[49m\u001b[43m \u001b[49m\u001b[43mall_C_icc_3\u001b[49m\u001b[43m)\u001b[49m\n",
      "File \u001b[0;32m<__array_function__ internals>:200\u001b[0m, in \u001b[0;36msave\u001b[0;34m(*args, **kwargs)\u001b[0m\n",
      "File \u001b[0;32m~/opt/anaconda3/envs/mcm_classifying/lib/python3.11/site-packages/numpy/lib/npyio.py:518\u001b[0m, in \u001b[0;36msave\u001b[0;34m(file, arr, allow_pickle, fix_imports)\u001b[0m\n\u001b[1;32m    516\u001b[0m     \u001b[38;5;28;01mif\u001b[39;00m \u001b[38;5;129;01mnot\u001b[39;00m file\u001b[38;5;241m.\u001b[39mendswith(\u001b[38;5;124m'\u001b[39m\u001b[38;5;124m.npy\u001b[39m\u001b[38;5;124m'\u001b[39m):\n\u001b[1;32m    517\u001b[0m         file \u001b[38;5;241m=\u001b[39m file \u001b[38;5;241m+\u001b[39m \u001b[38;5;124m'\u001b[39m\u001b[38;5;124m.npy\u001b[39m\u001b[38;5;124m'\u001b[39m\n\u001b[0;32m--> 518\u001b[0m     file_ctx \u001b[38;5;241m=\u001b[39m \u001b[38;5;28;43mopen\u001b[39;49m\u001b[43m(\u001b[49m\u001b[43mfile\u001b[49m\u001b[43m,\u001b[49m\u001b[43m \u001b[49m\u001b[38;5;124;43m\"\u001b[39;49m\u001b[38;5;124;43mwb\u001b[39;49m\u001b[38;5;124;43m\"\u001b[39;49m\u001b[43m)\u001b[49m\n\u001b[1;32m    520\u001b[0m \u001b[38;5;28;01mwith\u001b[39;00m file_ctx \u001b[38;5;28;01mas\u001b[39;00m fid:\n\u001b[1;32m    521\u001b[0m     arr \u001b[38;5;241m=\u001b[39m np\u001b[38;5;241m.\u001b[39masanyarray(arr)\n",
      "\u001b[0;31mFileNotFoundError\u001b[0m: [Errno 2] No such file or directory: '../OUTPUT/sample_sizes_split_A10/all_C_icc_0.npy'"
     ]
    }
   ],
   "source": [
    "n_variables = 121\n",
    "data_path = \"../INPUT_all/data/\"\n",
    "data_filename_format = \"train-images-unlabeled-{}.dat\"\n",
    "sample_size = 10\n",
    "C = counts_sample[0]\n",
    "all_MCM = mcm_sample[0]\n",
    "\n",
    "# # for all images in all categories, get the PDF of that all ICC of one MCM fitted to one image\n",
    "all_C_icc = myplot.calculate_P_icc(C, all_MCM, 0, n_variables, data_path, data_filename_format)\n",
    "\n",
    "\n",
    "np.save(samples_path + f\"/{sample_size}/all_C_icc_c{digit}_s{sample_idx}.npy\", all_C_icc)\n",
    "\n",
    "del all_C_icc"
   ]
  },
  {
   "cell_type": "code",
   "execution_count": 10,
   "metadata": {},
   "outputs": [],
   "source": [
    "\n"
   ]
  },
  {
   "cell_type": "code",
   "execution_count": 14,
   "metadata": {},
   "outputs": [],
   "source": [
    "all_C_icc_c0_s0 = np.load(samples_path + f\"/{sample_size}/all_C_icc_c0_s0.npy\")"
   ]
  },
  {
   "cell_type": "code",
   "execution_count": 16,
   "metadata": {},
   "outputs": [
    {
     "data": {
      "text/plain": [
       "(21, 5423, 10)"
      ]
     },
     "execution_count": 16,
     "metadata": {},
     "output_type": "execute_result"
    }
   ],
   "source": [
    "all_C_icc_c0_s0.shape"
   ]
  },
  {
   "cell_type": "code",
   "execution_count": null,
   "metadata": {},
   "outputs": [],
   "source": []
  },
  {
   "cell_type": "code",
   "execution_count": null,
   "metadata": {},
   "outputs": [],
   "source": []
  },
  {
   "cell_type": "code",
   "execution_count": null,
   "metadata": {
    "collapsed": false
   },
   "outputs": [],
   "source": [
    "mcms_fname = \"MCMs_0.json\"\n",
    "counts_fname = \"Counts_0.json\"\n",
    "n_samples = 100\n",
    "\n",
    "with open(os.path.join(samples_path,str(n_samples),\"MCMs\", mcms_fname), \"r\") as f:\n",
    "        all_MCM = [np.array(i) for i in json.load(f)] \n",
    "\n",
    "\n",
    "with open(os.path.join(samples_path,str(n_samples),\"Counts\", counts_fname), \"r\") as f:\n",
    "        C = json.load(f"
   ]
  },
  {
   "cell_type": "code",
   "execution_count": null,
   "metadata": {
    "collapsed": false
   },
   "outputs": [],
   "source": [
    "n_variables = 121 #TODO This cell is not trash.\n",
    "data_path = \"../INPUT_all/data/\"\n",
    "data_filename_format = \"train-images-unlabeled-{}.dat\"\n",
    "\n",
    "# # for all images in all categories, get the PDF of that all ICC of one MCM fitted to one image\n",
    "all_C_icc_3 = myplot.calculate_P_icc(C, all_MCM, 3, n_variables, data_path, data_filename_format)\n",
    "np.save(\"../OUTPUT/sample_sizes/5423/all_C_icc_3.npy\", all_C_icc_3)\n",
    "\n",
    "\n",
    "all_C_icc_3 = np.load(\"../OUTPUT/sample_sizes/5423/all_C_icc_3.npy\")"
   ]
  }
 ],
 "metadata": {
  "kernelspec": {
   "display_name": "mcm_classifying",
   "language": "python",
   "name": "python3"
  },
  "language_info": {
   "codemirror_mode": {
    "name": "ipython",
    "version": 3
   },
   "file_extension": ".py",
   "mimetype": "text/x-python",
   "name": "python",
   "nbconvert_exporter": "python",
   "pygments_lexer": "ipython3",
   "version": "3.11.5"
  }
 },
 "nbformat": 4,
 "nbformat_minor": 2
}
