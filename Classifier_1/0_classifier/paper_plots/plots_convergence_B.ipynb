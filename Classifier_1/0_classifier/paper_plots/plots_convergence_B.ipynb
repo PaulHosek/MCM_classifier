{
 "cells": [
  {
   "cell_type": "code",
   "execution_count": 22,
   "metadata": {},
   "outputs": [
    {
     "name": "stdout",
     "output_type": "stream",
     "text": [
      "['full-images-unlabeled-8.dat', 'full-images-unlabeled-9.dat', 'full-images-unlabeled-4.dat', 'full-images-unlabeled-5.dat', 'full-images-unlabeled-7.dat', 'full-images-unlabeled-6.dat', 'full-images-unlabeled-2.dat', 'full-images-unlabeled-3.dat', 'full-images-unlabeled-1.dat', 'full-images-unlabeled-0.dat']\n"
     ]
    }
   ],
   "source": [
    "import os\n",
    "import numpy as np\n",
    "# split full data into 2 mutually exclusive subfolders\n",
    "input_dir = \"./../INPUT_all/data/combined_data\"\n",
    "output_dir_A = \"./../INPUT_all/data/combined_split_A\"\n",
    "output_dir_B = \"./../INPUT_all/data/combined_split_B\"\n",
    "\n",
    "# Read files into a numpy array\n",
    "file_list = os.listdir(input_dir)[1:]\n",
    "print(file_list)\n",
    "# for file in file_list\n",
    "for cat in range(10):\n",
    "    file = file_list[cat]\n",
    "    data = np.loadtxt(os.path.join(input_dir, file), dtype=str)\n",
    "\n",
    "    split_index = len(data) // 2\n",
    "    split_A = data[:split_index]\n",
    "    split_B = data[split_index:]\n",
    "    if len(split_A) > len(split_B):\n",
    "        split_A = split_A[:len(split_B)]\n",
    "    else:\n",
    "        split_B = split_B[:len(split_A)]\n",
    "\n",
    "\n",
    "    np.savetxt(os.path.join(output_dir_A, f\"half-images-unlabeled-{cat}.dat\"), split_A, fmt=\"%s\")\n",
    "    np.savetxt(os.path.join(output_dir_B, f\"half-images-unlabeled-{cat}.dat\"), split_B, fmt=\"%s\")\n"
   ]
  },
  {
   "cell_type": "code",
   "execution_count": 17,
   "metadata": {},
   "outputs": [
    {
     "data": {
      "text/plain": [
       "((3157,), (3157,))"
      ]
     },
     "execution_count": 17,
     "metadata": {},
     "output_type": "execute_result"
    }
   ],
   "source": [
    "# Split the array into two parts\n",
    "\n",
    "split_A.shape, split_B.shape"
   ]
  },
  {
   "cell_type": "code",
   "execution_count": 21,
   "metadata": {},
   "outputs": [],
   "source": [
    "# os.makedirs(output_dir_A, exist_ok=True)\n",
    "# os.makedirs(output_dir_B, exist_ok=True)\n",
    "\n",
    ")"
   ]
  },
  {
   "cell_type": "code",
   "execution_count": null,
   "metadata": {},
   "outputs": [],
   "source": [
    "\n",
    "\n",
    "# Save the splits into separate directories\n",
    "os.makedirs(output_dir_A, exist_ok=True)\n",
    "os.makedirs(output_dir_B, exist_ok=True)\n",
    "\n",
    "for i, split in enumerate([split_A, split_B], start=1):\n",
    "    output_dir = output_dir_A if i == 1 else output_dir_B\n",
    "    for j, array in enumerate(split):\n",
    "        np.savetxt(os.path.join(output_dir, f\"split{j+1}.txt\"), array, fmt=\"%s\")\n"
   ]
  }
 ],
 "metadata": {
  "kernelspec": {
   "display_name": "mcm_classifying",
   "language": "python",
   "name": "python3"
  },
  "language_info": {
   "codemirror_mode": {
    "name": "ipython",
    "version": 3
   },
   "file_extension": ".py",
   "mimetype": "text/x-python",
   "name": "python",
   "nbconvert_exporter": "python",
   "pygments_lexer": "ipython3",
   "version": "3.11.5"
  }
 },
 "nbformat": 4,
 "nbformat_minor": 2
}
