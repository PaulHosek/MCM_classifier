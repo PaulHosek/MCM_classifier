{
 "cells": [
  {
   "cell_type": "code",
   "execution_count": 1,
   "metadata": {
    "ExecuteTime": {
     "end_time": "2024-03-19T08:49:20.104059Z",
     "start_time": "2024-03-19T08:49:20.069137Z"
    }
   },
   "outputs": [],
   "source": [
    "# import os\n",
    "# import numpy as np\n",
    "# # split full data into 2 mutually exclusive subfolders\n",
    "# input_dir = \"./../INPUT_all/data/combined_data\"\n",
    "# output_dir_A = \"./../INPUT_all/data/combined_split_A\"\n",
    "# output_dir_B = \"./../INPUT_all/data/combined_split_B\"\n",
    "# \n",
    "# # Read files into a numpy array\n",
    "# file_list = os.listdir(input_dir)[1:]\n",
    "# print(file_list)\n",
    "# # for file in file_list\n",
    "# for cat in range(10):\n",
    "#     file = file_list[cat]\n",
    "#     data = np.loadtxt(os.path.join(input_dir, file), dtype=str)\n",
    "# \n",
    "#     split_index = len(data) // 2\n",
    "#     split_A = data[:split_index]\n",
    "#     split_B = data[split_index:]\n",
    "#     if len(split_A) > len(split_B):\n",
    "#         split_A = split_A[:len(split_B)]\n",
    "#     else:\n",
    "#         split_B = split_B[:len(split_A)]\n",
    "# \n",
    "# \n",
    "#     np.savetxt(os.path.join(output_dir_A, f\"half-images-unlabeled-{cat}.dat\"), split_A, fmt=\"%s\")\n",
    "#     np.savetxt(os.path.join(output_dir_B, f\"half-images-unlabeled-{cat}.dat\"), split_B, fmt=\"%s\")\n"
   ]
  },
  {
   "cell_type": "code",
   "execution_count": 2,
   "metadata": {
    "ExecuteTime": {
     "end_time": "2024-03-19T08:52:02.867753Z",
     "start_time": "2024-03-19T08:52:02.815518Z"
    },
    "collapsed": false
   },
   "outputs": [],
   "source": [
    "import numpy as np\n",
    "import os\n",
    "import json\n",
    "import sys\n",
    "import matplotlib.pyplot as plt\n",
    "\n",
    "sys.path.append(\"../\")"
   ]
  },
  {
   "cell_type": "code",
   "execution_count": 3,
   "metadata": {
    "ExecuteTime": {
     "end_time": "2024-03-19T08:52:22.764486Z",
     "start_time": "2024-03-19T08:52:03.498757Z"
    },
    "collapsed": false
   },
   "outputs": [
    {
     "data": {
      "text/plain": [
       "<module 'src.plot' from '/Users/paulhosek/PycharmProjects/mcm/MCM_classifier/Classifier_1/0_classifier/paper_plots/../src/plot.py'>"
      ]
     },
     "execution_count": 3,
     "metadata": {},
     "output_type": "execute_result"
    }
   ],
   "source": [
    "import importlib\n",
    "import src.plot as myplot\n",
    "importlib.reload(myplot)"
   ]
  },
  {
   "cell_type": "code",
   "execution_count": 4,
   "metadata": {},
   "outputs": [
    {
     "data": {
      "text/plain": [
       "<module 'src.paper_utils' from '/Users/paulhosek/PycharmProjects/mcm/MCM_classifier/Classifier_1/0_classifier/paper_plots/../src/paper_utils.py'>"
      ]
     },
     "execution_count": 4,
     "metadata": {},
     "output_type": "execute_result"
    }
   ],
   "source": [
    "\n",
    "import importlib\n",
    "import src.paper_utils as utils\n",
    "importlib.reload(utils)"
   ]
  },
  {
   "cell_type": "code",
   "execution_count": 6,
   "metadata": {},
   "outputs": [],
   "source": [
    "\n",
    "# # testing\n",
    "# digit = 0\n",
    "# nr_runs = 99\n",
    "# sample_sizes = [2000,3000]\n",
    "# stats_a_seeA = utils.letter_means_stds(\"B\", sample_sizes, nr_runs, digit,recreate_letter=\"B\", add_smooth=False)\n"
   ]
  },
  {
   "cell_type": "code",
   "execution_count": 26,
   "metadata": {},
   "outputs": [],
   "source": [
    "import math\n",
    "\n",
    "\n",
    "def probability_on_data(single_mcm,counts_gstar, data,sample_size, smooth=True):\n",
    "    \"\"\"Calculate the probability at g* of a partitioning (\"single_mcm\") on some (possibly new) data.\n",
    "\n",
    "    :param single_mcm: Each binary string is an icc state.\n",
    "    :type single_mcm: np.array 1D with dtype string\n",
    "    :param data: Dataset to calcualte evidence on. result from np.loadtext(dtype=str)\n",
    "    :type data: np.array 1D with dtype string\n",
    "    \"\"\"\n",
    "    mcm_gen = np.array([[int(s) for s in state] for state in single_mcm])\n",
    "    data_gen = np.array([[int(s) for s in state] for state in counts_gstar])\n",
    "    \n",
    "    N = len(data)\n",
    "    nr_iccs = len(single_mcm)\n",
    "\n",
    "    res = np.zeros(nr_iccs)\n",
    "    for icc_idx, icc in enumerate(single_mcm):\n",
    "        rank = icc.count(\"1\")\n",
    "        C_icc = data_gen[:,mcm_gen[icc_idx,:] == 1]\n",
    "        counts = np.unique(C_icc, axis=0, return_counts=True)[1]\n",
    "\n",
    "        for k in counts: \n",
    "            if smooth:\n",
    "                res[icc_idx] *= (k+1/(2**rank))/(sample_size+1) # FIXME these are the wrong counts, we need for every state we observe we need to use our own counts at g* to calculate the probability\n",
    "            else: \n",
    "                res[icc_idx] *= k/sample_size\n",
    "\n",
    "    return res\n",
    "\n"
   ]
  },
  {
   "cell_type": "code",
   "execution_count": 27,
   "metadata": {},
   "outputs": [
    {
     "name": "stdout",
     "output_type": "stream",
     "text": [
      "B A\n",
      "B\n"
     ]
    },
    {
     "ename": "TypeError",
     "evalue": "int() argument must be a string, a bytes-like object or a real number, not 'list'",
     "output_type": "error",
     "traceback": [
      "\u001b[0;31m---------------------------------------------------------------------------\u001b[0m",
      "\u001b[0;31mTypeError\u001b[0m                                 Traceback (most recent call last)",
      "Cell \u001b[0;32mIn[27], line 32\u001b[0m\n\u001b[1;32m     29\u001b[0m         seed_run \u001b[38;5;241m=\u001b[39m run_idx\u001b[38;5;241m+\u001b[39m\u001b[38;5;241m1\u001b[39m\n\u001b[1;32m     30\u001b[0m         test_data \u001b[38;5;241m=\u001b[39m utils\u001b[38;5;241m.\u001b[39mrecreate_dataset(see_letter,digit, sample_size, seed\u001b[38;5;241m=\u001b[39mseed_run) \n\u001b[0;32m---> 32\u001b[0m         evids[sample_size_idx][run_idx] \u001b[38;5;241m=\u001b[39m \u001b[43mprobability_on_data\u001b[49m\u001b[43m(\u001b[49m\u001b[43mmcm\u001b[49m\u001b[43m[\u001b[49m\u001b[43mdigit\u001b[49m\u001b[43m]\u001b[49m\u001b[43m,\u001b[49m\u001b[43m \u001b[49m\u001b[43mcounts_gstar\u001b[49m\u001b[43m[\u001b[49m\u001b[43mdigit\u001b[49m\u001b[43m]\u001b[49m\u001b[43m,\u001b[49m\u001b[43mtest_data\u001b[49m\u001b[43m,\u001b[49m\u001b[43m \u001b[49m\u001b[43msample_size\u001b[49m\u001b[43m,\u001b[49m\u001b[43msmooth\u001b[49m\u001b[38;5;241;43m=\u001b[39;49m\u001b[38;5;28;43;01mTrue\u001b[39;49;00m\u001b[43m)\u001b[49m\u001b[38;5;66;03m# / sample_size\u001b[39;00m\n\u001b[1;32m     34\u001b[0m         \u001b[38;5;66;03m# print(len(my_counts[run_idx]),len(mcms))\u001b[39;00m\n\u001b[1;32m     35\u001b[0m         \u001b[38;5;66;03m# per_icc = np.sum(utils.evidence_iccs(my_counts[run_idx], mcms[run_idx],digit))#/ my_sample_size\u001b[39;00m\n\u001b[1;32m     36\u001b[0m         \u001b[38;5;66;03m# if not evids[sample_size_idx][run_idx] == per_icc and see_letter = letter:\u001b[39;00m\n\u001b[1;32m     37\u001b[0m         \u001b[38;5;66;03m#     raise KeyboardInterrupt\u001b[39;00m\n\u001b[1;32m     38\u001b[0m         \u001b[38;5;66;03m# print(evids[sample_size_idx][run_idx] == per_icc, evids[sample_size_idx][run_idx], per_icc)  # if res constructed on own letter, should be exact same result)\u001b[39;00m\n\u001b[1;32m     40\u001b[0m evids_both\u001b[38;5;241m.\u001b[39mappend(evids)\n",
      "Cell \u001b[0;32mIn[26], line 13\u001b[0m, in \u001b[0;36mprobability_on_data\u001b[0;34m(single_mcm, counts_gstar, data, sample_size, smooth)\u001b[0m\n\u001b[1;32m      5\u001b[0m \u001b[38;5;250m\u001b[39m\u001b[38;5;124;03m\"\"\"Calculate the probability at g* of a partitioning (\"single_mcm\") on some (possibly new) data.\u001b[39;00m\n\u001b[1;32m      6\u001b[0m \n\u001b[1;32m      7\u001b[0m \u001b[38;5;124;03m:param single_mcm: Each binary string is an icc state.\u001b[39;00m\n\u001b[0;32m   (...)\u001b[0m\n\u001b[1;32m     10\u001b[0m \u001b[38;5;124;03m:type data: np.array 1D with dtype string\u001b[39;00m\n\u001b[1;32m     11\u001b[0m \u001b[38;5;124;03m\"\"\"\u001b[39;00m\n\u001b[1;32m     12\u001b[0m mcm_gen \u001b[38;5;241m=\u001b[39m np\u001b[38;5;241m.\u001b[39marray([[\u001b[38;5;28mint\u001b[39m(s) \u001b[38;5;28;01mfor\u001b[39;00m s \u001b[38;5;129;01min\u001b[39;00m state] \u001b[38;5;28;01mfor\u001b[39;00m state \u001b[38;5;129;01min\u001b[39;00m single_mcm])\n\u001b[0;32m---> 13\u001b[0m data_gen \u001b[38;5;241m=\u001b[39m np\u001b[38;5;241m.\u001b[39marray(\u001b[43m[\u001b[49m\u001b[43m[\u001b[49m\u001b[38;5;28;43mint\u001b[39;49m\u001b[43m(\u001b[49m\u001b[43ms\u001b[49m\u001b[43m)\u001b[49m\u001b[43m \u001b[49m\u001b[38;5;28;43;01mfor\u001b[39;49;00m\u001b[43m \u001b[49m\u001b[43ms\u001b[49m\u001b[43m \u001b[49m\u001b[38;5;129;43;01min\u001b[39;49;00m\u001b[43m \u001b[49m\u001b[43mstate\u001b[49m\u001b[43m]\u001b[49m\u001b[43m \u001b[49m\u001b[38;5;28;43;01mfor\u001b[39;49;00m\u001b[43m \u001b[49m\u001b[43mstate\u001b[49m\u001b[43m \u001b[49m\u001b[38;5;129;43;01min\u001b[39;49;00m\u001b[43m \u001b[49m\u001b[43mcounts_gstar\u001b[49m\u001b[43m]\u001b[49m)\n\u001b[1;32m     15\u001b[0m N \u001b[38;5;241m=\u001b[39m \u001b[38;5;28mlen\u001b[39m(data)\n\u001b[1;32m     16\u001b[0m nr_iccs \u001b[38;5;241m=\u001b[39m \u001b[38;5;28mlen\u001b[39m(single_mcm)\n",
      "Cell \u001b[0;32mIn[26], line 13\u001b[0m, in \u001b[0;36m<listcomp>\u001b[0;34m(.0)\u001b[0m\n\u001b[1;32m      5\u001b[0m \u001b[38;5;250m\u001b[39m\u001b[38;5;124;03m\"\"\"Calculate the probability at g* of a partitioning (\"single_mcm\") on some (possibly new) data.\u001b[39;00m\n\u001b[1;32m      6\u001b[0m \n\u001b[1;32m      7\u001b[0m \u001b[38;5;124;03m:param single_mcm: Each binary string is an icc state.\u001b[39;00m\n\u001b[0;32m   (...)\u001b[0m\n\u001b[1;32m     10\u001b[0m \u001b[38;5;124;03m:type data: np.array 1D with dtype string\u001b[39;00m\n\u001b[1;32m     11\u001b[0m \u001b[38;5;124;03m\"\"\"\u001b[39;00m\n\u001b[1;32m     12\u001b[0m mcm_gen \u001b[38;5;241m=\u001b[39m np\u001b[38;5;241m.\u001b[39marray([[\u001b[38;5;28mint\u001b[39m(s) \u001b[38;5;28;01mfor\u001b[39;00m s \u001b[38;5;129;01min\u001b[39;00m state] \u001b[38;5;28;01mfor\u001b[39;00m state \u001b[38;5;129;01min\u001b[39;00m single_mcm])\n\u001b[0;32m---> 13\u001b[0m data_gen \u001b[38;5;241m=\u001b[39m np\u001b[38;5;241m.\u001b[39marray([\u001b[43m[\u001b[49m\u001b[38;5;28;43mint\u001b[39;49m\u001b[43m(\u001b[49m\u001b[43ms\u001b[49m\u001b[43m)\u001b[49m\u001b[43m \u001b[49m\u001b[38;5;28;43;01mfor\u001b[39;49;00m\u001b[43m \u001b[49m\u001b[43ms\u001b[49m\u001b[43m \u001b[49m\u001b[38;5;129;43;01min\u001b[39;49;00m\u001b[43m \u001b[49m\u001b[43mstate\u001b[49m\u001b[43m]\u001b[49m \u001b[38;5;28;01mfor\u001b[39;00m state \u001b[38;5;129;01min\u001b[39;00m counts_gstar])\n\u001b[1;32m     15\u001b[0m N \u001b[38;5;241m=\u001b[39m \u001b[38;5;28mlen\u001b[39m(data)\n\u001b[1;32m     16\u001b[0m nr_iccs \u001b[38;5;241m=\u001b[39m \u001b[38;5;28mlen\u001b[39m(single_mcm)\n",
      "Cell \u001b[0;32mIn[26], line 13\u001b[0m, in \u001b[0;36m<listcomp>\u001b[0;34m(.0)\u001b[0m\n\u001b[1;32m      5\u001b[0m \u001b[38;5;250m\u001b[39m\u001b[38;5;124;03m\"\"\"Calculate the probability at g* of a partitioning (\"single_mcm\") on some (possibly new) data.\u001b[39;00m\n\u001b[1;32m      6\u001b[0m \n\u001b[1;32m      7\u001b[0m \u001b[38;5;124;03m:param single_mcm: Each binary string is an icc state.\u001b[39;00m\n\u001b[0;32m   (...)\u001b[0m\n\u001b[1;32m     10\u001b[0m \u001b[38;5;124;03m:type data: np.array 1D with dtype string\u001b[39;00m\n\u001b[1;32m     11\u001b[0m \u001b[38;5;124;03m\"\"\"\u001b[39;00m\n\u001b[1;32m     12\u001b[0m mcm_gen \u001b[38;5;241m=\u001b[39m np\u001b[38;5;241m.\u001b[39marray([[\u001b[38;5;28mint\u001b[39m(s) \u001b[38;5;28;01mfor\u001b[39;00m s \u001b[38;5;129;01min\u001b[39;00m state] \u001b[38;5;28;01mfor\u001b[39;00m state \u001b[38;5;129;01min\u001b[39;00m single_mcm])\n\u001b[0;32m---> 13\u001b[0m data_gen \u001b[38;5;241m=\u001b[39m np\u001b[38;5;241m.\u001b[39marray([[\u001b[38;5;28;43mint\u001b[39;49m\u001b[43m(\u001b[49m\u001b[43ms\u001b[49m\u001b[43m)\u001b[49m \u001b[38;5;28;01mfor\u001b[39;00m s \u001b[38;5;129;01min\u001b[39;00m state] \u001b[38;5;28;01mfor\u001b[39;00m state \u001b[38;5;129;01min\u001b[39;00m counts_gstar])\n\u001b[1;32m     15\u001b[0m N \u001b[38;5;241m=\u001b[39m \u001b[38;5;28mlen\u001b[39m(data)\n\u001b[1;32m     16\u001b[0m nr_iccs \u001b[38;5;241m=\u001b[39m \u001b[38;5;28mlen\u001b[39m(single_mcm)\n",
      "\u001b[0;31mTypeError\u001b[0m: int() argument must be a string, a bytes-like object or a real number, not 'list'"
     ]
    }
   ],
   "source": [
    "digit = 0\n",
    "\n",
    "sample_sizes = [100, 1000, 2000, 3000]\n",
    "letter = \"B\"\n",
    "path_format = \"../OUTPUT/sample_sizes_split_{}\"\n",
    "\n",
    "counts_samplesizes, mcms_samplesizes = utils.load_counts_mcm(sample_sizes, letter)\n",
    "\n",
    "n_runs = min([len(i) for i in mcms_samplesizes])\n",
    "\n",
    "\n",
    "\n",
    "\n",
    "other_letter = \"B\" if letter == \"A\" else \"A\"\n",
    "print(letter, other_letter)\n",
    "\n",
    "# see other letter\n",
    "evids_both = [] # 0 = own; 1 = other\n",
    "\n",
    "for see_letter in [letter, other_letter]:\n",
    "    print(see_letter)\n",
    "    evids = np.zeros((len(sample_sizes), n_runs)) # nr sample sizes, nr runs\n",
    "    for sample_size_idx, sample_size in enumerate(sample_sizes):\n",
    "\n",
    "        mcms = mcms_samplesizes[sample_size_idx][:n_runs]\n",
    "        counts_gstar = counts_samplesizes[sample_size_idx][:n_runs] # test\n",
    "         \n",
    "        for run_idx, mcm in enumerate(mcms):\n",
    "            seed_run = run_idx+1\n",
    "            test_data = utils.recreate_dataset(see_letter,digit, sample_size, seed=seed_run) \n",
    "\n",
    "            evids[sample_size_idx][run_idx] = probability_on_data(mcm[digit], counts_gstar[digit],test_data, sample_size,smooth=True)# / sample_size\n",
    "\n",
    "            # print(len(my_counts[run_idx]),len(mcms))\n",
    "            # per_icc = np.sum(utils.evidence_iccs(my_counts[run_idx], mcms[run_idx],digit))#/ my_sample_size\n",
    "            # if not evids[sample_size_idx][run_idx] == per_icc and see_letter = letter:\n",
    "            #     raise KeyboardInterrupt\n",
    "            # print(evids[sample_size_idx][run_idx] == per_icc, evids[sample_size_idx][run_idx], per_icc)  # if res constructed on own letter, should be exact same result)\n",
    "\n",
    "    evids_both.append(evids)\n"
   ]
  },
  {
   "cell_type": "code",
   "execution_count": null,
   "metadata": {},
   "outputs": [],
   "source": []
  },
  {
   "cell_type": "code",
   "execution_count": null,
   "metadata": {},
   "outputs": [],
   "source": []
  },
  {
   "cell_type": "code",
   "execution_count": null,
   "metadata": {},
   "outputs": [],
   "source": []
  },
  {
   "cell_type": "code",
   "execution_count": null,
   "metadata": {},
   "outputs": [],
   "source": [
    "raise KeyboardInterrupt"
   ]
  },
  {
   "cell_type": "code",
   "execution_count": null,
   "metadata": {},
   "outputs": [],
   "source": []
  },
  {
   "cell_type": "code",
   "execution_count": 10,
   "metadata": {},
   "outputs": [
    {
     "name": "stdout",
     "output_type": "stream",
     "text": [
      "nested\n",
      "nested\n",
      "nested\n",
      "nested\n",
      "nested\n",
      "nested\n",
      "nested\n",
      "nested\n"
     ]
    }
   ],
   "source": [
    "\n",
    "\n",
    "\n",
    "stats_a_seeA = utils.letter_means_stds(\"A\", sample_sizes, nr_runs, digit,recreate_letter=\"A\", add_smooth=False)\n",
    "stats_a_seeB = utils.letter_means_stds(\"A\", sample_sizes, nr_runs, digit,recreate_letter=\"B\", add_smooth=False)"
   ]
  },
  {
   "cell_type": "code",
   "execution_count": 7,
   "metadata": {},
   "outputs": [
    {
     "name": "stdout",
     "output_type": "stream",
     "text": [
      "nested\n",
      "nested\n",
      "nested\n",
      "nested\n",
      "nested\n",
      "nested\n",
      "nested\n",
      "nested\n"
     ]
    }
   ],
   "source": [
    "digit = 0\n",
    "nr_runs = 99\n",
    "sample_sizes = [100, 1000,2000,3000]\n",
    "\n",
    "stats_b_seeA = utils.letter_means_stds(\"B\", sample_sizes, nr_runs, digit,recreate_letter=\"A\",add_smooth=False)\n",
    "stats_b_seeB = utils.letter_means_stds(\"B\", sample_sizes, nr_runs, digit,recreate_letter=\"B\",add_smooth=False)"
   ]
  },
  {
   "cell_type": "code",
   "execution_count": 11,
   "metadata": {},
   "outputs": [],
   "source": [
    "mapping = {\"A\":[stats_a_seeA, stats_a_seeB], \"B\": [stats_b_seeB, stats_b_seeA]}\n"
   ]
  },
  {
   "cell_type": "code",
   "execution_count": null,
   "metadata": {},
   "outputs": [],
   "source": []
  },
  {
   "cell_type": "code",
   "execution_count": 17,
   "metadata": {},
   "outputs": [
    {
     "name": "stderr",
     "output_type": "stream",
     "text": [
      "No artists with labels found to put in legend.  Note that artists whose label start with an underscore are ignored when legend() is called with no argument.\n"
     ]
    },
    {
     "name": "stdout",
     "output_type": "stream",
     "text": [
      "[[8.50261929e-13 6.33013038e-12]\n",
      " [8.49651644e-13 6.68087733e-12]\n",
      " [8.88953883e-13 6.46068648e-12]\n",
      " [1.40223663e-12 1.04501541e-11]]\n",
      "[[2.19048756e-13 1.88102171e-12]\n",
      " [1.52756868e-12 1.26977395e-11]\n",
      " [1.24634256e-12 8.65164435e-12]\n",
      " [3.02154754e-12 2.58838336e-11]]\n"
     ]
    },
    {
     "data": {
      "image/png": "[encoded data removed]",
      "text/plain": [
       "<Figure size 640x480 with 1 Axes>"
      ]
     },
     "metadata": {},
     "output_type": "display_data"
    },
    {
     "name": "stderr",
     "output_type": "stream",
     "text": [
      "No artists with labels found to put in legend.  Note that artists whose label start with an underscore are ignored when legend() is called with no argument.\n"
     ]
    },
    {
     "name": "stdout",
     "output_type": "stream",
     "text": [
      "[[2.31736562e-12 1.84530615e-11]\n",
      " [1.43774372e-12 1.13147129e-11]\n",
      " [1.87243655e-12 1.36856916e-11]\n",
      " [2.39701274e-12 1.77040574e-11]]\n",
      "[[2.56981622e-13 2.30803566e-12]\n",
      " [6.89811348e-13 5.15128518e-12]\n",
      " [1.07315155e-12 8.03644134e-12]\n",
      " [1.18929799e-12 8.58832667e-12]]\n"
     ]
    },
    {
     "data": {
      "image/png": "[encoded data removed]",
      "text/plain": [
       "<Figure size 640x480 with 1 Axes>"
      ]
     },
     "metadata": {},
     "output_type": "display_data"
    }
   ],
   "source": [
    "\n",
    "\n",
    "colors = [\"b\",\"r\"]\n",
    "label = [\"see training\", \"see test\"]\n",
    "\n",
    "plt.figure()\n",
    "\n",
    "mapping = {\"A\":[stats_a_seeA, stats_a_seeB], \"B\": [stats_b_seeB, stats_b_seeA]}\n",
    "\n",
    "for let,vals in mapping.items():\n",
    "\n",
    "    sample_sizes = [100, 1000,2000,3000]\n",
    "    for i, stats in enumerate(vals):\n",
    "        arr = np.array(np.mean(stats,axis=1))\n",
    "        print(arr)\n",
    "        plt.scatter(np.full(len(arr[:,0]) , fill_value=sample_sizes[i]), arr[:,0], marker=\".\", color=\"blue\", alpha= .5)\n",
    "\n",
    "        # plt.errorbar(sample_sizes, arr[:,0], yerr=np.std(arr[:, 0])/np.sqrt(sample_sizes[i]), fmt='o', capsize=5, linewidth=1,color=colors[i],label=label[i], linestyle=\":\") #arr[:, 1]/np.sqrt(sample_sizes[i])\n",
    "    plt.title(f\"MCM {let}\")\n",
    "    plt.xlabel(\"Sample sizes\")\n",
    "    plt.ylabel(\"Mean & SEM Probability on dataset\")\n",
    "\n",
    "    plt.ylim((0,None))\n",
    "    plt.legend()\n",
    "    plt.show()\n",
    "\n"
   ]
  },
  {
   "cell_type": "markdown",
   "metadata": {},
   "source": [
    "-----------------------"
   ]
  },
  {
   "cell_type": "code",
   "execution_count": null,
   "metadata": {},
   "outputs": [],
   "source": []
  },
  {
   "cell_type": "code",
   "execution_count": 9,
   "metadata": {},
   "outputs": [],
   "source": [
    "# probs = np.empty((n_icc,sample_size))\n",
    "# for i in range(len(ranks)):\n",
    "#     probs[i,:] = counts_to_prob(counts_observe_X[i],ranks[i], sum_of_count)\n",
    "# probs_mcm = np.product(probs,axis=0)\n",
    "\n",
    "# # return np.mean(probs_mcm), np.std(probs_mcm)"
   ]
  },
  {
   "cell_type": "code",
   "execution_count": 10,
   "metadata": {},
   "outputs": [],
   "source": [
    "# print(probs_mcm.shape)"
   ]
  },
  {
   "cell_type": "code",
   "execution_count": 11,
   "metadata": {},
   "outputs": [],
   "source": [
    "# calculate average probability for digit 0 for 10 samples sample idx 0 for seeing a 0 of dataset B\n"
   ]
  },
  {
   "cell_type": "code",
   "execution_count": 12,
   "metadata": {},
   "outputs": [],
   "source": [
    "# now working with A only\n",
    "# for every sample size\n",
    "# for every sample, need to calculate average probability of seeing seed=42 sample in dataset B\n",
    "# then we calculate the mean + std over the 50 samples in a sample size\n",
    "\n",
    "# do the same with B"
   ]
  },
  {
   "cell_type": "code",
   "execution_count": null,
   "metadata": {},
   "outputs": [],
   "source": []
  },
  {
   "cell_type": "code",
   "execution_count": 13,
   "metadata": {
    "ExecuteTime": {
     "end_time": "2024-03-19T09:02:33.820525Z",
     "start_time": "2024-03-19T09:02:04.151136Z"
    },
    "collapsed": false
   },
   "outputs": [
    {
     "ename": "NameError",
     "evalue": "name 'counts_sample' is not defined",
     "output_type": "error",
     "traceback": [
      "\u001b[0;31m---------------------------------------------------------------------------\u001b[0m",
      "\u001b[0;31mNameError\u001b[0m                                 Traceback (most recent call last)",
      "Cell \u001b[0;32mIn[13], line 5\u001b[0m\n\u001b[1;32m      3\u001b[0m data_filename_format \u001b[38;5;241m=\u001b[39m \u001b[38;5;124m\"\u001b[39m\u001b[38;5;124mtrain-images-unlabeled-\u001b[39m\u001b[38;5;132;01m{}\u001b[39;00m\u001b[38;5;124m.dat\u001b[39m\u001b[38;5;124m\"\u001b[39m\n\u001b[1;32m      4\u001b[0m sample_size \u001b[38;5;241m=\u001b[39m \u001b[38;5;241m10\u001b[39m\n\u001b[0;32m----> 5\u001b[0m C \u001b[38;5;241m=\u001b[39m \u001b[43mcounts_sample\u001b[49m[\u001b[38;5;241m0\u001b[39m]\n\u001b[1;32m      6\u001b[0m all_MCM \u001b[38;5;241m=\u001b[39m mcm_sample[\u001b[38;5;241m0\u001b[39m]\n\u001b[1;32m      8\u001b[0m \u001b[38;5;66;03m# # for all images in all categories, get the PDF of that all ICC of one MCM fitted to one image\u001b[39;00m\n",
      "\u001b[0;31mNameError\u001b[0m: name 'counts_sample' is not defined"
     ]
    }
   ],
   "source": [
    "n_variables = 121\n",
    "data_path = \"../INPUT_all/data/\"\n",
    "data_filename_format = \"train-images-unlabeled-{}.dat\"\n",
    "sample_size = 10\n",
    "C = counts_sample[0]\n",
    "all_MCM = mcm_sample[0]\n",
    "\n",
    "# # for all images in all categories, get the PDF of that all ICC of one MCM fitted to one image\n",
    "all_C_icc = myplot.calculate_P_icc(C, all_MCM, 0, n_variables, data_path, data_filename_format)\n",
    "\n",
    "\n",
    "np.save(samples_path + f\"/{sample_size}/all_C_icc_c{digit}_s{sample_idx}.npy\", all_C_icc)\n",
    "\n",
    "del all_C_icc"
   ]
  },
  {
   "cell_type": "code",
   "execution_count": null,
   "metadata": {},
   "outputs": [],
   "source": [
    "\n"
   ]
  },
  {
   "cell_type": "code",
   "execution_count": null,
   "metadata": {},
   "outputs": [],
   "source": [
    "all_C_icc_c0_s0 = np.load(samples_path + f\"/{sample_size}/all_C_icc_c0_s0.npy\")"
   ]
  },
  {
   "cell_type": "code",
   "execution_count": null,
   "metadata": {
    "collapsed": false
   },
   "outputs": [],
   "source": [
    "mcms_fname = \"MCMs_0.json\"\n",
    "counts_fname = \"Counts_0.json\"\n",
    "n_samples = 100\n",
    "\n",
    "with open(os.path.join(samples_path,str(n_samples),\"MCMs\", mcms_fname), \"r\") as f:\n",
    "        all_MCM = [np.array(i) for i in json.load(f)] \n",
    "\n",
    "\n",
    "with open(os.path.join(samples_path,str(n_samples),\"Counts\", counts_fname), \"r\") as f:\n",
    "        C = json.load(f"
   ]
  },
  {
   "cell_type": "code",
   "execution_count": null,
   "metadata": {
    "collapsed": false
   },
   "outputs": [],
   "source": [
    "n_variables = 121 #TODO This cell is not trash.\n",
    "data_path = \"../INPUT_all/data/\"\n",
    "data_filename_format = \"train-images-unlabeled-{}.dat\"\n",
    "\n",
    "# # for all images in all categories, get the PDF of that all ICC of one MCM fitted to one image\n",
    "all_C_icc_3 = myplot.calculate_P_icc(C, all_MCM, 3, n_variables, data_path, data_filename_format)\n",
    "np.save(\"../OUTPUT/sample_sizes/5423/all_C_icc_3.npy\", all_C_icc_3)\n",
    "\n",
    "\n",
    "all_C_icc_3 = np.load(\"../OUTPUT/sample_sizes/5423/all_C_icc_3.npy\")"
   ]
  }
 ],
 "metadata": {
  "kernelspec": {
   "display_name": "mcm_classifying",
   "language": "python",
   "name": "python3"
  },
  "language_info": {
   "codemirror_mode": {
    "name": "ipython",
    "version": 3
   },
   "file_extension": ".py",
   "mimetype": "text/x-python",
   "name": "python",
   "nbconvert_exporter": "python",
   "pygments_lexer": "ipython3",
   "version": "3.11.5"
  }
 },
 "nbformat": 4,
 "nbformat_minor": 2
}
