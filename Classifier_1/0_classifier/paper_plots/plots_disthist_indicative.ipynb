{
 "cells": [
  {
   "cell_type": "code",
   "execution_count": 89,
   "metadata": {},
   "outputs": [],
   "source": [
    "import numpy as np\n",
    "import os\n",
    "import json\n",
    "import sys\n",
    "import matplotlib.pyplot as plt\n",
    "import skimage\n",
    "\n",
    "sys.path.append(\"../\")\n",
    "import src.plot as myplot\n",
    "import seaborn as sns\n",
    "\n",
    "import sklearn"
   ]
  },
  {
   "cell_type": "code",
   "execution_count": 90,
   "metadata": {},
   "outputs": [
    {
     "data": {
      "text/plain": [
       "<module 'src.plot' from '/Users/paulhosek/PycharmProjects/mcm/MCM_classifier/Classifier_1/0_classifier/paper_plots/../src/plot.py'>"
      ]
     },
     "execution_count": 90,
     "metadata": {},
     "output_type": "execute_result"
    }
   ],
   "source": [
    "import importlib\n",
    "import src.plot as myplot\n",
    "importlib.reload(myplot)"
   ]
  },
  {
   "cell_type": "code",
   "execution_count": 91,
   "metadata": {},
   "outputs": [
    {
     "data": {
      "text/plain": [
       "<module 'src.paper_utils' from '/Users/paulhosek/PycharmProjects/mcm/MCM_classifier/Classifier_1/0_classifier/paper_plots/../src/paper_utils.py'>"
      ]
     },
     "execution_count": 91,
     "metadata": {},
     "output_type": "execute_result"
    }
   ],
   "source": [
    "\n",
    "import importlib\n",
    "import src.paper_utils as utils\n",
    "importlib.reload(utils)"
   ]
  },
  {
   "cell_type": "code",
   "execution_count": 92,
   "metadata": {},
   "outputs": [],
   "source": [
    "sample_sizes = [10, 100, 500,1000, 2000, 3000,4000,5000]\n",
    "sample_sizes = [500]\n",
    "counts_samplesizes, mcms_samplesizes = utils.load_counts_mcm(sample_sizes, letter=\"\", path_format=\"../Output/sample_sizes\")\n"
   ]
  },
  {
   "cell_type": "code",
   "execution_count": 94,
   "metadata": {},
   "outputs": [],
   "source": [
    "n_runs = 2\n",
    "mcm_digit = 0\n",
    "\n",
    "nr_digits = 10\n",
    "maxnr_icc = 121\n",
    "\n",
    "test_probs = np.full((nr_digits, len(sample_sizes), n_runs,nr_digits,maxnr_icc, len(utils.load_test_data(digit=0))), fill_value=-1.0)\n",
    "for mcm_digit in range(nr_digits):\n",
    "\n",
    "    for test_digit in range(nr_digits):\n",
    "        test_data = utils.load_test_data(digit=test_digit)\n",
    "\n",
    "        for sample_size_idx, sample_size in enumerate(sample_sizes):\n",
    "\n",
    "            mcms = mcms_samplesizes[sample_size_idx][:n_runs]\n",
    "            counts_gstar = counts_samplesizes[sample_size_idx][:n_runs]\n",
    "                \n",
    "            for run_idx, mcm in enumerate(mcms):\n",
    "                test_probs[mcm_digit][sample_size_idx][run_idx][test_digit] = utils.probabilities_gstar(mcm[mcm_digit], counts_gstar[run_idx][mcm_digit], test_data, sample_size,smooth=True,return_distr_icc=True)\n",
    "                "
   ]
  },
  {
   "cell_type": "markdown",
   "metadata": {},
   "source": [
    "# Find indicative ICC"
   ]
  },
  {
   "cell_type": "code",
   "execution_count": 98,
   "metadata": {},
   "outputs": [],
   "source": [
    "samples_path = \"../OUTPUT/sample_sizes\"\n",
    "mcms_fname = \"MCMs_0.json\"\n",
    "counts_fname = \"Counts_0.json\"\n",
    "n_samples = sample_sizes[sample_sizes.index(500)] # FIXME \n",
    "\n",
    "with open(os.path.join(samples_path,str(n_samples),\"MCMs\", mcms_fname), \"r\") as f:\n",
    "        all_MCM = [np.array(i) for i in json.load(f)] \n",
    "\n",
    "\n",
    "with open(os.path.join(samples_path,str(n_samples),\"Counts\", counts_fname), \"r\") as f:\n",
    "        C = json.load(f)\n",
    "mcm_index = 3"
   ]
  },
  {
   "cell_type": "code",
   "execution_count": 99,
   "metadata": {},
   "outputs": [],
   "source": [
    "n_variables = 121 #TODO This cell is not trash.\n",
    "data_path = \"../INPUT_all/data/\"\n",
    "data_filename_format = \"train-images-unlabeled-{}.dat\"\n",
    "show_digit = 3\n",
    "\n",
    "# # # for all images in all categories, get the PDF of that all ICC of one MCM fitted to one image\n",
    "# all_C_icc_x = myplot.calculate_P_icc(C, all_MCM,show_digit,n_variables, data_path,data_filename_format)\n",
    "# np.save(f\"../OUTPUT/sample_sizes/{n_samples}/all_C_icc_{show_digit}.npy\", all_C_icc_x)\n",
    "\n",
    "\n"
   ]
  },
  {
   "cell_type": "code",
   "execution_count": 100,
   "metadata": {},
   "outputs": [],
   "source": [
    "all_C_icc_x = np.load(f\"../OUTPUT/sample_sizes/{n_samples}/all_C_icc_{show_digit}.npy\")\n",
    "mcm3_comms_map = myplot.generate_icc_comms_map(all_MCM[3])\n",
    "mcm5_comms_map = myplot.generate_icc_comms_map(all_MCM[5])"
   ]
  },
  {
   "cell_type": "code",
   "execution_count": 101,
   "metadata": {},
   "outputs": [],
   "source": [
    "n_variables = 121\n",
    "test_data_path = \"../INPUT_all/data/testdata_separated\"\n",
    "test_data_filename_format = \"test-images-unlabeled-{}.dat\"\n",
    "test_all_C_icc_3 = myplot.calculate_P_icc(C, all_MCM,3,n_variables, test_data_path,test_data_filename_format)\n"
   ]
  },
  {
   "cell_type": "code",
   "execution_count": 102,
   "metadata": {},
   "outputs": [],
   "source": [
    "cat_a = 3\n",
    "cat_b = 5\n",
    "mcm_idx = 3\n",
    "\n",
    "all_prob = test_all_C_icc_3/all_C_icc_x.shape[1] # for MCM 0\n",
    "avg_prob = all_prob.mean(axis=1)\n",
    "\n",
    "comms3 = myplot.generate_icc_comms_map(all_MCM[3])\n",
    "distances = utils.normalised_signed_distance_decisionbound(avg_prob, cat_a, cat_b)\n",
    "dist_map = distances[comms3] # plt.scatter(avg_prob[:,cat_a], avg_prob[:,cat_b])"
   ]
  },
  {
   "cell_type": "code",
   "execution_count": 103,
   "metadata": {},
   "outputs": [
    {
     "data": {
      "text/plain": [
       "array([0.06573893, 0.09219989, 0.09054608, 0.09209653, 0.09054608,\n",
       "       0.09168307, 0.08114004, 0.09178644, 0.09157971, 0.09168307])"
      ]
     },
     "execution_count": 103,
     "metadata": {},
     "output_type": "execute_result"
    }
   ],
   "source": [
    "avg_prob[0,:]"
   ]
  },
  {
   "cell_type": "code",
   "execution_count": null,
   "metadata": {},
   "outputs": [],
   "source": []
  },
  {
   "cell_type": "code",
   "execution_count": null,
   "metadata": {},
   "outputs": [],
   "source": [
    "\n",
    "seedigit = 5\n",
    "\n",
    "colors = myplot.get_list_fromcmap(\"tab10\", N=10)\n",
    "fig, axs = plt.subplots(2,len(sample_sizes)//2, figsize=(15,5),sharex=True, sharey=True)\n",
    "axs = np.ravel(axs)\n",
    "for ss_idx, sample_size in enumerate(sample_sizes):\n",
    "    data = test_probs[:,ss_idx,0].T\n",
    "    ax = axs[ss_idx]\n",
    "\n",
    "\n",
    "\n",
    "    logbins = np.geomspace(data.min(),data.max(), 40)\n",
    "\n",
    "    for mcm_idx in [3,5]:\n",
    "        data = test_probs[mcm_idx,ss_idx,0, seedigit].T\n",
    "        ax.hist(data,bins=logbins, facecolor=\"None\",alpha=.2,edgecolor=\"black\",histtype= \"stepfilled\")\n",
    "        ax.hist(data,bins=logbins, label=f'{mcm_idx}',alpha=.5,histtype= \"stepfilled\",facecolor=colors[mcm_idx])\n",
    "    ax.text(.1,.8,f\"Our distance {utils.norm_distribution_distance(np.log(test_probs[0,ss_idx,0, seedigit]),np.log(test_probs[1,ss_idx,0, seedigit])).round(2)}\", transform=ax.transAxes)\n",
    "    ax.text(.1,.7,f\"TVD {utils.total_variation_distance(np.log(test_probs[0,ss_idx,0, seedigit]),np.log(test_probs[1,ss_idx,0, seedigit])).round(2)}\", transform=ax.transAxes)\n",
    "\n",
    "    # if ss_idx == len(sample_sizes)-3:\n",
    "    #     handles, labels = ax.get_legend_handles_labels()\n",
    "    #     ax.legend(handles, labels, loc='upper center', bbox_to_anchor=(0.5, -0.15), ncol=5)\n",
    "\n",
    "    ax.set_title(sample_size)\n",
    "    ax.set_xscale(\"log\")\n",
    "\n",
    "handles, labels = ax.get_legend_handles_labels()\n",
    "leg = fig.legend(handles, labels, loc='center right', ncol=1,bbox_to_anchor=(.95,0.5)) #bbox_to_anchor=(.95,0.5)\n",
    "leg.set_title(\"MCM\",)\n",
    "\n",
    "fig.supxlabel(f\"Probability for digit {seedigit} at g* on testset (logscale)\")\n",
    "\n",
    "supylabel = fig.supylabel('Frequency')\n",
    "supylabel.set_x(supylabel.get_position()[0] + 0.05)\n",
    "\n",
    "\n",
    "\n",
    "plt.show()\n",
    "\n",
    "\n"
   ]
  },
  {
   "cell_type": "code",
   "execution_count": null,
   "metadata": {},
   "outputs": [],
   "source": []
  }
 ],
 "metadata": {
  "kernelspec": {
   "display_name": "mcm_classifying",
   "language": "python",
   "name": "python3"
  },
  "language_info": {
   "codemirror_mode": {
    "name": "ipython",
    "version": 3
   },
   "file_extension": ".py",
   "mimetype": "text/x-python",
   "name": "python",
   "nbconvert_exporter": "python",
   "pygments_lexer": "ipython3",
   "version": "3.11.5"
  }
 },
 "nbformat": 4,
 "nbformat_minor": 2
}
