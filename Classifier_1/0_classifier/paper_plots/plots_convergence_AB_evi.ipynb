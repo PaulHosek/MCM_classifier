{
 "cells": [
  {
   "cell_type": "markdown",
   "metadata": {},
   "source": [
    "- [ ] A vs B plot\n",
    "    - Use log evidence on seeing (un-)observed counts instead of probability\n",
    "        - That is log evidence for unseen dataset (calculate for all at once using formula 8)\n",
    "￼\n",
    "            - Where s_hat is the see_data and k_ba are the counts in that data\n",
    "    - Point: Small plot to show that our model is stable"
   ]
  },
  {
   "cell_type": "code",
   "execution_count": 2,
   "metadata": {},
   "outputs": [],
   "source": [
    "import numpy as np\n",
    "import os\n",
    "import json\n",
    "import sys\n",
    "import matplotlib.pyplot as plt\n",
    "import math\n",
    "\n",
    "sys.path.append(\"../\")"
   ]
  },
  {
   "cell_type": "code",
   "execution_count": 3,
   "metadata": {},
   "outputs": [
    {
     "data": {
      "text/plain": [
       "<module 'src.plot' from '/Users/paulhosek/PycharmProjects/mcm/MCM_classifier/Classifier_1/0_classifier/paper_plots/../src/plot.py'>"
      ]
     },
     "execution_count": 3,
     "metadata": {},
     "output_type": "execute_result"
    }
   ],
   "source": [
    "import importlib\n",
    "import src.plot as myplot\n",
    "importlib.reload(myplot)"
   ]
  },
  {
   "cell_type": "code",
   "execution_count": 4,
   "metadata": {},
   "outputs": [
    {
     "data": {
      "text/plain": [
       "<module 'src.paper_utils' from '/Users/paulhosek/PycharmProjects/mcm/MCM_classifier/Classifier_1/0_classifier/paper_plots/../src/paper_utils.py'>"
      ]
     },
     "execution_count": 4,
     "metadata": {},
     "output_type": "execute_result"
    }
   ],
   "source": [
    "\n",
    "import importlib\n",
    "import src.paper_utils as utils\n",
    "importlib.reload(utils)"
   ]
  },
  {
   "cell_type": "markdown",
   "metadata": {},
   "source": [
    "Use MCM paritioning from fitting but do not use the ML parameters/ found counts but the counts from the new dataset\n",
    "1. load mcm partitioning\n",
    "2. write function data to (un-)smoothed counts\n"
   ]
  },
  {
   "cell_type": "code",
   "execution_count": 4,
   "metadata": {},
   "outputs": [],
   "source": [
    "# for each icc\n",
    "# construct the count distribution given some dataset\n",
    "\n",
    "# first load some example data\n",
    "# test_data = utils.load_test_data(digit=0)"
   ]
  },
  {
   "cell_type": "code",
   "execution_count": 16,
   "metadata": {},
   "outputs": [
    {
     "name": "stdout",
     "output_type": "stream",
     "text": [
      "A B\n",
      "A\n",
      "../INPUT/data/half-images-unlabeled-2.dat\n",
      "../INPUT/data/half-images-unlabeled-3.dat\n",
      "../INPUT/data/half-images-unlabeled-1.dat\n",
      "../INPUT/data/half-images-unlabeled-0.dat\n",
      "../INPUT/data/half-images-unlabeled-4.dat\n",
      "../INPUT/data/half-images-unlabeled-5.dat\n",
      "../INPUT/data/half-images-unlabeled-7.dat\n",
      "../INPUT/data/half-images-unlabeled-6.dat\n",
      "../INPUT/data/half-images-unlabeled-8.dat\n",
      "../INPUT/data/half-images-unlabeled-9.dat\n",
      "../INPUT/data/half-images-unlabeled-2.dat\n",
      "../INPUT/data/half-images-unlabeled-3.dat\n",
      "../INPUT/data/half-images-unlabeled-1.dat\n",
      "../INPUT/data/half-images-unlabeled-0.dat\n",
      "../INPUT/data/half-images-unlabeled-4.dat\n",
      "../INPUT/data/half-images-unlabeled-5.dat\n",
      "../INPUT/data/half-images-unlabeled-7.dat\n",
      "../INPUT/data/half-images-unlabeled-6.dat\n",
      "../INPUT/data/half-images-unlabeled-8.dat\n",
      "../INPUT/data/half-images-unlabeled-9.dat\n",
      "../INPUT/data/half-images-unlabeled-2.dat\n",
      "../INPUT/data/half-images-unlabeled-3.dat\n",
      "../INPUT/data/half-images-unlabeled-1.dat\n",
      "../INPUT/data/half-images-unlabeled-0.dat\n",
      "../INPUT/data/half-images-unlabeled-4.dat\n",
      "../INPUT/data/half-images-unlabeled-5.dat\n",
      "../INPUT/data/half-images-unlabeled-7.dat\n",
      "../INPUT/data/half-images-unlabeled-6.dat\n",
      "../INPUT/data/half-images-unlabeled-8.dat\n",
      "../INPUT/data/half-images-unlabeled-9.dat\n",
      "B\n",
      "../INPUT/data/half-images-unlabeled-2.dat\n",
      "../INPUT/data/half-images-unlabeled-3.dat\n",
      "../INPUT/data/half-images-unlabeled-1.dat\n",
      "../INPUT/data/half-images-unlabeled-0.dat\n",
      "../INPUT/data/half-images-unlabeled-4.dat\n",
      "../INPUT/data/half-images-unlabeled-5.dat\n",
      "../INPUT/data/half-images-unlabeled-7.dat\n",
      "../INPUT/data/half-images-unlabeled-6.dat\n",
      "../INPUT/data/half-images-unlabeled-8.dat\n",
      "../INPUT/data/half-images-unlabeled-9.dat\n",
      "../INPUT/data/half-images-unlabeled-2.dat\n",
      "../INPUT/data/half-images-unlabeled-3.dat\n",
      "../INPUT/data/half-images-unlabeled-1.dat\n",
      "../INPUT/data/half-images-unlabeled-0.dat\n",
      "../INPUT/data/half-images-unlabeled-4.dat\n",
      "../INPUT/data/half-images-unlabeled-5.dat\n",
      "../INPUT/data/half-images-unlabeled-7.dat\n",
      "../INPUT/data/half-images-unlabeled-6.dat\n",
      "../INPUT/data/half-images-unlabeled-8.dat\n",
      "../INPUT/data/half-images-unlabeled-9.dat\n",
      "../INPUT/data/half-images-unlabeled-2.dat\n",
      "../INPUT/data/half-images-unlabeled-3.dat\n",
      "../INPUT/data/half-images-unlabeled-1.dat\n",
      "../INPUT/data/half-images-unlabeled-0.dat\n",
      "../INPUT/data/half-images-unlabeled-4.dat\n",
      "../INPUT/data/half-images-unlabeled-5.dat\n",
      "../INPUT/data/half-images-unlabeled-7.dat\n",
      "../INPUT/data/half-images-unlabeled-6.dat\n",
      "../INPUT/data/half-images-unlabeled-8.dat\n",
      "../INPUT/data/half-images-unlabeled-9.dat\n"
     ]
    }
   ],
   "source": [
    "digit = 0\n",
    "\n",
    "sample_sizes = [1000, 2000, 3000]\n",
    "letter = \"A\"\n",
    "path_format = \"../OUTPUT/sample_sizes_split_{}\"\n",
    "\n",
    "counts_samplesizes, mcms_samplesizes = utils.load_counts_mcm(sample_sizes, letter)\n",
    "\n",
    "n_runs = min([len(i) for i in mcms_samplesizes])\n",
    "\n",
    "\n",
    "\n",
    "\n",
    "other_letter = \"B\" if letter == \"A\" else \"A\"\n",
    "print(letter, other_letter)\n",
    "\n",
    "# see other letter\n",
    "evids_both = [] # 0 = own; 1 = other\n",
    "\n",
    "for see_letter in [letter, other_letter]:\n",
    "    print(see_letter)\n",
    "    evids = np.zeros((len(sample_sizes), n_runs)) # nr sample sizes, nr runs\n",
    "    for sample_size_idx, sample_size in enumerate(sample_sizes):\n",
    "        test_data = utils.recreate_dataset(see_letter,digit, sample_size, seed=None) \n",
    "\n",
    "        mcms = mcms_samplesizes[sample_size_idx][:n_runs]\n",
    "        for run_idx, mcm in enumerate(mcms):\n",
    "            evids[sample_size_idx][run_idx] = utils.evidence_on_data(mcm[digit], test_data)# / sample_size\n",
    "    evids_both.append(evids)\n"
   ]
  },
  {
   "cell_type": "code",
   "execution_count": 27,
   "metadata": {},
   "outputs": [
    {
     "data": {
      "text/plain": [
       "1"
      ]
     },
     "execution_count": 27,
     "metadata": {},
     "output_type": "execute_result"
    }
   ],
   "source": [
    "\n",
    "x = 1\n",
    "0 if x is None else x"
   ]
  },
  {
   "cell_type": "code",
   "execution_count": 17,
   "metadata": {},
   "outputs": [],
   "source": [
    "\n",
    "evids_both = [np.divide(arr, np.array(sample_sizes)[:, np.newaxis]) for arr in evids_both]"
   ]
  },
  {
   "cell_type": "code",
   "execution_count": 18,
   "metadata": {},
   "outputs": [
    {
     "data": {
      "image/png": "[encoded data removed]",
      "text/plain": [
       "<Figure size 640x480 with 1 Axes>"
      ]
     },
     "metadata": {},
     "output_type": "display_data"
    }
   ],
   "source": [
    "plt.figure()\n",
    "plt.boxplot(evids_both[0].T, positions=sample_sizes,widths= 50)\n",
    "plt.boxplot(evids_both[1].T, positions=sample_sizes,widths= 50)\n",
    "\n",
    "plt.plot(sample_sizes,np.mean(evids_both[0],axis=1), label=f\"seen/data {letter}\", color=\"blue\")\n",
    "plt.plot(sample_sizes,np.mean(evids_both[1],axis=1),label=f\"unseen/data {other_letter}\", color=\"red\")\n",
    "\n",
    "plt.xlim((min(sample_sizes)-100,max(sample_sizes)+100))\n",
    "plt.ylabel(\"sample log evidence\")\n",
    "plt.xlabel(\"Nr samples\")\n",
    "plt.title(f\"mcm {letter} log evidence per sample\")\n",
    "plt.legend()\n",
    "plt.show()"
   ]
  },
  {
   "cell_type": "code",
   "execution_count": null,
   "metadata": {},
   "outputs": [],
   "source": []
  }
 ],
 "metadata": {
  "kernelspec": {
   "display_name": "mcm_classifying",
   "language": "python",
   "name": "python3"
  },
  "language_info": {
   "codemirror_mode": {
    "name": "ipython",
    "version": 3
   },
   "file_extension": ".py",
   "mimetype": "text/x-python",
   "name": "python",
   "nbconvert_exporter": "python",
   "pygments_lexer": "ipython3",
   "version": "3.11.5"
  }
 },
 "nbformat": 4,
 "nbformat_minor": 2
}
