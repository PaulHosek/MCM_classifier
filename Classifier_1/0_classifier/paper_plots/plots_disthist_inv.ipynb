{
 "cells": [
  {
   "cell_type": "markdown",
   "metadata": {},
   "source": [
    "This is the inverse plot to the disthist plots.\n",
    "That means for we compare the different MCMs fitted on their digits. We compare which distributions they come up when seeing a specific digit (e.g., test samples of digit 0). "
   ]
  },
  {
   "cell_type": "code",
   "execution_count": 15,
   "metadata": {},
   "outputs": [],
   "source": [
    "import numpy as np\n",
    "import os\n",
    "import json\n",
    "import sys\n",
    "import matplotlib.pyplot as plt\n",
    "import skimage\n",
    "\n",
    "sys.path.append(\"../\")\n",
    "import src.plot as myplot\n",
    "import seaborn as sns\n",
    "\n",
    "import sklearn"
   ]
  },
  {
   "cell_type": "code",
   "execution_count": 16,
   "metadata": {},
   "outputs": [
    {
     "data": {
      "text/plain": [
       "<module 'src.plot' from '/Users/paulhosek/PycharmProjects/mcm/MCM_classifier/Classifier_1/0_classifier/paper_plots/../src/plot.py'>"
      ]
     },
     "execution_count": 16,
     "metadata": {},
     "output_type": "execute_result"
    }
   ],
   "source": [
    "import importlib\n",
    "import src.plot as myplot\n",
    "importlib.reload(myplot)"
   ]
  },
  {
   "cell_type": "code",
   "execution_count": 17,
   "metadata": {},
   "outputs": [
    {
     "data": {
      "text/plain": [
       "<module 'src.paper_utils' from '/Users/paulhosek/PycharmProjects/mcm/MCM_classifier/Classifier_1/0_classifier/paper_plots/../src/paper_utils.py'>"
      ]
     },
     "execution_count": 17,
     "metadata": {},
     "output_type": "execute_result"
    }
   ],
   "source": [
    "\n",
    "import importlib\n",
    "import src.paper_utils as utils\n",
    "importlib.reload(utils)"
   ]
  },
  {
   "cell_type": "code",
   "execution_count": 18,
   "metadata": {},
   "outputs": [],
   "source": [
    "sample_sizes = [10, 100, 500,1000, 2000, 3000,4000,5000]\n",
    "counts_samplesizes, mcms_samplesizes = utils.load_counts_mcm(sample_sizes, letter=\"\", path_format=\"../Output/sample_sizes\")\n"
   ]
  },
  {
   "cell_type": "code",
   "execution_count": 19,
   "metadata": {},
   "outputs": [],
   "source": [
    "# raise KeyboardInterrupt # load data instead\n",
    "# n_runs = 10\n",
    "# mcm_digit = 0\n",
    "\n",
    "# nr_digits = 10\n",
    "\n",
    "# test_probs = np.zeros((nr_digits, len(sample_sizes), n_runs,nr_digits, len(utils.load_test_data(digit=0))))\n",
    "# for mcm_digit in range(nr_digits):\n",
    "\n",
    "#     for test_digit in range(nr_digits):\n",
    "#         test_data = utils.load_test_data(digit=test_digit)\n",
    "\n",
    "#         for sample_size_idx, sample_size in enumerate(sample_sizes):\n",
    "\n",
    "#             mcms = mcms_samplesizes[sample_size_idx][:n_runs]\n",
    "#             counts_gstar = counts_samplesizes[sample_size_idx][:n_runs]\n",
    "                \n",
    "#             for run_idx, mcm in enumerate(mcms):\n",
    "#                 test_probs[mcm_digit][sample_size_idx][run_idx][test_digit] = utils.probabilities_gstar(mcm[mcm_digit], counts_gstar[run_idx][mcm_digit], test_data, sample_size,smooth=True)\n"
   ]
  },
  {
   "cell_type": "code",
   "execution_count": 20,
   "metadata": {},
   "outputs": [],
   "source": [
    "# np.save(\"./../OUTPUT/general_files/test_probs_all_MCM_all_dig_10runs.npy\",test_probs)\n"
   ]
  },
  {
   "cell_type": "code",
   "execution_count": 21,
   "metadata": {},
   "outputs": [],
   "source": [
    "test_probs = np.load(\"./../OUTPUT/general_files/test_probs_all_MCM_all_dig_10runs.npy\")\n"
   ]
  },
  {
   "cell_type": "code",
   "execution_count": 22,
   "metadata": {},
   "outputs": [],
   "source": [
    "# test_probs.shape, test_probs[0,ss_idx,0]"
   ]
  },
  {
   "cell_type": "code",
   "execution_count": 23,
   "metadata": {},
   "outputs": [],
   "source": [
    "# # a = test_probs[0,ss_idx,0, seedigit].T\n",
    "# # b = test_probs[1,ss_idx,0, seedigit].T\n",
    "\n",
    "# def norm_distribution_distance(dist_a,dist_b):\n",
    "#     \"\"\"\n",
    "#     Implements logic based on to |mu_1 - mu_2| > (sigma_1 + sigma_2).\n",
    "#     Formula used:\n",
    "#      [|mu_1 - mu_2| - (sigma_1 + sigma_2)] / (mu_1 + mu_2)\n",
    "\n",
    "#      Positive if mean difference is larger than twice the standard deviation.\n",
    "#      Negative if smaller.\n",
    "#      0 if equal.\n",
    "    \n",
    "\n",
    "#     :param a: _description_\n",
    "#     :type a: _type_\n",
    "#     :param b: _description_\n",
    "#     :type b: _type_\n",
    "#     \"\"\"\n",
    "\n",
    "#     return np.divide(np.abs(np.mean(dist_a) - np.mean(dist_b)) - (np.std(dist_a) +  np.std(dist_b)),\n",
    "#                      np.mean(dist_a) + np.mean(dist_b))\n",
    "\n",
    "\n",
    "# # norm_distribution_distance(a,b)\n",
    "\n",
    "\n",
    "# def total_variation_distance(dist_a, dist_b):\n",
    "#     \"\"\"\n",
    "#     Calculates the total variation distance (TV)/ normalized L1 distance between two probability distributions.\n",
    "    \n",
    "#     :param dist_a: The first probability distribution.\n",
    "#     :type dist_a: numpy.ndarray\n",
    "#     :param dist_b: The second probability distribution.\n",
    "#     :type dist_b: numpy.ndarray\n",
    "#     :return: The total variation distance between the two distributions.\n",
    "#     :rtype: float\n",
    "#     \"\"\"\n",
    "#     return 0.5 * np.sum(np.abs(dist_a - dist_b)) / len(dist_a)\n",
    "\n",
    "# # norm_distribution_distance(a,b), total_variation_distance(a,b)"
   ]
  },
  {
   "cell_type": "code",
   "execution_count": 24,
   "metadata": {},
   "outputs": [
    {
     "ename": "AttributeError",
     "evalue": "module 'src.paper_utils' has no attribute 'norm_distribution_distance'",
     "output_type": "error",
     "traceback": [
      "\u001b[0;31m---------------------------------------------------------------------------\u001b[0m",
      "\u001b[0;31mAttributeError\u001b[0m                            Traceback (most recent call last)",
      "Cell \u001b[0;32mIn[24], line 18\u001b[0m\n\u001b[1;32m     16\u001b[0m     ax\u001b[38;5;241m.\u001b[39mhist(data,bins\u001b[38;5;241m=\u001b[39mlogbins, facecolor\u001b[38;5;241m=\u001b[39m\u001b[38;5;124m\"\u001b[39m\u001b[38;5;124mNone\u001b[39m\u001b[38;5;124m\"\u001b[39m,alpha\u001b[38;5;241m=\u001b[39m\u001b[38;5;241m.2\u001b[39m,edgecolor\u001b[38;5;241m=\u001b[39m\u001b[38;5;124m\"\u001b[39m\u001b[38;5;124mblack\u001b[39m\u001b[38;5;124m\"\u001b[39m,histtype\u001b[38;5;241m=\u001b[39m \u001b[38;5;124m\"\u001b[39m\u001b[38;5;124mstepfilled\u001b[39m\u001b[38;5;124m\"\u001b[39m)\n\u001b[1;32m     17\u001b[0m     ax\u001b[38;5;241m.\u001b[39mhist(data,bins\u001b[38;5;241m=\u001b[39mlogbins, label\u001b[38;5;241m=\u001b[39m\u001b[38;5;124mf\u001b[39m\u001b[38;5;124m'\u001b[39m\u001b[38;5;132;01m{\u001b[39;00mmcm_idx\u001b[38;5;132;01m}\u001b[39;00m\u001b[38;5;124m'\u001b[39m,alpha\u001b[38;5;241m=\u001b[39m\u001b[38;5;241m.5\u001b[39m,histtype\u001b[38;5;241m=\u001b[39m \u001b[38;5;124m\"\u001b[39m\u001b[38;5;124mstepfilled\u001b[39m\u001b[38;5;124m\"\u001b[39m,facecolor\u001b[38;5;241m=\u001b[39mcolors[mcm_idx])\n\u001b[0;32m---> 18\u001b[0m ax\u001b[38;5;241m.\u001b[39mtext(\u001b[38;5;241m.1\u001b[39m,\u001b[38;5;241m.8\u001b[39m,\u001b[38;5;124mf\u001b[39m\u001b[38;5;124m\"\u001b[39m\u001b[38;5;124mOur distance \u001b[39m\u001b[38;5;132;01m{\u001b[39;00m\u001b[43mutils\u001b[49m\u001b[38;5;241;43m.\u001b[39;49m\u001b[43mnorm_distribution_distance\u001b[49m(np\u001b[38;5;241m.\u001b[39mlog(test_probs[\u001b[38;5;241m0\u001b[39m,ss_idx,\u001b[38;5;241m0\u001b[39m,\u001b[38;5;250m \u001b[39mseedigit]),np\u001b[38;5;241m.\u001b[39mlog(test_probs[\u001b[38;5;241m1\u001b[39m,ss_idx,\u001b[38;5;241m0\u001b[39m,\u001b[38;5;250m \u001b[39mseedigit]))\u001b[38;5;241m.\u001b[39mround(\u001b[38;5;241m2\u001b[39m)\u001b[38;5;132;01m}\u001b[39;00m\u001b[38;5;124m\"\u001b[39m, transform\u001b[38;5;241m=\u001b[39max\u001b[38;5;241m.\u001b[39mtransAxes)\n\u001b[1;32m     19\u001b[0m ax\u001b[38;5;241m.\u001b[39mtext(\u001b[38;5;241m.1\u001b[39m,\u001b[38;5;241m.7\u001b[39m,\u001b[38;5;124mf\u001b[39m\u001b[38;5;124m\"\u001b[39m\u001b[38;5;124mTVD \u001b[39m\u001b[38;5;132;01m{\u001b[39;00mutils\u001b[38;5;241m.\u001b[39mtotal_variation_distance(np\u001b[38;5;241m.\u001b[39mlog(test_probs[\u001b[38;5;241m0\u001b[39m,ss_idx,\u001b[38;5;241m0\u001b[39m,\u001b[38;5;250m \u001b[39mseedigit]),np\u001b[38;5;241m.\u001b[39mlog(test_probs[\u001b[38;5;241m1\u001b[39m,ss_idx,\u001b[38;5;241m0\u001b[39m,\u001b[38;5;250m \u001b[39mseedigit]))\u001b[38;5;241m.\u001b[39mround(\u001b[38;5;241m2\u001b[39m)\u001b[38;5;132;01m}\u001b[39;00m\u001b[38;5;124m\"\u001b[39m, transform\u001b[38;5;241m=\u001b[39max\u001b[38;5;241m.\u001b[39mtransAxes)\n\u001b[1;32m     23\u001b[0m \u001b[38;5;66;03m# if ss_idx == len(sample_sizes)-3:\u001b[39;00m\n\u001b[1;32m     24\u001b[0m \u001b[38;5;66;03m#     handles, labels = ax.get_legend_handles_labels()\u001b[39;00m\n\u001b[1;32m     25\u001b[0m \u001b[38;5;66;03m#     ax.legend(handles, labels, loc='upper center', bbox_to_anchor=(0.5, -0.15), ncol=5)\u001b[39;00m\n",
      "\u001b[0;31mAttributeError\u001b[0m: module 'src.paper_utils' has no attribute 'norm_distribution_distance'"
     ]
    },
    {
     "data": {
      "image/png": "[encoded data removed]",
      "text/plain": [
       "<Figure size 1500x500 with 8 Axes>"
      ]
     },
     "metadata": {},
     "output_type": "display_data"
    }
   ],
   "source": [
    "\n",
    "seedigit = 5\n",
    "\n",
    "colors = myplot.get_list_fromcmap(\"tab10\", N=10)\n",
    "fig, axs = plt.subplots(2,len(sample_sizes)//2, figsize=(15,5),sharex=True, sharey=True)\n",
    "axs = np.ravel(axs)\n",
    "for ss_idx, sample_size in enumerate(sample_sizes):\n",
    "    data = test_probs[:,ss_idx,0].T\n",
    "    ax = axs[ss_idx]\n",
    "\n",
    "\n",
    "\n",
    "    logbins = np.geomspace(data.min(),data.max(), 40)\n",
    "\n",
    "    for mcm_idx in [3,5]:\n",
    "        data = test_probs[mcm_idx,ss_idx,0, seedigit].T\n",
    "        ax.hist(data,bins=logbins, facecolor=\"None\",alpha=.2,edgecolor=\"black\",histtype= \"stepfilled\")\n",
    "        ax.hist(data,bins=logbins, label=f'{mcm_idx}',alpha=.5,histtype= \"stepfilled\",facecolor=colors[mcm_idx])\n",
    "    ax.text(.1,.8,f\"Our distance {utils.norm_distribution_distance(np.log(test_probs[0,ss_idx,0, seedigit]),np.log(test_probs[1,ss_idx,0, seedigit])).round(2)}\", transform=ax.transAxes)\n",
    "    ax.text(.1,.7,f\"TVD {utils.total_variation_distance(np.log(test_probs[0,ss_idx,0, seedigit]),np.log(test_probs[1,ss_idx,0, seedigit])).round(2)}\", transform=ax.transAxes)\n",
    "\n",
    "\n",
    "\n",
    "    # if ss_idx == len(sample_sizes)-3:\n",
    "    #     handles, labels = ax.get_legend_handles_labels()\n",
    "    #     ax.legend(handles, labels, loc='upper center', bbox_to_anchor=(0.5, -0.15), ncol=5)\n",
    "\n",
    "    ax.set_title(sample_size)\n",
    "    ax.set_xscale(\"log\")\n",
    "\n",
    "handles, labels = ax.get_legend_handles_labels()\n",
    "leg = fig.legend(handles, labels, loc='center right', ncol=1,bbox_to_anchor=(.95,0.5)) #bbox_to_anchor=(.95,0.5)\n",
    "leg.set_title(\"MCM\",)\n",
    "\n",
    "fig.supxlabel(f\"Probability for digit {seedigit} at g* on testset (logscale)\")\n",
    "\n",
    "supylabel = fig.supylabel('Frequency')\n",
    "supylabel.set_x(supylabel.get_position()[0] + 0.05)\n",
    "\n",
    "\n",
    "\n",
    "plt.show()\n",
    "\n",
    "\n"
   ]
  },
  {
   "cell_type": "markdown",
   "metadata": {},
   "source": [
    "# same for indicative ICC now"
   ]
  },
  {
   "cell_type": "code",
   "execution_count": null,
   "metadata": {},
   "outputs": [],
   "source": [
    "# example digits as variabels\n",
    "# find indicative icc using the decision boundary\n",
    "\n",
    "# plot disthist \n"
   ]
  }
 ],
 "metadata": {
  "kernelspec": {
   "display_name": "mcm_classifying",
   "language": "python",
   "name": "python3"
  },
  "language_info": {
   "codemirror_mode": {
    "name": "ipython",
    "version": 3
   },
   "file_extension": ".py",
   "mimetype": "text/x-python",
   "name": "python",
   "nbconvert_exporter": "python",
   "pygments_lexer": "ipython3",
   "version": "3.11.5"
  }
 },
 "nbformat": 4,
 "nbformat_minor": 2
}
