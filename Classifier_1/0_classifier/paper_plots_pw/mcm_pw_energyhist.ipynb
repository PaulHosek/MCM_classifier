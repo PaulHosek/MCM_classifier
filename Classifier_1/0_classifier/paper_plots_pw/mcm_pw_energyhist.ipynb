{
 "cells": [
  {
   "cell_type": "markdown",
   "metadata": {},
   "source": [
    "#### histogram comparing the energy from the pairwise model with the energy of the MCM for the same digit"
   ]
  },
  {
   "cell_type": "markdown",
   "metadata": {},
   "source": []
  }
 ],
 "metadata": {
  "language_info": {
   "name": "python"
  }
 },
 "nbformat": 4,
 "nbformat_minor": 2
}
