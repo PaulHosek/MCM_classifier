{
 "cells": [
  {
   "cell_type": "code",
   "execution_count": 27,
   "metadata": {},
   "outputs": [],
   "source": [
    "import os\n",
    "import numpy as np\n",
    "from sklearn import linear_model\n",
    "from sklearn.neural_network import BernoulliRBM\n",
    "from sklearn.pipeline import Pipeline\n",
    "from sklearn.base import clone\n",
    "from sklearn import metrics\n",
    "from scipy.ndimage import convolve\n",
    "\n",
    "from sklearn.neighbors import KNeighborsClassifier\n",
    "\n",
    "import matplotlib.pyplot as plt\n"
   ]
  },
  {
   "cell_type": "code",
   "execution_count": 28,
   "metadata": {},
   "outputs": [],
   "source": [
    "n_categories = 10\n",
    "n_variables = 121  # Number of variables in the dataset\n",
    "mcm_filename_format = \"train-images-unlabeled-{}_comms.dat\"\n",
    "data_filename_format = \"train-images-unlabeled-{}.dat\"\n",
    "data_path = \"../INPUT/data/\"\n",
    "communities_path = \"../INPUT/MCMs/\"\n",
    "output_path = \"../OUTPUT/\"\n",
    "data_size = 5423\n",
    "\n",
    "# for k in range(n_categories):\n",
    "X_train = np.empty((data_size*n_categories,n_variables))\n",
    "for k in range(n_categories):\n",
    "    im_path = os.path.join(data_path,data_filename_format.format(k))\n",
    "    X_train[k*data_size:(k+1)*data_size, :] = np.genfromtxt(im_path,delimiter=1,dtype=int)\n",
    "Y_train = np.repeat(np.arange(10),data_size)\n"
   ]
  },
  {
   "cell_type": "code",
   "execution_count": 29,
   "metadata": {},
   "outputs": [],
   "source": [
    "# shape is (sample, image_size)\n",
    "X_test = np.genfromtxt(os.path.join(data_path, \"test-images-unlabeled-all-uniform.txt\"),delimiter=1, dtype=int)\n",
    "Y_test = np.loadtxt(os.path.join(data_path, \"test-labels-uniform.txt\"))\n"
   ]
  },
  {
   "cell_type": "markdown",
   "metadata": {},
   "source": [
    "RBM + KNN"
   ]
  },
  {
   "cell_type": "code",
   "execution_count": 30,
   "metadata": {},
   "outputs": [
    {
     "data": {
      "text/html": [
       "<style>#sk-container-id-2 {color: black;background-color: white;}#sk-container-id-2 pre{padding: 0;}#sk-container-id-2 div.sk-toggleable {background-color: white;}#sk-container-id-2 label.sk-toggleable__label {cursor: pointer;display: block;width: 100%;margin-bottom: 0;padding: 0.3em;box-sizing: border-box;text-align: center;}#sk-container-id-2 label.sk-toggleable__label-arrow:before {content: \"▸\";float: left;margin-right: 0.25em;color: #696969;}#sk-container-id-2 label.sk-toggleable__label-arrow:hover:before {color: black;}#sk-container-id-2 div.sk-estimator:hover label.sk-toggleable__label-arrow:before {color: black;}#sk-container-id-2 div.sk-toggleable__content {max-height: 0;max-width: 0;overflow: hidden;text-align: left;background-color: #f0f8ff;}#sk-container-id-2 div.sk-toggleable__content pre {margin: 0.2em;color: black;border-radius: 0.25em;background-color: #f0f8ff;}#sk-container-id-2 input.sk-toggleable__control:checked~div.sk-toggleable__content {max-height: 200px;max-width: 100%;overflow: auto;}#sk-container-id-2 input.sk-toggleable__control:checked~label.sk-toggleable__label-arrow:before {content: \"▾\";}#sk-container-id-2 div.sk-estimator input.sk-toggleable__control:checked~label.sk-toggleable__label {background-color: #d4ebff;}#sk-container-id-2 div.sk-label input.sk-toggleable__control:checked~label.sk-toggleable__label {background-color: #d4ebff;}#sk-container-id-2 input.sk-hidden--visually {border: 0;clip: rect(1px 1px 1px 1px);clip: rect(1px, 1px, 1px, 1px);height: 1px;margin: -1px;overflow: hidden;padding: 0;position: absolute;width: 1px;}#sk-container-id-2 div.sk-estimator {font-family: monospace;background-color: #f0f8ff;border: 1px dotted black;border-radius: 0.25em;box-sizing: border-box;margin-bottom: 0.5em;}#sk-container-id-2 div.sk-estimator:hover {background-color: #d4ebff;}#sk-container-id-2 div.sk-parallel-item::after {content: \"\";width: 100%;border-bottom: 1px solid gray;flex-grow: 1;}#sk-container-id-2 div.sk-label:hover label.sk-toggleable__label {background-color: #d4ebff;}#sk-container-id-2 div.sk-serial::before {content: \"\";position: absolute;border-left: 1px solid gray;box-sizing: border-box;top: 0;bottom: 0;left: 50%;z-index: 0;}#sk-container-id-2 div.sk-serial {display: flex;flex-direction: column;align-items: center;background-color: white;padding-right: 0.2em;padding-left: 0.2em;position: relative;}#sk-container-id-2 div.sk-item {position: relative;z-index: 1;}#sk-container-id-2 div.sk-parallel {display: flex;align-items: stretch;justify-content: center;background-color: white;position: relative;}#sk-container-id-2 div.sk-item::before, #sk-container-id-2 div.sk-parallel-item::before {content: \"\";position: absolute;border-left: 1px solid gray;box-sizing: border-box;top: 0;bottom: 0;left: 50%;z-index: -1;}#sk-container-id-2 div.sk-parallel-item {display: flex;flex-direction: column;z-index: 1;position: relative;background-color: white;}#sk-container-id-2 div.sk-parallel-item:first-child::after {align-self: flex-end;width: 50%;}#sk-container-id-2 div.sk-parallel-item:last-child::after {align-self: flex-start;width: 50%;}#sk-container-id-2 div.sk-parallel-item:only-child::after {width: 0;}#sk-container-id-2 div.sk-dashed-wrapped {border: 1px dashed gray;margin: 0 0.4em 0.5em 0.4em;box-sizing: border-box;padding-bottom: 0.4em;background-color: white;}#sk-container-id-2 div.sk-label label {font-family: monospace;font-weight: bold;display: inline-block;line-height: 1.2em;}#sk-container-id-2 div.sk-label-container {text-align: center;}#sk-container-id-2 div.sk-container {/* jupyter's `normalize.less` sets `[hidden] { display: none; }` but bootstrap.min.css set `[hidden] { display: none !important; }` so we also need the `!important` here to be able to override the default hidden behavior on the sphinx rendered scikit-learn.org. See: https://github.com/scikit-learn/scikit-learn/issues/21755 */display: inline-block !important;position: relative;}#sk-container-id-2 div.sk-text-repr-fallback {display: none;}</style><div id=\"sk-container-id-2\" class=\"sk-top-container\"><div class=\"sk-text-repr-fallback\"><pre>Pipeline(steps=[(&#x27;rbm&#x27;,\n",
       "                 BernoulliRBM(learning_rate=1e-05, n_components=625,\n",
       "                              random_state=42, verbose=False)),\n",
       "                (&#x27;KNN&#x27;,\n",
       "                 KNeighborsClassifier(algorithm=&#x27;kd_tree&#x27;, n_neighbors=7))])</pre><b>In a Jupyter environment, please rerun this cell to show the HTML representation or trust the notebook. <br />On GitHub, the HTML representation is unable to render, please try loading this page with nbviewer.org.</b></div><div class=\"sk-container\" hidden><div class=\"sk-item sk-dashed-wrapped\"><div class=\"sk-label-container\"><div class=\"sk-label sk-toggleable\"><input class=\"sk-toggleable__control sk-hidden--visually\" id=\"sk-estimator-id-4\" type=\"checkbox\" ><label for=\"sk-estimator-id-4\" class=\"sk-toggleable__label sk-toggleable__label-arrow\">Pipeline</label><div class=\"sk-toggleable__content\"><pre>Pipeline(steps=[(&#x27;rbm&#x27;,\n",
       "                 BernoulliRBM(learning_rate=1e-05, n_components=625,\n",
       "                              random_state=42, verbose=False)),\n",
       "                (&#x27;KNN&#x27;,\n",
       "                 KNeighborsClassifier(algorithm=&#x27;kd_tree&#x27;, n_neighbors=7))])</pre></div></div></div><div class=\"sk-serial\"><div class=\"sk-item\"><div class=\"sk-estimator sk-toggleable\"><input class=\"sk-toggleable__control sk-hidden--visually\" id=\"sk-estimator-id-5\" type=\"checkbox\" ><label for=\"sk-estimator-id-5\" class=\"sk-toggleable__label sk-toggleable__label-arrow\">BernoulliRBM</label><div class=\"sk-toggleable__content\"><pre>BernoulliRBM(learning_rate=1e-05, n_components=625, random_state=42,\n",
       "             verbose=False)</pre></div></div></div><div class=\"sk-item\"><div class=\"sk-estimator sk-toggleable\"><input class=\"sk-toggleable__control sk-hidden--visually\" id=\"sk-estimator-id-6\" type=\"checkbox\" ><label for=\"sk-estimator-id-6\" class=\"sk-toggleable__label sk-toggleable__label-arrow\">KNeighborsClassifier</label><div class=\"sk-toggleable__content\"><pre>KNeighborsClassifier(algorithm=&#x27;kd_tree&#x27;, n_neighbors=7)</pre></div></div></div></div></div></div></div>"
      ],
      "text/plain": [
       "Pipeline(steps=[('rbm',\n",
       "                 BernoulliRBM(learning_rate=1e-05, n_components=625,\n",
       "                              random_state=42, verbose=False)),\n",
       "                ('KNN',\n",
       "                 KNeighborsClassifier(algorithm='kd_tree', n_neighbors=7))])"
      ]
     },
     "execution_count": 30,
     "metadata": {},
     "output_type": "execute_result"
    }
   ],
   "source": [
    "knn = KNeighborsClassifier(n_neighbors=7, algorithm='kd_tree')\n",
    " \n",
    "rbm = BernoulliRBM(n_components=625, learning_rate=0.00001, n_iter=10, verbose=False, random_state=42)\n",
    " \n",
    "rbm_features_classifier = Pipeline(steps=[(\"rbm\", rbm), (\"KNN\", knn)])\n",
    "# Training RBM-Logistic Pipeline\n",
    "rbm_features_classifier.fit(X_train, Y_train)"
   ]
  },
  {
   "cell_type": "code",
   "execution_count": 31,
   "metadata": {},
   "outputs": [
    {
     "data": {
      "image/png": "[encoded data removed]",
      "text/plain": [
       "<Figure size 1000x500 with 2 Axes>"
      ]
     },
     "metadata": {},
     "output_type": "display_data"
    }
   ],
   "source": [
    "# Access the trained RBM model from the pipeline\n",
    "rbm_model = rbm_features_classifier.named_steps['rbm']\n",
    "\n",
    "# Transform the data using the trained RBM's transform method\n",
    "X_transformed = rbm_model.transform(X_test)\n",
    "reduced_features = X_transformed[:, :121]  # Select the first 64 features\n",
    "\n",
    "sid_l = 11\n",
    "# Reshape X_transformed for plotting\n",
    "X_transformed_reshaped = reduced_features.reshape(-1, sid_l, sid_l)\n",
    "\n",
    "# Visualize the original and transformed data\n",
    "fig, axes = plt.subplots(1, 2, figsize=(10, 5))\n",
    "axes[0].imshow(X_test[0].reshape(sid_l, sid_l), cmap=plt.cm.gray_r, interpolation='nearest')\n",
    "axes[0].set_title('Original Image')\n",
    "axes[1].imshow(X_transformed_reshaped[0], cmap=plt.cm.gray_r, interpolation='nearest')\n",
    "axes[1].set_title('Transformed Image')\n",
    "plt.show()\n"
   ]
  },
  {
   "cell_type": "code",
   "execution_count": 14,
   "metadata": {},
   "outputs": [
    {
     "name": "stdout",
     "output_type": "stream",
     "text": [
      "KNN using RBM features:\n",
      "               precision    recall  f1-score   support\n",
      "\n",
      "           0       1.00      1.00      1.00        33\n",
      "           1       0.93      1.00      0.97        28\n",
      "           2       0.94      1.00      0.97        33\n",
      "           3       0.97      0.97      0.97        34\n",
      "           4       0.98      1.00      0.99        46\n",
      "           5       0.98      0.96      0.97        47\n",
      "           6       0.97      1.00      0.99        35\n",
      "           7       1.00      0.94      0.97        34\n",
      "           8       0.97      0.93      0.95        30\n",
      "           9       0.95      0.90      0.92        40\n",
      "\n",
      "    accuracy                           0.97       360\n",
      "   macro avg       0.97      0.97      0.97       360\n",
      "weighted avg       0.97      0.97      0.97       360\n",
      "\n"
     ]
    },
    {
     "ename": "ValueError",
     "evalue": "cannot reshape array of size 625 into shape (8,8)",
     "output_type": "error",
     "traceback": [
      "\u001b[0;31m---------------------------------------------------------------------------\u001b[0m",
      "\u001b[0;31mValueError\u001b[0m                                Traceback (most recent call last)",
      "Cell \u001b[0;32mIn[14], line 42\u001b[0m\n\u001b[1;32m     40\u001b[0m axes[\u001b[38;5;241m0\u001b[39m]\u001b[38;5;241m.\u001b[39mimshow(X_test[\u001b[38;5;241m0\u001b[39m]\u001b[38;5;241m.\u001b[39mreshape(\u001b[38;5;241m8\u001b[39m, \u001b[38;5;241m8\u001b[39m), cmap\u001b[38;5;241m=\u001b[39mplt\u001b[38;5;241m.\u001b[39mcm\u001b[38;5;241m.\u001b[39mgray_r, interpolation\u001b[38;5;241m=\u001b[39m\u001b[38;5;124m'\u001b[39m\u001b[38;5;124mnearest\u001b[39m\u001b[38;5;124m'\u001b[39m)\n\u001b[1;32m     41\u001b[0m axes[\u001b[38;5;241m0\u001b[39m]\u001b[38;5;241m.\u001b[39mset_title(\u001b[38;5;124m'\u001b[39m\u001b[38;5;124mOriginal Image\u001b[39m\u001b[38;5;124m'\u001b[39m)\n\u001b[0;32m---> 42\u001b[0m axes[\u001b[38;5;241m1\u001b[39m]\u001b[38;5;241m.\u001b[39mimshow(\u001b[43mX_transformed\u001b[49m\u001b[43m[\u001b[49m\u001b[38;5;241;43m0\u001b[39;49m\u001b[43m]\u001b[49m\u001b[38;5;241;43m.\u001b[39;49m\u001b[43mreshape\u001b[49m\u001b[43m(\u001b[49m\u001b[38;5;241;43m8\u001b[39;49m\u001b[43m,\u001b[49m\u001b[43m \u001b[49m\u001b[38;5;241;43m8\u001b[39;49m\u001b[43m)\u001b[49m, cmap\u001b[38;5;241m=\u001b[39mplt\u001b[38;5;241m.\u001b[39mcm\u001b[38;5;241m.\u001b[39mgray_r, interpolation\u001b[38;5;241m=\u001b[39m\u001b[38;5;124m'\u001b[39m\u001b[38;5;124mnearest\u001b[39m\u001b[38;5;124m'\u001b[39m)\n\u001b[1;32m     43\u001b[0m axes[\u001b[38;5;241m1\u001b[39m]\u001b[38;5;241m.\u001b[39mset_title(\u001b[38;5;124m'\u001b[39m\u001b[38;5;124mTransformed Image\u001b[39m\u001b[38;5;124m'\u001b[39m)\n\u001b[1;32m     45\u001b[0m plt\u001b[38;5;241m.\u001b[39mshow()\n",
      "\u001b[0;31mValueError\u001b[0m: cannot reshape array of size 625 into shape (8,8)"
     ]
    },
    {
     "data": {
      "image/png": "[encoded data removed]",
      "text/plain": [
       "<Figure size 1000x500 with 2 Axes>"
      ]
     },
     "metadata": {},
     "output_type": "display_data"
    }
   ],
   "source": [
    "import numpy as np\n",
    "from sklearn.datasets import load_digits\n",
    "from sklearn.neural_network import BernoulliRBM\n",
    "from sklearn.preprocessing import StandardScaler\n",
    "from sklearn.model_selection import train_test_split\n",
    "from sklearn.pipeline import Pipeline\n",
    "from sklearn.neighbors import KNeighborsClassifier\n",
    "from sklearn.metrics import classification_report\n",
    "import matplotlib.pyplot as plt\n",
    "\n",
    "# Load a dataset (for this example, we'll use the digits dataset)\n",
    "digits = load_digits()\n",
    "X = digits.data\n",
    "y = digits.target\n",
    "\n",
    "# Preprocess the data\n",
    "scaler = StandardScaler()\n",
    "X_scaled = scaler.fit_transform(X)\n",
    "X_train, X_test, y_train, y_test = train_test_split(X_scaled, y, test_size=0.2, random_state=42)\n",
    "\n",
    "# Define the RBM and KNN models\n",
    "rbm = BernoulliRBM(n_components=625, learning_rate=0.00001, n_iter=10, verbose=False, random_state=42)\n",
    "knn = KNeighborsClassifier(n_neighbors=7, algorithm='kd_tree')\n",
    "\n",
    "# Create the RBM-KNN pipeline\n",
    "rbm_features_classifier = Pipeline(steps=[(\"rbm\", rbm), (\"knn\", knn)])\n",
    "\n",
    "# Train the pipeline\n",
    "rbm_features_classifier.fit(X_train, y_train)\n",
    "\n",
    "# Make predictions and evaluate performance\n",
    "y_pred = rbm_features_classifier.predict(X_test)\n",
    "print(\"KNN using RBM features:\\n\", classification_report(y_test, y_pred))\n",
    "\n",
    "# Perform RBM transformation (assuming this is the intended step)\n",
    "\n"
   ]
  },
  {
   "cell_type": "code",
   "execution_count": 24,
   "metadata": {},
   "outputs": [
    {
     "ename": "ValueError",
     "evalue": "cannot reshape array of size 23040 into shape (11,11)",
     "output_type": "error",
     "traceback": [
      "\u001b[0;31m---------------------------------------------------------------------------\u001b[0m",
      "\u001b[0;31mValueError\u001b[0m                                Traceback (most recent call last)",
      "Cell \u001b[0;32mIn[24], line 10\u001b[0m\n\u001b[1;32m      8\u001b[0m sid_l \u001b[38;5;241m=\u001b[39m \u001b[38;5;241m11\u001b[39m\n\u001b[1;32m      9\u001b[0m \u001b[38;5;66;03m# Reshape X_transformed for plotting\u001b[39;00m\n\u001b[0;32m---> 10\u001b[0m X_transformed_reshaped \u001b[38;5;241m=\u001b[39m \u001b[43mreduced_features\u001b[49m\u001b[38;5;241;43m.\u001b[39;49m\u001b[43mreshape\u001b[49m\u001b[43m(\u001b[49m\u001b[38;5;241;43m-\u001b[39;49m\u001b[38;5;241;43m1\u001b[39;49m\u001b[43m,\u001b[49m\u001b[43m \u001b[49m\u001b[43msid_l\u001b[49m\u001b[43m,\u001b[49m\u001b[43m \u001b[49m\u001b[43msid_l\u001b[49m\u001b[43m)\u001b[49m\n\u001b[1;32m     12\u001b[0m \u001b[38;5;66;03m# Visualize the original and transformed data\u001b[39;00m\n\u001b[1;32m     13\u001b[0m fig, axes \u001b[38;5;241m=\u001b[39m plt\u001b[38;5;241m.\u001b[39msubplots(\u001b[38;5;241m1\u001b[39m, \u001b[38;5;241m2\u001b[39m, figsize\u001b[38;5;241m=\u001b[39m(\u001b[38;5;241m10\u001b[39m, \u001b[38;5;241m5\u001b[39m))\n",
      "\u001b[0;31mValueError\u001b[0m: cannot reshape array of size 23040 into shape (11,11)"
     ]
    }
   ],
   "source": [
    "# Access the trained RBM model from the pipeline\n",
    "rbm_model = rbm_features_classifier.named_steps['rbm']\n",
    "\n",
    "# Transform the data using the trained RBM's transform method\n",
    "X_transformed = rbm_model.transform(X_test)\n",
    "reduced_features = X_transformed[:, :64]  # Select the first 64 features\n",
    "\n",
    "sid_l = 11\n",
    "# Reshape X_transformed for plotting\n",
    "X_transformed_reshaped = reduced_features.reshape(-1, sid_l, sid_l)\n",
    "\n",
    "# Visualize the original and transformed data\n",
    "fig, axes = plt.subplots(1, 2, figsize=(10, 5))\n",
    "axes[0].imshow(X_test[0].reshape(sid_l, sid_l), cmap=plt.cm.gray_r, interpolation='nearest')\n",
    "axes[0].set_title('Original Image')\n",
    "axes[1].imshow(X_transformed_reshaped[0], cmap=plt.cm.gray_r, interpolation='nearest')\n",
    "axes[1].set_title('Transformed Image')\n",
    "plt.show()\n"
   ]
  },
  {
   "cell_type": "code",
   "execution_count": 5,
   "metadata": {},
   "outputs": [],
   "source": [
    "\n",
    "Y_pred = rbm_features_classifier.predict(X_test)\n",
    "print(\n",
    "    \"Logistic regression using RBM features:\\n%s\\n\"\n",
    "    % (metrics.classification_report(Y_test, Y_pred))\n",
    ")"
   ]
  },
  {
   "cell_type": "markdown",
   "metadata": {},
   "source": [
    "Old stuff \n",
    "---------------------\n"
   ]
  },
  {
   "cell_type": "code",
   "execution_count": 6,
   "metadata": {},
   "outputs": [
    {
     "name": "stdout",
     "output_type": "stream",
     "text": [
      "[BernoulliRBM] Iteration 1, pseudo-likelihood = -39.23, time = 4.97s\n",
      "[BernoulliRBM] Iteration 2, pseudo-likelihood = -36.18, time = 2.76s\n",
      "[BernoulliRBM] Iteration 3, pseudo-likelihood = -33.82, time = 5.72s\n",
      "[BernoulliRBM] Iteration 4, pseudo-likelihood = -32.43, time = 3.91s\n",
      "[BernoulliRBM] Iteration 5, pseudo-likelihood = -32.75, time = 2.92s\n",
      "[BernoulliRBM] Iteration 6, pseudo-likelihood = -32.02, time = 5.51s\n",
      "[BernoulliRBM] Iteration 7, pseudo-likelihood = -31.27, time = 2.77s\n",
      "[BernoulliRBM] Iteration 8, pseudo-likelihood = -30.97, time = 2.76s\n",
      "[BernoulliRBM] Iteration 9, pseudo-likelihood = -31.36, time = 2.44s\n",
      "[BernoulliRBM] Iteration 10, pseudo-likelihood = -31.04, time = 2.39s\n"
     ]
    },
    {
     "data": {
      "text/html": [
       "<style>#sk-container-id-1 {color: black;background-color: white;}#sk-container-id-1 pre{padding: 0;}#sk-container-id-1 div.sk-toggleable {background-color: white;}#sk-container-id-1 label.sk-toggleable__label {cursor: pointer;display: block;width: 100%;margin-bottom: 0;padding: 0.3em;box-sizing: border-box;text-align: center;}#sk-container-id-1 label.sk-toggleable__label-arrow:before {content: \"▸\";float: left;margin-right: 0.25em;color: #696969;}#sk-container-id-1 label.sk-toggleable__label-arrow:hover:before {color: black;}#sk-container-id-1 div.sk-estimator:hover label.sk-toggleable__label-arrow:before {color: black;}#sk-container-id-1 div.sk-toggleable__content {max-height: 0;max-width: 0;overflow: hidden;text-align: left;background-color: #f0f8ff;}#sk-container-id-1 div.sk-toggleable__content pre {margin: 0.2em;color: black;border-radius: 0.25em;background-color: #f0f8ff;}#sk-container-id-1 input.sk-toggleable__control:checked~div.sk-toggleable__content {max-height: 200px;max-width: 100%;overflow: auto;}#sk-container-id-1 input.sk-toggleable__control:checked~label.sk-toggleable__label-arrow:before {content: \"▾\";}#sk-container-id-1 div.sk-estimator input.sk-toggleable__control:checked~label.sk-toggleable__label {background-color: #d4ebff;}#sk-container-id-1 div.sk-label input.sk-toggleable__control:checked~label.sk-toggleable__label {background-color: #d4ebff;}#sk-container-id-1 input.sk-hidden--visually {border: 0;clip: rect(1px 1px 1px 1px);clip: rect(1px, 1px, 1px, 1px);height: 1px;margin: -1px;overflow: hidden;padding: 0;position: absolute;width: 1px;}#sk-container-id-1 div.sk-estimator {font-family: monospace;background-color: #f0f8ff;border: 1px dotted black;border-radius: 0.25em;box-sizing: border-box;margin-bottom: 0.5em;}#sk-container-id-1 div.sk-estimator:hover {background-color: #d4ebff;}#sk-container-id-1 div.sk-parallel-item::after {content: \"\";width: 100%;border-bottom: 1px solid gray;flex-grow: 1;}#sk-container-id-1 div.sk-label:hover label.sk-toggleable__label {background-color: #d4ebff;}#sk-container-id-1 div.sk-serial::before {content: \"\";position: absolute;border-left: 1px solid gray;box-sizing: border-box;top: 0;bottom: 0;left: 50%;z-index: 0;}#sk-container-id-1 div.sk-serial {display: flex;flex-direction: column;align-items: center;background-color: white;padding-right: 0.2em;padding-left: 0.2em;position: relative;}#sk-container-id-1 div.sk-item {position: relative;z-index: 1;}#sk-container-id-1 div.sk-parallel {display: flex;align-items: stretch;justify-content: center;background-color: white;position: relative;}#sk-container-id-1 div.sk-item::before, #sk-container-id-1 div.sk-parallel-item::before {content: \"\";position: absolute;border-left: 1px solid gray;box-sizing: border-box;top: 0;bottom: 0;left: 50%;z-index: -1;}#sk-container-id-1 div.sk-parallel-item {display: flex;flex-direction: column;z-index: 1;position: relative;background-color: white;}#sk-container-id-1 div.sk-parallel-item:first-child::after {align-self: flex-end;width: 50%;}#sk-container-id-1 div.sk-parallel-item:last-child::after {align-self: flex-start;width: 50%;}#sk-container-id-1 div.sk-parallel-item:only-child::after {width: 0;}#sk-container-id-1 div.sk-dashed-wrapped {border: 1px dashed gray;margin: 0 0.4em 0.5em 0.4em;box-sizing: border-box;padding-bottom: 0.4em;background-color: white;}#sk-container-id-1 div.sk-label label {font-family: monospace;font-weight: bold;display: inline-block;line-height: 1.2em;}#sk-container-id-1 div.sk-label-container {text-align: center;}#sk-container-id-1 div.sk-container {/* jupyter's `normalize.less` sets `[hidden] { display: none; }` but bootstrap.min.css set `[hidden] { display: none !important; }` so we also need the `!important` here to be able to override the default hidden behavior on the sphinx rendered scikit-learn.org. See: https://github.com/scikit-learn/scikit-learn/issues/21755 */display: inline-block !important;position: relative;}#sk-container-id-1 div.sk-text-repr-fallback {display: none;}</style><div id=\"sk-container-id-1\" class=\"sk-top-container\"><div class=\"sk-text-repr-fallback\"><pre>Pipeline(steps=[(&#x27;rbm&#x27;,\n",
       "                 BernoulliRBM(learning_rate=0.06, n_components=100,\n",
       "                              random_state=0, verbose=True)),\n",
       "                (&#x27;logistic&#x27;,\n",
       "                 LogisticRegression(C=6000, solver=&#x27;newton-cg&#x27;, tol=1))])</pre><b>In a Jupyter environment, please rerun this cell to show the HTML representation or trust the notebook. <br />On GitHub, the HTML representation is unable to render, please try loading this page with nbviewer.org.</b></div><div class=\"sk-container\" hidden><div class=\"sk-item sk-dashed-wrapped\"><div class=\"sk-label-container\"><div class=\"sk-label sk-toggleable\"><input class=\"sk-toggleable__control sk-hidden--visually\" id=\"sk-estimator-id-1\" type=\"checkbox\" ><label for=\"sk-estimator-id-1\" class=\"sk-toggleable__label sk-toggleable__label-arrow\">Pipeline</label><div class=\"sk-toggleable__content\"><pre>Pipeline(steps=[(&#x27;rbm&#x27;,\n",
       "                 BernoulliRBM(learning_rate=0.06, n_components=100,\n",
       "                              random_state=0, verbose=True)),\n",
       "                (&#x27;logistic&#x27;,\n",
       "                 LogisticRegression(C=6000, solver=&#x27;newton-cg&#x27;, tol=1))])</pre></div></div></div><div class=\"sk-serial\"><div class=\"sk-item\"><div class=\"sk-estimator sk-toggleable\"><input class=\"sk-toggleable__control sk-hidden--visually\" id=\"sk-estimator-id-2\" type=\"checkbox\" ><label for=\"sk-estimator-id-2\" class=\"sk-toggleable__label sk-toggleable__label-arrow\">BernoulliRBM</label><div class=\"sk-toggleable__content\"><pre>BernoulliRBM(learning_rate=0.06, n_components=100, random_state=0, verbose=True)</pre></div></div></div><div class=\"sk-item\"><div class=\"sk-estimator sk-toggleable\"><input class=\"sk-toggleable__control sk-hidden--visually\" id=\"sk-estimator-id-3\" type=\"checkbox\" ><label for=\"sk-estimator-id-3\" class=\"sk-toggleable__label sk-toggleable__label-arrow\">LogisticRegression</label><div class=\"sk-toggleable__content\"><pre>LogisticRegression(C=6000, solver=&#x27;newton-cg&#x27;, tol=1)</pre></div></div></div></div></div></div></div>"
      ],
      "text/plain": [
       "Pipeline(steps=[('rbm',\n",
       "                 BernoulliRBM(learning_rate=0.06, n_components=100,\n",
       "                              random_state=0, verbose=True)),\n",
       "                ('logistic',\n",
       "                 LogisticRegression(C=6000, solver='newton-cg', tol=1))])"
      ]
     },
     "execution_count": 6,
     "metadata": {},
     "output_type": "execute_result"
    }
   ],
   "source": [
    "# rbm.learning_rate = 0.06\n",
    "# rbm.n_iter = 10\n",
    "\n",
    "# # model complexity. \n",
    "# rbm.n_components = 100\n",
    "# logistic.C = 6000 # inverse regularisation\n",
    "\n",
    "# rbm_features_classifier.fit(X_train, Y_train)"
   ]
  },
  {
   "cell_type": "code",
   "execution_count": 7,
   "metadata": {},
   "outputs": [
    {
     "name": "stdout",
     "output_type": "stream",
     "text": [
      "Logistic regression using RBM features:\n",
      "              precision    recall  f1-score   support\n",
      "\n",
      "         0.0       0.96      0.98      0.97       892\n",
      "         1.0       0.98      0.98      0.98       892\n",
      "         2.0       0.93      0.93      0.93       892\n",
      "         3.0       0.90      0.91      0.90       892\n",
      "         4.0       0.91      0.88      0.90       892\n",
      "         5.0       0.91      0.90      0.91       892\n",
      "         6.0       0.96      0.96      0.96       892\n",
      "         7.0       0.94      0.91      0.92       892\n",
      "         8.0       0.89      0.90      0.90       892\n",
      "         9.0       0.86      0.88      0.87       892\n",
      "\n",
      "    accuracy                           0.92      8920\n",
      "   macro avg       0.92      0.92      0.92      8920\n",
      "weighted avg       0.92      0.92      0.92      8920\n",
      "\n",
      "\n"
     ]
    }
   ],
   "source": [
    "\n",
    "# Y_pred = rbm_features_classifier.predict(X_test)\n",
    "# print(\n",
    "#     \"Logistic regression using RBM features:\\n%s\\n\"\n",
    "#     % (metrics.classification_report(Y_test, Y_pred))\n",
    "# )"
   ]
  },
  {
   "cell_type": "markdown",
   "metadata": {},
   "source": [
    "Logistic Model only"
   ]
  },
  {
   "cell_type": "code",
   "execution_count": 8,
   "metadata": {},
   "outputs": [
    {
     "name": "stdout",
     "output_type": "stream",
     "text": [
      "Logistic regression using raw pixel features:\n",
      "              precision    recall  f1-score   support\n",
      "\n",
      "         0.0       0.94      0.97      0.95       892\n",
      "         1.0       0.94      0.97      0.96       892\n",
      "         2.0       0.90      0.88      0.89       892\n",
      "         3.0       0.88      0.88      0.88       892\n",
      "         4.0       0.88      0.90      0.89       892\n",
      "         5.0       0.88      0.86      0.87       892\n",
      "         6.0       0.92      0.94      0.93       892\n",
      "         7.0       0.89      0.89      0.89       892\n",
      "         8.0       0.87      0.85      0.86       892\n",
      "         9.0       0.86      0.85      0.86       892\n",
      "\n",
      "    accuracy                           0.90      8920\n",
      "   macro avg       0.90      0.90      0.90      8920\n",
      "weighted avg       0.90      0.90      0.90      8920\n",
      "\n",
      "\n"
     ]
    }
   ],
   "source": [
    "# # only logistic model\n",
    "# logistic_clf = clone(logistic)\n",
    "# logistic_clf.C = 100.0\n",
    "# logistic_clf.fit(X_train, Y_train)\n",
    "\n",
    "# Y_pred = logistic_clf.predict(X_test)\n",
    "# print(\n",
    "#     \"Logistic regression using raw pixel features:\\n%s\\n\"\n",
    "#     % (metrics.classification_report(Y_test, Y_pred))\n",
    "# )"
   ]
  },
  {
   "cell_type": "code",
   "execution_count": 9,
   "metadata": {},
   "outputs": [],
   "source": [
    "# def nudge_dataset(X, Y):\n",
    "#     \"\"\"\n",
    "#     This produces a dataset 5 times bigger than the original one,\n",
    "#     by moving the 8x8 images in X around by 1px to left, right, down, up\n",
    "#     \"\"\"\n",
    "#     direction_vectors = [\n",
    "#         [[0, 1, 0], [0, 0, 0], [0, 0, 0]],\n",
    "#         [[0, 0, 0], [1, 0, 0], [0, 0, 0]],\n",
    "#         [[0, 0, 0], [0, 0, 1], [0, 0, 0]],\n",
    "#         [[0, 0, 0], [0, 0, 0], [0, 1, 0]],\n",
    "#     ]\n",
    "\n",
    "#     def shift(x, w):\n",
    "#         return convolve(x.reshape((8, 8)), mode=\"constant\", weights=w).ravel()\n",
    "\n",
    "#     X = np.concatenate(\n",
    "#         [X] + [np.apply_along_axis(shift, 1, X, vector) for vector in direction_vectors]\n",
    "#     )\n",
    "#     Y = np.concatenate([Y for _ in range(5)], axis=0)\n",
    "#     return X, Y\n"
   ]
  }
 ],
 "metadata": {
  "kernelspec": {
   "display_name": "mcm_classifying",
   "language": "python",
   "name": "python3"
  },
  "language_info": {
   "codemirror_mode": {
    "name": "ipython",
    "version": 3
   },
   "file_extension": ".py",
   "mimetype": "text/x-python",
   "name": "python",
   "nbconvert_exporter": "python",
   "pygments_lexer": "ipython3",
   "version": "3.11.5"
  }
 },
 "nbformat": 4,
 "nbformat_minor": 2
}
